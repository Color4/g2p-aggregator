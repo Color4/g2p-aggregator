{
 "cells": [
  {
   "cell_type": "markdown",
   "metadata": {},
   "source": [
    "# Data Structuring and Pruning"
   ]
  },
  {
   "cell_type": "code",
   "execution_count": 14,
   "metadata": {
    "collapsed": false
   },
   "outputs": [],
   "source": [
    "# Load datasets\n",
    "\n",
    "import json\n",
    "import pathlib\n",
    "import importlib\n",
    "from collections import defaultdict\n",
    "import pyupset as pyu\n",
    "import pandas as pd\n",
    "\n",
    "import viccdb\n",
    "%matplotlib inline"
   ]
  },
  {
   "cell_type": "code",
   "execution_count": 15,
   "metadata": {
    "collapsed": false
   },
   "outputs": [
    {
     "name": "stdout",
     "output_type": "stream",
     "text": [
      "brca: 5717 (25.3% of total)\n",
      "cgi: 1073 (4.7% of total)\n",
      "civic: 3340 (14.8% of total)\n",
      "jax: 5754 (25.4% of total)\n",
      "molecularmatch: 2085 (9.2% of total)\n",
      "oncokb: 4048 (17.9% of total)\n",
      "pmkb: 600 (2.7% of total)\n",
      "22617 total associations\n"
     ]
    }
   ],
   "source": [
    "# reload module and load data\n",
    "importlib.reload(viccdb)\n",
    "vdb = viccdb.ViccDb()\n",
    "vdb.report_groups()"
   ]
  },
  {
   "cell_type": "code",
   "execution_count": 16,
   "metadata": {
    "collapsed": false
   },
   "outputs": [
    {
     "name": "stdout",
     "output_type": "stream",
     "text": [
      "cgi: 1073 (6.3% of total)\n",
      "civic: 3340 (19.8% of total)\n",
      "jax: 5754 (34.0% of total)\n",
      "molecularmatch: 2085 (12.3% of total)\n",
      "oncokb: 4048 (24.0% of total)\n",
      "pmkb: 600 (3.6% of total)\n",
      "16900 total associations\n"
     ]
    }
   ],
   "source": [
    "# for now, omit brca from analysis\n",
    "brca = vdb.select(lambda x: x['source'] == 'brca')\n",
    "core_vdb = vdb - brca\n",
    "core_vdb.report_groups()"
   ]
  },
  {
   "cell_type": "code",
   "execution_count": 17,
   "metadata": {
    "collapsed": false
   },
   "outputs": [
    {
     "name": "stdout",
     "output_type": "stream",
     "text": [
      "oncokb: 3801 (93.9% of superset)\n",
      "Total: 3801 (22.5% of superset)\n"
     ]
    }
   ],
   "source": [
    "# remove biological associations\n",
    "oncokb_biological = core_vdb.select(lambda x: x['source'] == 'oncokb' and 'biological' in x['raw'])\n",
    "oncokb_biological.report_groups(core_vdb)"
   ]
  },
  {
   "cell_type": "code",
   "execution_count": 19,
   "metadata": {
    "collapsed": true
   },
   "outputs": [],
   "source": [
    "cgi = core_vdb.select(lambda x: x['source'] == 'cgi')"
   ]
  },
  {
   "cell_type": "markdown",
   "metadata": {},
   "source": [
    "## Evidence filtering\n",
    "\n",
    "Removal of all evidence without associated publications, followed by removal of all associations without evidence."
   ]
  },
  {
   "cell_type": "code",
   "execution_count": 253,
   "metadata": {
    "collapsed": false
   },
   "outputs": [
    {
     "name": "stdout",
     "output_type": "stream",
     "text": [
      "jax: 8 (0.1% of superset)\n",
      "molecularmatch: 5 (0.2% of superset)\n",
      "Total: 13 (0.1% of superset)\n"
     ]
    }
   ],
   "source": [
    "def clean_refs(association):\n",
    "    evidences = association['association']['evidence']\n",
    "    evidence_indices_to_delete = list()\n",
    "    for i, evidence in enumerate(evidences):\n",
    "        assert isinstance(publications, list)\n",
    "        publications = [x for x in evidence['info']['publications'] if x]\n",
    "        evidence['info']['publications'] = publications\n",
    "        if not publications:\n",
    "            evidence_indices_to_delete.append(i)\n",
    "    for index in sorted(evidence_indices_to_delete, reverse=True):\n",
    "        del association['association']['evidence'][index]\n",
    "\n",
    "map(clean_refs, core_vdb)\n",
    "core_missing_ref = core_vdb.select(lambda x: not any(x.publications))\n",
    "core_missing_ref.report_groups(core_vdb)\n",
    "core_vdb = core_vdb - core_missing_ref"
   ]
  },
  {
   "cell_type": "code",
   "execution_count": 254,
   "metadata": {
    "collapsed": false
   },
   "outputs": [
    {
     "name": "stdout",
     "output_type": "stream",
     "text": [
      "cgi: 1073 (8.2% of total)\n",
      "civic: 3340 (25.5% of total)\n",
      "jax: 5746 (43.9% of total)\n",
      "molecularmatch: 2080 (15.9% of total)\n",
      "oncokb: 247 (1.9% of total)\n",
      "pmkb: 600 (4.6% of total)\n",
      "13086 total associations\n"
     ]
    }
   ],
   "source": [
    "core_vdb.report_groups()"
   ]
  },
  {
   "cell_type": "markdown",
   "metadata": {},
   "source": [
    "## Feature coordinate filtering\n",
    "\n",
    "What follows is a detailed look at associations without start and end coordinates after normalization, and a set of regular expression filters to separate out these associations into chunks that can be annotated with gene- or exon-level coordinates, as appropriate."
   ]
  },
  {
   "cell_type": "code",
   "execution_count": 3,
   "metadata": {
    "collapsed": false
   },
   "outputs": [
    {
     "name": "stdout",
     "output_type": "stream",
     "text": [
      "cgi: 231 (21.5% of superset)\n",
      "civic: 1 (0.0% of superset)\n",
      "jax: 1797 (31.2% of superset)\n",
      "molecularmatch: 22 (1.1% of superset)\n",
      "oncokb: 44 (1.1% of superset)\n",
      "Total: 2095 (9.3% of superset)\n"
     ]
    }
   ],
   "source": [
    "# Associations with more than 1 feature\n",
    "x = core_vdb.select(lambda x: len(x['features']) > 1)\n",
    "x.report_groups(vdb)"
   ]
  },
  {
   "cell_type": "code",
   "execution_count": null,
   "metadata": {
    "collapsed": false
   },
   "outputs": [],
   "source": [
    "x.associations_by_source['civic'][0]['features'] # Multi-featured shouldn't exist"
   ]
  },
  {
   "cell_type": "code",
   "execution_count": 255,
   "metadata": {
    "collapsed": false
   },
   "outputs": [
    {
     "name": "stdout",
     "output_type": "stream",
     "text": [
      "cgi: 1069 (99.6% of superset)\n",
      "civic: 3340 (100.0% of superset)\n",
      "jax: 5736 (99.8% of superset)\n",
      "molecularmatch: 2063 (99.2% of superset)\n",
      "oncokb: 243 (98.4% of superset)\n",
      "pmkb: 600 (100.0% of superset)\n",
      "Total: 13051 (99.7% of superset)\n"
     ]
    }
   ],
   "source": [
    "# Associations with coordinate features\n",
    "coord_featured = core_vdb.select(lambda x: any(filter(lambda y: 'start' in y and 'end' in y, x['features'])))\n",
    "coord_featured.report_groups(core_vdb)"
   ]
  },
  {
   "cell_type": "markdown",
   "metadata": {
    "collapsed": false
   },
   "source": [
    "### Remainder of section is inactivated code for identifying associations without coordinates\n",
    "\n",
    "import re\n",
    "\n",
    "def feature_filter(re_obj, associations):\n",
    "    # report matches and return non-matches\n",
    "    found = list(filter(lambda x: re_obj.search(x['feature_names']) is not None, associations))\n",
    "    not_found = list(filter(lambda x: re_obj.search(x['feature_names']) is None, associations))\n",
    "    report_groups(found)\n",
    "    return(not_found)\n",
    "\n",
    "amp_re = re.compile(r'(amplification)|(loss)|(amp)', re.IGNORECASE)\n",
    "remainder = feature_filter(amp_re, no_partial_coord_featured_with_feature_names)"
   ]
  },
  {
   "cell_type": "markdown",
   "metadata": {
    "collapsed": false
   },
   "source": [
    "fusion_re = re.compile(r'(\\w{2,}-\\w{2,})|(fusion)', re.IGNORECASE)\n",
    "r2 = feature_filter(fusion_re, remainder)"
   ]
  },
  {
   "cell_type": "markdown",
   "metadata": {
    "collapsed": false
   },
   "source": [
    "ppm_re = re.compile(r'\\w+(:| )[a-z]\\d+[a-z]?(fs\\*?)?$', re.IGNORECASE)\n",
    "r3 = feature_filter(ppm_re, r2)"
   ]
  },
  {
   "cell_type": "markdown",
   "metadata": {
    "collapsed": false
   },
   "source": [
    "indel_re = re.compile(r'\\w+(:| )\\w+(ins\\w+)|(del($|ins\\w+))|(dup$)')\n",
    "r4 = feature_filter(indel_re, r3)"
   ]
  },
  {
   "cell_type": "markdown",
   "metadata": {
    "collapsed": false
   },
   "source": [
    "bucket_re = re.compile(r'[A-Z0-9]+( (in)?act)?( oncogenic)? mut((ant)|(ation))?$')\n",
    "r5 = feature_filter(bucket_re, r4)"
   ]
  },
  {
   "cell_type": "markdown",
   "metadata": {
    "collapsed": false
   },
   "source": [
    "exon_re = re.compile(r'exon', re.IGNORECASE)\n",
    "r6 = feature_filter(exon_re, r5)"
   ]
  },
  {
   "cell_type": "markdown",
   "metadata": {
    "collapsed": false
   },
   "source": [
    "expression_re = re.compile(r'(exp)|(^\\w+ (pos(itive)?)|(neg(ative)?)|(biallelic inactivation)$)|(truncating)|(deletion)', re.IGNORECASE)\n",
    "r7 = feature_filter(expression_re, r6)"
   ]
  },
  {
   "cell_type": "markdown",
   "metadata": {
    "collapsed": false
   },
   "source": [
    "report_groups(r7)"
   ]
  },
  {
   "cell_type": "markdown",
   "metadata": {
    "collapsed": false
   },
   "source": [
    "get_feature_names([x for x in r7 if x['source'] == 'cgi'])"
   ]
  },
  {
   "cell_type": "markdown",
   "metadata": {},
   "source": [
    "# Knowledgebase Comparison"
   ]
  },
  {
   "cell_type": "markdown",
   "metadata": {},
   "source": [
    "## Publications\n",
    "\n",
    "### All publications"
   ]
  },
  {
   "cell_type": "code",
   "execution_count": 256,
   "metadata": {
    "collapsed": false
   },
   "outputs": [],
   "source": [
    "# x = core_vdb.plot_element_by_source('publications')\n",
    "# f = x['figure']\n",
    "# f.savefig('out/publications.pdf')"
   ]
  },
  {
   "cell_type": "markdown",
   "metadata": {},
   "source": [
    "### PMIDs"
   ]
  },
  {
   "cell_type": "code",
   "execution_count": 257,
   "metadata": {
    "collapsed": false
   },
   "outputs": [],
   "source": [
    "# x = core_vdb.plot_element_by_source('publications', lambda x: x.pmid)\n",
    "# f = x['figure']\n",
    "# f.savefig('out/pmids.pdf')"
   ]
  },
  {
   "cell_type": "markdown",
   "metadata": {},
   "source": [
    "## Genes"
   ]
  },
  {
   "cell_type": "code",
   "execution_count": 265,
   "metadata": {
    "collapsed": false
   },
   "outputs": [
    {
     "data": {
      "image/png": "[encoded data removed]",
      "text/plain": [
       "<matplotlib.figure.Figure at 0x16bb13470>"
      ]
     },
     "metadata": {},
     "output_type": "display_data"
    }
   ],
   "source": [
    "x = core_vdb.plot_element_by_source('genes', min_bound=1)\n",
    "f = x['figure']\n",
    "f.savefig('out/genes.pdf')"
   ]
  },
  {
   "cell_type": "code",
   "execution_count": 262,
   "metadata": {
    "collapsed": false
   },
   "outputs": [
    {
     "data": {
      "text/plain": [
       "{ABL1,\n",
       " ALK,\n",
       " BRAF,\n",
       " EGFR,\n",
       " ERBB2,\n",
       " FGFR2,\n",
       " FGFR3,\n",
       " FLT3,\n",
       " KIT,\n",
       " KRAS,\n",
       " MET,\n",
       " NOTCH1,\n",
       " NRAS,\n",
       " PDGFRA,\n",
       " PIK3CA,\n",
       " PTEN}"
      ]
     },
     "execution_count": 262,
     "metadata": {},
     "output_type": "execute_result"
    }
   ],
   "source": [
    "# Genes observed in all knowledgebases\n",
    "gene_by_source_dict = x['input_data']\n",
    "all_set_genes = set.intersection(*(gene_by_source_dict.values()))\n",
    "all_set_genes"
   ]
  },
  {
   "cell_type": "code",
   "execution_count": 44,
   "metadata": {
    "collapsed": false
   },
   "outputs": [
    {
     "data": {
      "text/plain": [
       "494"
      ]
     },
     "execution_count": 44,
     "metadata": {},
     "output_type": "execute_result"
    }
   ],
   "source": [
    "# Total genes\n",
    "all_genes = set.union(*(s.values()))\n",
    "len(all_genes)"
   ]
  },
  {
   "cell_type": "code",
   "execution_count": 59,
   "metadata": {
    "collapsed": false
   },
   "outputs": [
    {
     "data": {
      "text/plain": [
       "82"
      ]
     },
     "execution_count": 59,
     "metadata": {},
     "output_type": "execute_result"
    }
   ],
   "source": [
    "# >=3x coverage\n",
    "count = Counter()\n",
    "for source in s:\n",
    "    count.update(s[source])\n",
    "high_coverage_genes = [gene for gene in count if count[gene] > 3]\n",
    "len(high_coverage_genes)"
   ]
  },
  {
   "cell_type": "code",
   "execution_count": 61,
   "metadata": {
    "collapsed": false
   },
   "outputs": [
    {
     "data": {
      "text/plain": [
       "['ABL1',\n",
       " 'AKT1',\n",
       " 'AKT2',\n",
       " 'AKT3',\n",
       " 'ALK',\n",
       " 'APC',\n",
       " 'AR',\n",
       " 'ATM',\n",
       " 'AURKA',\n",
       " 'BCOR',\n",
       " 'BRAF',\n",
       " 'BRCA1',\n",
       " 'BRCA2',\n",
       " 'CBL',\n",
       " 'CCND1',\n",
       " 'CCND2',\n",
       " 'CCND3',\n",
       " 'CDH1',\n",
       " 'CDK4',\n",
       " 'CDK6',\n",
       " 'CDKN2A',\n",
       " 'CDKN2B',\n",
       " 'CSF1R',\n",
       " 'CTNNB1',\n",
       " 'DDR2',\n",
       " 'DNMT3A',\n",
       " 'EGFR',\n",
       " 'ERBB2',\n",
       " 'ERBB3',\n",
       " 'ERBB4',\n",
       " 'ESR1',\n",
       " 'EZH2',\n",
       " 'FBXW7',\n",
       " 'FGF3',\n",
       " 'FGFR1',\n",
       " 'FGFR2',\n",
       " 'FGFR3',\n",
       " 'FLT3',\n",
       " 'FOXL2',\n",
       " 'GNA11',\n",
       " 'GNAQ',\n",
       " 'GNAS',\n",
       " 'HRAS',\n",
       " 'IDH1',\n",
       " 'IDH2',\n",
       " 'IGF1R',\n",
       " 'JAK2',\n",
       " 'JAK3',\n",
       " 'KDR',\n",
       " 'KIT',\n",
       " 'KRAS',\n",
       " 'MAP2K1',\n",
       " 'MET',\n",
       " 'MLH1',\n",
       " 'MPL',\n",
       " 'MSH6',\n",
       " 'MTOR',\n",
       " 'MYD88',\n",
       " 'NOTCH1',\n",
       " 'NPM1',\n",
       " 'NRAS',\n",
       " 'NTRK1',\n",
       " 'PDGFRA',\n",
       " 'PIK3CA',\n",
       " 'PTCH1',\n",
       " 'PTEN',\n",
       " 'RB1',\n",
       " 'RET',\n",
       " 'RICTOR',\n",
       " 'ROS1',\n",
       " 'SF3B1',\n",
       " 'SMAD4',\n",
       " 'SMARCB1',\n",
       " 'SMO',\n",
       " 'SRSF2',\n",
       " 'STAG2',\n",
       " 'STK11',\n",
       " 'TP53',\n",
       " 'TSC2',\n",
       " 'U2AF1',\n",
       " 'VEGFA',\n",
       " 'VHL']"
      ]
     },
     "execution_count": 61,
     "metadata": {},
     "output_type": "execute_result"
    }
   ],
   "source": [
    "sorted(high_coverage_genes)"
   ]
  },
  {
   "cell_type": "code",
   "execution_count": null,
   "metadata": {
    "collapsed": true
   },
   "outputs": [],
   "source": []
  }
 ],
 "metadata": {
  "anaconda-cloud": {},
  "kernelspec": {
   "display_name": "Python [g2p-analysis]",
   "language": "python",
   "name": "Python [g2p-analysis]"
  },
  "language_info": {
   "codemirror_mode": {
    "name": "ipython",
    "version": 3
   },
   "file_extension": ".py",
   "mimetype": "text/x-python",
   "name": "python",
   "nbconvert_exporter": "python",
   "pygments_lexer": "ipython3",
   "version": "3.6.1"
  }
 },
 "nbformat": 4,
 "nbformat_minor": 2
}
