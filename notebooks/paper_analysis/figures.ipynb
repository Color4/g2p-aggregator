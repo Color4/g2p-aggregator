{
 "cells": [
  {
   "cell_type": "markdown",
   "metadata": {},
   "source": [
    "# Data Structuring and Pruning"
   ]
  },
  {
   "cell_type": "code",
   "execution_count": 35,
   "metadata": {
    "collapsed": false
   },
   "outputs": [
    {
     "name": "stderr",
     "output_type": "stream",
     "text": [
      "/Users/awagner/anaconda/envs/g2p-analysis/lib/python3.6/site-packages/matplotlib/font_manager.py:280: UserWarning: Matplotlib is building the font cache using fc-list. This may take a moment.\n",
      "  'Matplotlib is building the font cache using fc-list. '\n"
     ]
    }
   ],
   "source": [
    "# Load datasets\n",
    "\n",
    "import json\n",
    "import pathlib\n",
    "import importlib\n",
    "\n",
    "import viccdb\n",
    "%matplotlib inline"
   ]
  },
  {
   "cell_type": "code",
   "execution_count": 16,
   "metadata": {
    "collapsed": false
   },
   "outputs": [
    {
     "name": "stdout",
     "output_type": "stream",
     "text": [
      "Loaded 22617 associations\n",
      "brca: 5717 (30.4% of total)\n",
      "cgi: 1073 (5.7% of total)\n",
      "civic: 3340 (17.8% of total)\n",
      "jax: 5754 (30.6% of total)\n",
      "molecularmatch: 2085 (11.1% of total)\n",
      "oncokb: 247 (1.3% of total)\n",
      "pmkb: 600 (3.2% of total)\n",
      "18816 total associations\n"
     ]
    }
   ],
   "source": [
    "# reload module and load data\n",
    "importlib.reload(viccdb)\n",
    "vdb = viccdb.ViccDb().select(lambda x: x['source'] != 'oncokb' or 'clinical' in x['raw'])\n",
    "vdb.report_groups()"
   ]
  },
  {
   "cell_type": "code",
   "execution_count": 23,
   "metadata": {
    "collapsed": false
   },
   "outputs": [
    {
     "name": "stdout",
     "output_type": "stream",
     "text": [
      "cgi: 231 (21.5% of superset)\n",
      "civic: 1 (0.0% of superset)\n",
      "jax: 1797 (31.2% of superset)\n",
      "molecularmatch: 22 (1.1% of superset)\n",
      "oncokb: 35 (14.2% of superset)\n",
      "Total: 2086 (11.1% of superset)\n"
     ]
    }
   ],
   "source": [
    "# Associations with more than 1 feature\n",
    "x = vdb.select(lambda x: len(x['features']) > 1)\n",
    "x.report_groups(vdb)"
   ]
  },
  {
   "cell_type": "code",
   "execution_count": 32,
   "metadata": {
    "collapsed": false
   },
   "outputs": [
    {
     "data": {
      "text/plain": [
       "[{'alt': 'None',\n",
       "  'chromosome': '6',\n",
       "  'description': 'HLA-C COPY-NEUTRAL LOSS OF HETEROZYGOSITY',\n",
       "  'end': 29716826,\n",
       "  'entrez_id': 3107,\n",
       "  'geneSymbol': 'HLA',\n",
       "  'name': 'COPY-NEUTRAL LOSS OF HETEROZYGOSITY',\n",
       "  'provenance': ['http://mygene.info/v3/query?q=HLA&fields=genomic_pos_hg19'],\n",
       "  'provenance_rule': 'is_fusion_donor',\n",
       "  'ref': 'None',\n",
       "  'referenceName': 'GRCh37',\n",
       "  'start': 29694378},\n",
       " {'alt': 'None',\n",
       "  'chromosome': 'None',\n",
       "  'description': 'HLA-C COPY-NEUTRAL LOSS OF HETEROZYGOSITY',\n",
       "  'end': None,\n",
       "  'entrez_id': 3107,\n",
       "  'geneSymbol': 'C',\n",
       "  'name': 'COPY-NEUTRAL LOSS OF HETEROZYGOSITY',\n",
       "  'ref': 'None',\n",
       "  'referenceName': 'None',\n",
       "  'start': None}]"
      ]
     },
     "execution_count": 32,
     "metadata": {},
     "output_type": "execute_result"
    }
   ],
   "source": [
    "x.associations_by_source['civic'][0]['features'] # Multi-featured shouldn't exist"
   ]
  },
  {
   "cell_type": "code",
   "execution_count": 34,
   "metadata": {
    "collapsed": false
   },
   "outputs": [
    {
     "name": "stdout",
     "output_type": "stream",
     "text": [
      "cgi: 1073 (100.0% of superset)\n",
      "civic: 3340 (100.0% of superset)\n",
      "jax: 5754 (100.0% of superset)\n",
      "molecularmatch: 2085 (100.0% of superset)\n",
      "oncokb: 247 (100.0% of superset)\n",
      "pmkb: 600 (100.0% of superset)\n",
      "Total: 13099 (69.6% of superset)\n"
     ]
    }
   ],
   "source": [
    "# for now, omit brca from analysis\n",
    "core_vdb = vdb.select(lambda x: x['source'] != 'brca')\n",
    "core_vdb.report_groups(vdb)"
   ]
  },
  {
   "cell_type": "markdown",
   "metadata": {},
   "source": [
    "## Feature coordinate filtering\n",
    "\n",
    "What follows is a detailed look at associations without start and end coordinates after normalization, and a set of regular expression filters to separate out these associations into chunks that can be annotated with gene- or exon-level coordinates, as appropriate."
   ]
  },
  {
   "cell_type": "code",
   "execution_count": 54,
   "metadata": {
    "collapsed": false
   },
   "outputs": [
    {
     "name": "stdout",
     "output_type": "stream",
     "text": [
      "cgi: 1069 (99.6% of superset)\n",
      "civic: 3340 (100.0% of superset)\n",
      "jax: 5744 (99.8% of superset)\n",
      "molecularmatch: 2068 (99.2% of superset)\n",
      "oncokb: 4041 (99.8% of superset)\n",
      "pmkb: 600 (100.0% of superset)\n",
      "Total: 16862 (99.8% of superset)\n"
     ]
    }
   ],
   "source": [
    "# Associations with coordinate features\n",
    "coord_featured = core_vdb.select(lambda x: any(filter(lambda y: 'start' in y and 'end' in y, x['features'])))\n",
    "coord_featured.report_groups(core_vdb)"
   ]
  },
  {
   "cell_type": "code",
   "execution_count": 23,
   "metadata": {
    "collapsed": true
   },
   "outputs": [
    {
     "name": "stdout",
     "output_type": "stream",
     "text": [
      "cgi: 125 (8.7%)\n",
      "jax: 533 (9.3%)\n",
      "molecularmatch: 135 (6.5%)\n",
      "oncokb: 92 (2.3%)\n",
      "Total: 885 (5.1%)\n"
     ]
    }
   ],
   "source": [
    "import re\n",
    "\n",
    "def feature_filter(re_obj, associations):\n",
    "    # report matches and return non-matches\n",
    "    found = list(filter(lambda x: re_obj.search(x['feature_names']) is not None, associations))\n",
    "    not_found = list(filter(lambda x: re_obj.search(x['feature_names']) is None, associations))\n",
    "    report_groups(found)\n",
    "    return(not_found)\n",
    "\n",
    "amp_re = re.compile(r'(amplification)|(loss)|(amp)', re.IGNORECASE)\n",
    "remainder = feature_filter(amp_re, no_partial_coord_featured_with_feature_names)"
   ]
  },
  {
   "cell_type": "code",
   "execution_count": 24,
   "metadata": {
    "collapsed": true
   },
   "outputs": [
    {
     "name": "stdout",
     "output_type": "stream",
     "text": [
      "cgi: 117 (8.2%)\n",
      "jax: 554 (9.6%)\n",
      "molecularmatch: 89 (4.3%)\n",
      "oncokb: 229 (5.7%)\n",
      "Total: 989 (5.7%)\n"
     ]
    }
   ],
   "source": [
    "fusion_re = re.compile(r'(\\w{2,}-\\w{2,})|(fusion)', re.IGNORECASE)\n",
    "r2 = feature_filter(fusion_re, remainder)"
   ]
  },
  {
   "cell_type": "code",
   "execution_count": 25,
   "metadata": {
    "collapsed": true
   },
   "outputs": [
    {
     "name": "stdout",
     "output_type": "stream",
     "text": [
      "jax: 460 (8.0%)\n",
      "molecularmatch: 8 (0.4%)\n",
      "oncokb: 1350 (33.3%)\n",
      "Total: 1818 (10.4%)\n"
     ]
    }
   ],
   "source": [
    "ppm_re = re.compile(r'\\w+(:| )[a-z]\\d+[a-z]?(fs\\*?)?$', re.IGNORECASE)\n",
    "r3 = feature_filter(ppm_re, r2)"
   ]
  },
  {
   "cell_type": "code",
   "execution_count": 26,
   "metadata": {
    "collapsed": true
   },
   "outputs": [
    {
     "name": "stdout",
     "output_type": "stream",
     "text": [
      "jax: 208 (3.6%)\n",
      "oncokb: 215 (5.3%)\n",
      "Total: 423 (2.4%)\n"
     ]
    }
   ],
   "source": [
    "indel_re = re.compile(r'\\w+(:| )\\w+(ins\\w+)|(del($|ins\\w+))|(dup$)')\n",
    "r4 = feature_filter(indel_re, r3)"
   ]
  },
  {
   "cell_type": "code",
   "execution_count": 27,
   "metadata": {
    "collapsed": true
   },
   "outputs": [
    {
     "name": "stdout",
     "output_type": "stream",
     "text": [
      "cgi: 183 (12.8%)\n",
      "jax: 931 (16.2%)\n",
      "molecularmatch: 8 (0.4%)\n",
      "Total: 1122 (6.4%)\n"
     ]
    }
   ],
   "source": [
    "bucket_re = re.compile(r'[A-Z0-9]+( (in)?act)?( oncogenic)? mut((ant)|(ation))?$')\n",
    "r5 = feature_filter(bucket_re, r4)"
   ]
  },
  {
   "cell_type": "code",
   "execution_count": 28,
   "metadata": {
    "collapsed": true
   },
   "outputs": [
    {
     "name": "stdout",
     "output_type": "stream",
     "text": [
      "cgi: 36 (2.5%)\n",
      "jax: 88 (1.5%)\n",
      "oncokb: 27 (0.7%)\n",
      "Total: 151 (0.9%)\n"
     ]
    }
   ],
   "source": [
    "exon_re = re.compile(r'exon', re.IGNORECASE)\n",
    "r6 = feature_filter(exon_re, r5)"
   ]
  },
  {
   "cell_type": "code",
   "execution_count": 29,
   "metadata": {
    "collapsed": true
   },
   "outputs": [
    {
     "name": "stdout",
     "output_type": "stream",
     "text": [
      "cgi: 172 (12.0%)\n",
      "jax: 407 (7.1%)\n",
      "molecularmatch: 1 (0.0%)\n",
      "oncokb: 226 (5.6%)\n",
      "Total: 806 (4.6%)\n"
     ]
    }
   ],
   "source": [
    "expression_re = re.compile(r'(exp)|(^\\w+ (pos(itive)?)|(neg(ative)?)|(biallelic inactivation)$)|(truncating)|(deletion)', re.IGNORECASE)\n",
    "r7 = feature_filter(expression_re, r6)"
   ]
  },
  {
   "cell_type": "code",
   "execution_count": 30,
   "metadata": {
    "collapsed": true
   },
   "outputs": [
    {
     "name": "stdout",
     "output_type": "stream",
     "text": [
      "cgi: 92 (6.4%)\n",
      "jax: 74 (1.3%)\n",
      "molecularmatch: 24 (1.2%)\n",
      "oncokb: 79 (2.0%)\n",
      "Total: 269 (1.5%)\n"
     ]
    }
   ],
   "source": [
    "report_groups(r7)"
   ]
  },
  {
   "cell_type": "code",
   "execution_count": 31,
   "metadata": {
    "collapsed": true
   },
   "outputs": [
    {
     "data": {
      "text/plain": [
       "['ALK inframe insertion (1151T)',\n",
       " 'BRAF (V600D,V600K,V600M,V600G,V600R)',\n",
       " 'DPYD splice donor variant',\n",
       " 'DPYD splice donor variant',\n",
       " 'EGFR (S720)',\n",
       " 'EGFR (L718)',\n",
       " 'EGFR (L792)',\n",
       " 'BRAF (V600R)',\n",
       " 'BRAF (V600E,V600K)',\n",
       " 'BRAF (V600E,V600D,V600K,V600M,V600G,V600R)',\n",
       " 'BRAF (V600E,V600K)',\n",
       " 'DPYD splice donor variant',\n",
       " 'FGFR2 (V565I,M536I,M538I,I548V,N550,E566G,L618M,K660E)',\n",
       " 'FGFR2 (M536I,M538I,I548V,N550,E566G,L618M,K660E)',\n",
       " 'FLT3 (D835)',\n",
       " 'FLT3 (F691,D835,N676,Y842)',\n",
       " 'GNAQ (Q209)',\n",
       " 'GNAQ (Q209)',\n",
       " 'GNAS (R201)',\n",
       " 'KIT (D816)',\n",
       " 'MAP2K1 (P124)',\n",
       " 'MET kinase domain mutation',\n",
       " 'TERT promoters core',\n",
       " 'ESR1 (E380Q,537,538,L536,P535H)',\n",
       " 'IDH1 (R132)',\n",
       " 'KIT wildtype',\n",
       " 'KRAS (G12)',\n",
       " 'MPL (W515F)',\n",
       " 'TPMT splice acceptor variant',\n",
       " 'BRAF (V600)',\n",
       " 'BRAF (V600E,V600K)',\n",
       " 'BRAF (V600)',\n",
       " 'BRAF (V600)',\n",
       " 'BRAF (V600E,V600D,V600K,V600M,V600G,V600R)',\n",
       " 'BTK (C481)',\n",
       " 'CSF3R frameshift variant (D771),frameshift variant (S783)',\n",
       " 'ERBB2 inframe insertion (A775YVMA),inframe insertion (G776VC)',\n",
       " 'ERBB2 (V659E)',\n",
       " 'ERBB2 (S310,L755,V777)',\n",
       " 'ESR1 (E380Q,537,538,L536,P535H)',\n",
       " 'EZH2 (Y641,A677)',\n",
       " 'FLT3 (D835,Y842)',\n",
       " 'IDH2 (R172)',\n",
       " 'KIT wildtype',\n",
       " 'KRAS (G12)',\n",
       " 'MAP2K1 (Q56P,P124S,P124L;C121S)',\n",
       " 'MAP2K1 (P124)',\n",
       " 'MET (Y1230C;Y1235D)',\n",
       " 'MYD88 (L265P)',\n",
       " 'NRAS (Q61)',\n",
       " 'PDGFRA wildtype',\n",
       " 'TP53 wildtype',\n",
       " 'TPMT splice acceptor variant',\n",
       " 'TPMT splice acceptor variant',\n",
       " 'ABL1 (I242T,M244V,K247R,L248V,G250E,G250R,Q252R,Q252H,Y253F,Y253H,E255K,E255V,M237V,E258D,W261L,L273M,E275K,E275Q,D276G,T277A,E279K,V280A,V289A,V289I,E292V,E292Q,I293V,L298V,V299L,F311L,F311I,T315I,F317L,F317V,F317I,F317C,Y320C,L324Q,Y342H,M343T,A344V,A350V,M351T,E355D,E355G,E355A,F359V,F359I,F359C,F359L,D363Y,L364I,A365V,A366G,L370P,V371A,E373K,V379I,A380T,F382L,L384M,L387M,L387F,L387V,M388L,Y393C,H396P,H396R,H396A,A397P,S417F,S417Y,I418S,I418V,A433T,S438C,E450K,E450G,E450A,E450V,E453K,E453G,E453A,E453V,E459K,E459G,E459A,E459V,M472I,P480L,F486S,E507G)',\n",
       " 'BRAF (K601R,L597R,V600R)',\n",
       " 'BRAF (V600)',\n",
       " 'BRAF (V600D,V600K,V600M,V600G,V600R)',\n",
       " 'EGFR (L858R,L861,G719,S768I)',\n",
       " 'ERBB2 inframe insertion (P780GSP),inframe insertion (781GSP),inframe insertion (A775YVMA),inframe insertion (G776YVMA)',\n",
       " 'ERBB2 (G776L)',\n",
       " 'ERBB4 (H809G)',\n",
       " 'FGFR4 (N535,V550)',\n",
       " 'FLT3 (F691)',\n",
       " 'FLT3 (N676)',\n",
       " 'GNAQ (Q209)',\n",
       " 'GNAQ (Q209)',\n",
       " 'JAK1 (S646F;R683)',\n",
       " 'KIT (D816Y,D816F,D816V)',\n",
       " 'KIT (V559I,H697Y,T670,V654A,A829P,D816,N822,Y823D)',\n",
       " 'KIT wildtype',\n",
       " 'MAP2K1 (I99T,L115,G128D,F129L,V211D,L215P,I103N,K104N,I111N,H119P,E120D,F133L,P124,D67N)',\n",
       " 'PDGFRA wildtype',\n",
       " 'AR (F877L) + AR (T878A)',\n",
       " 'G6PD (V98M) + G6PD (N156D)',\n",
       " 'ALK inframe insertion (1151T)',\n",
       " 'BRAF (V600D,V600K,V600M,V600G,V600R)',\n",
       " 'BRAF (V600E,V600D,V600K,V600M,V600G,V600R)',\n",
       " 'ERBB2 (V659E,S310F)',\n",
       " 'FGFR2 inframe insertion (A266),inframe insertion (S267)',\n",
       " 'FGFR3 (K650,Y373C)',\n",
       " 'FGFR3 (K650)',\n",
       " 'FLT3 (N676)',\n",
       " 'FLT3 (D835)',\n",
       " 'IDH1 (R132)',\n",
       " 'IDH2 (R140K,R172K)',\n",
       " 'KIT wildtype',\n",
       " 'MAP2K1 (F129L,L215P,I103N,P124)',\n",
       " 'NRAS (Q61)',\n",
       " 'PDGFRA wildtype',\n",
       " 'PDGFRA wildtype',\n",
       " 'RET (618,620,634,768,791,891,918,C634W,M918T)']"
      ]
     },
     "execution_count": 31,
     "metadata": {},
     "output_type": "execute_result"
    }
   ],
   "source": [
    "get_feature_names([x for x in r7 if x['source'] == 'cgi'])"
   ]
  },
  {
   "cell_type": "markdown",
   "metadata": {},
   "source": [
    "# Knowledgebase Comparison\n",
    "\n",
    "## Genes"
   ]
  },
  {
   "cell_type": "code",
   "execution_count": 70,
   "metadata": {
    "collapsed": false
   },
   "outputs": [
    {
     "name": "stdout",
     "output_type": "stream",
     "text": [
      "Loaded 22617 associations\n",
      "cgi: 1073 (100.0% of superset)\n",
      "civic: 3340 (100.0% of superset)\n",
      "jax: 5754 (100.0% of superset)\n",
      "molecularmatch: 2085 (100.0% of superset)\n",
      "oncokb: 247 (100.0% of superset)\n",
      "pmkb: 600 (100.0% of superset)\n",
      "Total: 13099 (69.6% of superset)\n"
     ]
    }
   ],
   "source": [
    "# Reload Vicc module and data\n",
    "importlib.reload(viccdb)\n",
    "vdb = viccdb.ViccDb().select(lambda x: x['source'] != 'oncokb' or 'clinical' in x['raw'])\n",
    "core_vdb = vdb.select(lambda x: x['source'] != 'brca')\n",
    "core_vdb.report_groups(vdb)"
   ]
  },
  {
   "cell_type": "code",
   "execution_count": 77,
   "metadata": {
    "collapsed": false
   },
   "outputs": [],
   "source": [
    "import re\n",
    "pmid_re = re.compile(r'https?://.*pubmed/(\\d+)$')\n",
    "def pmids(association):\n",
    "    try:\n",
    "        evidence = association['association']['evidence']\n",
    "    except TypeError as e:\n",
    "        print (association)\n",
    "        raise e\n",
    "    for e in evidence:\n",
    "        publications = e['info']['publications']\n",
    "        for p in publications:\n",
    "            m = pmid_re.match(p)\n",
    "            if m:\n",
    "                return m[1]\n",
    "            elif p.startswith('https://www.nccn.org'):\n",
    "                pass\n",
    "            else:\n",
    "                raise NotImplementedError(e)"
   ]
  },
  {
   "cell_type": "code",
   "execution_count": 78,
   "metadata": {
    "collapsed": false
   },
   "outputs": [
    {
     "ename": "NotImplementedError",
     "evalue": "{'info': {'publications': ['']}, 'evidenceType': {'sourceName': 'molecularmatch'}, 'description': 'EGFR L858R confers sensitivity to Cetuximab in patients with Neoplasm of colorectum'}",
     "output_type": "error",
     "traceback": [
      "\u001b[0;31m---------------------------------------------------------------------------\u001b[0m",
      "\u001b[0;31mNotImplementedError\u001b[0m                       Traceback (most recent call last)",
      "\u001b[0;32m<ipython-input-78-af30950e4a7d>\u001b[0m in \u001b[0;36m<module>\u001b[0;34m()\u001b[0m\n\u001b[0;32m----> 1\u001b[0;31m \u001b[0mcore_vdb\u001b[0m\u001b[0;34m.\u001b[0m\u001b[0mplot_overlap\u001b[0m\u001b[0;34m(\u001b[0m\u001b[0mpmids\u001b[0m\u001b[0;34m)\u001b[0m\u001b[0;34m\u001b[0m\u001b[0m\n\u001b[0m",
      "\u001b[0;32m/Users/awagner/Workspace/git/g2p-aggregator/notebooks/paper_analysis/viccdb.py\u001b[0m in \u001b[0;36mplot_overlap\u001b[0;34m(self, map_function, by)\u001b[0m\n\u001b[1;32m    126\u001b[0m         \u001b[0;32melse\u001b[0m\u001b[0;34m:\u001b[0m\u001b[0;34m\u001b[0m\u001b[0m\n\u001b[1;32m    127\u001b[0m             \u001b[0;32mraise\u001b[0m \u001b[0mNotImplementedError\u001b[0m\u001b[0;34m\u001b[0m\u001b[0m\n\u001b[0;32m--> 128\u001b[0;31m         \u001b[0md\u001b[0m \u001b[0;34m=\u001b[0m \u001b[0;34m{\u001b[0m\u001b[0mgroup\u001b[0m\u001b[0;34m:\u001b[0m \u001b[0mpd\u001b[0m\u001b[0;34m.\u001b[0m\u001b[0mDataFrame\u001b[0m\u001b[0;34m(\u001b[0m\u001b[0mset\u001b[0m\u001b[0;34m(\u001b[0m\u001b[0;34m)\u001b[0m\u001b[0;34m.\u001b[0m\u001b[0mupdate\u001b[0m\u001b[0;34m(\u001b[0m\u001b[0mmap\u001b[0m\u001b[0;34m(\u001b[0m\u001b[0mmap_function\u001b[0m\u001b[0;34m,\u001b[0m \u001b[0minput_dict\u001b[0m\u001b[0;34m[\u001b[0m\u001b[0mgroup\u001b[0m\u001b[0;34m]\u001b[0m\u001b[0;34m)\u001b[0m\u001b[0;34m)\u001b[0m\u001b[0;34m)\u001b[0m \u001b[0;32mfor\u001b[0m \u001b[0mgroup\u001b[0m \u001b[0;32min\u001b[0m \u001b[0minput_dict\u001b[0m\u001b[0;34m}\u001b[0m\u001b[0;34m\u001b[0m\u001b[0m\n\u001b[0m\u001b[1;32m    129\u001b[0m         \u001b[0mpyu\u001b[0m\u001b[0;34m.\u001b[0m\u001b[0mplot\u001b[0m\u001b[0;34m(\u001b[0m\u001b[0md\u001b[0m\u001b[0;34m,\u001b[0m \u001b[0minters_size_bounds\u001b[0m\u001b[0;34m=\u001b[0m\u001b[0;34m(\u001b[0m\u001b[0;36m3\u001b[0m\u001b[0;34m,\u001b[0m \u001b[0;36m10000000\u001b[0m\u001b[0;34m)\u001b[0m\u001b[0;34m)\u001b[0m\u001b[0;34m\u001b[0m\u001b[0m\n",
      "\u001b[0;32m/Users/awagner/Workspace/git/g2p-aggregator/notebooks/paper_analysis/viccdb.py\u001b[0m in \u001b[0;36m<dictcomp>\u001b[0;34m(.0)\u001b[0m\n\u001b[1;32m    126\u001b[0m         \u001b[0;32melse\u001b[0m\u001b[0;34m:\u001b[0m\u001b[0;34m\u001b[0m\u001b[0m\n\u001b[1;32m    127\u001b[0m             \u001b[0;32mraise\u001b[0m \u001b[0mNotImplementedError\u001b[0m\u001b[0;34m\u001b[0m\u001b[0m\n\u001b[0;32m--> 128\u001b[0;31m         \u001b[0md\u001b[0m \u001b[0;34m=\u001b[0m \u001b[0;34m{\u001b[0m\u001b[0mgroup\u001b[0m\u001b[0;34m:\u001b[0m \u001b[0mpd\u001b[0m\u001b[0;34m.\u001b[0m\u001b[0mDataFrame\u001b[0m\u001b[0;34m(\u001b[0m\u001b[0mset\u001b[0m\u001b[0;34m(\u001b[0m\u001b[0;34m)\u001b[0m\u001b[0;34m.\u001b[0m\u001b[0mupdate\u001b[0m\u001b[0;34m(\u001b[0m\u001b[0mmap\u001b[0m\u001b[0;34m(\u001b[0m\u001b[0mmap_function\u001b[0m\u001b[0;34m,\u001b[0m \u001b[0minput_dict\u001b[0m\u001b[0;34m[\u001b[0m\u001b[0mgroup\u001b[0m\u001b[0;34m]\u001b[0m\u001b[0;34m)\u001b[0m\u001b[0;34m)\u001b[0m\u001b[0;34m)\u001b[0m \u001b[0;32mfor\u001b[0m \u001b[0mgroup\u001b[0m \u001b[0;32min\u001b[0m \u001b[0minput_dict\u001b[0m\u001b[0;34m}\u001b[0m\u001b[0;34m\u001b[0m\u001b[0m\n\u001b[0m\u001b[1;32m    129\u001b[0m         \u001b[0mpyu\u001b[0m\u001b[0;34m.\u001b[0m\u001b[0mplot\u001b[0m\u001b[0;34m(\u001b[0m\u001b[0md\u001b[0m\u001b[0;34m,\u001b[0m \u001b[0minters_size_bounds\u001b[0m\u001b[0;34m=\u001b[0m\u001b[0;34m(\u001b[0m\u001b[0;36m3\u001b[0m\u001b[0;34m,\u001b[0m \u001b[0;36m10000000\u001b[0m\u001b[0;34m)\u001b[0m\u001b[0;34m)\u001b[0m\u001b[0;34m\u001b[0m\u001b[0m\n",
      "\u001b[0;32m<ipython-input-77-44b917ec614c>\u001b[0m in \u001b[0;36mpmids\u001b[0;34m(association)\u001b[0m\n\u001b[1;32m     16\u001b[0m                 \u001b[0;32mpass\u001b[0m\u001b[0;34m\u001b[0m\u001b[0m\n\u001b[1;32m     17\u001b[0m             \u001b[0;32melse\u001b[0m\u001b[0;34m:\u001b[0m\u001b[0;34m\u001b[0m\u001b[0m\n\u001b[0;32m---> 18\u001b[0;31m                 \u001b[0;32mraise\u001b[0m \u001b[0mNotImplementedError\u001b[0m\u001b[0;34m(\u001b[0m\u001b[0me\u001b[0m\u001b[0;34m)\u001b[0m\u001b[0;34m\u001b[0m\u001b[0m\n\u001b[0m",
      "\u001b[0;31mNotImplementedError\u001b[0m: {'info': {'publications': ['']}, 'evidenceType': {'sourceName': 'molecularmatch'}, 'description': 'EGFR L858R confers sensitivity to Cetuximab in patients with Neoplasm of colorectum'}"
     ]
    }
   ],
   "source": [
    "core_vdb.plot_overlap(pmids)"
   ]
  },
  {
   "cell_type": "code",
   "execution_count": 42,
   "metadata": {
    "collapsed": false
   },
   "outputs": [
    {
     "data": {
      "text/plain": [
       "[{'description': 'KRAS Q61 confers resistance to Gefitinib in patients with Neoplasm of lung',\n",
       "  'evidenceType': {'sourceName': 'molecularmatch'},\n",
       "  'info': {'publications': ['https://www.ncbi.nlm.nih.gov/pubmed/15696205',\n",
       "    'https://www.ncbi.nlm.nih.gov/pubmed/20921461']}}]"
      ]
     },
     "execution_count": 42,
     "metadata": {},
     "output_type": "execute_result"
    }
   ],
   "source": [
    "core_vdb.associations[0]['association']['evidence']"
   ]
  },
  {
   "cell_type": "code",
   "execution_count": 42,
   "metadata": {
    "collapsed": false
   },
   "outputs": [
    {
     "data": {
      "text/plain": [
       "{'ABL1',\n",
       " 'ALK',\n",
       " 'APC',\n",
       " 'BRAF',\n",
       " 'CDKN2A',\n",
       " 'CTNNB1',\n",
       " 'EGFR',\n",
       " 'ERBB2',\n",
       " 'FGFR2',\n",
       " 'FGFR3',\n",
       " 'FLT3',\n",
       " 'KIT',\n",
       " 'KRAS',\n",
       " 'MET',\n",
       " 'NOTCH1',\n",
       " 'NRAS',\n",
       " 'PDGFRA',\n",
       " 'PIK3CA',\n",
       " 'PTEN',\n",
       " 'STK11',\n",
       " 'TP53'}"
      ]
     },
     "execution_count": 42,
     "metadata": {},
     "output_type": "execute_result"
    }
   ],
   "source": [
    "# Genes observed in all knowledgebases\n",
    "all_set_genes = set.intersection(*(s.values()))\n",
    "all_set_genes"
   ]
  },
  {
   "cell_type": "code",
   "execution_count": 44,
   "metadata": {
    "collapsed": false
   },
   "outputs": [
    {
     "data": {
      "text/plain": [
       "494"
      ]
     },
     "execution_count": 44,
     "metadata": {},
     "output_type": "execute_result"
    }
   ],
   "source": [
    "# Total genes\n",
    "all_genes = set.union(*(s.values()))\n",
    "len(all_genes)"
   ]
  },
  {
   "cell_type": "code",
   "execution_count": 59,
   "metadata": {
    "collapsed": false
   },
   "outputs": [
    {
     "data": {
      "text/plain": [
       "82"
      ]
     },
     "execution_count": 59,
     "metadata": {},
     "output_type": "execute_result"
    }
   ],
   "source": [
    "# >=3x coverage\n",
    "count = Counter()\n",
    "for source in s:\n",
    "    count.update(s[source])\n",
    "high_coverage_genes = [gene for gene in count if count[gene] > 3]\n",
    "len(high_coverage_genes)"
   ]
  },
  {
   "cell_type": "code",
   "execution_count": 61,
   "metadata": {
    "collapsed": false
   },
   "outputs": [
    {
     "data": {
      "text/plain": [
       "['ABL1',\n",
       " 'AKT1',\n",
       " 'AKT2',\n",
       " 'AKT3',\n",
       " 'ALK',\n",
       " 'APC',\n",
       " 'AR',\n",
       " 'ATM',\n",
       " 'AURKA',\n",
       " 'BCOR',\n",
       " 'BRAF',\n",
       " 'BRCA1',\n",
       " 'BRCA2',\n",
       " 'CBL',\n",
       " 'CCND1',\n",
       " 'CCND2',\n",
       " 'CCND3',\n",
       " 'CDH1',\n",
       " 'CDK4',\n",
       " 'CDK6',\n",
       " 'CDKN2A',\n",
       " 'CDKN2B',\n",
       " 'CSF1R',\n",
       " 'CTNNB1',\n",
       " 'DDR2',\n",
       " 'DNMT3A',\n",
       " 'EGFR',\n",
       " 'ERBB2',\n",
       " 'ERBB3',\n",
       " 'ERBB4',\n",
       " 'ESR1',\n",
       " 'EZH2',\n",
       " 'FBXW7',\n",
       " 'FGF3',\n",
       " 'FGFR1',\n",
       " 'FGFR2',\n",
       " 'FGFR3',\n",
       " 'FLT3',\n",
       " 'FOXL2',\n",
       " 'GNA11',\n",
       " 'GNAQ',\n",
       " 'GNAS',\n",
       " 'HRAS',\n",
       " 'IDH1',\n",
       " 'IDH2',\n",
       " 'IGF1R',\n",
       " 'JAK2',\n",
       " 'JAK3',\n",
       " 'KDR',\n",
       " 'KIT',\n",
       " 'KRAS',\n",
       " 'MAP2K1',\n",
       " 'MET',\n",
       " 'MLH1',\n",
       " 'MPL',\n",
       " 'MSH6',\n",
       " 'MTOR',\n",
       " 'MYD88',\n",
       " 'NOTCH1',\n",
       " 'NPM1',\n",
       " 'NRAS',\n",
       " 'NTRK1',\n",
       " 'PDGFRA',\n",
       " 'PIK3CA',\n",
       " 'PTCH1',\n",
       " 'PTEN',\n",
       " 'RB1',\n",
       " 'RET',\n",
       " 'RICTOR',\n",
       " 'ROS1',\n",
       " 'SF3B1',\n",
       " 'SMAD4',\n",
       " 'SMARCB1',\n",
       " 'SMO',\n",
       " 'SRSF2',\n",
       " 'STAG2',\n",
       " 'STK11',\n",
       " 'TP53',\n",
       " 'TSC2',\n",
       " 'U2AF1',\n",
       " 'VEGFA',\n",
       " 'VHL']"
      ]
     },
     "execution_count": 61,
     "metadata": {},
     "output_type": "execute_result"
    }
   ],
   "source": [
    "sorted(high_coverage_genes)"
   ]
  },
  {
   "cell_type": "code",
   "execution_count": null,
   "metadata": {
    "collapsed": true
   },
   "outputs": [],
   "source": []
  }
 ],
 "metadata": {
  "anaconda-cloud": {},
  "kernelspec": {
   "display_name": "Python [g2p-analysis]",
   "language": "python",
   "name": "Python [g2p-analysis]"
  },
  "language_info": {
   "codemirror_mode": {
    "name": "ipython",
    "version": 3
   },
   "file_extension": ".py",
   "mimetype": "text/x-python",
   "name": "python",
   "nbconvert_exporter": "python",
   "pygments_lexer": "ipython3",
   "version": "3.6.1"
  }
 },
 "nbformat": 4,
 "nbformat_minor": 2
}
