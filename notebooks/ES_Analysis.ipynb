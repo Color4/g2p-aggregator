{
 "cells": [
  {
   "cell_type": "code",
   "execution_count": 2,
   "metadata": {
    "collapsed": false
   },
   "outputs": [],
   "source": [
    "from elasticsearch import Elasticsearch\n",
    "from collections import Counter, defaultdict\n",
    "import pandas as pd\n",
    "import pyupset as pyu\n",
    "import re\n",
    "import itertools\n",
    "import json\n",
    "from IPython.display import set_matplotlib_formats\n",
    "\n",
    "%matplotlib inline"
   ]
  },
  {
   "cell_type": "code",
   "execution_count": 3,
   "metadata": {
    "collapsed": false
   },
   "outputs": [
    {
     "data": {
      "text/plain": [
       "<Elasticsearch([{u'host': u'elastic', u'port': 9200}])>"
      ]
     },
     "execution_count": 3,
     "metadata": {},
     "output_type": "execute_result"
    }
   ],
   "source": [
    "es = Elasticsearch(['elastic:9200'])\n",
    "es"
   ]
  },
  {
   "cell_type": "code",
   "execution_count": 4,
   "metadata": {
    "collapsed": false
   },
   "outputs": [
    {
     "name": "stdout",
     "output_type": "stream",
     "text": [
      "63169\n"
     ]
    }
   ],
   "source": [
    "res = es.search(index=\"associations\",\n",
    "                _source_exclude=['cgi', 'jax', 'civic', 'sage', 'molecularmatch_trials',\n",
    "                                 'molecularmatch', 'oncokb', 'pmkb', 'jax_trials', 'brca'],\n",
    "                size=10000, body={\"query\": {\"match_all\": {}}})\n",
    "print res['hits']['total']"
   ]
  },
  {
   "cell_type": "code",
   "execution_count": 6,
   "metadata": {
    "collapsed": false
   },
   "outputs": [
    {
     "name": "stdout",
     "output_type": "stream",
     "text": [
      "Processing scroll 1\n",
      "Processing scroll 2\n",
      "Processing scroll 3\n",
      "Processing scroll 4\n",
      "Processing scroll 5\n",
      "Processing scroll 6\n",
      "Processing scroll 7\n"
     ]
    }
   ],
   "source": [
    "def collect_all_results():\n",
    "    res = es.search(index=\"associations\", size=10000, body={\"query\": {\"match_all\": {}}}, scroll='1m',\n",
    "                    _source_exclude=['cgi', 'jax', 'civic', 'sage', 'molecularmatch_trials',\n",
    "                                 'molecularmatch', 'oncokb', 'pmkb', 'jax_trials', 'brca']\n",
    "                   )\n",
    "    scroll_id = res.get('_scroll_id')\n",
    "    i = 1\n",
    "    scroll_size = res['hits']['total']\n",
    "\n",
    "    while scroll_size > 0:\n",
    "        print('Processing scroll {}'.format(i))\n",
    "        r = es.scroll(scroll_id, scroll='1m')\n",
    "        scroll_id = r.get('_scroll_id')\n",
    "        res['hits']['hits'] += r['hits']['hits']\n",
    "        i += 1\n",
    "        scroll_size = len(r['hits']['hits'])\n",
    "    return res\n",
    "\n",
    "res = collect_all_results() "
   ]
  },
  {
   "cell_type": "markdown",
   "metadata": {},
   "source": [
    "# Total Associations"
   ]
  },
  {
   "cell_type": "code",
   "execution_count": 7,
   "metadata": {
    "collapsed": false
   },
   "outputs": [
    {
     "data": {
      "text/plain": [
       "63169"
      ]
     },
     "execution_count": 7,
     "metadata": {},
     "output_type": "execute_result"
    }
   ],
   "source": [
    "assert len(res['hits']['hits']) == res['hits']['total']\n",
    "len(res['hits']['hits'])"
   ]
  },
  {
   "cell_type": "code",
   "execution_count": 8,
   "metadata": {
    "collapsed": true
   },
   "outputs": [],
   "source": [
    "def count_attribute(result, attribute):\n",
    "    c = Counter([x['_source'][attribute] for x in result['hits']['hits']])\n",
    "    return c\n",
    "\n",
    "def count_attribute_by_group(result, attribute, group):\n",
    "    d = dict()\n",
    "    for g in count_attribute(result, group):\n",
    "        d[g] = Counter([x['_source'][attribute] for x in result['hits']['hits'] if x['_source'][group] == g])\n",
    "    return d\n",
    "\n",
    "def count_list_attribute(result, list_attribute):\n",
    "    c = Counter([attribute for x in result['hits']['hits'] for attribute in x['_source'][list_attribute]])\n",
    "    return c\n",
    "\n",
    "def count_list_attribute_by_group(result, list_attribute, group):\n",
    "    d = dict()\n",
    "    for g in count_attribute(result, group):\n",
    "        d[g] = Counter([attribute for x in result['hits']['hits'] for attribute in x['_source'][list_attribute] if x['_source'][group] == g])\n",
    "    return d"
   ]
  },
  {
   "cell_type": "code",
   "execution_count": 9,
   "metadata": {
    "collapsed": false
   },
   "outputs": [
    {
     "data": {
      "text/plain": [
       "Counter({u'brca': 5733,\n",
       "         u'cgi': 1431,\n",
       "         u'civic': 3176,\n",
       "         u'jax': 3649,\n",
       "         u'jax_trials': 1131,\n",
       "         u'molecularmatch': 2079,\n",
       "         u'molecularmatch_trials': 41143,\n",
       "         u'oncokb': 4149,\n",
       "         u'pmkb': 609,\n",
       "         u'sage': 69})"
      ]
     },
     "execution_count": 9,
     "metadata": {},
     "output_type": "execute_result"
    }
   ],
   "source": [
    "count_attribute(res, 'source')"
   ]
  },
  {
   "cell_type": "markdown",
   "metadata": {},
   "source": [
    "# Genes"
   ]
  },
  {
   "cell_type": "code",
   "execution_count": 10,
   "metadata": {
    "collapsed": false
   },
   "outputs": [],
   "source": [
    "%%capture\n",
    "count_list_attribute(res, 'genes')"
   ]
  },
  {
   "cell_type": "code",
   "execution_count": 11,
   "metadata": {
    "collapsed": false
   },
   "outputs": [],
   "source": [
    "d = count_list_attribute_by_group(res, 'genes', 'source')"
   ]
  },
  {
   "cell_type": "markdown",
   "metadata": {},
   "source": [
    "CGI has some genotype \"genes\" (e.g. 'ARID1A;ANXA1' from ARID1A amplification + ANXA1 overexpression)\n",
    "\n",
    "CKB have some multi-gene molecular profiles. Example: https://ckb.jax.org/molecularProfile/show/26172"
   ]
  },
  {
   "cell_type": "code",
   "execution_count": 12,
   "metadata": {
    "collapsed": false
   },
   "outputs": [
    {
     "data": {
      "text/plain": [
       "Counter({u'cgi': 44,\n",
       "         u'jax': 3547,\n",
       "         u'jax_trials': 314,\n",
       "         u'molecularmatch': 17,\n",
       "         u'molecularmatch_trials': 17618})"
      ]
     },
     "execution_count": 12,
     "metadata": {},
     "output_type": "execute_result"
    }
   ],
   "source": [
    "multi_gene_hits = [x for x in res['hits']['hits'] if len(x['_source']['genes']) >= 2]\n",
    "s = Counter([x['_source']['source'] for x in multi_gene_hits])\n",
    "s"
   ]
  },
  {
   "cell_type": "code",
   "execution_count": 13,
   "metadata": {
    "collapsed": false
   },
   "outputs": [],
   "source": [
    "mp_d = dict()\n",
    "for source in s:\n",
    "    mp_d[source] = set([tuple(sorted(x['_source']['genes'])) for x in res['hits']['hits'] if (len(x['_source']['genes']) >= 2) and (x['_source']['source'] == source)])"
   ]
  },
  {
   "cell_type": "code",
   "execution_count": 14,
   "metadata": {
    "collapsed": false
   },
   "outputs": [],
   "source": [
    "%%capture\n",
    "mp_d"
   ]
  },
  {
   "cell_type": "code",
   "execution_count": 15,
   "metadata": {
    "collapsed": true
   },
   "outputs": [],
   "source": [
    "def overlap(group_counts):\n",
    "    columns = sorted(group_counts) + ['Total']\n",
    "    sets = {g: set(group_counts[g]) for g in group_counts}\n",
    "    for g in sets:\n",
    "        total = set()\n",
    "        for s in sets:\n",
    "            l = len(sets[g])\n",
    "            if s != g:\n",
    "                o = (sets[g] & sets[s])\n",
    "                total |= sets[s]\n",
    "            else:\n",
    "                continue\n",
    "            print('{} has {}/{} ({:.2f}%) overlap with {}'.format(g, len(o), l, len(o) / l * 100, s))\n",
    "        o = (sets[g] & total)\n",
    "        print('{} has {}/{} ({:.2f}%) overlap overall'.format(g, len(o), l, len(o) / l * 100, s))"
   ]
  },
  {
   "cell_type": "code",
   "execution_count": 16,
   "metadata": {
    "collapsed": false
   },
   "outputs": [
    {
     "name": "stdout",
     "output_type": "stream",
     "text": [
      "cgi has 0/183 (0.00%) overlap with jax\n",
      "cgi has 122/183 (0.00%) overlap with civic\n",
      "cgi has 2/183 (0.00%) overlap with sage\n",
      "cgi has 155/183 (0.00%) overlap with molecularmatch_trials\n",
      "cgi has 61/183 (0.00%) overlap with molecularmatch\n",
      "cgi has 132/183 (0.00%) overlap with oncokb\n",
      "cgi has 38/183 (0.00%) overlap with pmkb\n",
      "cgi has 46/183 (0.00%) overlap with jax_trials\n",
      "cgi has 2/183 (0.00%) overlap with brca\n",
      "cgi has 169/183 (0.00%) overlap overall\n",
      "jax has 0/33 (0.00%) overlap with cgi\n",
      "jax has 0/33 (0.00%) overlap with civic\n",
      "jax has 0/33 (0.00%) overlap with sage\n",
      "jax has 0/33 (0.00%) overlap with molecularmatch_trials\n",
      "jax has 0/33 (0.00%) overlap with molecularmatch\n",
      "jax has 0/33 (0.00%) overlap with oncokb\n",
      "jax has 0/33 (0.00%) overlap with pmkb\n",
      "jax has 0/33 (0.00%) overlap with jax_trials\n",
      "jax has 0/33 (0.00%) overlap with brca\n",
      "jax has 0/33 (0.00%) overlap overall\n",
      "civic has 122/292 (0.00%) overlap with cgi\n",
      "civic has 0/292 (0.00%) overlap with jax\n",
      "civic has 2/292 (0.00%) overlap with sage\n",
      "civic has 202/292 (0.00%) overlap with molecularmatch_trials\n",
      "civic has 68/292 (0.00%) overlap with molecularmatch\n",
      "civic has 146/292 (0.00%) overlap with oncokb\n",
      "civic has 38/292 (0.00%) overlap with pmkb\n",
      "civic has 52/292 (0.00%) overlap with jax_trials\n",
      "civic has 2/292 (0.00%) overlap with brca\n",
      "civic has 217/292 (0.00%) overlap overall\n",
      "sage has 2/2 (100.00%) overlap with cgi\n",
      "sage has 0/2 (0.00%) overlap with jax\n",
      "sage has 2/2 (100.00%) overlap with civic\n",
      "sage has 2/2 (100.00%) overlap with molecularmatch_trials\n",
      "sage has 0/2 (0.00%) overlap with molecularmatch\n",
      "sage has 2/2 (100.00%) overlap with oncokb\n",
      "sage has 0/2 (0.00%) overlap with pmkb\n",
      "sage has 0/2 (0.00%) overlap with jax_trials\n",
      "sage has 0/2 (0.00%) overlap with brca\n",
      "sage has 2/2 (100.00%) overlap overall\n",
      "molecularmatch_trials has 155/972 (0.00%) overlap with cgi\n",
      "molecularmatch_trials has 0/972 (0.00%) overlap with jax\n",
      "molecularmatch_trials has 202/972 (0.00%) overlap with civic\n",
      "molecularmatch_trials has 2/972 (0.00%) overlap with sage\n",
      "molecularmatch_trials has 104/972 (0.00%) overlap with molecularmatch\n",
      "molecularmatch_trials has 201/972 (0.00%) overlap with oncokb\n",
      "molecularmatch_trials has 39/972 (0.00%) overlap with pmkb\n",
      "molecularmatch_trials has 54/972 (0.00%) overlap with jax_trials\n",
      "molecularmatch_trials has 2/972 (0.00%) overlap with brca\n",
      "molecularmatch_trials has 317/972 (0.00%) overlap overall\n",
      "molecularmatch has 61/111 (0.00%) overlap with cgi\n",
      "molecularmatch has 0/111 (0.00%) overlap with jax\n",
      "molecularmatch has 68/111 (0.00%) overlap with civic\n",
      "molecularmatch has 0/111 (0.00%) overlap with sage\n",
      "molecularmatch has 104/111 (0.00%) overlap with molecularmatch_trials\n",
      "molecularmatch has 69/111 (0.00%) overlap with oncokb\n",
      "molecularmatch has 22/111 (0.00%) overlap with pmkb\n",
      "molecularmatch has 36/111 (0.00%) overlap with jax_trials\n",
      "molecularmatch has 2/111 (0.00%) overlap with brca\n",
      "molecularmatch has 106/111 (0.00%) overlap overall\n",
      "oncokb has 132/276 (0.00%) overlap with cgi\n",
      "oncokb has 0/276 (0.00%) overlap with jax\n",
      "oncokb has 146/276 (0.00%) overlap with civic\n",
      "oncokb has 2/276 (0.00%) overlap with sage\n",
      "oncokb has 201/276 (0.00%) overlap with molecularmatch_trials\n",
      "oncokb has 69/276 (0.00%) overlap with molecularmatch\n",
      "oncokb has 39/276 (0.00%) overlap with pmkb\n",
      "oncokb has 53/276 (0.00%) overlap with jax_trials\n",
      "oncokb has 2/276 (0.00%) overlap with brca\n",
      "oncokb has 220/276 (0.00%) overlap overall\n",
      "pmkb has 38/42 (0.00%) overlap with cgi\n",
      "pmkb has 0/42 (0.00%) overlap with jax\n",
      "pmkb has 38/42 (0.00%) overlap with civic\n",
      "pmkb has 0/42 (0.00%) overlap with sage\n",
      "pmkb has 39/42 (0.00%) overlap with molecularmatch_trials\n",
      "pmkb has 22/42 (0.00%) overlap with molecularmatch\n",
      "pmkb has 39/42 (0.00%) overlap with oncokb\n",
      "pmkb has 27/42 (0.00%) overlap with jax_trials\n",
      "pmkb has 0/42 (0.00%) overlap with brca\n",
      "pmkb has 41/42 (0.00%) overlap overall\n",
      "jax_trials has 46/58 (0.00%) overlap with cgi\n",
      "jax_trials has 0/58 (0.00%) overlap with jax\n",
      "jax_trials has 52/58 (0.00%) overlap with civic\n",
      "jax_trials has 0/58 (0.00%) overlap with sage\n",
      "jax_trials has 54/58 (0.00%) overlap with molecularmatch_trials\n",
      "jax_trials has 36/58 (0.00%) overlap with molecularmatch\n",
      "jax_trials has 53/58 (0.00%) overlap with oncokb\n",
      "jax_trials has 27/58 (0.00%) overlap with pmkb\n",
      "jax_trials has 2/58 (0.00%) overlap with brca\n",
      "jax_trials has 54/58 (0.00%) overlap overall\n",
      "brca has 2/2 (100.00%) overlap with cgi\n",
      "brca has 0/2 (0.00%) overlap with jax\n",
      "brca has 2/2 (100.00%) overlap with civic\n",
      "brca has 0/2 (0.00%) overlap with sage\n",
      "brca has 2/2 (100.00%) overlap with molecularmatch_trials\n",
      "brca has 2/2 (100.00%) overlap with molecularmatch\n",
      "brca has 2/2 (100.00%) overlap with oncokb\n",
      "brca has 0/2 (0.00%) overlap with pmkb\n",
      "brca has 2/2 (100.00%) overlap with jax_trials\n",
      "brca has 2/2 (100.00%) overlap overall\n"
     ]
    }
   ],
   "source": [
    "overlap(d)"
   ]
  },
  {
   "cell_type": "code",
   "execution_count": 17,
   "metadata": {
    "collapsed": false
   },
   "outputs": [],
   "source": [
    "def plot_overlap(d, column_names=['attribute']):\n",
    "    d2 = {g: pd.DataFrame(list(d[g].keys()), columns=column_names) for g in d}\n",
    "    pyu.plot(d2, unique_keys = ['attribute'])"
   ]
  },
  {
   "cell_type": "code",
   "execution_count": 18,
   "metadata": {
    "collapsed": false
   },
   "outputs": [
    {
     "data": {
      "image/png": "[encoded data removed]",
      "text/plain": [
       "<matplotlib.figure.Figure at 0x7f895900bf90>"
      ]
     },
     "metadata": {},
     "output_type": "display_data"
    }
   ],
   "source": [
    "plot_overlap(d)"
   ]
  },
  {
   "cell_type": "markdown",
   "metadata": {},
   "source": [
    "# Overlap of associations (drug + gene + phenotype)"
   ]
  },
  {
   "cell_type": "markdown",
   "metadata": {},
   "source": [
    "Some hits (example here is from CGI) have strange behavior on drug normalization:"
   ]
  },
  {
   "cell_type": "code",
   "execution_count": 19,
   "metadata": {
    "collapsed": false
   },
   "outputs": [
    {
     "data": {
      "text/plain": [
       "[{u'approved_countries': [u'Canada', u'US'],\n",
       "  u'description': u'CRIZOTINIB',\n",
       "  u'id': u'compound:CID11626560',\n",
       "  u'taxonomy': {u'class': u'Pyridines and derivatives',\n",
       "   u'direct-parent': u'Pyrazolylpyridines',\n",
       "   u'kingdom': u'Organic compounds',\n",
       "   u'subclass': u'Pyrazolylpyridines',\n",
       "   u'superclass': u'Organoheterocyclic compounds'},\n",
       "  u'term': u'CRIZOTINIB',\n",
       "  u'usan_stem': u'tyrosine kinase inhibitors'}]"
      ]
     },
     "execution_count": 19,
     "metadata": {},
     "output_type": "execute_result"
    }
   ],
   "source": [
    "res['hits']['hits'][0]['_source']['association']['environmentalContexts']"
   ]
  },
  {
   "cell_type": "markdown",
   "metadata": {},
   "source": [
    "\"Inhibitor\" drug: https://pubchem.ncbi.nlm.nih.gov/compound/diacylglycerol_kinase_inhibitor_ii#section=Top"
   ]
  },
  {
   "cell_type": "code",
   "execution_count": 22,
   "metadata": {
    "collapsed": false
   },
   "outputs": [],
   "source": [
    "# res['hits']['hits'][0]['_source']['cgi']"
   ]
  },
  {
   "cell_type": "code",
   "execution_count": 23,
   "metadata": {
    "collapsed": true
   },
   "outputs": [],
   "source": [
    "def select_failures(hits):\n",
    "    pheno_failed = 0\n",
    "    drug_failed = 0\n",
    "    gene_failed = 0\n",
    "    for hit in hits:\n",
    "        try:\n",
    "            gene = '|'.join(sorted(hit['_source']['genes']))\n",
    "        except:\n",
    "            print( \"Gene failure on ID {}\".format( hit['_id']))\n",
    "            gene = None\n",
    "        try:\n",
    "            drug = '|'.join(sorted([x['id'] for x in hit['_source']['association']['environmentalContexts']]))\n",
    "        except:\n",
    "            print( \"Drug failure on ID {}\".format( hit['_id'] ))\n",
    "            drug_failed += 1\n",
    "            drug = None\n",
    "        try:\n",
    "            phenotype = hit['_source']['association']['phenotype']['type']['id']\n",
    "        except:\n",
    "            print( \"Phenotype failure on ID {}\".format( hit['_id'] ))\n",
    "            pheno_failed += 1\n",
    "            phenotype = None\n",
    "        if gene is None or drug is None or phenotype is None:\n",
    "            yield(hit)\n",
    "        # yield (gene,drug,phenotype)\n",
    "    print('{} hits with failed phenotype'.format(pheno_failed))\n",
    "    print('{} hits with failed drug'.format(drug_failed))\n",
    "    print('{} total hits'.format(len(hits)))"
   ]
  },
  {
   "cell_type": "code",
   "execution_count": 24,
   "metadata": {
    "collapsed": true
   },
   "outputs": [],
   "source": [
    "def failure_types_by_source(hits):\n",
    "    failures = defaultdict(Counter)\n",
    "    totals = Counter()\n",
    "    for hit in hits:\n",
    "        totals[hit['_source']['source']] += 1\n",
    "        try:\n",
    "            gene = '|'.join(sorted(hit['_source']['genes']))\n",
    "        except:\n",
    "            failures[hit['_source']['source']]['gene'] += 1\n",
    "        try:\n",
    "            drug = '|'.join(sorted([x['id'] for x in hit['_source']['association']['environmentalContexts']]))\n",
    "        except:\n",
    "            failures[hit['_source']['source']]['drug'] += 1\n",
    "        try:\n",
    "            phenotype = hit['_source']['association']['phenotype']['type']['id']\n",
    "        except:\n",
    "            failures[hit['_source']['source']]['phenotype'] += 1\n",
    "    return failures, totals"
   ]
  },
  {
   "cell_type": "code",
   "execution_count": 25,
   "metadata": {
    "collapsed": false
   },
   "outputs": [],
   "source": [
    "%%capture\n",
    "failed = list(select_failures(res['hits']['hits']))"
   ]
  },
  {
   "cell_type": "code",
   "execution_count": 26,
   "metadata": {
    "collapsed": false
   },
   "outputs": [
    {
     "name": "stdout",
     "output_type": "stream",
     "text": [
      "0.00% of associations not fully normalized across gene, drug, phenotype\n"
     ]
    }
   ],
   "source": [
    "print(\"{:.2f}% of associations not fully normalized across gene, drug, phenotype\".format(len(failed) / len(res['hits']['hits']) * 100))"
   ]
  },
  {
   "cell_type": "code",
   "execution_count": 27,
   "metadata": {
    "collapsed": false
   },
   "outputs": [
    {
     "data": {
      "text/plain": [
       "Counter({u'cgi': 245,\n",
       "         u'civic': 63,\n",
       "         u'jax': 184,\n",
       "         u'jax_trials': 38,\n",
       "         u'molecularmatch': 32,\n",
       "         u'molecularmatch_trials': 5745,\n",
       "         u'oncokb': 40,\n",
       "         u'pmkb': 609,\n",
       "         u'sage': 10})"
      ]
     },
     "execution_count": 27,
     "metadata": {},
     "output_type": "execute_result"
    }
   ],
   "source": [
    "c = Counter([x['_source']['source'] for x in failed])\n",
    "c"
   ]
  },
  {
   "cell_type": "code",
   "execution_count": 28,
   "metadata": {
    "collapsed": false
   },
   "outputs": [
    {
     "data": {
      "text/plain": [
       "{u'cgi': '0.00%',\n",
       " u'civic': '0.00%',\n",
       " u'jax': '0.00%',\n",
       " u'jax_trials': '0.00%',\n",
       " u'molecularmatch': '0.00%',\n",
       " u'molecularmatch_trials': '0.00%',\n",
       " u'oncokb': '0.00%',\n",
       " u'pmkb': '100.00%',\n",
       " u'sage': '0.00%'}"
      ]
     },
     "execution_count": 28,
     "metadata": {},
     "output_type": "execute_result"
    }
   ],
   "source": [
    "def percent(num, den):\n",
    "    return \"{:.2f}%\".format(num / den * 100)\n",
    "\n",
    "d = count_attribute(res, 'source')\n",
    "{source: percent(c[source], d[source]) for source in c}"
   ]
  },
  {
   "cell_type": "code",
   "execution_count": 29,
   "metadata": {
    "collapsed": false
   },
   "outputs": [
    {
     "name": "stdout",
     "output_type": "stream",
     "text": [
      "Drug failures:\n"
     ]
    },
    {
     "data": {
      "text/plain": [
       "{u'cgi': '0.00%',\n",
       " u'civic': '0.00%',\n",
       " u'jax': '0.00%',\n",
       " u'jax_trials': '0.00%',\n",
       " u'molecularmatch': '0.00%',\n",
       " u'molecularmatch_trials': '0.00%',\n",
       " u'oncokb': '0.00%',\n",
       " u'pmkb': '100.00%',\n",
       " u'sage': '0.00%'}"
      ]
     },
     "execution_count": 29,
     "metadata": {},
     "output_type": "execute_result"
    }
   ],
   "source": [
    "failures = failure_types_by_source(res['hits']['hits'])\n",
    "print('Drug failures:')\n",
    "{source: percent(failures[0][source]['drug'], failures[1][source]) for source in failures[0]}"
   ]
  },
  {
   "cell_type": "code",
   "execution_count": 30,
   "metadata": {
    "collapsed": false
   },
   "outputs": [
    {
     "data": {
      "text/plain": [
       "{u'cgi': '0.00%',\n",
       " u'civic': '0.00%',\n",
       " u'jax': '0.00%',\n",
       " u'jax_trials': '0.00%',\n",
       " u'molecularmatch': '0.00%',\n",
       " u'molecularmatch_trials': '0.00%',\n",
       " u'oncokb': '0.00%',\n",
       " u'pmkb': '0.00%',\n",
       " u'sage': '0.00%'}"
      ]
     },
     "execution_count": 30,
     "metadata": {},
     "output_type": "execute_result"
    }
   ],
   "source": [
    "{source: percent(failures[0][source]['phenotype'], failures[1][source]) for source in failures[0]}"
   ]
  },
  {
   "cell_type": "markdown",
   "metadata": {},
   "source": [
    "PMKB interpretations (https://pmkb.weill.cornell.edu/therapies) do not list drugs."
   ]
  },
  {
   "cell_type": "code",
   "execution_count": 31,
   "metadata": {
    "collapsed": false
   },
   "outputs": [
    {
     "data": {
      "text/plain": [
       "{u'description': u'Mutations in beta catenin (CTNNB1) are seen in about 90% of adamantinomatous craniopharyngiomas and mutations in BRAF (V600E) in papillary craniopharyngiomas. Adamantinomatous and papillary craniopharyngiomas have been shown to carry clonal mutations that are mutually exclusive. These findings indicate that the adamantinomatous and papillary subtypes have distinct molecular underpinnings, each principally driven by mutations in a single well-established oncogene \\u2013 CTNNB1 in the adamantinomatous form and BRAF in the papillary form, independent of age. This may have implications for the diagnosis and treatment of these tumors.',\n",
       " u'drug_labels': u'NA',\n",
       " u'evidence': [{u'description': u'2',\n",
       "   u'evidenceType': {u'sourceName': u'pmkb'},\n",
       "   u'info': {u'publications': [u'http://www.ncbi.nlm.nih.gov/pubmed/None']}}],\n",
       " u'evidence_label': u'C',\n",
       " u'evidence_level': 3,\n",
       " u'phenotype': {u'description': u'craniopharyngioma',\n",
       "  u'family': u'nervous system benign neoplasm',\n",
       "  u'type': {u'id': u'DOID:3840', u'term': u'craniopharyngioma'}},\n",
       " u'publication_url': u'http://www.ncbi.nlm.nih.gov/pubmed/None',\n",
       " u'response_type': u'NA'}"
      ]
     },
     "execution_count": 31,
     "metadata": {},
     "output_type": "execute_result"
    }
   ],
   "source": [
    "pmkb = [x for x in failed if x['_source']['source'] == 'pmkb']\n",
    "pmkb[0]['_source']['association']"
   ]
  },
  {
   "cell_type": "code",
   "execution_count": 32,
   "metadata": {
    "collapsed": false
   },
   "outputs": [
    {
     "data": {
      "text/plain": [
       "False"
      ]
     },
     "execution_count": 32,
     "metadata": {},
     "output_type": "execute_result"
    }
   ],
   "source": [
    "any(['environmentalContexts' in x['_source']['association'] for x in pmkb])"
   ]
  },
  {
   "cell_type": "markdown",
   "metadata": {},
   "source": [
    "# Overlap of associations (gene + phenotype)"
   ]
  },
  {
   "cell_type": "code",
   "execution_count": 33,
   "metadata": {
    "collapsed": true
   },
   "outputs": [],
   "source": [
    "def select_failures(hits):\n",
    "    pheno_failed = 0\n",
    "    for hit in hits:\n",
    "        try:\n",
    "            gene = '|'.join(sorted(hit['_source']['genes']))\n",
    "        except:\n",
    "            gene = ''\n",
    "        try:\n",
    "            phenotype = hit['_source']['association']['phenotype']['type']['id']\n",
    "        except:\n",
    "            print( \"Phenotype failure on ID {}\".format( hit['_id'] ))\n",
    "            pheno_failed += 1\n",
    "            phenotype = None\n",
    "        if phenotype is None:\n",
    "            yield(hit)\n",
    "    print('{} hits with failed phenotype'.format(pheno_failed))\n",
    "    print('{} total hits'.format(len(hits)))"
   ]
  },
  {
   "cell_type": "code",
   "execution_count": 34,
   "metadata": {
    "collapsed": false
   },
   "outputs": [],
   "source": [
    "%%capture\n",
    "failed = list(select_failures(res['hits']['hits']))"
   ]
  },
  {
   "cell_type": "code",
   "execution_count": 35,
   "metadata": {
    "collapsed": false
   },
   "outputs": [
    {
     "name": "stdout",
     "output_type": "stream",
     "text": [
      "0.00% of associations not fully normalized across gene, phenotype\n"
     ]
    }
   ],
   "source": [
    "print(\"{:.2f}% of associations not fully normalized across gene, phenotype\".format(len(failed) / len(res['hits']['hits']) * 100))"
   ]
  },
  {
   "cell_type": "code",
   "execution_count": 36,
   "metadata": {
    "collapsed": false
   },
   "outputs": [
    {
     "data": {
      "text/plain": [
       "Counter({u'cgi': 112,\n",
       "         u'civic': 38,\n",
       "         u'jax': 1,\n",
       "         u'jax_trials': 5,\n",
       "         u'molecularmatch': 1,\n",
       "         u'molecularmatch_trials': 4197,\n",
       "         u'oncokb': 16,\n",
       "         u'pmkb': 51,\n",
       "         u'sage': 3})"
      ]
     },
     "execution_count": 36,
     "metadata": {},
     "output_type": "execute_result"
    }
   ],
   "source": [
    "c = Counter([x['_source']['source'] for x in failed])\n",
    "c"
   ]
  },
  {
   "cell_type": "code",
   "execution_count": 37,
   "metadata": {
    "collapsed": false
   },
   "outputs": [
    {
     "data": {
      "text/plain": [
       "{u'cgi': '0.00%',\n",
       " u'civic': '0.00%',\n",
       " u'jax': '0.00%',\n",
       " u'jax_trials': '0.00%',\n",
       " u'molecularmatch': '0.00%',\n",
       " u'molecularmatch_trials': '0.00%',\n",
       " u'oncokb': '0.00%',\n",
       " u'pmkb': '0.00%',\n",
       " u'sage': '0.00%'}"
      ]
     },
     "execution_count": 37,
     "metadata": {},
     "output_type": "execute_result"
    }
   ],
   "source": [
    "d = count_attribute(res, 'source')\n",
    "{source: percent(c[source], d[source]) for source in c}"
   ]
  },
  {
   "cell_type": "markdown",
   "metadata": {},
   "source": [
    "Prostate Adenocarcinoma?"
   ]
  },
  {
   "cell_type": "code",
   "execution_count": 38,
   "metadata": {
    "collapsed": false
   },
   "outputs": [
    {
     "data": {
      "text/plain": [
       "{u'description': u'CSF1R Imatinib (BCR-ABL inhibitor 1st gen&KIT inhibitor) Responsive',\n",
       " u'drug_labels': u'Imatinib',\n",
       " u'environmentalContexts': [{u'approved_countries': [u'Canada', u'US'],\n",
       "   u'description': u'Imatinib',\n",
       "   u'id': u'compound:CID5291',\n",
       "   u'taxonomy': {u'class': u'Benzenoids',\n",
       "    u'direct-parent': u'Benzanilides',\n",
       "    u'kingdom': u'Chemical entities',\n",
       "    u'subclass': u'Benzene and substituted derivatives',\n",
       "    u'superclass': u'Organic compounds'},\n",
       "   u'term': u'Imatinib',\n",
       "   u'toxicity': u'The most frequently reported adverse reactions (>30%) were edema, nausea,\\r\\nvomiting, muscle cramps, musculoskeletal pain, diarrhea, rash, fatigue and\\r\\nabdominal pain.',\n",
       "   u'usan_stem': u'tyrosine kinase inhibitors'}],\n",
       " u'evidence': [{u'description': u'Responsive',\n",
       "   u'evidenceType': {u'sourceName': u'cgi'},\n",
       "   u'info': {u'publications': [u'http://www.ncbi.nlm.nih.gov/pubmed/18971950']}}],\n",
       " u'evidence_label': u'D',\n",
       " u'evidence_level': 4,\n",
       " u'phenotype': {u'description': u'Myelodisplasic proliferative syndrome',\n",
       "  u'family': u'Uncategorized-PHN'},\n",
       " u'publication_url': u'http://www.ncbi.nlm.nih.gov/pubmed/18971950',\n",
       " u'response_type': u'Responsive'}"
      ]
     },
     "execution_count": 38,
     "metadata": {},
     "output_type": "execute_result"
    }
   ],
   "source": [
    "cgi = [x for x in failed if x['_source']['source'] == 'cgi']\n",
    "cgi[0]['_source']['association']"
   ]
  },
  {
   "cell_type": "code",
   "execution_count": 40,
   "metadata": {
    "collapsed": false
   },
   "outputs": [],
   "source": [
    "# cgi[0]['_source']['cgi']"
   ]
  },
  {
   "cell_type": "code",
   "execution_count": 41,
   "metadata": {
    "collapsed": false
   },
   "outputs": [],
   "source": [
    "%%capture\n",
    "set([x['_source']['association']['phenotype']['description'] for x in cgi])"
   ]
  },
  {
   "cell_type": "code",
   "execution_count": 42,
   "metadata": {
    "collapsed": true
   },
   "outputs": [],
   "source": [
    "def select_successes(hits):\n",
    "    pheno_failed = 0\n",
    "    for hit in hits:\n",
    "        try:\n",
    "            gene = '|'.join(sorted(hit['_source']['genes']))\n",
    "            hit['merged'] = {'gene': gene}\n",
    "        except:\n",
    "            hit['merged'] = {'gene': ''}\n",
    "        try:\n",
    "            phenotype = hit['_source']['association']['phenotype']['type']['id']\n",
    "        except:\n",
    "            print( \"Phenotype failure on ID {}\".format( hit['_id'] ))\n",
    "            pheno_failed += 1\n",
    "            phenotype = None\n",
    "        if phenotype is None:\n",
    "            continue\n",
    "        hit['merged']['phenotype'] = phenotype\n",
    "        yield hit\n",
    "        \n",
    "    print('{} hits with failed phenotype'.format(pheno_failed))\n",
    "    print('{} total hits'.format(len(hits)))"
   ]
  },
  {
   "cell_type": "code",
   "execution_count": 43,
   "metadata": {
    "collapsed": false
   },
   "outputs": [],
   "source": [
    "%%capture\n",
    "successes = list(select_successes(res['hits']['hits']))"
   ]
  },
  {
   "cell_type": "code",
   "execution_count": 44,
   "metadata": {
    "collapsed": false
   },
   "outputs": [
    {
     "data": {
      "text/plain": [
       "Counter({u'brca': 5733,\n",
       "         u'cgi': 1319,\n",
       "         u'civic': 3138,\n",
       "         u'jax': 3648,\n",
       "         u'jax_trials': 1126,\n",
       "         u'molecularmatch': 2078,\n",
       "         u'molecularmatch_trials': 36946,\n",
       "         u'oncokb': 4133,\n",
       "         u'pmkb': 558,\n",
       "         u'sage': 66})"
      ]
     },
     "execution_count": 44,
     "metadata": {},
     "output_type": "execute_result"
    }
   ],
   "source": [
    "s = Counter([x['_source']['source'] for x in successes])\n",
    "s"
   ]
  },
  {
   "cell_type": "code",
   "execution_count": 45,
   "metadata": {
    "collapsed": true
   },
   "outputs": [],
   "source": [
    "success_by_source = dict()\n",
    "for source in s:\n",
    "    success_by_source[source] = set([(x['merged']['gene'], x['merged']['phenotype']) for x in successes if x['_source']['source'] == source])"
   ]
  },
  {
   "cell_type": "code",
   "execution_count": 46,
   "metadata": {
    "collapsed": false
   },
   "outputs": [],
   "source": [
    "%%capture\n",
    "success_by_source"
   ]
  },
  {
   "cell_type": "code",
   "execution_count": 47,
   "metadata": {
    "collapsed": false
   },
   "outputs": [
    {
     "name": "stdout",
     "output_type": "stream",
     "text": [
      "cgi has 0/374 (0.00%) overlap with jax\n",
      "cgi has 90/374 (0.00%) overlap with civic\n",
      "cgi has 10/374 (0.00%) overlap with sage\n",
      "cgi has 90/374 (0.00%) overlap with molecularmatch_trials\n",
      "cgi has 18/374 (0.00%) overlap with molecularmatch\n",
      "cgi has 56/374 (0.00%) overlap with oncokb\n",
      "cgi has 19/374 (0.00%) overlap with pmkb\n",
      "cgi has 42/374 (0.00%) overlap with jax_trials\n",
      "cgi has 0/374 (0.00%) overlap with brca\n",
      "cgi has 169/374 (0.00%) overlap overall\n",
      "jax has 0/528 (0.00%) overlap with cgi\n",
      "jax has 0/528 (0.00%) overlap with civic\n",
      "jax has 0/528 (0.00%) overlap with sage\n",
      "jax has 0/528 (0.00%) overlap with molecularmatch_trials\n",
      "jax has 0/528 (0.00%) overlap with molecularmatch\n",
      "jax has 0/528 (0.00%) overlap with oncokb\n",
      "jax has 0/528 (0.00%) overlap with pmkb\n",
      "jax has 0/528 (0.00%) overlap with jax_trials\n",
      "jax has 0/528 (0.00%) overlap with brca\n",
      "jax has 0/528 (0.00%) overlap overall\n",
      "civic has 90/788 (0.00%) overlap with cgi\n",
      "civic has 0/788 (0.00%) overlap with jax\n",
      "civic has 5/788 (0.00%) overlap with sage\n",
      "civic has 151/788 (0.00%) overlap with molecularmatch_trials\n",
      "civic has 38/788 (0.00%) overlap with molecularmatch\n",
      "civic has 57/788 (0.00%) overlap with oncokb\n",
      "civic has 37/788 (0.00%) overlap with pmkb\n",
      "civic has 81/788 (0.00%) overlap with jax_trials\n",
      "civic has 2/788 (0.00%) overlap with brca\n",
      "civic has 257/788 (0.00%) overlap overall\n",
      "sage has 10/15 (0.00%) overlap with cgi\n",
      "sage has 0/15 (0.00%) overlap with jax\n",
      "sage has 5/15 (0.00%) overlap with civic\n",
      "sage has 3/15 (0.00%) overlap with molecularmatch_trials\n",
      "sage has 0/15 (0.00%) overlap with molecularmatch\n",
      "sage has 2/15 (0.00%) overlap with oncokb\n",
      "sage has 0/15 (0.00%) overlap with pmkb\n",
      "sage has 0/15 (0.00%) overlap with jax_trials\n",
      "sage has 0/15 (0.00%) overlap with brca\n",
      "sage has 12/15 (0.00%) overlap overall\n",
      "molecularmatch_trials has 90/18390 (0.00%) overlap with cgi\n",
      "molecularmatch_trials has 0/18390 (0.00%) overlap with jax\n",
      "molecularmatch_trials has 151/18390 (0.00%) overlap with civic\n",
      "molecularmatch_trials has 3/18390 (0.00%) overlap with sage\n",
      "molecularmatch_trials has 64/18390 (0.00%) overlap with molecularmatch\n",
      "molecularmatch_trials has 88/18390 (0.00%) overlap with oncokb\n",
      "molecularmatch_trials has 42/18390 (0.00%) overlap with pmkb\n",
      "molecularmatch_trials has 125/18390 (0.00%) overlap with jax_trials\n",
      "molecularmatch_trials has 2/18390 (0.00%) overlap with brca\n",
      "molecularmatch_trials has 364/18390 (0.00%) overlap overall\n",
      "molecularmatch has 18/171 (0.00%) overlap with cgi\n",
      "molecularmatch has 0/171 (0.00%) overlap with jax\n",
      "molecularmatch has 38/171 (0.00%) overlap with civic\n",
      "molecularmatch has 0/171 (0.00%) overlap with sage\n",
      "molecularmatch has 64/171 (0.00%) overlap with molecularmatch_trials\n",
      "molecularmatch has 9/171 (0.00%) overlap with oncokb\n",
      "molecularmatch has 2/171 (0.00%) overlap with pmkb\n",
      "molecularmatch has 10/171 (0.00%) overlap with jax_trials\n",
      "molecularmatch has 2/171 (0.00%) overlap with brca\n",
      "molecularmatch has 79/171 (0.00%) overlap overall\n",
      "oncokb has 56/350 (0.00%) overlap with cgi\n",
      "oncokb has 0/350 (0.00%) overlap with jax\n",
      "oncokb has 57/350 (0.00%) overlap with civic\n",
      "oncokb has 2/350 (0.00%) overlap with sage\n",
      "oncokb has 88/350 (0.00%) overlap with molecularmatch_trials\n",
      "oncokb has 9/350 (0.00%) overlap with molecularmatch\n",
      "oncokb has 9/350 (0.00%) overlap with pmkb\n",
      "oncokb has 42/350 (0.00%) overlap with jax_trials\n",
      "oncokb has 0/350 (0.00%) overlap with brca\n",
      "oncokb has 136/350 (0.00%) overlap overall\n",
      "pmkb has 19/146 (0.00%) overlap with cgi\n",
      "pmkb has 0/146 (0.00%) overlap with jax\n",
      "pmkb has 37/146 (0.00%) overlap with civic\n",
      "pmkb has 0/146 (0.00%) overlap with sage\n",
      "pmkb has 42/146 (0.00%) overlap with molecularmatch_trials\n",
      "pmkb has 2/146 (0.00%) overlap with molecularmatch\n",
      "pmkb has 9/146 (0.00%) overlap with oncokb\n",
      "pmkb has 17/146 (0.00%) overlap with jax_trials\n",
      "pmkb has 0/146 (0.00%) overlap with brca\n",
      "pmkb has 67/146 (0.00%) overlap overall\n",
      "jax_trials has 42/377 (0.00%) overlap with cgi\n",
      "jax_trials has 0/377 (0.00%) overlap with jax\n",
      "jax_trials has 81/377 (0.00%) overlap with civic\n",
      "jax_trials has 0/377 (0.00%) overlap with sage\n",
      "jax_trials has 125/377 (0.00%) overlap with molecularmatch_trials\n",
      "jax_trials has 10/377 (0.00%) overlap with molecularmatch\n",
      "jax_trials has 42/377 (0.00%) overlap with oncokb\n",
      "jax_trials has 17/377 (0.00%) overlap with pmkb\n",
      "jax_trials has 0/377 (0.00%) overlap with brca\n",
      "jax_trials has 168/377 (0.00%) overlap overall\n",
      "brca has 0/2 (0.00%) overlap with cgi\n",
      "brca has 0/2 (0.00%) overlap with jax\n",
      "brca has 2/2 (100.00%) overlap with civic\n",
      "brca has 0/2 (0.00%) overlap with sage\n",
      "brca has 2/2 (100.00%) overlap with molecularmatch_trials\n",
      "brca has 2/2 (100.00%) overlap with molecularmatch\n",
      "brca has 0/2 (0.00%) overlap with oncokb\n",
      "brca has 0/2 (0.00%) overlap with pmkb\n",
      "brca has 0/2 (0.00%) overlap with jax_trials\n",
      "brca has 2/2 (100.00%) overlap overall\n"
     ]
    }
   ],
   "source": [
    "overlap(success_by_source)"
   ]
  },
  {
   "cell_type": "code",
   "execution_count": 48,
   "metadata": {
    "collapsed": false,
    "scrolled": true
   },
   "outputs": [
    {
     "data": {
      "image/png": "[encoded data removed]",
      "text/plain": [
       "<matplotlib.figure.Figure at 0x7f8989dde890>"
      ]
     },
     "metadata": {},
     "output_type": "display_data"
    }
   ],
   "source": [
    "def plot_overlap(d, column_names=['attribute']):\n",
    "    d2 = {g: pd.DataFrame(list(d[g]), columns=column_names) for g in d}\n",
    "    pyu.plot(d2, unique_keys = column_names)\n",
    "    \n",
    "plot_overlap(success_by_source, column_names=['gene', 'phenotype'])"
   ]
  },
  {
   "cell_type": "markdown",
   "metadata": {},
   "source": [
    "\n",
    "## Finding gene-PMID associations and comparing to gene-phenotype"
   ]
  },
  {
   "cell_type": "markdown",
   "metadata": {},
   "source": [
    "This is some debugging code for issue 41: https://github.com/ohsu-comp-bio/g2p-aggregator/issues/41"
   ]
  },
  {
   "cell_type": "code",
   "execution_count": 50,
   "metadata": {
    "collapsed": false
   },
   "outputs": [
    {
     "ename": "TypeError",
     "evalue": "'NoneType' object has no attribute '__getitem__'",
     "output_type": "error",
     "traceback": [
      "\u001b[0;31m\u001b[0m",
      "\u001b[0;31mTypeError\u001b[0mTraceback (most recent call last)",
      "\u001b[0;32m<ipython-input-50-675c6c68316a>\u001b[0m in \u001b[0;36m<module>\u001b[0;34m()\u001b[0m\n\u001b[1;32m      8\u001b[0m         \u001b[0mlisted_evidence\u001b[0m\u001b[0;34m[\u001b[0m\u001b[0mhit\u001b[0m\u001b[0;34m[\u001b[0m\u001b[0;34m'_source'\u001b[0m\u001b[0;34m]\u001b[0m\u001b[0;34m[\u001b[0m\u001b[0;34m'source'\u001b[0m\u001b[0;34m]\u001b[0m\u001b[0;34m]\u001b[0m \u001b[0;34m+=\u001b[0m \u001b[0;36m1\u001b[0m\u001b[0;34m\u001b[0m\u001b[0m\n\u001b[1;32m      9\u001b[0m         \u001b[0;32mfor\u001b[0m \u001b[0mevidence\u001b[0m \u001b[0;32min\u001b[0m \u001b[0mhit\u001b[0m\u001b[0;34m[\u001b[0m\u001b[0;34m'_source'\u001b[0m\u001b[0;34m]\u001b[0m\u001b[0;34m[\u001b[0m\u001b[0;34m'association'\u001b[0m\u001b[0;34m]\u001b[0m\u001b[0;34m[\u001b[0m\u001b[0;34m'evidence'\u001b[0m\u001b[0;34m]\u001b[0m\u001b[0;34m:\u001b[0m\u001b[0;34m\u001b[0m\u001b[0m\n\u001b[0;32m---> 10\u001b[0;31m             \u001b[0;32mfor\u001b[0m \u001b[0mpmid_url\u001b[0m \u001b[0;32min\u001b[0m \u001b[0mevidence\u001b[0m\u001b[0;34m[\u001b[0m\u001b[0;34m'info'\u001b[0m\u001b[0;34m]\u001b[0m\u001b[0;34m[\u001b[0m\u001b[0;34m'publications'\u001b[0m\u001b[0;34m]\u001b[0m\u001b[0;34m:\u001b[0m\u001b[0;34m\u001b[0m\u001b[0m\n\u001b[0m\u001b[1;32m     11\u001b[0m                 \u001b[0;32mif\u001b[0m \u001b[0misinstance\u001b[0m\u001b[0;34m(\u001b[0m\u001b[0mpmid_url\u001b[0m\u001b[0;34m,\u001b[0m \u001b[0mlist\u001b[0m\u001b[0;34m)\u001b[0m\u001b[0;34m:\u001b[0m\u001b[0;34m\u001b[0m\u001b[0m\n\u001b[1;32m     12\u001b[0m                     \u001b[0mdouble_listed_refs\u001b[0m\u001b[0;34m[\u001b[0m\u001b[0mhit\u001b[0m\u001b[0;34m[\u001b[0m\u001b[0;34m'_source'\u001b[0m\u001b[0;34m]\u001b[0m\u001b[0;34m[\u001b[0m\u001b[0;34m'source'\u001b[0m\u001b[0;34m]\u001b[0m\u001b[0;34m]\u001b[0m \u001b[0;34m+=\u001b[0m \u001b[0;36m1\u001b[0m\u001b[0;34m\u001b[0m\u001b[0m\n",
      "\u001b[0;31mTypeError\u001b[0m: 'NoneType' object has no attribute '__getitem__'"
     ]
    }
   ],
   "source": [
    "double_listed_refs = Counter()\n",
    "single_listed_refs = Counter()\n",
    "\n",
    "listed_evidence = Counter()\n",
    "single_evidence = Counter()\n",
    "for hit in res['hits']['hits']:\n",
    "    if isinstance(hit['_source']['association']['evidence'], list):\n",
    "        listed_evidence[hit['_source']['source']] += 1\n",
    "        for evidence in hit['_source']['association']['evidence']:\n",
    "            for pmid_url in evidence['info']['publications']:\n",
    "                if isinstance(pmid_url, list):\n",
    "                    double_listed_refs[hit['_source']['source']] += 1\n",
    "                else:\n",
    "                    single_listed_refs[hit['_source']['source']] += 1\n",
    "    else:\n",
    "        single_evidence[hit['_source']['source']] += 1\n",
    "        evidence = hit['_source']['association']['evidence']\n",
    "        for pmid_url in evidence['info']['publications']:\n",
    "            if isinstance(pmid_url, list):\n",
    "                double_listed_refs[hit['_source']['source']] += 1\n",
    "            else:\n",
    "                single_listed_refs[hit['_source']['source']] += 1"
   ]
  },
  {
   "cell_type": "code",
   "execution_count": 51,
   "metadata": {
    "collapsed": false
   },
   "outputs": [
    {
     "name": "stdout",
     "output_type": "stream",
     "text": [
      "Counter()\n",
      "Counter({u'jax': 728, u'civic': 675, u'pmkb': 626, u'cgi': 378, u'oncokb': 72, u'sage': 20})\n",
      "Counter({u'jax': 745, u'civic': 675, u'cgi': 280, u'pmkb': 110, u'oncokb': 44, u'sage': 20, u'brca': 1})\n",
      "Counter()\n"
     ]
    }
   ],
   "source": [
    "print(double_listed_refs)\n",
    "print(single_listed_refs)\n",
    "print(listed_evidence)\n",
    "print(single_evidence)"
   ]
  },
  {
   "cell_type": "markdown",
   "metadata": {},
   "source": [
    "First, we'll look at just PMID overlap"
   ]
  },
  {
   "cell_type": "code",
   "execution_count": 52,
   "metadata": {
    "collapsed": false
   },
   "outputs": [
    {
     "ename": "TypeError",
     "evalue": "'NoneType' object has no attribute '__getitem__'",
     "output_type": "error",
     "traceback": [
      "\u001b[0;31m\u001b[0m",
      "\u001b[0;31mTypeError\u001b[0mTraceback (most recent call last)",
      "\u001b[0;32m<ipython-input-52-b621df556162>\u001b[0m in \u001b[0;36m<module>\u001b[0;34m()\u001b[0m\n\u001b[1;32m      9\u001b[0m         \u001b[0mhit\u001b[0m\u001b[0;34m[\u001b[0m\u001b[0;34m'_source'\u001b[0m\u001b[0;34m]\u001b[0m\u001b[0;34m[\u001b[0m\u001b[0;34m'association'\u001b[0m\u001b[0;34m]\u001b[0m\u001b[0;34m[\u001b[0m\u001b[0;34m'evidence'\u001b[0m\u001b[0;34m]\u001b[0m \u001b[0;34m=\u001b[0m \u001b[0;34m[\u001b[0m\u001b[0mhit\u001b[0m\u001b[0;34m[\u001b[0m\u001b[0;34m'_source'\u001b[0m\u001b[0;34m]\u001b[0m\u001b[0;34m[\u001b[0m\u001b[0;34m'association'\u001b[0m\u001b[0;34m]\u001b[0m\u001b[0;34m[\u001b[0m\u001b[0;34m'evidence'\u001b[0m\u001b[0;34m]\u001b[0m\u001b[0;34m]\u001b[0m\u001b[0;34m\u001b[0m\u001b[0m\n\u001b[1;32m     10\u001b[0m     \u001b[0;32mfor\u001b[0m \u001b[0mevidence\u001b[0m \u001b[0;32min\u001b[0m \u001b[0mhit\u001b[0m\u001b[0;34m[\u001b[0m\u001b[0;34m'_source'\u001b[0m\u001b[0;34m]\u001b[0m\u001b[0;34m[\u001b[0m\u001b[0;34m'association'\u001b[0m\u001b[0;34m]\u001b[0m\u001b[0;34m[\u001b[0m\u001b[0;34m'evidence'\u001b[0m\u001b[0;34m]\u001b[0m\u001b[0;34m:\u001b[0m\u001b[0;34m\u001b[0m\u001b[0m\n\u001b[0;32m---> 11\u001b[0;31m         \u001b[0murls\u001b[0m \u001b[0;34m=\u001b[0m \u001b[0mevidence\u001b[0m\u001b[0;34m[\u001b[0m\u001b[0;34m'info'\u001b[0m\u001b[0;34m]\u001b[0m\u001b[0;34m[\u001b[0m\u001b[0;34m'publications'\u001b[0m\u001b[0;34m]\u001b[0m\u001b[0;34m\u001b[0m\u001b[0m\n\u001b[0m\u001b[1;32m     12\u001b[0m     \u001b[0;31m# next two lines fix single_evidence, see https://github.com/ohsu-comp-bio/g2p-aggregator/issues/41\u001b[0m\u001b[0;34m\u001b[0m\u001b[0;34m\u001b[0m\u001b[0m\n\u001b[1;32m     13\u001b[0m         \u001b[0;32mif\u001b[0m \u001b[0murls\u001b[0m \u001b[0;32mand\u001b[0m \u001b[0misinstance\u001b[0m\u001b[0;34m(\u001b[0m\u001b[0murls\u001b[0m\u001b[0;34m[\u001b[0m\u001b[0;36m0\u001b[0m\u001b[0;34m]\u001b[0m\u001b[0;34m,\u001b[0m \u001b[0mlist\u001b[0m\u001b[0;34m)\u001b[0m\u001b[0;34m:\u001b[0m\u001b[0;34m\u001b[0m\u001b[0m\n",
      "\u001b[0;31mTypeError\u001b[0m: 'NoneType' object has no attribute '__getitem__'"
     ]
    }
   ],
   "source": [
    "pmid_re = re.compile(r'https?://www.ncbi.nlm.nih.gov/pubmed/(\\d+)')\n",
    "source_pmids = defaultdict(set)\n",
    "single_url = Counter()\n",
    "listed_url = Counter()\n",
    "for hit in res['hits']['hits']:\n",
    "    pmids = set()\n",
    "    # next two lines fix double_listing, see https://github.com/ohsu-comp-bio/g2p-aggregator/issues/41\n",
    "    if not isinstance(hit['_source']['association']['evidence'], list):\n",
    "        hit['_source']['association']['evidence'] = [hit['_source']['association']['evidence']]\n",
    "    for evidence in hit['_source']['association']['evidence']:\n",
    "        urls = evidence['info']['publications']\n",
    "    # next two lines fix single_evidence, see https://github.com/ohsu-comp-bio/g2p-aggregator/issues/41\n",
    "        if urls and isinstance(urls[0], list):\n",
    "            urls = itertools.chain.from_iterable(urls)\n",
    "        for pmid_url in urls:\n",
    "            match = pmid_re.match(pmid_url)\n",
    "            if match:\n",
    "                pmids.add(match.groups()[0])\n",
    "    urls = hit['_source']['association'].get('publication_url')\n",
    "    # the following lines document differences in the structure of the publication_url field\n",
    "    if not isinstance(urls, list):\n",
    "        single_url[hit['_source']['source']] += 1\n",
    "        urls = [urls]\n",
    "    else:\n",
    "        listed_url[hit['_source']['source']] += 1\n",
    "    for url in urls:\n",
    "        if url is None:\n",
    "            continue\n",
    "        match = pmid_re.match(url)\n",
    "        if match:\n",
    "            pmids.add(match.groups()[0])\n",
    "    source_pmids[hit['_source']['source']] |= pmids\n",
    "    pmids = list(pmids)\n",
    "    if 'merged' in hit:\n",
    "        hit['merged']['pmids'] = pmids\n",
    "    else:\n",
    "        hit['merged'] = {'pmids': pmids}\n",
    "    "
   ]
  },
  {
   "cell_type": "code",
   "execution_count": 53,
   "metadata": {
    "collapsed": false
   },
   "outputs": [
    {
     "data": {
      "text/plain": [
       "{u'cgi': 212,\n",
       " u'civic': 505,\n",
       " u'jax': 366,\n",
       " u'oncokb': 55,\n",
       " u'pmkb': 179,\n",
       " u'sage': 17}"
      ]
     },
     "execution_count": 53,
     "metadata": {},
     "output_type": "execute_result"
    }
   ],
   "source": [
    "{k: len(v) for k, v in source_pmids.items()}"
   ]
  },
  {
   "cell_type": "code",
   "execution_count": 54,
   "metadata": {
    "collapsed": false
   },
   "outputs": [
    {
     "name": "stdout",
     "output_type": "stream",
     "text": [
      "cgi has 22/212 (0.00%) overlap with jax\n",
      "cgi has 32/212 (0.00%) overlap with civic\n",
      "cgi has 7/212 (0.00%) overlap with sage\n",
      "cgi has 0/212 (0.00%) overlap with oncokb\n",
      "cgi has 0/212 (0.00%) overlap with pmkb\n",
      "cgi has 56/212 (0.00%) overlap overall\n",
      "jax has 22/366 (0.00%) overlap with cgi\n",
      "jax has 31/366 (0.00%) overlap with civic\n",
      "jax has 0/366 (0.00%) overlap with sage\n",
      "jax has 3/366 (0.00%) overlap with oncokb\n",
      "jax has 4/366 (0.00%) overlap with pmkb\n",
      "jax has 53/366 (0.00%) overlap overall\n",
      "civic has 32/505 (0.00%) overlap with cgi\n",
      "civic has 31/505 (0.00%) overlap with jax\n",
      "civic has 0/505 (0.00%) overlap with sage\n",
      "civic has 0/505 (0.00%) overlap with oncokb\n",
      "civic has 10/505 (0.00%) overlap with pmkb\n",
      "civic has 66/505 (0.00%) overlap overall\n",
      "sage has 7/17 (0.00%) overlap with cgi\n",
      "sage has 0/17 (0.00%) overlap with jax\n",
      "sage has 0/17 (0.00%) overlap with civic\n",
      "sage has 0/17 (0.00%) overlap with oncokb\n",
      "sage has 0/17 (0.00%) overlap with pmkb\n",
      "sage has 7/17 (0.00%) overlap overall\n",
      "oncokb has 0/55 (0.00%) overlap with cgi\n",
      "oncokb has 3/55 (0.00%) overlap with jax\n",
      "oncokb has 0/55 (0.00%) overlap with civic\n",
      "oncokb has 0/55 (0.00%) overlap with sage\n",
      "oncokb has 0/55 (0.00%) overlap with pmkb\n",
      "oncokb has 3/55 (0.00%) overlap overall\n",
      "pmkb has 0/179 (0.00%) overlap with cgi\n",
      "pmkb has 4/179 (0.00%) overlap with jax\n",
      "pmkb has 10/179 (0.00%) overlap with civic\n",
      "pmkb has 0/179 (0.00%) overlap with sage\n",
      "pmkb has 0/179 (0.00%) overlap with oncokb\n",
      "pmkb has 12/179 (0.00%) overlap overall\n"
     ]
    }
   ],
   "source": [
    "overlap(source_pmids)"
   ]
  },
  {
   "cell_type": "code",
   "execution_count": 55,
   "metadata": {
    "collapsed": false
   },
   "outputs": [
    {
     "data": {
      "image/png": "[encoded data removed]",
      "text/plain": [
       "<matplotlib.figure.Figure at 0x7f8989e53910>"
      ]
     },
     "metadata": {},
     "output_type": "display_data"
    }
   ],
   "source": [
    "def plot_overlap(d, column_names=['attribute']):\n",
    "    d2 = {g: pd.DataFrame(list(d[g]), columns=column_names) for g in d}\n",
    "    pyu.plot(d2, unique_keys = column_names)\n",
    "    \n",
    "plot_overlap(source_pmids)"
   ]
  },
  {
   "cell_type": "markdown",
   "metadata": {},
   "source": [
    "Parse PMIDs specifically for each source, see if differences exist.\n",
    "\n",
    "Connect PMIDs to genes, phenotypes, gene + phenotype"
   ]
  },
  {
   "cell_type": "code",
   "execution_count": 56,
   "metadata": {
    "collapsed": false
   },
   "outputs": [],
   "source": [
    "pmid_dict = defaultdict(lambda: defaultdict(list))\n",
    "for hit in res['hits']['hits']:\n",
    "    pmids = hit.get('merged',{}).get('pmids',[])\n",
    "    for pmid in pmids:\n",
    "        pmid_dict[pmid][hit['_source']['source']].append(hit['merged'])"
   ]
  },
  {
   "cell_type": "code",
   "execution_count": 57,
   "metadata": {
    "collapsed": false
   },
   "outputs": [
    {
     "data": {
      "text/plain": [
       "1232"
      ]
     },
     "execution_count": 57,
     "metadata": {},
     "output_type": "execute_result"
    }
   ],
   "source": [
    "len(pmid_dict)"
   ]
  },
  {
   "cell_type": "code",
   "execution_count": 58,
   "metadata": {
    "collapsed": false
   },
   "outputs": [
    {
     "data": {
      "text/plain": [
       "95"
      ]
     },
     "execution_count": 58,
     "metadata": {},
     "output_type": "execute_result"
    }
   ],
   "source": [
    "multi_hit_pmids = {x: v for x, v in pmid_dict.items() if len(v) > 1}\n",
    "len(multi_hit_pmids)"
   ]
  },
  {
   "cell_type": "code",
   "execution_count": 59,
   "metadata": {
    "collapsed": false
   },
   "outputs": [
    {
     "ename": "KeyError",
     "evalue": "'24569458'",
     "output_type": "error",
     "traceback": [
      "\u001b[0;31m\u001b[0m",
      "\u001b[0;31mKeyError\u001b[0mTraceback (most recent call last)",
      "\u001b[0;32m<ipython-input-59-cdeaec0852f7>\u001b[0m in \u001b[0;36m<module>\u001b[0;34m()\u001b[0m\n\u001b[0;32m----> 1\u001b[0;31m \u001b[0mmulti_hit_pmids\u001b[0m\u001b[0;34m[\u001b[0m\u001b[0;34m'24569458'\u001b[0m\u001b[0;34m]\u001b[0m\u001b[0;34m\u001b[0m\u001b[0m\n\u001b[0m",
      "\u001b[0;31mKeyError\u001b[0m: '24569458'"
     ]
    }
   ],
   "source": [
    "multi_hit_pmids['24569458']"
   ]
  },
  {
   "cell_type": "code",
   "execution_count": 60,
   "metadata": {
    "collapsed": false
   },
   "outputs": [
    {
     "data": {
      "text/plain": [
       "92"
      ]
     },
     "execution_count": 60,
     "metadata": {},
     "output_type": "execute_result"
    }
   ],
   "source": [
    "multi_hit_normalized = dict()\n",
    "for pmid, source_dict in multi_hit_pmids.items():\n",
    "    new_source_dict = dict()\n",
    "    for source, associations in source_dict.items():\n",
    "        filtered_associations = [x for x in associations if 'phenotype' in x]\n",
    "        if any(filtered_associations):\n",
    "            new_source_dict[source] = filtered_associations\n",
    "    if len(new_source_dict) > 1:\n",
    "        multi_hit_normalized[pmid] = new_source_dict\n",
    "len(multi_hit_normalized)"
   ]
  },
  {
   "cell_type": "code",
   "execution_count": 61,
   "metadata": {
    "collapsed": false
   },
   "outputs": [
    {
     "name": "stdout",
     "output_type": "stream",
     "text": [
      "=====\n",
      "jax: set([(u'E|F|G|R', u'DOID:3908')])\n",
      "pmkb: set([(u'EGFR', u'DOID:299'), (u'EGFR', u'DOID:3908')])\n",
      "=====\n",
      "civic: set([(u'AKT1', u'DOID:162')])\n",
      "jax: set([(u'1|A|K|T', u'DOID:2999')])\n",
      "=====\n",
      "cgi: set([(u'ESR1', u'DOID:3458')])\n",
      "civic: set([(u'ESR1', u'DOID:1612')])\n",
      "=====\n",
      "cgi: set([(u'KIT', u'DOID:8923')])\n",
      "jax: set([(u'I|K|T', u'DOID:1909')])\n",
      "=====\n",
      "civic: set([(u'ERBB3', u'DOID:7244')])\n",
      "jax: set([(u',|2|B|B|E|E|F|G|R|R', u'DOID:11054'), (u'2|B|B|E|R', u'DOID:11054')])\n",
      "=====\n",
      "civic: set([(u'KRAS', u'DOID:9256')])\n",
      "pmkb: set([(u'KRAS', u'DOID:299')])\n",
      "=====\n",
      "cgi: set([(u'NRAS', u'DOID:9119')])\n",
      "civic: set([(u'NRAS', u'DOID:1324'), (u'NRAS', u'DOID:3908')])\n",
      "=====\n",
      "civic: set([(u'KRAS', u'DOID:9256')])\n",
      "pmkb: set([(u'KRAS', u'DOID:299')])\n",
      "=====\n",
      "cgi: set([(u'BRAF', u'DOID:0050861')])\n",
      "civic: set([(u'GNAS', u'DOID:9256')])\n",
      "=====\n",
      "civic: set([(u'KRAS', u'DOID:9256')])\n",
      "pmkb: set([(u'KRAS', u'DOID:299')])\n",
      "=====\n",
      "cgi: set([(u'BRAF', u'DOID:3910')])\n",
      "civic: set([(u'BRAF', u'DOID:1909')])\n",
      "=====\n",
      "cgi: set([(u'NTRK3', u'DOID:3458')])\n",
      "jax: set([('', u'DOID:162')])\n",
      "=====\n",
      "civic: set([(u'ALK', u'DOID:3908')])\n",
      "jax: set([(u'A|K|L', u'DOID:162'), (u'A|K|L', u'DOID:3910'), (u'A|K|L', u'DOID:3908'), ('', u'DOID:162')])\n",
      "=====\n",
      "cgi: set([(u'BRCA1', u'DOID:3458')])\n",
      "jax: set([(u'1|A|B|C|R', u'DOID:1612')])\n",
      "=====\n",
      "cgi: set([(u'MITF', u'DOID:8923'), (u'MAP2K2', u'DOID:8923')])\n",
      "jax: set([(u',|1|2|A|A|B|F|K|M|P|R', u'DOID:1909'), (u',|A|B|E|F|N|P|R|T', u'DOID:1909'), (u',|A|A|B|F|N|R|R|S', u'DOID:1909')])\n",
      "=====\n",
      "civic: set([(u'ALK', u'DOID:3908')])\n",
      "jax: set([(u'A|K|L', u'DOID:3908')])\n",
      "=====\n",
      "civic: set([(u'ALK', u'DOID:3908')])\n",
      "jax: set([(u'A|K|L', u'DOID:3908')])\n",
      "=====\n",
      "civic: set([(u'FGFR3', u'DOID:162'), (u'FGFR2', u'DOID:162'), (u'FGFR2', u'DOID:7244')])\n",
      "jax: set([(u'2|F|F|G|R', u'DOID:1380'), (u'1|F|F|G|R', u'DOID:162'), (u'3|F|F|G|R', u'DOID:3996')])\n",
      "=====\n",
      "cgi: set([(u'PTEN', u'DOID:8923')])\n",
      "jax: set([(u',|A|B|E|F|N|P|R|T', u'DOID:1909')])\n",
      "=====\n",
      "civic: set([(u'ALK', u'DOID:3908')])\n",
      "jax: set([(u'A|K|L', u'DOID:162'), (u'A|K|L', u'DOID:3908')])\n",
      "=====\n",
      "civic: set([(u'ALK', u'DOID:3908')])\n",
      "pmkb: set([(u'ALK', u'DOID:299')])\n",
      "=====\n",
      "jax: set([(u'A|K|L', u'DOID:162'), (u'A|K|L', u'DOID:3908')])\n",
      "pmkb: set([(u'ALK', u'DOID:299')])\n",
      "=====\n",
      "jax: set([(u'E|F|G|R', u'DOID:162')])\n",
      "pmkb: set([(u'EGFR', u'DOID:3908')])\n",
      "=====\n",
      "cgi: set([(u'ALK', u'HP:0009733')])\n",
      "civic: set([(u'ALK', u'DOID:769')])\n",
      "=====\n",
      "civic: set([(u'EGFR', u'DOID:3910')])\n",
      "jax: set([('', u'DOID:162'), ('', u'DOID:3910')])\n",
      "=====\n",
      "civic: set([(u'ERBB2', u'DOID:9256'), (u'ERBB2', u'DOID:219')])\n",
      "jax: set([(u'2|B|B|E|R', u'DOID:219'), (u'2|B|B|E|R', u'DOID:9256')])\n",
      "=====\n",
      "cgi: set([(u'PTEN', u'UBERON:0001264')])\n",
      "civic: set([(u'KRAS', u'DOID:4905')])\n",
      "=====\n",
      "civic: set([(u'EGFR', u'DOID:3910')])\n",
      "jax: set([(u'E|F|G|R', u'DOID:162')])\n",
      "=====\n",
      "civic: set([(u'BRAF', u'DOID:8923')])\n",
      "jax: set([(u'A|B|F|R', u'DOID:162')])\n",
      "=====\n",
      "civic: set([(u'FLT3', u'DOID:9119')])\n",
      "jax: set([(u'I|K|T', u'DOID:162')])\n",
      "=====\n",
      "cgi: set([(u'BRAF', u'DOID:3910')])\n",
      "civic: set([(u'BRAF', u'DOID:1909')])\n",
      "=====\n",
      "cgi: set([(u'ERBB4', u'DOID:8923')])\n",
      "jax: set([(u'4|B|B|E|R', u'DOID:1909'), (u'2|B|B|E|R', u'DOID:162')])\n",
      "=====\n",
      "civic: set([(u'NTRK1', u'DOID:1115')])\n",
      "jax: set([('', u'DOID:9119')])\n",
      "=====\n",
      "civic: set([(u'CBLC', u'DOID:162')])\n",
      "jax: set([(u'B|C|C|L', u'DOID:1612')])\n",
      "=====\n",
      "cgi: set([(u'KRAS', u'DOID:1324')])\n",
      "civic: set([(u'KRAS', u'DOID:9256'), (u'BRAF', u'DOID:1909'), (u'NRAS', u'DOID:1909')])\n",
      "=====\n",
      "civic: set([(u'ALK', u'DOID:3908')])\n",
      "pmkb: set([(u'ALK', u'DOID:299')])\n",
      "=====\n",
      "civic: set([(u'BRAF', u'DOID:9256'), (u'BRAF', u'DOID:2571'), (u'BRAF', u'DOID:3908')])\n",
      "jax: set([(u'A|B|F|R', u'DOID:9256')])\n",
      "=====\n",
      "cgi: set([(u'BRAF', u'DOID:0050861')])\n",
      "civic: set([(u'KRAS', u'DOID:9256'), (u'PIK3CA', u'DOID:9256'), (u'NRAS', u'DOID:9256')])\n",
      "=====\n",
      "cgi: set([(u'KIT', u'DOID:9253')])\n",
      "jax: set([(u'I|K|T', u'DOID:162'), (u'I|K|T', u'DOID:9253')])\n",
      "=====\n",
      "civic: set([(u'KIT', u'DOID:9253')])\n",
      "jax: set([(u'I|K|T', u'DOID:162'), (u'I|K|T', u'DOID:9253')])\n",
      "=====\n",
      "civic: set([(u'ALK', u'DOID:769')])\n",
      "jax: set([(u'A|K|L', u'DOID:162')])\n",
      "=====\n",
      "cgi: set([(u'MAP2K1', u'DOID:8923')])\n",
      "civic: set([(u'BRAF', u'DOID:1909')])\n",
      "=====\n",
      "cgi: set([(u'KRAS', u'DOID:0050861')])\n",
      "civic: set([(u'NRAS', u'DOID:9256')])\n",
      "=====\n",
      "cgi: set([(u'DDR2', u'DOID:3907')])\n",
      "civic: set([(u'DDR2', u'DOID:3908')])\n",
      "=====\n",
      "civic: set([(u'ALK', u'DOID:162'), (u'ALK', u'DOID:3908')])\n",
      "jax: set([(u'A|K|L', u'DOID:3908')])\n",
      "=====\n",
      "civic: set([(u'ALK', u'DOID:162'), (u'ALK', u'DOID:3908')])\n",
      "pmkb: set([(u'ALK', u'DOID:299')])\n",
      "=====\n",
      "jax: set([(u'A|K|L', u'DOID:3908')])\n",
      "pmkb: set([(u'ALK', u'DOID:299')])\n",
      "=====\n",
      "cgi: set([(u'KIT', u'DOID:8923')])\n",
      "jax: set([(u'I|K|T', u'DOID:1909')])\n",
      "=====\n",
      "jax: set([(u'A|K|L', u'DOID:162'), (u'A|K|L', u'DOID:3908')])\n",
      "oncokb: set([(u'ALK', u'DOID:162')])\n",
      "=====\n",
      "cgi: set([(u'BRCA1', u'DOID:3458'), (u'BRCA1', u'UBERON:0001264')])\n",
      "jax: set([(u'2|A|B|C|R', u'DOID:2394')])\n",
      "=====\n",
      "civic: set([(u'ATRX', u'DOID:3068')])\n",
      "jax: set([(u'A|R|T|X', u'DOID:3068')])\n",
      "=====\n",
      "cgi: set([(u'MET', u'DOID:3910')])\n",
      "jax: set([(u',|E|E|F|G|M|R|T', u'DOID:3910')])\n",
      "=====\n",
      "cgi: set([(u'MET', u'HP:0009733')])\n",
      "civic: set([(u'MET', u'DOID:3068')])\n",
      "=====\n",
      "jax: set([(u'A|K|L', u'DOID:162'), (u'A|K|L', u'DOID:0050744')])\n",
      "oncokb: set([(u'ALK', u'DOID:162')])\n",
      "=====\n",
      "cgi: set([(u'SF3B1', u'DOID:162')])\n",
      "civic: set([(u'SF3B1', u'DOID:1612')])\n",
      "=====\n",
      "cgi: set([(u'ABL1', u'DOID:162')])\n",
      "civic: set([(u'ABL1', u'DOID:8552')])\n",
      "=====\n",
      "cgi: set([(u'FGFR2', u'UBERON:0001295')])\n",
      "civic: set([(u'FGFR1', u'DOID:0060075')])\n",
      "=====\n",
      "cgi: set([(u'FGFR2', u'UBERON:0001295')])\n",
      "jax: set([(u'1|F|F|G|R', u'DOID:0060075'), (u'3|F|F|G|R', u'DOID:162'), (u'2|F|F|G|R', u'DOID:219'), (u'2|F|F|G|R', u'DOID:1380'), (u'1|F|F|G|R', u'DOID:162'), (u'2|F|F|G|R', u'DOID:0060076'), (u'3|F|F|G|R', u'DOID:11054')])\n",
      "=====\n",
      "civic: set([(u'FGFR1', u'DOID:0060075')])\n",
      "jax: set([(u'1|F|F|G|R', u'DOID:0060075'), (u'3|F|F|G|R', u'DOID:162'), (u'2|F|F|G|R', u'DOID:219'), (u'2|F|F|G|R', u'DOID:1380'), (u'1|F|F|G|R', u'DOID:162'), (u'2|F|F|G|R', u'DOID:0060076'), (u'3|F|F|G|R', u'DOID:11054')])\n",
      "=====\n",
      "civic: set([(u'BRAF', u'DOID:3908')])\n",
      "jax: set([(u'A|B|F|R', u'DOID:3908')])\n",
      "=====\n",
      "cgi: set([(u'ERBB2', u'DOID:3458')])\n",
      "civic: set([(u'ERBB2', u'DOID:1612')])\n",
      "=====\n",
      "cgi: set([(u'ERBB2', u'DOID:3458')])\n",
      "jax: set([(u'2|B|B|E|R', u'DOID:1612')])\n",
      "=====\n",
      "civic: set([(u'ERBB2', u'DOID:1612')])\n",
      "jax: set([(u'2|B|B|E|R', u'DOID:1612')])\n",
      "=====\n",
      "civic: set([(u'PIK3CA', u'DOID:1612')])\n",
      "jax: set([(u',|2|3|A|B|B|C|E|I|K|P|R', u'DOID:2394'), (u'2|B|B|E|R', u'DOID:1612'), (u',|2|3|A|B|B|C|E|I|K|P|R', u'DOID:1612'), (u',|A|A|B|F|K|R|R|S', u'DOID:1612')])\n",
      "=====\n",
      "cgi: set([(u'JAK1', u'DOID:8923')])\n",
      "civic: set([(u'B2M', u'DOID:8923'), (u'JAK2', u'DOID:8923')])\n",
      "=====\n",
      "cgi: set([(u'ERBB2', u'DOID:3458')])\n",
      "jax: set([(u'2|B|B|E|R', u'DOID:1612')])\n",
      "=====\n",
      "civic: set([(u'EGFR', u'DOID:3070')])\n",
      "pmkb: set([(u'EGFR', u'HP:0100843')])\n",
      "=====\n",
      "cgi: set([(u'NF1', u'HP:0009733')])\n",
      "sage: set([(u'NF1', u'DOID:1240')])\n",
      "=====\n",
      "civic: set([(u'EGFR', u'DOID:3908')])\n",
      "jax: set([(u'E|F|G|R', u'DOID:3908')])\n",
      "=====\n",
      "cgi: set([(u'POLE', u'HP:0009733')])\n",
      "civic: set([(u'POLE', u'DOID:3068')])\n",
      "=====\n",
      "cgi: set([(u'BRCA2', u'DOID:2526'), (u'FANCA', u'DOID:2526'), (u'CHEK2', u'DOID:2526')])\n",
      "jax: set([(u'2|A|B|C|R', u'DOID:10283')])\n",
      "=====\n",
      "cgi: set([(u'MAP2K1', u'DOID:8923')])\n",
      "civic: set([(u'MAP2K1', u'DOID:1909')])\n",
      "=====\n",
      "civic: set([(u'NPM1', u'DOID:9119')])\n",
      "pmkb: set([(u'IDH1', u'HP:0100843')])\n",
      "=====\n",
      "civic: set([(u'KDR', u'DOID:0001816')])\n",
      "jax: set([(u'D|K|R', u'DOID:162')])\n",
      "=====\n",
      "cgi: set([(u'PDGFRA', u'DOID:8923')])\n",
      "civic: set([(u'PDGFRA', u'DOID:1909')])\n",
      "=====\n",
      "cgi: set([(u'BRCA1', u'UBERON:0001264')])\n",
      "civic: set([(u'BRCA1', u'DOID:162')])\n",
      "=====\n",
      "cgi: set([(u'NTRK1', u'DOID:162')])\n",
      "civic: set([(u'NTRK3', u'DOID:162')])\n",
      "=====\n",
      "cgi: set([(u'NTRK1', u'DOID:162')])\n",
      "jax: set([(u'A|K|L', u'DOID:162')])\n",
      "=====\n",
      "civic: set([(u'NTRK3', u'DOID:162')])\n",
      "jax: set([(u'A|K|L', u'DOID:162')])\n",
      "=====\n",
      "civic: set([(u'FGFR2', u'DOID:5517')])\n",
      "jax: set([(u'2|F|F|G|R', u'DOID:10534')])\n",
      "=====\n",
      "cgi: set([(u'BRAF', u'DOID:162')])\n",
      "jax: set([(u'A|B|F|R', u'DOID:2394')])\n",
      "=====\n",
      "civic: set([(u'KRAS', u'DOID:9256'), (u'BRAF', u'DOID:1909')])\n",
      "jax: set([(u',|A|E|G|N|N|P|Q|T', u'DOID:1752')])\n",
      "=====\n",
      "civic: set([(u'KRAS', u'DOID:3908')])\n",
      "jax: set([(u'A|B|F|R', u'DOID:3908')])\n",
      "=====\n",
      "cgi: set([(u'EGFR', u'DOID:0050861')])\n",
      "jax: set([(u'E|F|G|R', u'DOID:9256')])\n",
      "=====\n",
      "cgi: set([(u'PTEN', u'DOID:1781')])\n",
      "jax: set([(u'A|B|F|R', u'DOID:219')])\n",
      "=====\n",
      "civic: set([(u'ERBB4', u'DOID:3908')])\n",
      "pmkb: set([(u'EGFR', u'DOID:299'), (u'EGFR', u'DOID:3908')])\n",
      "=====\n",
      "cgi: set([(u'IDH1', u'DOID:0050625')])\n",
      "jax: set([(u'1|D|H|I', u'DOID:3910'), (u',|1|C|D|H|I|R|S', u'DOID:4928')])\n",
      "=====\n",
      "civic: set([(u'IDH1', u'DOID:9119')])\n",
      "pmkb: set([(u'IDH1', u'DOID:4971'), (u'IDH1', u'DOID:0050908')])\n",
      "=====\n",
      "cgi: set([(u'BRAF', u'DOID:8923')])\n",
      "civic: set([(u'GNAQ', u'DOID:6039')])\n",
      "=====\n",
      "cgi: set([(u'FGFR3', u'DOID:0070004')])\n",
      "jax: set([(u',|3|A|F|F|G|H|R|R|S', u'DOID:2671'), ('', u'DOID:11054'), (u'2|F|F|G|R', u'DOID:1612'), (u'3|F|F|G|R', u'DOID:2671'), (u',|3|A|F|F|G|H|R|R|S', u'DOID:0070004'), (u'3|F|F|G|R', u'DOID:9538')])\n",
      "=====\n",
      "cgi: set([(u'EGFR|NF2', u'DOID:1324')])\n",
      "sage: set([(u'NF2', u'DOID:1324')])\n",
      "=====\n",
      "cgi: set([(u'EGFR', u'DOID:0050861')])\n",
      "civic: set([(u'EGFR', u'DOID:9256')])\n",
      "=====\n",
      "cgi: set([(u'EGFR', u'DOID:0050861')])\n",
      "jax: set([(u'E|F|G|R', u'DOID:9256')])\n",
      "=====\n",
      "civic: set([(u'EGFR', u'DOID:9256')])\n",
      "jax: set([(u'E|F|G|R', u'DOID:9256')])\n",
      "=====\n",
      "civic: set([(u'FGFR2', u'DOID:4947')])\n",
      "jax: set([('', u'DOID:162')])\n",
      "=====\n",
      "cgi: set([(u'MTOR', u'DOID:162')])\n",
      "civic: set([(u'MTOR', u'DOID:4467')])\n",
      "=====\n",
      "cgi: set([(u'POLE', u'HP:0009733')])\n",
      "civic: set([(u'PMS2', u'DOID:3068')])\n"
     ]
    }
   ],
   "source": [
    "def g_p_associations(associations):\n",
    "    new_assoc = list()\n",
    "    for association in associations:\n",
    "        new_assoc.append((association['gene'], association['phenotype']))\n",
    "    return set(new_assoc)\n",
    "\n",
    "source_pairs = Counter()\n",
    "pair_complete_matches = Counter()\n",
    "pair_partial_matches = Counter()\n",
    "pair_no_matches = Counter()\n",
    "for pmid, source_dict in multi_hit_normalized.items():\n",
    "    sources = sorted(source_dict)\n",
    "    for i, source in enumerate(sources, start=1):\n",
    "        for j in range(i, len(sources)):\n",
    "            source2 = sources[j]\n",
    "            source_pairs[(source, source2)] += 1\n",
    "            source_gp_assoc = g_p_associations(source_dict[source])\n",
    "            source2_gp_assoc = g_p_associations(source_dict[source2])\n",
    "            if source_gp_assoc == source2_gp_assoc:\n",
    "                pair_complete_matches[(source, source2)] += 1\n",
    "            elif any(source_gp_assoc & source2_gp_assoc):\n",
    "                pair_partial_matches[(source, source2)] += 1\n",
    "            else:\n",
    "                pair_no_matches[(source, source2)] += 1\n",
    "                print(\"=====\\n{}: {}\\n{}: {}\".format(source, source_gp_assoc, source2, source2_gp_assoc))"
   ]
  },
  {
   "cell_type": "code",
   "execution_count": 62,
   "metadata": {
    "collapsed": false
   },
   "outputs": [
    {
     "name": "stdout",
     "output_type": "stream",
     "text": [
      "Counter({(u'cgi', u'sage'): 5, (u'cgi', u'civic'): 3})\n",
      "Counter({(u'cgi', u'civic'): 1})\n",
      "Counter({(u'civic', u'jax'): 31, (u'cgi', u'civic'): 27, (u'cgi', u'jax'): 21, (u'civic', u'pmkb'): 10, (u'jax', u'pmkb'): 4, (u'cgi', u'sage'): 2, (u'jax', u'oncokb'): 2})\n"
     ]
    }
   ],
   "source": [
    "print(pair_complete_matches)\n",
    "print(pair_partial_matches)\n",
    "print(pair_no_matches)"
   ]
  },
  {
   "cell_type": "code",
   "execution_count": null,
   "metadata": {
    "collapsed": true
   },
   "outputs": [],
   "source": []
  },
  {
   "cell_type": "code",
   "execution_count": null,
   "metadata": {
    "collapsed": true
   },
   "outputs": [],
   "source": []
  },
  {
   "cell_type": "code",
   "execution_count": null,
   "metadata": {
    "collapsed": true
   },
   "outputs": [],
   "source": []
  }
 ],
 "metadata": {
  "anaconda-cloud": {},
  "kernelspec": {
   "display_name": "Python 2",
   "language": "python",
   "name": "python2"
  },
  "language_info": {
   "codemirror_mode": {
    "name": "ipython",
    "version": 2
   },
   "file_extension": ".py",
   "mimetype": "text/x-python",
   "name": "python",
   "nbconvert_exporter": "python",
   "pygments_lexer": "ipython2",
   "version": "2.7.13"
  }
 },
 "nbformat": 4,
 "nbformat_minor": 2
}
