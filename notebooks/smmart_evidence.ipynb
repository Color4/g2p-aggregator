{
 "cells": [
  {
   "cell_type": "code",
   "execution_count": 1,
   "metadata": {},
   "outputs": [
    {
     "name": "stdout",
     "output_type": "stream",
     "text": [
      "env: BIOONTOLOGY_API_KEY=fb76114e-2eff-4a05-9a2e-eba5b9fb6f0e\n"
     ]
    }
   ],
   "source": [
    "# !jupyter nbextension enable --py --sys-prefix widgetsnbextension\n",
    "# !jupyter nbextension enable --py --sys-prefix qgrid\n",
    "import pandas as pd\n",
    "import numpy as np\n",
    "import matplotlib.pyplot as plt\n",
    "import qgrid\n",
    "import g2p_client\n",
    "from IPython.display import IFrame    \n",
    "import re\n",
    "from IPython.display import Javascript\n",
    "\n",
    "%env BIOONTOLOGY_API_KEY=fb76114e-2eff-4a05-9a2e-eba5b9fb6f0e\n",
    "\n",
    " \n"
   ]
  },
  {
   "cell_type": "code",
   "execution_count": 2,
   "metadata": {},
   "outputs": [],
   "source": [
    "patient_features = [{'description': '', 'start': 27100988L, 'biomarker_type': 'substitution', 'referenceName': 'GRCh37', 'geneSymbol': 'ARID1A', 'alt': 'T', 'ref': 'C', 'chromosome': '1', 'name': 'ARID1A '}, {'description': '', 'start': 204494718L, 'biomarker_type': 'substitution', 'referenceName': 'GRCh37', 'geneSymbol': 'MDM4', 'alt': 'G', 'ref': 'C', 'chromosome': '1', 'name': 'MDM4 '}, {'description': '', 'start': 30143341L, 'biomarker_type': 'substitution', 'referenceName': 'GRCh37', 'geneSymbol': 'ALK', 'alt': 'A', 'ref': 'G', 'chromosome': '2', 'name': 'ALK '}, {'description': '', 'start': 48028096L, 'biomarker_type': 'substitution', 'referenceName': 'GRCh37', 'geneSymbol': 'MSH6', 'alt': 'C', 'ref': 'G', 'chromosome': '2', 'name': 'MSH6 '}, {'description': '', 'start': 10084764L, 'biomarker_type': 'substitution', 'referenceName': 'GRCh37', 'geneSymbol': 'FANCD2', 'alt': 'G', 'ref': 'C', 'chromosome': '3', 'name': 'FANCD2 '}, {'description': '', 'start': 142185372L, 'biomarker_type': 'substitution', 'referenceName': 'GRCh37', 'geneSymbol': 'ATR', 'alt': 'G', 'ref': 'C', 'chromosome': '3', 'name': 'ATR '}, {'description': '', 'start': 178916923L, 'biomarker_type': 'indel', 'referenceName': 'GRCh37', 'geneSymbol': 'PIK3CA', 'alt': 'C', 'ref': 'CCAGTAG', 'chromosome': '3', 'name': 'PIK3CA '}, {'description': '', 'start': 117647566L, 'biomarker_type': 'substitution', 'referenceName': 'GRCh37', 'geneSymbol': 'ROS1', 'alt': 'C', 'ref': 'G', 'chromosome': '6', 'name': 'ROS1 '}, {'description': '', 'start': 87285753L, 'biomarker_type': 'substitution', 'referenceName': 'GRCh37', 'geneSymbol': 'NTRK2', 'alt': 'G', 'ref': 'C', 'chromosome': '9', 'name': 'NTRK2 '}, {'description': '', 'start': 108106483L, 'biomarker_type': 'substitution', 'referenceName': 'GRCh37', 'geneSymbol': 'ATM', 'alt': 'C', 'ref': 'G', 'chromosome': '11', 'name': 'ATM '}, {'description': '', 'start': 45618180L, 'biomarker_type': 'substitution', 'referenceName': 'GRCh37', 'geneSymbol': 'FANCM', 'alt': 'G', 'ref': 'C', 'chromosome': '14', 'name': 'FANCM '}, {'description': '', 'start': 45644454L, 'biomarker_type': 'substitution', 'referenceName': 'GRCh37', 'geneSymbol': 'FANCM', 'alt': 'C', 'ref': 'G', 'chromosome': '14', 'name': 'FANCM '}, {'description': '', 'start': 2110733L, 'biomarker_type': 'substitution', 'referenceName': 'GRCh37', 'geneSymbol': 'TSC2', 'alt': 'G', 'ref': 'C', 'chromosome': '16', 'name': 'TSC2 '}, {'description': 'GAIN Copy Number Ratio 3.0528', 'start': 39771328L, 'biomarker_type': 'copy_number_variation', 'referenceName': 'GRCh37', 'geneSymbol': 'IDO1', 'alt': '', 'ref': '', 'chromosome': '8', 'name': 'IDO1 '}, {'description': 'GAIN Copy Number Ratio 5.3306', 'start': 39792474L, 'biomarker_type': 'copy_number_variation', 'referenceName': 'GRCh37', 'geneSymbol': 'IDO2', 'alt': '', 'ref': '', 'chromosome': '8', 'name': 'IDO2 '}, {'description': 'LOSS Copy Number Ratio 0.3497', 'start': 21967751L, 'biomarker_type': 'copy_number_variation', 'referenceName': 'GRCh37', 'geneSymbol': 'CDKN2A', 'alt': '', 'ref': '', 'chromosome': '9', 'name': 'CDKN2A '}, {'description': 'GAIN Copy Number Ratio 7.5539', 'start': 38268656L, 'biomarker_type': 'copy_number_variation', 'referenceName': 'GRCh37', 'geneSymbol': 'FGFR1', 'alt': '', 'ref': '', 'chromosome': '8', 'name': 'FGFR1 '}, {'description': 'LOSS Copy Number Ratio 0.5662', 'start': 89623195L, 'biomarker_type': 'copy_number_variation', 'referenceName': 'GRCh37', 'geneSymbol': 'PTEN', 'alt': '', 'ref': '', 'chromosome': '10', 'name': 'PTEN '}, {'description': 'GAIN Copy Number Ratio 2.883', 'start': 69455873L, 'biomarker_type': 'copy_number_variation', 'referenceName': 'GRCh37', 'geneSymbol': 'CCND1', 'alt': '', 'ref': '', 'chromosome': '11', 'name': 'CCND1 '}, {'description': 'GAIN Copy Number Ratio 2.0415', 'start': 128748315L, 'biomarker_type': 'copy_number_variation', 'referenceName': 'GRCh37', 'geneSymbol': 'MYC', 'alt': '', 'ref': '', 'chromosome': '8', 'name': 'MYC '}]  # NOQA"
   ]
  },
  {
   "cell_type": "code",
   "execution_count": 3,
   "metadata": {},
   "outputs": [],
   "source": [
    "def to_df(generator):\n",
    "    \n",
    "    def to_dict(generator):\n",
    "        for hit in generator:\n",
    "            drugs = [ec['term'].encode('utf-8') for ec in hit['association']['environmentalContexts']]\n",
    "            description = hit['association']['description'].encode('utf-8')\n",
    "            source = hit['source'].encode('utf-8')\n",
    "            evidence_label = hit['association']['evidence_label']\n",
    "            id = hit['evidence.id']\n",
    "            phenotype = hit['association']['phenotype']['type']['term'].encode('utf-8')\n",
    "            publications = []\n",
    "            for e in hit['association']['evidence']:\n",
    "                for p in e['info']['publications']:\n",
    "                    publications.append(p)\n",
    "            yield {'id':id, 'source': source, 'evidence_label': evidence_label, 'drugs': drugs ,'description': description, 'phenotype':phenotype, 'publications':publications }\n",
    "    \n",
    "    try:        \n",
    "        return pd.DataFrame.from_records( to_dict(generator) , index='id')\n",
    "    except:\n",
    "        return pd.DataFrame()\n",
    "    \n",
    "\n",
    "def allele_identifier(feature_associations):\n",
    "    is_HG37 = re.compile('NC_.*\\.10:g')    \n",
    "    for fa in feature_associations:\n",
    "        for f in fa['features']:\n",
    "            for s in f.get('synonyms', []):\n",
    "                if is_HG37.match(s):\n",
    "                    return s\n",
    "            return '{} {} {}'.format(f['geneSymbol'], f['start'], f['sequence_ontology']['name'])\n",
    "    "
   ]
  },
  {
   "cell_type": "code",
   "execution_count": 4,
   "metadata": {},
   "outputs": [
    {
     "name": "stderr",
     "output_type": "stream",
     "text": [
      "WARNING:root:normalize_drugs NODRUGS ad-hoc\n"
     ]
    },
    {
     "name": "stdout",
     "output_type": "stream",
     "text": [
      "http://reg.genome.network/allele?hgvs=NC_000001.10%3Ag.27100988C%3ET\n",
      "https://grch37.rest.ensembl.org/vep/human/hgvs/ENSP00000478955.1:p.Gln1040Ter?domains=1&protein=1&uniprot=1\n",
      "{u'error': u\"Unable to parse HGVS notation 'ENSP00000478955.1:p.Gln1040Ter': Could not get a Transcript object for 'ENSP00000478955'\"} https://grch37.rest.ensembl.org/vep/human/hgvs/ENSP00000478955.1:p.Gln1040Ter?domains=1&protein=1&uniprot=1\n",
      "https://grch37.rest.ensembl.org/vep/human/hgvs/ENSP00000363267.2:p.Gln1041Ter?domains=1&protein=1&uniprot=1\n",
      "https://grch37.rest.ensembl.org/vep/human/hgvs/ENSP00000320485.7:p.Gln1424Ter?domains=1&protein=1&uniprot=1\n",
      "http://www.pathwaycommons.org/pc2/search.json?q=O14497&organism=homo%20sapiens\n"
     ]
    },
    {
     "name": "stderr",
     "output_type": "stream",
     "text": [
      "WARNING:root:normalize_drugs NODRUGS ad-hoc\n"
     ]
    },
    {
     "name": "stdout",
     "output_type": "stream",
     "text": [
      "http://reg.genome.network/allele?hgvs=NC_000001.10%3Ag.204494718C%3EG\n",
      "https://grch37.rest.ensembl.org/vep/human/hgvs/ENSP00000356148.1:p.Ile24Met?domains=1&protein=1&uniprot=1\n",
      "https://grch37.rest.ensembl.org/vep/human/hgvs/ENSP00000396840.2:p.Ile24Met?domains=1&protein=1&uniprot=1\n",
      "https://grch37.rest.ensembl.org/vep/human/hgvs/ENSP00000443816.2:p.Ile24Met?domains=1&protein=1&uniprot=1\n",
      "https://grch37.rest.ensembl.org/vep/human/hgvs/ENSP00000478080.1:p.Ile24Met?domains=1&protein=1&uniprot=1\n",
      "{u'error': u\"Unable to parse HGVS notation 'ENSP00000478080.1:p.Ile24Met': Could not get a Transcript object for 'ENSP00000478080'\"} https://grch37.rest.ensembl.org/vep/human/hgvs/ENSP00000478080.1:p.Ile24Met?domains=1&protein=1&uniprot=1\n",
      "https://grch37.rest.ensembl.org/vep/human/hgvs/ENSP00000478581.1:p.Ile24Met?domains=1&protein=1&uniprot=1\n",
      "{u'error': u\"Unable to parse HGVS notation 'ENSP00000478581.1:p.Ile24Met': Could not get a Transcript object for 'ENSP00000478581'\"} https://grch37.rest.ensembl.org/vep/human/hgvs/ENSP00000478581.1:p.Ile24Met?domains=1&protein=1&uniprot=1\n",
      "https://grch37.rest.ensembl.org/vep/human/hgvs/ENSP00000356151.3:p.Ile24Met?domains=1&protein=1&uniprot=1\n",
      "https://grch37.rest.ensembl.org/vep/human/hgvs/ENSP00000375811.2:p.Ile24Met?domains=1&protein=1&uniprot=1\n",
      "https://grch37.rest.ensembl.org/vep/human/hgvs/ENSP00000482479.1:p.Ile24Met?domains=1&protein=1&uniprot=1\n",
      "{u'error': u\"Unable to parse HGVS notation 'ENSP00000482479.1:p.Ile24Met': Could not get a Transcript object for 'ENSP00000482479'\"} https://grch37.rest.ensembl.org/vep/human/hgvs/ENSP00000482479.1:p.Ile24Met?domains=1&protein=1&uniprot=1\n",
      "https://grch37.rest.ensembl.org/vep/human/hgvs/ENSP00000356150.3:p.Ile24Met?domains=1&protein=1&uniprot=1\n",
      "https://grch37.rest.ensembl.org/vep/human/hgvs/ENSP00000482388.1:p.Ile24Met?domains=1&protein=1&uniprot=1\n",
      "{u'error': u\"Unable to parse HGVS notation 'ENSP00000482388.1:p.Ile24Met': Could not get a Transcript object for 'ENSP00000482388'\"} https://grch37.rest.ensembl.org/vep/human/hgvs/ENSP00000482388.1:p.Ile24Met?domains=1&protein=1&uniprot=1\n",
      "http://www.pathwaycommons.org/pc2/search.json?q=O15151&organism=homo%20sapiens\n"
     ]
    },
    {
     "name": "stderr",
     "output_type": "stream",
     "text": [
      "WARNING:root:normalize_drugs NODRUGS ad-hoc\n"
     ]
    },
    {
     "name": "stdout",
     "output_type": "stream",
     "text": [
      "http://reg.genome.network/allele?hgvs=NC_000002.11%3Ag.30143341G%3EA\n",
      "https://grch37.rest.ensembl.org/vep/human/hgvs/ENSP00000373700.3:p.Ser62Leu?domains=1&protein=1&uniprot=1\n",
      "http://www.pathwaycommons.org/pc2/search.json?q=Q9UM73&organism=homo%20sapiens\n"
     ]
    },
    {
     "name": "stderr",
     "output_type": "stream",
     "text": [
      "WARNING:root:normalize_drugs NODRUGS ad-hoc\n"
     ]
    },
    {
     "name": "stdout",
     "output_type": "stream",
     "text": [
      "http://reg.genome.network/allele?hgvs=NC_000002.11%3Ag.48028096G%3EC\n",
      "https://grch37.rest.ensembl.org/vep/human/hgvs/ENSP00000438580.1:p.Glu690Gln?domains=1&protein=1&uniprot=1\n",
      "https://grch37.rest.ensembl.org/vep/human/hgvs/ENSP00000480261.1:p.Glu991Gln?domains=1&protein=1&uniprot=1\n",
      "{u'error': u\"Unable to parse HGVS notation 'ENSP00000480261.1:p.Glu991Gln': Could not get a Transcript object for 'ENSP00000480261'\"} https://grch37.rest.ensembl.org/vep/human/hgvs/ENSP00000480261.1:p.Glu991Gln?domains=1&protein=1&uniprot=1\n",
      "https://grch37.rest.ensembl.org/vep/human/hgvs/ENSP00000446475.1:p.Glu862Gln?domains=1&protein=1&uniprot=1\n",
      "https://grch37.rest.ensembl.org/vep/human/hgvs/ENSP00000477844.1:p.Glu690Gln?domains=1&protein=1&uniprot=1\n",
      "{u'error': u\"Unable to parse HGVS notation 'ENSP00000477844.1:p.Glu690Gln': Could not get a Transcript object for 'ENSP00000477844'\"} https://grch37.rest.ensembl.org/vep/human/hgvs/ENSP00000477844.1:p.Glu690Gln?domains=1&protein=1&uniprot=1\n",
      "https://grch37.rest.ensembl.org/vep/human/hgvs/ENSP00000234420.4:p.Glu992Gln?domains=1&protein=1&uniprot=1\n",
      "http://www.pathwaycommons.org/pc2/search.json?q=P52701&organism=homo%20sapiens\n"
     ]
    },
    {
     "name": "stderr",
     "output_type": "stream",
     "text": [
      "WARNING:root:normalize_drugs NODRUGS ad-hoc\n"
     ]
    },
    {
     "name": "stdout",
     "output_type": "stream",
     "text": [
      "http://reg.genome.network/allele?hgvs=NC_000003.11%3Ag.10084764C%3EG\n",
      "https://grch37.rest.ensembl.org/vep/human/hgvs/ENSP00000287647.3:p.Leu307Val?domains=1&protein=1&uniprot=1\n",
      "https://grch37.rest.ensembl.org/vep/human/hgvs/ENSP00000398754.1:p.Leu307Val?domains=1&protein=1&uniprot=1\n",
      "https://grch37.rest.ensembl.org/vep/human/hgvs/ENSP00000373318.1:p.Leu307Val?domains=1&protein=1&uniprot=1\n",
      "http://www.pathwaycommons.org/pc2/search.json?q=Q9BXW9&organism=homo%20sapiens\n"
     ]
    },
    {
     "name": "stderr",
     "output_type": "stream",
     "text": [
      "WARNING:root:normalize_drugs NODRUGS ad-hoc\n"
     ]
    },
    {
     "name": "stdout",
     "output_type": "stream",
     "text": [
      "http://reg.genome.network/allele?hgvs=NC_000003.11%3Ag.142185372C%3EG\n",
      "https://grch37.rest.ensembl.org/vep/human/hgvs/ENSP00000343741.4:p.Asp2231His?domains=1&protein=1&uniprot=1\n",
      "http://www.pathwaycommons.org/pc2/search.json?q=Q13535&organism=homo%20sapiens\n"
     ]
    },
    {
     "name": "stderr",
     "output_type": "stream",
     "text": [
      "WARNING:root:normalize_drugs NODRUGS ad-hoc\n"
     ]
    },
    {
     "name": "stdout",
     "output_type": "stream",
     "text": [
      "http://reg.genome.network/allele?hgvs=NC_000003.11%3Ag.178916923delinsC\n"
     ]
    },
    {
     "name": "stderr",
     "output_type": "stream",
     "text": [
      "WARNING:root:normalize_drugs NODRUGS ad-hoc\n"
     ]
    },
    {
     "name": "stdout",
     "output_type": "stream",
     "text": [
      "http://reg.genome.network/allele?hgvs=NC_000006.11%3Ag.117647566G%3EC\n",
      "https://grch37.rest.ensembl.org/vep/human/hgvs/ENSP00000357493.3:p.Ser1787Ter?domains=1&protein=1&uniprot=1\n",
      "{u'error': u\"Unable to parse HGVS notation 'ENSP00000357493.3:p.Ser1787Ter':  : Could not uniquely determine nucleotide change from ENSP00000357493.3:p.Ser1787Ter: Could not get a Transcript object for 'ENSP00000357493'\"} https://grch37.rest.ensembl.org/vep/human/hgvs/ENSP00000357493.3:p.Ser1787Ter?domains=1&protein=1&uniprot=1\n",
      "https://grch37.rest.ensembl.org/vep/human/hgvs/ENSP00000357494.3:p.Ser1793Ter?domains=1&protein=1&uniprot=1\n",
      "{u'error': u\"Unable to parse HGVS notation 'ENSP00000357494.3:p.Ser1793Ter':  : Could not uniquely determine nucleotide change from ENSP00000357494.3:p.Ser1793Ter: Could not get a Transcript object for 'ENSP00000357494'\"} https://grch37.rest.ensembl.org/vep/human/hgvs/ENSP00000357494.3:p.Ser1793Ter?domains=1&protein=1&uniprot=1\n"
     ]
    },
    {
     "name": "stderr",
     "output_type": "stream",
     "text": [
      "WARNING:root:normalize_drugs NODRUGS ad-hoc\n"
     ]
    },
    {
     "name": "stdout",
     "output_type": "stream",
     "text": [
      "http://reg.genome.network/allele?hgvs=NC_000009.11%3Ag.87285753C%3EG\n",
      "https://grch37.rest.ensembl.org/vep/human/hgvs/ENSP00000365386.1:p.Phe30Leu?domains=1&protein=1&uniprot=1\n",
      "{u'error': u\"Unable to parse HGVS notation 'ENSP00000365386.1:p.Phe30Leu':  : Could not uniquely determine nucleotide change from ENSP00000365386.1:p.Phe30Leu: Could not get a Transcript object for 'ENSP00000365386'\"} https://grch37.rest.ensembl.org/vep/human/hgvs/ENSP00000365386.1:p.Phe30Leu?domains=1&protein=1&uniprot=1\n",
      "https://grch37.rest.ensembl.org/vep/human/hgvs/ENSP00000277120.3:p.Phe30Leu?domains=1&protein=1&uniprot=1\n",
      "{u'error': u\"Unable to parse HGVS notation 'ENSP00000277120.3:p.Phe30Leu':  : Could not uniquely determine nucleotide change from ENSP00000277120.3:p.Phe30Leu: Could not get a Transcript object for 'ENSP00000277120'\"} https://grch37.rest.ensembl.org/vep/human/hgvs/ENSP00000277120.3:p.Phe30Leu?domains=1&protein=1&uniprot=1\n",
      "https://grch37.rest.ensembl.org/vep/human/hgvs/ENSP00000365381.1:p.Phe30Leu?domains=1&protein=1&uniprot=1\n",
      "{u'error': u\"Unable to parse HGVS notation 'ENSP00000365381.1:p.Phe30Leu':  : Could not uniquely determine nucleotide change from ENSP00000365381.1:p.Phe30Leu: Could not get a Transcript object for 'ENSP00000365381'\"} https://grch37.rest.ensembl.org/vep/human/hgvs/ENSP00000365381.1:p.Phe30Leu?domains=1&protein=1&uniprot=1\n",
      "https://grch37.rest.ensembl.org/vep/human/hgvs/ENSP00000352906.3:p.Phe30Leu?domains=1&protein=1&uniprot=1\n",
      "{u'error': u\"Unable to parse HGVS notation 'ENSP00000352906.3:p.Phe30Leu':  : Could not uniquely determine nucleotide change from ENSP00000352906.3:p.Phe30Leu: Could not get a Transcript object for 'ENSP00000352906'\"} https://grch37.rest.ensembl.org/vep/human/hgvs/ENSP00000352906.3:p.Phe30Leu?domains=1&protein=1&uniprot=1\n",
      "https://grch37.rest.ensembl.org/vep/human/hgvs/ENSP00000365387.1:p.Phe30Leu?domains=1&protein=1&uniprot=1\n",
      "{u'error': u\"Unable to parse HGVS notation 'ENSP00000365387.1:p.Phe30Leu':  : Could not uniquely determine nucleotide change from ENSP00000365387.1:p.Phe30Leu: Could not get a Transcript object for 'ENSP00000365387'\"} https://grch37.rest.ensembl.org/vep/human/hgvs/ENSP00000365387.1:p.Phe30Leu?domains=1&protein=1&uniprot=1\n",
      "https://grch37.rest.ensembl.org/vep/human/hgvs/ENSP00000379221.1:p.Phe30Leu?domains=1&protein=1&uniprot=1\n",
      "{u'error': u\"Unable to parse HGVS notation 'ENSP00000379221.1:p.Phe30Leu':  : Could not uniquely determine nucleotide change from ENSP00000379221.1:p.Phe30Leu: Could not get a Transcript object for 'ENSP00000379221'\"} https://grch37.rest.ensembl.org/vep/human/hgvs/ENSP00000379221.1:p.Phe30Leu?domains=1&protein=1&uniprot=1\n",
      "https://grch37.rest.ensembl.org/vep/human/hgvs/ENSP00000306167.6:p.Phe30Leu?domains=1&protein=1&uniprot=1\n",
      "{u'error': u\"Unable to parse HGVS notation 'ENSP00000306167.6:p.Phe30Leu':  : Could not uniquely determine nucleotide change from ENSP00000306167.6:p.Phe30Leu: Could not get a Transcript object for 'ENSP00000306167'\"} https://grch37.rest.ensembl.org/vep/human/hgvs/ENSP00000306167.6:p.Phe30Leu?domains=1&protein=1&uniprot=1\n",
      "https://grch37.rest.ensembl.org/vep/human/hgvs/ENSP00000314586.4:p.Phe30Leu?domains=1&protein=1&uniprot=1\n",
      "{u'error': u\"Unable to parse HGVS notation 'ENSP00000314586.4:p.Phe30Leu':  : Could not uniquely determine nucleotide change from ENSP00000314586.4:p.Phe30Leu: Could not get a Transcript object for 'ENSP00000314586'\"} https://grch37.rest.ensembl.org/vep/human/hgvs/ENSP00000314586.4:p.Phe30Leu?domains=1&protein=1&uniprot=1\n"
     ]
    },
    {
     "name": "stderr",
     "output_type": "stream",
     "text": [
      "WARNING:root:normalize_drugs NODRUGS ad-hoc\n"
     ]
    },
    {
     "name": "stdout",
     "output_type": "stream",
     "text": [
      "http://reg.genome.network/allele?hgvs=NC_000011.9%3Ag.108106483G%3EC\n",
      "https://grch37.rest.ensembl.org/vep/human/hgvs/ENSP00000483338.1:p.Asp140His?domains=1&protein=1&uniprot=1\n",
      "{u'error': u\"Unable to parse HGVS notation 'ENSP00000483338.1:p.Asp140His': Could not get a Transcript object for 'ENSP00000483338'\"} https://grch37.rest.ensembl.org/vep/human/hgvs/ENSP00000483338.1:p.Asp140His?domains=1&protein=1&uniprot=1\n",
      "https://grch37.rest.ensembl.org/vep/human/hgvs/ENSP00000278616.4:p.Asp140His?domains=1&protein=1&uniprot=1\n",
      "https://grch37.rest.ensembl.org/vep/human/hgvs/ENSP00000435747.1:p.Asp140His?domains=1&protein=1&uniprot=1\n",
      "https://grch37.rest.ensembl.org/vep/human/hgvs/ENSP00000388058.2:p.Asp140His?domains=1&protein=1&uniprot=1\n",
      "http://www.pathwaycommons.org/pc2/search.json?q=Q13315&organism=homo%20sapiens\n"
     ]
    },
    {
     "name": "stderr",
     "output_type": "stream",
     "text": [
      "WARNING:elasticsearch:GET http://elastic:9200/_search/scroll?scroll=5m [status:N/A request:10.033s]\n",
      "Traceback (most recent call last):\n",
      "  File \"/opt/conda/lib/python2.7/site-packages/elasticsearch/connection/http_urllib3.py\", line 114, in perform_request\n",
      "    response = self.pool.urlopen(method, url, body, retries=False, headers=self.headers, **kw)\n",
      "  File \"/opt/conda/lib/python2.7/site-packages/urllib3/connectionpool.py\", line 639, in urlopen\n",
      "    _stacktrace=sys.exc_info()[2])\n",
      "  File \"/opt/conda/lib/python2.7/site-packages/urllib3/util/retry.py\", line 333, in increment\n",
      "    raise six.reraise(type(error), error, _stacktrace)\n",
      "  File \"/opt/conda/lib/python2.7/site-packages/urllib3/connectionpool.py\", line 601, in urlopen\n",
      "    chunked=chunked)\n",
      "  File \"/opt/conda/lib/python2.7/site-packages/urllib3/connectionpool.py\", line 389, in _make_request\n",
      "    self._raise_timeout(err=e, url=url, timeout_value=read_timeout)\n",
      "  File \"/opt/conda/lib/python2.7/site-packages/urllib3/connectionpool.py\", line 309, in _raise_timeout\n",
      "    raise ReadTimeoutError(self, url, \"Read timed out. (read timeout=%s)\" % timeout_value)\n",
      "ReadTimeoutError: HTTPConnectionPool(host='elastic', port=9200): Read timed out. (read timeout=10)\n",
      "WARNING:root:normalize_drugs NODRUGS ad-hoc\n"
     ]
    },
    {
     "name": "stdout",
     "output_type": "stream",
     "text": [
      "http://reg.genome.network/allele?hgvs=NC_000014.8%3Ag.45618180C%3EG\n",
      "https://grch37.rest.ensembl.org/vep/human/hgvs/ENSP00000442493.2:p.Ile274Met?domains=1&protein=1&uniprot=1\n",
      "https://grch37.rest.ensembl.org/vep/human/hgvs/ENSP00000267430.5:p.Ile300Met?domains=1&protein=1&uniprot=1\n",
      "https://grch37.rest.ensembl.org/vep/human/hgvs/ENSP00000450596.1:p.Ile300Met?domains=1&protein=1&uniprot=1\n",
      "http://www.pathwaycommons.org/pc2/search.json?q=Q8IYD8&organism=homo%20sapiens\n"
     ]
    },
    {
     "name": "stderr",
     "output_type": "stream",
     "text": [
      "WARNING:root:normalize_drugs NODRUGS ad-hoc\n"
     ]
    },
    {
     "name": "stdout",
     "output_type": "stream",
     "text": [
      "http://reg.genome.network/allele?hgvs=NC_000014.8%3Ag.45644454G%3EC\n",
      "https://grch37.rest.ensembl.org/vep/human/hgvs/ENSP00000267430.5:p.Asp833His?domains=1&protein=1&uniprot=1\n",
      "https://grch37.rest.ensembl.org/vep/human/hgvs/ENSP00000452033.1:p.Asp349His?domains=1&protein=1&uniprot=1\n",
      "https://grch37.rest.ensembl.org/vep/human/hgvs/ENSP00000442493.2:p.Asp807His?domains=1&protein=1&uniprot=1\n",
      "http://www.pathwaycommons.org/pc2/search.json?q=Q8IYD8&organism=homo%20sapiens\n"
     ]
    },
    {
     "name": "stderr",
     "output_type": "stream",
     "text": [
      "WARNING:root:normalize_drugs NODRUGS ad-hoc\n"
     ]
    },
    {
     "name": "stdout",
     "output_type": "stream",
     "text": [
      "http://reg.genome.network/allele?hgvs=NC_000016.9%3Ag.2110733C%3EG\n",
      "https://grch37.rest.ensembl.org/vep/human/hgvs/ENSP00000344383.4:p.Ile346Met?domains=1&protein=1&uniprot=1\n",
      "https://grch37.rest.ensembl.org/vep/human/hgvs/ENSP00000371978.6:p.Ile297Met?domains=1&protein=1&uniprot=1\n",
      "https://grch37.rest.ensembl.org/vep/human/hgvs/ENSP00000219476.3:p.Ile346Met?domains=1&protein=1&uniprot=1\n",
      "https://grch37.rest.ensembl.org/vep/human/hgvs/ENSP00000399232.2:p.Ile309Met?domains=1&protein=1&uniprot=1\n",
      "https://grch37.rest.ensembl.org/vep/human/hgvs/ENSP00000384468.2:p.Ile346Met?domains=1&protein=1&uniprot=1\n",
      "https://grch37.rest.ensembl.org/vep/human/hgvs/ENSP00000454487.1:p.Ile357Met?domains=1&protein=1&uniprot=1\n",
      "http://www.pathwaycommons.org/pc2/search.json?q=P49815&organism=homo%20sapiens\n"
     ]
    },
    {
     "name": "stderr",
     "output_type": "stream",
     "text": [
      "WARNING:root:normalize_drugs NODRUGS ad-hoc\n"
     ]
    },
    {
     "name": "stdout",
     "output_type": "stream",
     "text": [
      "http://reg.genome.network/allele?hgvs=NC_000008.10%3Ag.39771328%3D\n"
     ]
    },
    {
     "name": "stderr",
     "output_type": "stream",
     "text": [
      "WARNING:root:normalize_drugs NODRUGS ad-hoc\n",
      "WARNING:root:normalize_drugs NODRUGS ad-hoc\n"
     ]
    },
    {
     "name": "stdout",
     "output_type": "stream",
     "text": [
      "http://reg.genome.network/allele?hgvs=NC_000008.10%3Ag.39792474%3D\n",
      "http://reg.genome.network/allele?hgvs=NC_000009.11%3Ag.21967751%3D\n"
     ]
    },
    {
     "name": "stderr",
     "output_type": "stream",
     "text": [
      "WARNING:root:normalize_drugs NODRUGS ad-hoc\n"
     ]
    },
    {
     "name": "stdout",
     "output_type": "stream",
     "text": [
      "http://reg.genome.network/allele?hgvs=NC_000008.10%3Ag.38268656%3D\n"
     ]
    },
    {
     "name": "stderr",
     "output_type": "stream",
     "text": [
      "WARNING:root:normalize_drugs NODRUGS ad-hoc\n"
     ]
    },
    {
     "name": "stdout",
     "output_type": "stream",
     "text": [
      "http://reg.genome.network/allele?hgvs=NC_000010.10%3Ag.89623195%3D\n"
     ]
    },
    {
     "name": "stderr",
     "output_type": "stream",
     "text": [
      "WARNING:root:normalize_drugs NODRUGS ad-hoc\n"
     ]
    },
    {
     "name": "stdout",
     "output_type": "stream",
     "text": [
      "http://reg.genome.network/allele?hgvs=NC_000011.9%3Ag.69455873%3D\n"
     ]
    },
    {
     "name": "stderr",
     "output_type": "stream",
     "text": [
      "WARNING:root:normalize_drugs NODRUGS ad-hoc\n"
     ]
    },
    {
     "name": "stdout",
     "output_type": "stream",
     "text": [
      "http://reg.genome.network/allele?hgvs=NC_000008.10%3Ag.128748315%3D\n"
     ]
    }
   ],
   "source": [
    "\n",
    "g2p = g2p_client.G2PDatabase('elastic')\n",
    "\n",
    "queries = []\n",
    "data_frames = {}\n",
    "\n",
    "for patient_feature in patient_features:\n",
    "    location_query = g2p_client.location_query([patient_feature])\n",
    "    identifier = allele_identifier(location_query['feature_associations'])\n",
    "    for name in location_query['queries'].keys():\n",
    "        qs = location_query['queries'][name]['query']['query_string']['query']\n",
    "        if identifier not in data_frames:\n",
    "            data_frames[identifier] = {}\n",
    "        data_frames[identifier][name] = to_df(g2p.raw_dataframe(query_string=qs, verbose=False))\n",
    "        queries.append({'allele': identifier, 'name': name, 'hits': len(data_frames[identifier][name]), 'query_string': qs})\n",
    "\n"
   ]
  },
  {
   "cell_type": "code",
   "execution_count": 16,
   "metadata": {
    "scrolled": false
   },
   "outputs": [
    {
     "data": {
      "application/vnd.jupyter.widget-view+json": {
       "model_id": "2701b365de55476d8daa6a82db948528",
       "version_major": 2,
       "version_minor": 0
      },
      "text/html": [
       "<p>Failed to display Jupyter Widget of type <code>QgridWidget</code>.</p>\n",
       "<p>\n",
       "  If you're reading this message in the Jupyter Notebook or JupyterLab Notebook, it may mean\n",
       "  that the widgets JavaScript is still loading. If this message persists, it\n",
       "  likely means that the widgets JavaScript library is either not installed or\n",
       "  not enabled. See the <a href=\"https://ipywidgets.readthedocs.io/en/stable/user_install.html\">Jupyter\n",
       "  Widgets Documentation</a> for setup instructions.\n",
       "</p>\n",
       "<p>\n",
       "  If you're reading this message in another frontend (for example, a static\n",
       "  rendering on GitHub or <a href=\"https://nbviewer.jupyter.org/\">NBViewer</a>),\n",
       "  it may mean that your frontend doesn't currently support widgets.\n",
       "</p>\n"
      ],
      "text/plain": [
       "QgridWidget(grid_options={'defaultColumnWidth': 150, 'highlightSelectedRow': True, 'enableTextSelectionOnCells': True, 'editable': False, 'explicitInitialization': True, 'minVisibleRows': 8, 'enableColumnReorder': False, 'maxVisibleRows': 15, 'sortable': True, 'fullWidthRows': True, 'rowHeight': 28, 'filterable': True, 'autoEdit': False, 'syncColumnCellResize': True, 'forceFitColumns': True, 'highlightSelectedCell': False}, precision=5)"
      ]
     },
     "metadata": {},
     "output_type": "display_data"
    },
    {
     "data": {
      "text/html": [
       "<p>NC_000001.10:g.204494718C>G pathways</p>"
      ],
      "text/plain": [
       "<IPython.core.display.HTML object>"
      ]
     },
     "metadata": {},
     "output_type": "display_data"
    },
    {
     "data": {
      "application/vnd.jupyter.widget-view+json": {
       "model_id": "a81f04181b4a448ba9adb0a2073c2f60",
       "version_major": 2,
       "version_minor": 0
      },
      "text/html": [
       "<p>Failed to display Jupyter Widget of type <code>QgridWidget</code>.</p>\n",
       "<p>\n",
       "  If you're reading this message in the Jupyter Notebook or JupyterLab Notebook, it may mean\n",
       "  that the widgets JavaScript is still loading. If this message persists, it\n",
       "  likely means that the widgets JavaScript library is either not installed or\n",
       "  not enabled. See the <a href=\"https://ipywidgets.readthedocs.io/en/stable/user_install.html\">Jupyter\n",
       "  Widgets Documentation</a> for setup instructions.\n",
       "</p>\n",
       "<p>\n",
       "  If you're reading this message in another frontend (for example, a static\n",
       "  rendering on GitHub or <a href=\"https://nbviewer.jupyter.org/\">NBViewer</a>),\n",
       "  it may mean that your frontend doesn't currently support widgets.\n",
       "</p>\n"
      ],
      "text/plain": [
       "QgridWidget(grid_options={'highlightSelectedRow': True, 'fullWidthRows': True, 'rowHeight': 28, 'enableColumnReorder': False, 'filterable': True, 'sortable': True, 'enableTextSelectionOnCells': True, 'editable': True, 'explicitInitialization': True, 'minVisibleRows': 8, 'autoEdit': False, 'syncColumnCellResize': True, 'maxVisibleRows': 15, 'defaultColumnWidth': 150, 'forceFitColumns': True, 'highlightSelectedCell': False}, precision=5)"
      ]
     },
     "metadata": {},
     "output_type": "display_data"
    },
    {
     "data": {
      "text/html": [
       "\n",
       "        <iframe\n",
       "            width=\"900\"\n",
       "            height=\"900\"\n",
       "            src=\"http://www.ncbi.nlm.nih.gov/pubmed/19039322\"\n",
       "            frameborder=\"0\"\n",
       "            allowfullscreen\n",
       "        ></iframe>\n",
       "        "
      ],
      "text/plain": [
       "<IPython.lib.display.IFrame at 0x7f53afa05610>"
      ]
     },
     "metadata": {},
     "output_type": "display_data"
    }
   ],
   "source": [
    "from IPython.display import clear_output\n",
    "from IPython.display import IFrame  \n",
    "from IPython.core.display import HTML\n",
    "\n",
    "queries_df = pd.DataFrame.from_records(queries)\n",
    "queries_df_widget = qgrid.show_grid(queries_df, grid_options={'editable':False})\n",
    "\n",
    "allele = None \n",
    "name = None\n",
    "\n",
    "def on_queries_df_row_selected(change):\n",
    "    global allele\n",
    "    global name\n",
    "    selected_row = queries_df_widget.get_selected_df().to_dict('records')\n",
    "    allele = selected_row[0]['allele']\n",
    "    name = selected_row[0]['name']\n",
    "    print selected_row[0]['query_string']\n",
    "    df = data_frames[allele][name]\n",
    "    qgrid_widget = qgrid.show_grid(df)\n",
    "    # show publication\n",
    "    def on_row_selected(change):\n",
    "        publications = df.iloc[change.new[0]].publications\n",
    "        clear_output(wait=True)\n",
    "        display(queries_df_widget, HTML('<p>{} {}</p>'.format(allele, name)), qgrid_widget,IFrame(publications[0], width=900, height=900))    \n",
    "\n",
    "    qgrid_widget.observe(on_row_selected, names=['_selected_rows'])        \n",
    "    clear_output(wait=True)\n",
    "    display(queries_df_widget, HTML('<p>{} {}</p>'.format(allele, name)), qgrid_widget)    \n",
    "\n",
    "\n",
    "    \n",
    "queries_df_widget.observe(on_queries_df_row_selected, names=['_selected_rows'])   # ,  \n",
    "\n",
    "display(queries_df_widget)"
   ]
  },
  {
   "cell_type": "code",
   "execution_count": null,
   "metadata": {},
   "outputs": [],
   "source": []
  }
 ],
 "metadata": {
  "kernelspec": {
   "display_name": "Python 2",
   "language": "python",
   "name": "python2"
  },
  "language_info": {
   "codemirror_mode": {
    "name": "ipython",
    "version": 2
   },
   "file_extension": ".py",
   "mimetype": "text/x-python",
   "name": "python",
   "nbconvert_exporter": "python",
   "pygments_lexer": "ipython2",
   "version": "2.7.13"
  }
 },
 "nbformat": 4,
 "nbformat_minor": 2
}
