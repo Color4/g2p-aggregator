{
 "cells": [
  {
   "cell_type": "code",
   "execution_count": 1,
   "metadata": {},
   "outputs": [
    {
     "name": "stdout",
     "output_type": "stream",
     "text": [
      "env: BIOONTOLOGY_API_KEY=fb76114e-2eff-4a05-9a2e-eba5b9fb6f0e\n"
     ]
    }
   ],
   "source": [
    "# !jupyter nbextension enable --py --sys-prefix widgetsnbextension\n",
    "# !jupyter nbextension enable --py --sys-prefix qgrid\n",
    "import pandas as pd\n",
    "import numpy as np\n",
    "import matplotlib.pyplot as plt\n",
    "import qgrid\n",
    "import g2p_client\n",
    "from IPython.display import IFrame    \n",
    "import re\n",
    "from IPython.display import Javascript\n",
    "from collections import Counter\n",
    "\n",
    "%env BIOONTOLOGY_API_KEY=fb76114e-2eff-4a05-9a2e-eba5b9fb6f0e\n",
    "\n",
    " \n"
   ]
  },
  {
   "cell_type": "code",
   "execution_count": 251,
   "metadata": {},
   "outputs": [],
   "source": [
    "\n",
    "dataset_features = ['see harvester/query_generator']\n",
    "\n",
    "dataset_name = 'XXXX'"
   ]
  },
  {
   "cell_type": "code",
   "execution_count": 252,
   "metadata": {},
   "outputs": [],
   "source": [
    "def to_df(generator, features ):\n",
    "    \n",
    "    def to_dict(generator, features):\n",
    "        for hit in generator:\n",
    "            drugs = [ec['term'].encode('utf-8') for ec in hit['association']['environmentalContexts']]\n",
    "            description = hit['association']['description'].encode('utf-8')\n",
    "            source = hit['source'].encode('utf-8')\n",
    "            evidence_label = hit['association']['evidence_label']\n",
    "            id = hit['evidence.id']\n",
    "            phenotype = hit['association']['phenotype']['type']['term'].encode('utf-8')\n",
    "            publications = []\n",
    "            matches = []\n",
    "            \n",
    "            \n",
    "            try:        \n",
    "                for f in features:\n",
    "                    for f2 in hit['features']:\n",
    "                        #print '?', s, f2.get('synonyms', [])\n",
    "                        for s in f.get('synonyms', []):\n",
    "                            if s in f2.get('synonyms', []):\n",
    "                                matches.append(s)\n",
    "                            for p in f.get('pathways',[]):\n",
    "                                if p in f2.get('pathways',[]):\n",
    "                                    matches.append(p)\n",
    "                        for sp in f.get('swissprots',[]):\n",
    "                            # print '??', sp, f2.get('swissprots', [])\n",
    "                            if sp in f2.get('swissprots',[]):\n",
    "                                matches.append(sp)\n",
    "\n",
    "                        if f.get('sequence_ontology', {'name':'X'}) == f2.get('sequence_ontology', {'name':None}):\n",
    "                            matches.append(f['sequence_ontology']['name'])\n",
    "\n",
    "                        # print '????', f['geneSymbol'], f2.get('geneSymbol', None)\n",
    "                        if f['geneSymbol'] == f2.get('geneSymbol', None):\n",
    "                            matches.append(f['geneSymbol'])\n",
    "                matches = list(set(matches))\n",
    "                \n",
    "                for e in hit['association']['evidence']:\n",
    "                    for p in e['info']['publications']:\n",
    "                        publications.append(p)\n",
    "\n",
    "\n",
    "                yield {'id':id,\n",
    "                       'source': source,\n",
    "                       'evidence_label': evidence_label,\n",
    "                       'drugs': drugs,\n",
    "                       'description': description,\n",
    "                       'phenotype':phenotype,\n",
    "                       'publications':publications,\n",
    "                       'matches': matches\n",
    "                      }\n",
    "            except Exception as e:\n",
    "                print '!!!',e\n",
    "                \n",
    "    \n",
    "    try:        \n",
    "        return pd.DataFrame.from_records( to_dict(generator, features) , index='id')\n",
    "    except Exception as e:\n",
    "        return pd.DataFrame()\n",
    "    \n",
    "\n",
    "def allele_identifier(feature_associations):\n",
    "    is_HG37 = re.compile('NC_.*\\.10:g')    \n",
    "    for fa in feature_associations:\n",
    "        for f in fa['features']:\n",
    "            for s in f.get('synonyms', []):\n",
    "                if is_HG37.match(s):\n",
    "                    return '{} {}'.format(f['geneSymbol'], s)\n",
    "            return '{} {} {}'.format(f['geneSymbol'], f['start'], f['sequence_ontology']['name'])\n",
    "\n",
    "        \n",
    "def biomarker_type(feature_associations):\n",
    "    for fa in feature_associations:\n",
    "        for f in fa['features']:\n",
    "            return f['biomarker_type']\n",
    "        "
   ]
  },
  {
   "cell_type": "code",
   "execution_count": 253,
   "metadata": {
    "scrolled": true
   },
   "outputs": [
    {
     "name": "stderr",
     "output_type": "stream",
     "text": [
      "WARNING:root:normalize_drugs NODRUGS ad-hoc\n"
     ]
    },
    {
     "name": "stdout",
     "output_type": "stream",
     "text": [
      "http://reg.genome.network/allele?hgvs=NC_000003.11%3Ag.41266125C%3ET\n",
      "https://grch37.rest.ensembl.org/vep/human/hgvs/ENSP00000411226.1:p.Thr34Ile?domains=1&protein=1&uniprot=1\n",
      "https://grch37.rest.ensembl.org/vep/human/hgvs/ENSP00000409302.1:p.Thr41Ile?domains=1&protein=1&uniprot=1\n",
      "https://grch37.rest.ensembl.org/vep/human/hgvs/ENSP00000412219.1:p.Thr41Ile?domains=1&protein=1&uniprot=1\n",
      "https://grch37.rest.ensembl.org/vep/human/hgvs/ENSP00000379486.3:p.Thr41Ile?domains=1&protein=1&uniprot=1\n",
      "https://grch37.rest.ensembl.org/vep/human/hgvs/ENSP00000401599.1:p.Thr41Ile?domains=1&protein=1&uniprot=1\n",
      "https://grch37.rest.ensembl.org/vep/human/hgvs/ENSP00000385604.1:p.Thr41Ile?domains=1&protein=1&uniprot=1\n",
      "https://grch37.rest.ensembl.org/vep/human/hgvs/ENSP00000379488.3:p.Thr41Ile?domains=1&protein=1&uniprot=1\n",
      "https://grch37.rest.ensembl.org/vep/human/hgvs/ENSP00000400508.1:p.Thr34Ile?domains=1&protein=1&uniprot=1\n",
      "https://grch37.rest.ensembl.org/vep/human/hgvs/ENSP00000344456.5:p.Thr41Ile?domains=1&protein=1&uniprot=1\n",
      "http://www.pathwaycommons.org/pc2/search.json?q=P35222&organism=homo%20sapiens\n"
     ]
    },
    {
     "name": "stderr",
     "output_type": "stream",
     "text": [
      "WARNING:root:normalize_drugs NODRUGS ad-hoc\n"
     ]
    },
    {
     "name": "stdout",
     "output_type": "stream",
     "text": [
      "http://reg.genome.network/allele?hgvs=NC_000003.11%3Ag.142188239T%3EC\n",
      "https://grch37.rest.ensembl.org/vep/human/hgvs/ENSP00000343741.4:p.Ile2164Met?domains=1&protein=1&uniprot=1\n",
      "http://www.pathwaycommons.org/pc2/search.json?q=Q13535&organism=homo%20sapiens\n"
     ]
    },
    {
     "name": "stderr",
     "output_type": "stream",
     "text": [
      "WARNING:root:normalize_drugs NODRUGS ad-hoc\n"
     ]
    },
    {
     "name": "stdout",
     "output_type": "stream",
     "text": [
      "http://reg.genome.network/allele?hgvs=NC_000010.10%3Ag.89685309_89685310insAATCT\n"
     ]
    },
    {
     "name": "stderr",
     "output_type": "stream",
     "text": [
      "WARNING:root:normalize_drugs NODRUGS ad-hoc\n"
     ]
    },
    {
     "name": "stdout",
     "output_type": "stream",
     "text": [
      "http://reg.genome.network/allele?hgvs=NC_000003.11%3Ag.41266125C%3ET\n",
      "https://grch37.rest.ensembl.org/vep/human/hgvs/ENSP00000411226.1:p.Thr34Ile?domains=1&protein=1&uniprot=1\n",
      "https://grch37.rest.ensembl.org/vep/human/hgvs/ENSP00000409302.1:p.Thr41Ile?domains=1&protein=1&uniprot=1\n",
      "https://grch37.rest.ensembl.org/vep/human/hgvs/ENSP00000412219.1:p.Thr41Ile?domains=1&protein=1&uniprot=1\n",
      "https://grch37.rest.ensembl.org/vep/human/hgvs/ENSP00000379486.3:p.Thr41Ile?domains=1&protein=1&uniprot=1\n",
      "https://grch37.rest.ensembl.org/vep/human/hgvs/ENSP00000401599.1:p.Thr41Ile?domains=1&protein=1&uniprot=1\n",
      "https://grch37.rest.ensembl.org/vep/human/hgvs/ENSP00000385604.1:p.Thr41Ile?domains=1&protein=1&uniprot=1\n",
      "https://grch37.rest.ensembl.org/vep/human/hgvs/ENSP00000379488.3:p.Thr41Ile?domains=1&protein=1&uniprot=1\n",
      "https://grch37.rest.ensembl.org/vep/human/hgvs/ENSP00000400508.1:p.Thr34Ile?domains=1&protein=1&uniprot=1\n",
      "https://grch37.rest.ensembl.org/vep/human/hgvs/ENSP00000344456.5:p.Thr41Ile?domains=1&protein=1&uniprot=1\n",
      "http://www.pathwaycommons.org/pc2/search.json?q=P35222&organism=homo%20sapiens\n"
     ]
    },
    {
     "name": "stderr",
     "output_type": "stream",
     "text": [
      "WARNING:root:normalize_drugs NODRUGS ad-hoc\n"
     ]
    },
    {
     "name": "stdout",
     "output_type": "stream",
     "text": [
      "http://reg.genome.network/allele?hgvs=NC_000023.10%3Ag.1584977C%3ET\n",
      "https://grch37.rest.ensembl.org/vep/human/hgvs/ENSP00000370697.4:p.Ala159Thr?domains=1&protein=1&uniprot=1\n",
      "http://www.pathwaycommons.org/pc2/search.json?q=Q86VZ1&organism=homo%20sapiens\n"
     ]
    },
    {
     "name": "stderr",
     "output_type": "stream",
     "text": [
      "WARNING:root:normalize_drugs NODRUGS ad-hoc\n"
     ]
    },
    {
     "name": "stdout",
     "output_type": "stream",
     "text": [
      "http://reg.genome.network/allele?hgvs=NC_000003.11%3Ag.170802031T%3EC\n",
      "https://grch37.rest.ensembl.org/vep/human/hgvs/ENSP00000284483.8:p.Thr1020Ala?domains=1&protein=1&uniprot=1\n",
      "https://grch37.rest.ensembl.org/vep/human/hgvs/ENSP00000349880.5:p.Thr999Ala?domains=1&protein=1&uniprot=1\n",
      "https://grch37.rest.ensembl.org/vep/human/hgvs/ENSP00000345352.6:p.Thr944Ala?domains=1&protein=1&uniprot=1\n",
      "https://grch37.rest.ensembl.org/vep/human/hgvs/ENSP00000419990.1:p.Thr991Ala?domains=1&protein=1&uniprot=1\n",
      "https://grch37.rest.ensembl.org/vep/human/hgvs/ENSP00000418378.1:p.Thr973Ala?domains=1&protein=1&uniprot=1\n",
      "https://grch37.rest.ensembl.org/vep/human/hgvs/ENSP00000418916.1:p.Thr965Ala?domains=1&protein=1&uniprot=1\n",
      "https://grch37.rest.ensembl.org/vep/human/hgvs/ENSP00000418156.1:p.Thr936Ala?domains=1&protein=1&uniprot=1\n",
      "https://grch37.rest.ensembl.org/vep/human/hgvs/ENSP00000399511.2:p.Thr1028Ala?domains=1&protein=1&uniprot=1\n",
      "http://www.pathwaycommons.org/pc2/search.json?q=Q9UKE5&organism=homo%20sapiens\n"
     ]
    },
    {
     "name": "stderr",
     "output_type": "stream",
     "text": [
      "WARNING:root:normalize_drugs NODRUGS ad-hoc\n"
     ]
    },
    {
     "name": "stdout",
     "output_type": "stream",
     "text": [
      "http://reg.genome.network/allele?hgvs=NC_000011.9%3Ag.118764345C%3ET\n",
      "https://grch37.rest.ensembl.org/vep/human/hgvs/ENSP00000292174.4:p.Ser31Phe?domains=1&protein=1&uniprot=1\n",
      "http://www.pathwaycommons.org/pc2/search.json?q=Q86UU0&organism=homo%20sapiens\n",
      "http://www.pathwaycommons.org/pc2/search.json?q=P32302&organism=homo%20sapiens\n"
     ]
    },
    {
     "name": "stderr",
     "output_type": "stream",
     "text": [
      "WARNING:root:normalize_drugs NODRUGS ad-hoc\n",
      "WARNING:root:normalize_drugs NODRUGS ad-hoc\n"
     ]
    },
    {
     "name": "stdout",
     "output_type": "stream",
     "text": [
      "http://reg.genome.network/allele?hgvs=NC_000002.11%3Ag.136071095C%3EG\n",
      "https://grch37.rest.ensembl.org/vep/human/hgvs/ENSP00000264159.6:p.Leu310Phe?domains=1&protein=1&uniprot=1\n",
      "{u'error': u\"Unable to parse HGVS notation 'ENSP00000264159.6:p.Leu310Phe':  : Could not uniquely determine nucleotide change from ENSP00000264159.6:p.Leu310Phe: Could not get a Transcript object for 'ENSP00000264159'\"} https://grch37.rest.ensembl.org/vep/human/hgvs/ENSP00000264159.6:p.Leu310Phe?domains=1&protein=1&uniprot=1\n",
      "https://grch37.rest.ensembl.org/vep/human/hgvs/ENSP00000384245.2:p.Leu310Phe?domains=1&protein=1&uniprot=1\n",
      "{u'error': u\"Unable to parse HGVS notation 'ENSP00000384245.2:p.Leu310Phe':  : Could not uniquely determine nucleotide change from ENSP00000384245.2:p.Leu310Phe: Could not get a Transcript object for 'ENSP00000384245'\"} https://grch37.rest.ensembl.org/vep/human/hgvs/ENSP00000384245.2:p.Leu310Phe?domains=1&protein=1&uniprot=1\n",
      "https://grch37.rest.ensembl.org/vep/human/hgvs/ENSP00000383979.1:p.Leu310Phe?domains=1&protein=1&uniprot=1\n",
      "{u'error': u\"Unable to parse HGVS notation 'ENSP00000383979.1:p.Leu310Phe':  : Could not uniquely determine nucleotide change from ENSP00000383979.1:p.Leu310Phe: Could not get a Transcript object for 'ENSP00000383979'\"} https://grch37.rest.ensembl.org/vep/human/hgvs/ENSP00000383979.1:p.Leu310Phe?domains=1&protein=1&uniprot=1\n",
      "http://reg.genome.network/allele?hgvs=NC_000001.10%3Ag.228566043T%3EC\n",
      "https://grch37.rest.ensembl.org/vep/human/hgvs/ENSP00000409493.1:p.Val7884Ala?domains=1&protein=1&uniprot=1\n",
      "https://grch37.rest.ensembl.org/vep/human/hgvs/ENSP00000455507.2:p.Val8839Ala?domains=1&protein=1&uniprot=1\n",
      "https://grch37.rest.ensembl.org/vep/human/hgvs/ENSP00000355668.5:p.Val8841Ala?domains=1&protein=1&uniprot=1\n",
      "{u'error': u\"Unable to parse HGVS notation 'ENSP00000355668.5:p.Val8841Ala':  : Unable to map the peptide coordinate 8841 to genomic coordinates for protein ENSP00000355668: Could not get a Transcript object for 'ENSP00000355668'\"} https://grch37.rest.ensembl.org/vep/human/hgvs/ENSP00000355668.5:p.Val8841Ala?domains=1&protein=1&uniprot=1\n",
      "http://www.pathwaycommons.org/pc2/search.json?q=Q5VST9&organism=homo%20sapiens\n"
     ]
    },
    {
     "name": "stderr",
     "output_type": "stream",
     "text": [
      "WARNING:root:normalize_drugs NODRUGS ad-hoc\n"
     ]
    },
    {
     "name": "stdout",
     "output_type": "stream",
     "text": [
      "http://reg.genome.network/allele?hgvs=NC_000020.10%3Ag.2097401C%3EG\n",
      "https://grch37.rest.ensembl.org/vep/human/hgvs/ENSP00000370891.3:p.Leu328Val?domains=1&protein=1&uniprot=1\n",
      "https://grch37.rest.ensembl.org/vep/human/hgvs/ENSP00000426612.1:p.Leu189Val?domains=1&protein=1&uniprot=1\n",
      "http://www.pathwaycommons.org/pc2/search.json?q=Q8TDR2&organism=homo%20sapiens\n"
     ]
    },
    {
     "name": "stderr",
     "output_type": "stream",
     "text": [
      "WARNING:root:normalize_drugs NODRUGS ad-hoc\n"
     ]
    },
    {
     "name": "stdout",
     "output_type": "stream",
     "text": [
      "http://reg.genome.network/allele?hgvs=NC_000012.11%3Ag.58130871C%3ET\n",
      "https://grch37.rest.ensembl.org/vep/human/hgvs/ENSP00000449241.1:p.Ala387Thr?domains=1&protein=1&uniprot=1\n",
      "http://www.pathwaycommons.org/pc2/search.json?q=Q99490&organism=homo%20sapiens\n"
     ]
    },
    {
     "name": "stderr",
     "output_type": "stream",
     "text": [
      "WARNING:root:normalize_drugs NODRUGS ad-hoc\n"
     ]
    },
    {
     "name": "stdout",
     "output_type": "stream",
     "text": [
      "http://reg.genome.network/allele?hgvs=NC_000006.11%3Ag.33690771C%3ET\n",
      "https://grch37.rest.ensembl.org/vep/human/hgvs/ENSP00000398861.1:p.Arg320His?domains=1&protein=1&uniprot=1\n",
      "https://grch37.rest.ensembl.org/vep/human/hgvs/ENSP00000293756.4:p.Arg320His?domains=1&protein=1&uniprot=1\n",
      "http://www.pathwaycommons.org/pc2/search.json?q=Q96PC2&organism=homo%20sapiens\n"
     ]
    },
    {
     "name": "stderr",
     "output_type": "stream",
     "text": [
      "WARNING:root:normalize_drugs NODRUGS ad-hoc\n",
      "WARNING:root:normalize_drugs NODRUGS ad-hoc\n"
     ]
    },
    {
     "name": "stdout",
     "output_type": "stream",
     "text": [
      "http://reg.genome.network/allele?hgvs=NC_000013.10%3Ag.101910837C%3EG\n",
      "https://grch37.rest.ensembl.org/vep/human/hgvs/ENSP00000251127.6:p.Gly408Ala?domains=1&protein=1&uniprot=1\n",
      "http://www.pathwaycommons.org/pc2/search.json?q=Q8IZF0&organism=homo%20sapiens\n",
      "http://reg.genome.network/allele?hgvs=NC_000012.11%3Ag.57424051C%3ET\n",
      "https://grch37.rest.ensembl.org/vep/human/hgvs/ENSP00000300119.3:p.Arg845Lys?domains=1&protein=1&uniprot=1\n",
      "https://grch37.rest.ensembl.org/vep/human/hgvs/ENSP00000393392.2:p.Arg845Lys?domains=1&protein=1&uniprot=1\n",
      "http://www.pathwaycommons.org/pc2/search.json?q=Q9UHF0&organism=homo%20sapiens\n",
      "http://www.pathwaycommons.org/pc2/search.json?q=Q9UBC5&organism=homo%20sapiens\n"
     ]
    },
    {
     "name": "stderr",
     "output_type": "stream",
     "text": [
      "WARNING:root:normalize_drugs NODRUGS ad-hoc\n"
     ]
    },
    {
     "name": "stdout",
     "output_type": "stream",
     "text": [
      "http://reg.genome.network/allele?hgvs=NC_000013.10%3Ag.38211533C%3ET\n",
      "https://grch37.rest.ensembl.org/vep/human/hgvs/ENSP00000369027.3:p.Arg814Lys?domains=1&protein=1&uniprot=1\n",
      "https://grch37.rest.ensembl.org/vep/human/hgvs/ENSP00000369001.1:p.Arg641Lys?domains=1&protein=1&uniprot=1\n",
      "https://grch37.rest.ensembl.org/vep/human/hgvs/ENSP00000342580.5:p.Arg641Lys?domains=1&protein=1&uniprot=1\n",
      "https://grch37.rest.ensembl.org/vep/human/hgvs/ENSP00000486109.1:p.Arg819Lys?domains=1&protein=1&uniprot=1\n",
      "{u'error': u\"Unable to parse HGVS notation 'ENSP00000486109.1:p.Arg819Lys': Could not get a Transcript object for 'ENSP00000486109'\"} https://grch37.rest.ensembl.org/vep/human/hgvs/ENSP00000486109.1:p.Arg819Lys?domains=1&protein=1&uniprot=1\n",
      "http://www.pathwaycommons.org/pc2/search.json?q=Q9UBN4&organism=homo%20sapiens\n"
     ]
    },
    {
     "name": "stderr",
     "output_type": "stream",
     "text": [
      "WARNING:root:normalize_drugs NODRUGS ad-hoc\n"
     ]
    },
    {
     "name": "stdout",
     "output_type": "stream",
     "text": [
      "http://reg.genome.network/allele?hgvs=NC_000001.10%3Ag.32257834G%3EA\n",
      "https://grch37.rest.ensembl.org/vep/human/hgvs/ENSP00000399778.2:p.Arg418Cys?domains=1&protein=1&uniprot=1\n",
      "https://grch37.rest.ensembl.org/vep/human/hgvs/ENSP00000353670.2:p.Arg982Cys?domains=1&protein=1&uniprot=1\n",
      "https://grch37.rest.ensembl.org/vep/human/hgvs/ENSP00000257100.3:p.Arg475Cys?domains=1&protein=1&uniprot=1\n",
      "https://grch37.rest.ensembl.org/vep/human/hgvs/ENSP00000435851.1:p.Arg982Cys?domains=1&protein=1&uniprot=1\n",
      "http://www.pathwaycommons.org/pc2/search.json?q=Q6ZMY3&organism=homo%20sapiens\n"
     ]
    },
    {
     "name": "stderr",
     "output_type": "stream",
     "text": [
      "WARNING:root:normalize_drugs NODRUGS ad-hoc\n",
      "WARNING:root:normalize_drugs NODRUGS ad-hoc\n"
     ]
    },
    {
     "name": "stdout",
     "output_type": "stream",
     "text": [
      "http://reg.genome.network/allele?hgvs=NC_000006.11%3Ag.28097282G%3EA\n",
      "https://grch37.rest.ensembl.org/vep/human/hgvs/ENSP00000366527.3:p.Glu201Lys?domains=1&protein=1&uniprot=1\n",
      "http://www.pathwaycommons.org/pc2/search.json?q=Q9H4T2&organism=homo%20sapiens\n",
      "http://reg.genome.network/allele?hgvs=NC_000007.13%3Ag.84628811C%3ET\n",
      "https://grch37.rest.ensembl.org/vep/human/hgvs/ENSP00000284136.6:p.Arg760Gln?domains=1&protein=1&uniprot=1\n"
     ]
    },
    {
     "name": "stderr",
     "output_type": "stream",
     "text": [
      "WARNING:root:normalize_drugs NODRUGS ad-hoc\n"
     ]
    },
    {
     "name": "stdout",
     "output_type": "stream",
     "text": [
      "http://www.pathwaycommons.org/pc2/search.json?q=O95025&organism=homo%20sapiens\n",
      "http://reg.genome.network/allele?hgvs=NC_000001.10%3Ag.72400932G%3EA\n",
      "https://grch37.rest.ensembl.org/vep/human/hgvs/ENSP00000350364.4:p.Ala80Val?domains=1&protein=1&uniprot=1\n",
      "https://grch37.rest.ensembl.org/vep/human/hgvs/ENSP00000413294.2:p.Ala25Val?domains=1&protein=1&uniprot=1\n",
      "{u'error': u\"Unable to parse HGVS notation 'ENSP00000413294.2:p.Ala25Val':  : Reference allele extracted from ENSP00000413294:72748098-72748098 (T) does not match reference allele given by HGVS notation ENSP00000413294.2:p.Ala25Val (C): Could not get a Transcript object for 'ENSP00000413294'\"} https://grch37.rest.ensembl.org/vep/human/hgvs/ENSP00000413294.2:p.Ala25Val?domains=1&protein=1&uniprot=1\n",
      "http://www.pathwaycommons.org/pc2/search.json?q=Q7Z3B1&organism=homo%20sapiens\n"
     ]
    },
    {
     "name": "stderr",
     "output_type": "stream",
     "text": [
      "WARNING:root:normalize_drugs NODRUGS ad-hoc\n",
      "WARNING:root:normalize_drugs NODRUGS ad-hoc\n"
     ]
    },
    {
     "name": "stdout",
     "output_type": "stream",
     "text": [
      "http://reg.genome.network/allele?hgvs=NC_000003.11%3Ag.35778772C%3ET\n",
      "https://grch37.rest.ensembl.org/vep/human/hgvs/ENSP00000412326.1:p.Pro487Leu?domains=1&protein=1&uniprot=1\n",
      "https://grch37.rest.ensembl.org/vep/human/hgvs/ENSP00000405276.1:p.Pro467Leu?domains=1&protein=1&uniprot=1\n",
      "https://grch37.rest.ensembl.org/vep/human/hgvs/ENSP00000187397.4:p.Pro521Leu?domains=1&protein=1&uniprot=1\n",
      "http://www.pathwaycommons.org/pc2/search.json?q=Q9UBL0&organism=homo%20sapiens\n"
     ]
    },
    {
     "name": "stderr",
     "output_type": "stream",
     "text": [
      "WARNING:root:normalize_drugs NODRUGS ad-hoc\n"
     ]
    },
    {
     "name": "stdout",
     "output_type": "stream",
     "text": [
      "http://reg.genome.network/allele?hgvs=NC_000001.10%3Ag.21016738G%3ET\n",
      "https://grch37.rest.ensembl.org/vep/human/hgvs/ENSP00000247986.2:p.Arg442Ser?domains=1&protein=1&uniprot=1\n",
      "https://grch37.rest.ensembl.org/vep/human/hgvs/ENSP00000364184.1:p.Arg342Ser?domains=1&protein=1&uniprot=1\n",
      "https://grch37.rest.ensembl.org/vep/human/hgvs/ENSP00000383311.3:p.Arg442Ser?domains=1&protein=1&uniprot=1\n",
      "http://www.pathwaycommons.org/pc2/search.json?q=Q9P2E2&organism=homo%20sapiens\n"
     ]
    },
    {
     "name": "stderr",
     "output_type": "stream",
     "text": [
      "WARNING:root:normalize_drugs NODRUGS ad-hoc\n"
     ]
    },
    {
     "name": "stdout",
     "output_type": "stream",
     "text": [
      "http://reg.genome.network/allele?hgvs=NC_000003.11%3Ag.51929267C%3ET\n",
      "https://grch37.rest.ensembl.org/vep/human/hgvs/ENSP00000307958.5:p.Arg86Gln?domains=1&protein=1&uniprot=1\n",
      "http://www.pathwaycommons.org/pc2/search.json?q=Q8N6M8&organism=homo%20sapiens\n",
      "http://reg.genome.network/allele?hgvs=NC_000008.10%3Ag.95188799C%3ET\n",
      "https://grch37.rest.ensembl.org/vep/human/hgvs/ENSP00000401468.2:p.Glu132Lys?domains=1&protein=1&uniprot=1\n",
      "https://grch37.rest.ensembl.org/vep/human/hgvs/ENSP00000428189.1:p.Glu132Lys?domains=1&protein=1&uniprot=1\n",
      "https://grch37.rest.ensembl.org/vep/human/hgvs/ENSP00000392811.2:p.Glu132Lys?domains=1&protein=1&uniprot=1\n",
      "https://grch37.rest.ensembl.org/vep/human/hgvs/ENSP00000027335.3:p.Glu132Lys?domains=1&protein=1&uniprot=1\n",
      "http://www.pathwaycommons.org/pc2/search.json?q=Q12864&organism=homo%20sapiens\n"
     ]
    },
    {
     "name": "stderr",
     "output_type": "stream",
     "text": [
      "WARNING:root:normalize_drugs NODRUGS ad-hoc\n",
      "WARNING:root:normalize_drugs NODRUGS ad-hoc\n"
     ]
    },
    {
     "name": "stdout",
     "output_type": "stream",
     "text": [
      "http://reg.genome.network/allele?hgvs=NC_000011.9%3Ag.96117712A%3EG\n",
      "https://grch37.rest.ensembl.org/vep/human/hgvs/ENSP00000278520.5:p.Leu67Pro?domains=1&protein=1&uniprot=1\n",
      "https://grch37.rest.ensembl.org/vep/human/hgvs/ENSP00000442723.1:p.Leu67Pro?domains=1&protein=1&uniprot=1\n",
      "https://grch37.rest.ensembl.org/vep/human/hgvs/ENSP00000397156.2:p.Leu67Pro?domains=1&protein=1&uniprot=1\n",
      "http://www.pathwaycommons.org/pc2/search.json?q=Q8N4S0&organism=homo%20sapiens\n",
      "http://reg.genome.network/allele?hgvs=NC_000011.9%3Ag.105967614C%3ET\n",
      "https://grch37.rest.ensembl.org/vep/human/hgvs/ENSP00000278618.4:p.Arg304Ter?domains=1&protein=1&uniprot=1\n",
      "http://www.pathwaycommons.org/pc2/search.json?q=Q9NRN7&organism=homo%20sapiens\n"
     ]
    },
    {
     "name": "stderr",
     "output_type": "stream",
     "text": [
      "WARNING:root:normalize_drugs NODRUGS ad-hoc\n"
     ]
    },
    {
     "name": "stdout",
     "output_type": "stream",
     "text": [
      "http://reg.genome.network/allele?hgvs=NC_000021.8%3Ag.31538698C%3EA\n",
      "https://grch37.rest.ensembl.org/vep/human/hgvs/ENSP00000286808.3:p.Ala80Ser?domains=1&protein=1&uniprot=1\n",
      "http://www.pathwaycommons.org/pc2/search.json?q=P56750&organism=homo%20sapiens\n"
     ]
    },
    {
     "name": "stderr",
     "output_type": "stream",
     "text": [
      "WARNING:root:normalize_drugs NODRUGS ad-hoc\n",
      "WARNING:root:normalize_drugs NODRUGS ad-hoc\n"
     ]
    },
    {
     "name": "stdout",
     "output_type": "stream",
     "text": [
      "http://reg.genome.network/allele?hgvs=NC_000001.10%3Ag.38483424G%3EA\n",
      "https://grch37.rest.ensembl.org/vep/human/hgvs/ENSP00000362105.4:p.Met70Ile?domains=1&protein=1&uniprot=1\n",
      "{u'error': u\"Unable to parse HGVS notation 'ENSP00000362105.4:p.Met70Ile':  : Could not uniquely determine nucleotide change from ENSP00000362105.4:p.Met70Ile: Could not get a Transcript object for 'ENSP00000362105'\"} https://grch37.rest.ensembl.org/vep/human/hgvs/ENSP00000362105.4:p.Met70Ile?domains=1&protein=1&uniprot=1\n",
      "http://reg.genome.network/allele?hgvs=NC_000004.11%3Ag.155526050T%3EG\n",
      "https://grch37.rest.ensembl.org/vep/human/hgvs/ENSP00000384552.1:p.Gln441Pro?domains=1&protein=1&uniprot=1\n",
      "https://grch37.rest.ensembl.org/vep/human/hgvs/ENSP00000384101.1:p.Gln441Pro?domains=1&protein=1&uniprot=1\n",
      "https://grch37.rest.ensembl.org/vep/human/hgvs/ENSP00000384860.3:p.Gln433Pro?domains=1&protein=1&uniprot=1\n",
      "https://grch37.rest.ensembl.org/vep/human/hgvs/ENSP00000336829.3:p.Gln433Pro?domains=1&protein=1&uniprot=1\n",
      "http://www.pathwaycommons.org/pc2/search.json?q=P02679&organism=homo%20sapiens\n"
     ]
    },
    {
     "name": "stderr",
     "output_type": "stream",
     "text": [
      "WARNING:root:normalize_drugs NODRUGS ad-hoc\n"
     ]
    },
    {
     "name": "stdout",
     "output_type": "stream",
     "text": [
      "http://reg.genome.network/allele?hgvs=NC_000005.9%3Ag.148617051C%3ET\n",
      "https://grch37.rest.ensembl.org/vep/human/hgvs/ENSP00000420855.1:p.Ala310Val?domains=1&protein=1&uniprot=1\n",
      "https://grch37.rest.ensembl.org/vep/human/hgvs/ENSP00000310309.7:p.Ala310Val?domains=1&protein=1&uniprot=1\n",
      "https://grch37.rest.ensembl.org/vep/human/hgvs/ENSP00000425394.1:p.Ala310Val?domains=1&protein=1&uniprot=1\n",
      "http://www.pathwaycommons.org/pc2/search.json?q=O94929&organism=homo%20sapiens\n"
     ]
    },
    {
     "name": "stderr",
     "output_type": "stream",
     "text": [
      "WARNING:root:normalize_drugs NODRUGS ad-hoc\n"
     ]
    },
    {
     "name": "stdout",
     "output_type": "stream",
     "text": [
      "http://reg.genome.network/allele?hgvs=NC_000006.11%3Ag.31895941C%3ET\n",
      "https://grch37.rest.ensembl.org/vep/human/hgvs/ENSP00000410815.1:p.Pro86Ser?domains=1&protein=1&uniprot=1\n",
      "{u'error': u\"Unable to parse HGVS notation 'ENSP00000410815.1:p.Pro86Ser':  : Unable to map the peptide coordinate 86 to genomic coordinates for protein ENSP00000410815: Could not get a Transcript object for 'ENSP00000410815'\"} https://grch37.rest.ensembl.org/vep/human/hgvs/ENSP00000410815.1:p.Pro86Ser?domains=1&protein=1&uniprot=1\n",
      "https://grch37.rest.ensembl.org/vep/human/hgvs/ENSP00000403325.1:p.Pro86Ser?domains=1&protein=1&uniprot=1\n",
      "{u'error': u\"Unable to parse HGVS notation 'ENSP00000403325.1:p.Pro86Ser':  : Unable to map the peptide coordinate 86 to genomic coordinates for protein ENSP00000403325: Could not get a Transcript object for 'ENSP00000403325'\"} https://grch37.rest.ensembl.org/vep/human/hgvs/ENSP00000403325.1:p.Pro86Ser?domains=1&protein=1&uniprot=1\n",
      "https://grch37.rest.ensembl.org/vep/human/hgvs/ENSP00000391354.2:p.Pro86Ser?domains=1&protein=1&uniprot=1\n",
      "{u'error': u\"Unable to parse HGVS notation 'ENSP00000391354.2:p.Pro86Ser':  : Unable to map the peptide coordinate 86 to genomic coordinates for protein ENSP00000391354: Could not get a Transcript object for 'ENSP00000391354'\"} https://grch37.rest.ensembl.org/vep/human/hgvs/ENSP00000391354.2:p.Pro86Ser?domains=1&protein=1&uniprot=1\n",
      "https://grch37.rest.ensembl.org/vep/human/hgvs/ENSP00000418332.1:p.Arg86Cys?domains=1&protein=1&uniprot=1\n",
      "https://grch37.rest.ensembl.org/vep/human/hgvs/ENSP00000299367.5:p.Pro86Ser?domains=1&protein=1&uniprot=1\n",
      "{u'error': u\"Unable to parse HGVS notation 'ENSP00000299367.5:p.Pro86Ser':  : Unable to map the peptide coordinate 86 to genomic coordinates for protein ENSP00000299367: Could not get a Transcript object for 'ENSP00000299367'\"} https://grch37.rest.ensembl.org/vep/human/hgvs/ENSP00000299367.5:p.Pro86Ser?domains=1&protein=1&uniprot=1\n",
      "https://grch37.rest.ensembl.org/vep/human/hgvs/ENSP00000418996.1:p.Pro86Ser?domains=1&protein=1&uniprot=1\n",
      "{u'error': u\"Unable to parse HGVS notation 'ENSP00000418996.1:p.Pro86Ser':  : Unable to map the peptide coordinate 86 to genomic coordinates for protein ENSP00000418996: Could not get a Transcript object for 'ENSP00000418996'\"} https://grch37.rest.ensembl.org/vep/human/hgvs/ENSP00000418996.1:p.Pro86Ser?domains=1&protein=1&uniprot=1\n",
      "https://grch37.rest.ensembl.org/vep/human/hgvs/ENSP00000406190.2:p.Pro86Ser?domains=1&protein=1&uniprot=1\n",
      "{u'error': u\"Unable to parse HGVS notation 'ENSP00000406190.2:p.Pro86Ser':  : Unable to map the peptide coordinate 86 to genomic coordinates for protein ENSP00000406190: Could not get a Transcript object for 'ENSP00000406190'\"} https://grch37.rest.ensembl.org/vep/human/hgvs/ENSP00000406190.2:p.Pro86Ser?domains=1&protein=1&uniprot=1\n",
      "http://www.pathwaycommons.org/pc2/search.json?q=P06681&organism=homo%20sapiens\n"
     ]
    },
    {
     "name": "stderr",
     "output_type": "stream",
     "text": [
      "WARNING:root:normalize_drugs NODRUGS ad-hoc\n",
      "WARNING:root:normalize_drugs NODRUGS ad-hoc\n"
     ]
    },
    {
     "name": "stdout",
     "output_type": "stream",
     "text": [
      "http://reg.genome.network/allele?hgvs=NC_000017.10%3Ag.18051501C%3ET\n",
      "https://grch37.rest.ensembl.org/vep/human/hgvs/ENSP00000481642.1:p.Ala2223Val?domains=1&protein=1&uniprot=1\n",
      "{u'error': u\"Unable to parse HGVS notation 'ENSP00000481642.1:p.Ala2223Val': Could not get a Transcript object for 'ENSP00000481642'\"} https://grch37.rest.ensembl.org/vep/human/hgvs/ENSP00000481642.1:p.Ala2223Val?domains=1&protein=1&uniprot=1\n",
      "https://grch37.rest.ensembl.org/vep/human/hgvs/ENSP00000205890.5:p.Ala2223Val?domains=1&protein=1&uniprot=1\n",
      "http://www.pathwaycommons.org/pc2/search.json?q=Q9UKN7&organism=homo%20sapiens\n",
      "http://reg.genome.network/allele?hgvs=NC_000020.10%3Ag.60969271G%3EC\n",
      "https://grch37.rest.ensembl.org/vep/human/hgvs/ENSP00000279101.5:p.Ser219Cys?domains=1&protein=1&uniprot=1\n",
      "http://www.pathwaycommons.org/pc2/search.json?q=Q9BTV7&organism=homo%20sapiens\n"
     ]
    },
    {
     "name": "stderr",
     "output_type": "stream",
     "text": [
      "WARNING:root:normalize_drugs NODRUGS ad-hoc\n",
      "WARNING:root:normalize_drugs NODRUGS ad-hoc\n"
     ]
    },
    {
     "name": "stdout",
     "output_type": "stream",
     "text": [
      "http://reg.genome.network/allele?hgvs=NC_000004.11%3Ag.186096984G%3EA\n",
      "https://grch37.rest.ensembl.org/vep/human/hgvs/ENSP00000423312.1:p.Leu426Phe?domains=1&protein=1&uniprot=1\n",
      "https://grch37.rest.ensembl.org/vep/human/hgvs/ENSP00000409964.2:p.Leu426Phe?domains=1&protein=1&uniprot=1\n",
      "http://www.pathwaycommons.org/pc2/search.json?q=Q9P2B7&organism=homo%20sapiens\n",
      "http://reg.genome.network/allele?hgvs=NC_000006.11%3Ag.110056501G%3EA\n",
      "https://grch37.rest.ensembl.org/vep/human/hgvs/ENSP00000230124.3:p.Gly216Arg?domains=1&protein=1&uniprot=1\n"
     ]
    },
    {
     "name": "stderr",
     "output_type": "stream",
     "text": [
      "WARNING:root:normalize_drugs NODRUGS ad-hoc\n"
     ]
    },
    {
     "name": "stdout",
     "output_type": "stream",
     "text": [
      "{u'error': u\"Unable to parse HGVS notation 'ENSP00000230124.3:p.Gly216Arg':  : Unable to map the peptide coordinate 216 to genomic coordinates for protein ENSP00000230124: Could not get a Transcript object for 'ENSP00000230124'\"} https://grch37.rest.ensembl.org/vep/human/hgvs/ENSP00000230124.3:p.Gly216Arg?domains=1&protein=1&uniprot=1\n",
      "https://grch37.rest.ensembl.org/vep/human/hgvs/ENSP00000412156.1:p.Gly195Arg?domains=1&protein=1&uniprot=1\n",
      "{u'error': u\"Unable to parse HGVS notation 'ENSP00000412156.1:p.Gly195Arg':  : Unable to map the peptide coordinate 195 to genomic coordinates for protein ENSP00000412156: Could not get a Transcript object for 'ENSP00000412156'\"} https://grch37.rest.ensembl.org/vep/human/hgvs/ENSP00000412156.1:p.Gly195Arg?domains=1&protein=1&uniprot=1\n",
      "https://grch37.rest.ensembl.org/vep/human/hgvs/ENSP00000357937.1:p.Gly139Arg?domains=1&protein=1&uniprot=1\n",
      "{u'error': u\"Unable to parse HGVS notation 'ENSP00000357937.1:p.Gly139Arg':  : Unable to map the peptide coordinate 139 to genomic coordinates for protein ENSP00000357937: Could not get a Transcript object for 'ENSP00000357937'\"} https://grch37.rest.ensembl.org/vep/human/hgvs/ENSP00000357937.1:p.Gly139Arg?domains=1&protein=1&uniprot=1\n",
      "http://reg.genome.network/allele?hgvs=NC_000016.9%3Ag.67690336G%3EA\n",
      "https://grch37.rest.ensembl.org/vep/human/hgvs/ENSP00000441481.1:p.Cys1239Tyr?domains=1&protein=1&uniprot=1\n",
      "https://grch37.rest.ensembl.org/vep/human/hgvs/ENSP00000334958.5:p.Cys1275Tyr?domains=1&protein=1&uniprot=1\n",
      "http://www.pathwaycommons.org/pc2/search.json?q=Q6F5E8&organism=homo%20sapiens\n",
      "http://www.pathwaycommons.org/pc2/search.json?q=Q9NPB6&organism=homo%20sapiens\n",
      "http://www.pathwaycommons.org/pc2/search.json?q=Q96AP0&organism=homo%20sapiens\n"
     ]
    },
    {
     "name": "stderr",
     "output_type": "stream",
     "text": [
      "WARNING:root:normalize_drugs NODRUGS ad-hoc\n"
     ]
    },
    {
     "name": "stdout",
     "output_type": "stream",
     "text": [
      "http://reg.genome.network/allele?hgvs=NC_000016.9%3Ag.67702418A%3EG\n",
      "https://grch37.rest.ensembl.org/vep/human/hgvs/ENSP00000384117.3:p.Asp290Gly?domains=1&protein=1&uniprot=1\n",
      "http://www.pathwaycommons.org/pc2/search.json?q=Q9H0I2&organism=homo%20sapiens\n",
      "http://www.pathwaycommons.org/pc2/search.json?q=Q6ZW13&organism=homo%20sapiens\n"
     ]
    }
   ],
   "source": [
    "\n",
    "g2p = g2p_client.G2PDatabase('elastic')\n",
    "\n",
    "queries = []\n",
    "data_frames = {}\n",
    "\n",
    "for patient_feature in dataset_features:\n",
    "    location_query = g2p_client.location_query([patient_feature])\n",
    "    identifier = allele_identifier(location_query['feature_associations'])\n",
    "    b_type = biomarker_type(location_query['feature_associations'])\n",
    "    for name in location_query['queries'].keys():\n",
    "        qs = location_query['queries'][name]['query']['query_string']['query']\n",
    "        if identifier not in data_frames:\n",
    "            data_frames[identifier] = {}\n",
    "        data_frames[identifier][name] = to_df(g2p.raw_dataframe(query_string=qs, verbose=False),\n",
    "                                              location_query['feature_associations'][0]['features'] )\n",
    "        queries.append({'biomarker_type': b_type,\n",
    "                        'allele': identifier,\n",
    "                        'name': name,\n",
    "                        'hits': len(data_frames[identifier][name]),\n",
    "                        'query_string': qs\n",
    "                       })\n",
    "\n"
   ]
  },
  {
   "cell_type": "code",
   "execution_count": 254,
   "metadata": {
    "scrolled": false
   },
   "outputs": [
    {
     "data": {
      "application/vnd.jupyter.widget-view+json": {
       "model_id": "f354888a45f8485098d384d2a48b3d63",
       "version_major": 2,
       "version_minor": 0
      },
      "text/html": [
       "<p>Failed to display Jupyter Widget of type <code>QgridWidget</code>.</p>\n",
       "<p>\n",
       "  If you're reading this message in the Jupyter Notebook or JupyterLab Notebook, it may mean\n",
       "  that the widgets JavaScript is still loading. If this message persists, it\n",
       "  likely means that the widgets JavaScript library is either not installed or\n",
       "  not enabled. See the <a href=\"https://ipywidgets.readthedocs.io/en/stable/user_install.html\">Jupyter\n",
       "  Widgets Documentation</a> for setup instructions.\n",
       "</p>\n",
       "<p>\n",
       "  If you're reading this message in another frontend (for example, a static\n",
       "  rendering on GitHub or <a href=\"https://nbviewer.jupyter.org/\">NBViewer</a>),\n",
       "  it may mean that your frontend doesn't currently support widgets.\n",
       "</p>\n"
      ],
      "text/plain": [
       "QgridWidget(grid_options={'defaultColumnWidth': 150, 'highlightSelectedRow': True, 'enableTextSelectionOnCells': True, 'editable': False, 'explicitInitialization': True, 'minVisibleRows': 8, 'enableColumnReorder': False, 'maxVisibleRows': 15, 'sortable': True, 'fullWidthRows': True, 'rowHeight': 28, 'filterable': True, 'autoEdit': False, 'syncColumnCellResize': True, 'forceFitColumns': True, 'highlightSelectedCell': False}, precision=5)"
      ]
     },
     "metadata": {},
     "output_type": "display_data"
    }
   ],
   "source": [
    "from IPython.display import clear_output\n",
    "from IPython.display import IFrame  \n",
    "from IPython.core.display import HTML\n",
    "\n",
    "queries_df = pd.DataFrame.from_records(queries)\n",
    "queries_df_widget = qgrid.show_grid(queries_df, grid_options={'editable':False})\n",
    "qgrid_widget = None\n",
    "top3_widget = None\n",
    "allele = None \n",
    "name = None\n",
    "\n",
    "def top(df, fields = ['publications', 'evidence_label', 'phenotype', 'drugs' ], size=3):\n",
    "    counters = []\n",
    "    for f in fields:\n",
    "        counter = Counter()\n",
    "        for value in df[f]:\n",
    "            if isinstance(value, (list,tuple,)):\n",
    "                for v in value:\n",
    "                    counter[v] += 1\n",
    "            else:\n",
    "                counter[value] += 1\n",
    "        for c in counter.most_common(size):\n",
    "            counters.append({'field': f, 'value': c[0], 'count': c[1]})\n",
    "    return counters    \n",
    "    \n",
    "\n",
    "def on_queries_df_row_selected(change):\n",
    "    global allele\n",
    "    global name\n",
    "    global qgrid_widget\n",
    "    global top3_widget    \n",
    "    selected_row = queries_df_widget.get_selected_df().to_dict('records')\n",
    "    allele = selected_row[0]['allele']\n",
    "    name = selected_row[0]['name']\n",
    "    query_string = selected_row[0]['query_string']\n",
    "    top3_widget = None\n",
    "    \n",
    "    try:    \n",
    "        df = data_frames[allele][name]\n",
    "        qgrid_widget = qgrid.show_grid(df)\n",
    "        top3_widget = qgrid.show_grid(pd.DataFrame(top(df)))\n",
    "        \n",
    "    except Exception as e:\n",
    "        # df could be empty\n",
    "        pass  \n",
    "    \n",
    "    # show publication\n",
    "    def on_row_selected(change):\n",
    "        global qgrid_widget\n",
    "        try:\n",
    "            selected_row = qgrid_widget.get_selected_df().to_dict('records')\n",
    "            publications = selected_row[0]['publications']\n",
    "            matches = selected_row[0]['matches']            \n",
    "            clear_output(wait=True)\n",
    "            display(queries_df_widget,\n",
    "                    HTML('<p>{} {}</p><p>{}</p>'.format(allele, name, query_string)),\n",
    "                    qgrid_widget,\n",
    "                    HTML('<p>matches:{}</p><p>{}</p>'.format(matches, publications)),\n",
    "                    IFrame(publications[0], width=900, height=900))    \n",
    "        except Exception as e:          \n",
    "            print e\n",
    "\n",
    "    qgrid_widget.observe(on_row_selected, names=['_selected_rows'])        \n",
    "    clear_output(wait=True)\n",
    "    try:\n",
    "        if top3_widget:\n",
    "            display(queries_df_widget,\n",
    "                    HTML('<p>top3:</p>'),\n",
    "                    top3_widget,\n",
    "                    HTML('<p>{} {}</p><p>{}</p>'.format(allele, name, query_string)),\n",
    "                    qgrid_widget)    \n",
    "        else:\n",
    "            display(queries_df_widget, HTML('<p>No results</p>'))\n",
    "    except Exception as e:          \n",
    "        print e        \n",
    "    \n",
    "queries_df_widget.observe(on_queries_df_row_selected, names=['_selected_rows'])   # ,  \n",
    "\n",
    "display(queries_df_widget)"
   ]
  },
  {
   "cell_type": "code",
   "execution_count": 255,
   "metadata": {
    "scrolled": false
   },
   "outputs": [
    {
     "name": "stdout",
     "output_type": "stream",
     "text": [
      "~location B http://www.ncbi.nlm.nih.gov/pubmed/27091708\n",
      "     cgi breast adenocarcinoma ['EVEROLIMUS', 'TRASTUZUMAB', 'mAb']\n",
      "     PTEN ERBB2 Everolimus + Trastuzumab + Chemotherapy (MTOR inhibitor + ERBB2 mAb inhibitor + Chemotherapy) Responsive\n",
      "~range B http://www.ncbi.nlm.nih.gov/pubmed/27091708\n",
      "     cgi breast adenocarcinoma ['EVEROLIMUS', 'TRASTUZUMAB', 'mAb']\n",
      "     PTEN ERBB2 Everolimus + Trastuzumab + Chemotherapy (MTOR inhibitor + ERBB2 mAb inhibitor + Chemotherapy) Responsive\n",
      "protein_effects B http://www.ncbi.nlm.nih.gov/pubmed/27091708\n",
      "     cgi breast adenocarcinoma ['EVEROLIMUS', 'TRASTUZUMAB', 'mAb']\n",
      "     PTEN ERBB2 Everolimus + Trastuzumab + Chemotherapy (MTOR inhibitor + ERBB2 mAb inhibitor + Chemotherapy) Responsive\n",
      "     cgi breast adenocarcinoma ['EVEROLIMUS', 'TRASTUZUMAB', 'mAb']\n",
      "     PTEN ERBB2 Everolimus + Trastuzumab + Chemotherapy (MTOR inhibitor + ERBB2 mAb inhibitor + Chemotherapy) Responsive\n",
      "~biomarker_type B http://www.ncbi.nlm.nih.gov/pubmed/16282176\n",
      "     civic glioblastoma multiforme ['GEFITINIB', 'Erlotinib']\n",
      "     Expression of EGFRvIII and PTEN was evaluated in 26 patients with glioblastomas treated with erlotinib or gefitinib and no EGFR or Her2/neu kinase domain mutations. 7 patients responded to treatment while 19 progressed rapidly. Coexpression of EGFRvIII and PTEN was associated with clinical response (defined as 25% tumor shrinkage). These results were confirmed using IHC in an independent cohort of 33 patients (8 responders) treated with erlotinib at another institution.\n",
      "genes B http://www.ncbi.nlm.nih.gov/pubmed/27091708\n",
      "     civic Her2-receptor positive breast cancer ['EVEROLIMUS']\n",
      "     Archival tumor samples from 549 patients from the BOLERO-1 and -3 trials were analyzed for alterations in the PI3K pathway using next-generation sequencing, immunohistochemistry (IHC) and Sanger sequencing. In the BOLERO trials, patients with HER2-overexpressing advanced breast cancer were treated with trastuzumab, chemotherapy and randomized to receive either everolimus or placebo. In the pooled analysis of both trials, patients with PTEN loss (as defined by IHC staining intensity and proportion of positive tumor cells) had a longer progression-free survival with everolimus compared to placebo (HR 0.54 (95%CI 0.31 to 0.96, P=0.04) whereas patients with PTEN normal status had a hazard ration of 1.00 (95%CI 0.8 to 1.26, P=0.97).\n",
      "The same was found when PI3K mutations, PTEN loss and AKT E17K mutations were combined and analyzed as hyperactive PI3K pathway. Patients with PI3K hyperactive pathway had a hazard ratio of 0.67 (95%CI 0.48 to 0.93, P=0.02) compared to HR 1.19 (95%CI 0.87 to 1.62, P=0.28) in patients with PI3K normal pathway. These trends were independently confirmed in both trials but only pooled results showed consistent statistical significance.\n",
      "     cgi breast adenocarcinoma ['EVEROLIMUS', 'TRASTUZUMAB', 'mAb']\n",
      "     PTEN ERBB2 Everolimus + Trastuzumab + Chemotherapy (MTOR inhibitor + ERBB2 mAb inhibitor + Chemotherapy) Responsive\n",
      "pathways A https://www.ncbi.nlm.nih.gov/pubmed/24202392\n",
      "     molecularmatch lung adenocarcinoma ['AFATINIB']\n",
      "     KRAS Q61P confers resistance to Afatinib in patients with Neoplasm of lung\n",
      "     molecularmatch lung adenocarcinoma ['AFATINIB']\n",
      "     KRAS G13D confers resistance to Afatinib in patients with Neoplasm of lung\n",
      "     molecularmatch lung adenocarcinoma ['AFATINIB']\n",
      "     KRAS G12V confers resistance to Afatinib in patients with Neoplasm of lung\n"
     ]
    }
   ],
   "source": [
    "query_names = ['alleles', '~location', '~range', 'protein_effects', 'protein_domain', '~biomarker_type',  'genes' , 'pathways']\n",
    "evidence_levels = ['A', 'B', 'C', 'D']\n",
    "limit = 3\n",
    "for name in query_names:\n",
    "    df = pd.DataFrame()\n",
    "    for allele in data_frames.keys():\n",
    "        if name in data_frames[allele] and len(data_frames[allele][name]):\n",
    "            df = df.append(data_frames[allele][name])\n",
    "    if len(df) == 0:\n",
    "        continue\n",
    "    for evidence_level in evidence_levels:\n",
    "        evidence_level_df = df[df.evidence_label == evidence_level]\n",
    "        if len(evidence_level_df):\n",
    "            publication = top(evidence_level_df, fields=['publications'], size=1)[0]['value']\n",
    "            print name, evidence_level, publication\n",
    "            c = 0\n",
    "            for evidence in evidence_level_df.to_records():\n",
    "                if publication in evidence.publications:\n",
    "                    print '    ', evidence.source, evidence.phenotype, evidence.drugs\n",
    "                    print '    ', evidence.description \n",
    "                    c += 1\n",
    "                    if c == limit:\n",
    "                        break\n",
    "            break\n"
   ]
  },
  {
   "cell_type": "code",
   "execution_count": 256,
   "metadata": {
    "scrolled": false
   },
   "outputs": [
    {
     "name": "stdout",
     "output_type": "stream",
     "text": [
      "# p204\n",
      "\n",
      "\n",
      "## ~location\n",
      "\n",
      "   * B http://www.ncbi.nlm.nih.gov/pubmed/27091708\n",
      "      * cgi breast adenocarcinoma ['EVEROLIMUS', 'TRASTUZUMAB', 'mAb']\n",
      "        PTEN ERBB2 Everolimus + Trastuzumab + Chemotherapy (MTOR inhibitor + ERBB2 mAb inhibitor + Chemotherapy) Responsive\n",
      "   * C http://www.ncbi.nlm.nih.gov/pubmed/26861905\n",
      "      * jax sarcoma ['Imatinib']\n",
      "        In a retrospective analysis, patients with desmoid fibromatosis harboring CTNNB1 T41A demonstrated a greater progression arrest rate at 6 months (70%) compared to patients with CTNNB1 wild-type (45%) when treated with Gleevec (imatinib) (PMID: 26861905). \n",
      "\n",
      "## ~range\n",
      "\n",
      "   * B http://www.ncbi.nlm.nih.gov/pubmed/27091708\n",
      "      * cgi breast adenocarcinoma ['EVEROLIMUS', 'TRASTUZUMAB', 'mAb']\n",
      "        PTEN ERBB2 Everolimus + Trastuzumab + Chemotherapy (MTOR inhibitor + ERBB2 mAb inhibitor + Chemotherapy) Responsive\n",
      "   * C http://www.ncbi.nlm.nih.gov/pubmed/28514312\n",
      "      * jax colon cancer ['VEMURAFENIB', 'PANITUMUMAB']\n",
      "        In a clinical study, a colon cancer patient harboring BRAF V600E and TP53 Q192K demonstrated a partial response when treated with a combination of Zelboraf (vemurafenib) and Vectibix (panitumumab) (PMID: 28514312). \n",
      "      * jax melanoma ['Imatinib', 'CARBOPLATIN', 'PACLITAXEL']\n",
      "        In a clinical study, a melanoma patient harboring a PDGFRA mutation, CDKN2A mutation, MET exon 14 splice site mutation, and SMAD4 Q249H demonstrated a 21 month overall survival when treated with a combination of Gleevec (imatinib), Paraplatin (carboplatin), and Taxol (paclitaxel) (PMID: 28514312).\n",
      "   * D http://www.ncbi.nlm.nih.gov/pubmed/27312529\n",
      "      * jax colorectal cancer ['VEMURAFENIB', 'CETUXIMAB']\n",
      "        In a preclinical study, colorectal cancer cells harboring BRAF V600E that acquired a KRAS A146T mutation and subsequent resistance to Erbitux (cetuximab) and Encorafenib (LGX818) combination treatment were resistant to combination therapy consisting of Erbitux (cetuximab) and Zelboraf (vemurafenib) in culture (PMID: 27312529).\n",
      "      * jax colorectal cancer ['CETUXIMAB', 'DABRAFENIB', 'TRAMETINIB']\n",
      "        In a preclinical study, combination therapy consisting of Erbitux (cetuximab), Tafinlar (dabrafenib), and Mekinist (trametinib) inhibited survival of colorectal cancer cell lines harboring BRAF V600E that acquired a KRAS A146T mutation and subsequent resistance to Erbitux (cetuximab) and Encorafenib (LGX818) combination treatment in culture (PMID: 27312529).\n",
      "\n",
      "## protein_effects\n",
      "\n",
      "   * B http://www.ncbi.nlm.nih.gov/pubmed/27091708\n",
      "      * cgi breast adenocarcinoma ['EVEROLIMUS', 'TRASTUZUMAB', 'mAb']\n",
      "        PTEN ERBB2 Everolimus + Trastuzumab + Chemotherapy (MTOR inhibitor + ERBB2 mAb inhibitor + Chemotherapy) Responsive\n",
      "      * cgi breast adenocarcinoma ['EVEROLIMUS', 'TRASTUZUMAB', 'mAb']\n",
      "        PTEN ERBB2 Everolimus + Trastuzumab + Chemotherapy (MTOR inhibitor + ERBB2 mAb inhibitor + Chemotherapy) Responsive\n",
      "   * C http://www.ncbi.nlm.nih.gov/pubmed/24569458\n",
      "      * civic non-small cell lung carcinoma ['Sorafenib']\n",
      "        In one patient with S214C mutation, the use of sorafenib has led to more than 5 years of survival and near remission.\n",
      "      * cgi lung adenocarcinoma ['Sorafenib']\n",
      "        ARAF Sorafenib (Pan-TK inhibitor) Responsive\n",
      "   * D http://www.ncbi.nlm.nih.gov/pubmed/24569458\n",
      "      * civic non-small cell lung carcinoma ['Sorafenib']\n",
      "        Sorafenib can inhibit ARF-mediated MEK phosphorylation and soft agar colony formation of AALE cells expressing ARAF S214C in vitro.\n",
      "      * civic non-small cell lung carcinoma ['TRAMETINIB']\n",
      "        Trametinib can inhibit ARF-mediated ERK phosphorylation and soft agar colony formation of AALE cells expressing ARAF S214C in vitro.\n",
      "\n",
      "## ~biomarker_type\n",
      "\n",
      "   * B http://www.ncbi.nlm.nih.gov/pubmed/16282176\n",
      "      * civic glioblastoma multiforme ['GEFITINIB', 'Erlotinib']\n",
      "        Expression of EGFRvIII and PTEN was evaluated in 26 patients with glioblastomas treated with erlotinib or gefitinib and no EGFR or Her2/neu kinase domain mutations. 7 patients responded to treatment while 19 progressed rapidly. Coexpression of EGFRvIII and PTEN was associated with clinical response (defined as 25% tumor shrinkage). These results were confirmed using IHC in an independent cohort of 33 patients (8 responders) treated with erlotinib at another institution.\n",
      "   * C http://www.ncbi.nlm.nih.gov/pubmed/26951309\n",
      "      * jax renal cell carcinoma ['EVEROLIMUS']\n",
      "        In a retrospective analysis from a Phase II clinical trial, patients with metastatic renal cell carcinoma treated with Afinitor (everolimus) had no difference in progression free survival when stratified by the presence (n=21) or absence (n=17) of PIK3CA activating mutations (PMID: 26951309).\n",
      "      * jax renal cell carcinoma ['EVEROLIMUS']\n",
      "        In a retrospective analysis from a Phase II clinical trial, patients with metastatic renal cell carcinoma treated with Afinitor (everolimus) had no difference in progression free survival when stratified by high expression (n=17) and low expression (n=21) of Pten (PMID: 26951309).\n",
      "   * D http://www.ncbi.nlm.nih.gov/pubmed/24265152\n",
      "      * jax melanoma ['VEMURAFENIB']\n",
      "        In a preclinical study, expression of AKT1 Q79K in a wild-type PTEN-expressing BRAF V600-mutant melanoma cell line conferred resistance to Zelboraf (vemurafenib) in culture (PMID: 24265152).\n",
      "      * jax melanoma ['VEMURAFENIB']\n",
      "        In a preclinical study, the combination of MK2206 and Zelboraf (vemurafenib) inhibited AKT activation and growth of PTEN-expressing BRAF V600-mutant melanoma cells expressing AKT1 Q79K in culture, with increased efficacy over either agent alone (PMID: 24265152).\n",
      "\n",
      "## genes\n",
      "\n",
      "   * B http://www.ncbi.nlm.nih.gov/pubmed/27091708\n",
      "      * civic Her2-receptor positive breast cancer ['EVEROLIMUS']\n",
      "        Archival tumor samples from 549 patients from the BOLERO-1 and -3 trials were analyzed for alterations in the PI3K pathway using next-generation sequencing, immunohistochemistry (IHC) and Sanger sequencing. In the BOLERO trials, patients with HER2-overexpressing advanced breast cancer were treated with trastuzumab, chemotherapy and randomized to receive either everolimus or placebo. In the pooled analysis of both trials, patients with PTEN loss (as defined by IHC staining intensity and proportion of positive tumor cells) had a longer progression-free survival with everolimus compared to placebo (HR 0.54 (95%CI 0.31 to 0.96, P=0.04) whereas patients with PTEN normal status had a hazard ration of 1.00 (95%CI 0.8 to 1.26, P=0.97).\n",
      "The same was found when PI3K mutations, PTEN loss and AKT E17K mutations were combined and analyzed as hyperactive PI3K pathway. Patients with PI3K hyperactive pathway had a hazard ratio of 0.67 (95%CI 0.48 to 0.93, P=0.02) compared to HR 1.19 (95%CI 0.87 to 1.62, P=0.28) in patients with PI3K normal pathway. These trends were independently confirmed in both trials but only pooled results showed consistent statistical significance.\n",
      "      * cgi breast adenocarcinoma ['EVEROLIMUS', 'TRASTUZUMAB', 'mAb']\n",
      "        PTEN ERBB2 Everolimus + Trastuzumab + Chemotherapy (MTOR inhibitor + ERBB2 mAb inhibitor + Chemotherapy) Responsive\n",
      "   * C http://www.ncbi.nlm.nih.gov/pubmed/26861905\n",
      "      * jax sarcoma ['Imatinib']\n",
      "        In a retrospective analysis, patients with desmoid fibromatosis harboring CTNNB1 activating mutations demonstrated a greater progression arrest rate at 6 months compared to patients with CTNNB1 wild-type when treated with Gleevec (imatinib) (PMID: 26861905).\n",
      "      * jax sarcoma ['Imatinib']\n",
      "        In a retrospective analysis, patients with desmoid fibromatosis harboring CTNNB1 S45F demonstrated a greater progression arrest rate at 6 months (85%) compared to patients with CTNNB1 wild-type (45%) when treated with Gleevec (imatinib) (PMID: 26861905). \n",
      "   * D http://www.ncbi.nlm.nih.gov/pubmed/21358673\n",
      "      * civic breast cancer ['EVEROLIMUS', 'PP242']\n",
      "        In a panel of 31 breast cancer cell lines, 11 had loss of PTEN function. Cells were tested for sensitivity to mTORC1 inhibitor everolimus and mTORC1/2 inhibitor PP242, and no significant correlation was found between PTEN status and sensitivity to mTORC inhibition.\n",
      "      * jax breast cancer ['EVEROLIMUS']\n",
      "        In a preclinical study, breast cancer cells harboring PIK3CA wild-type and PTEN loss did not demonstrate any benefit when treated with a combination of Afinitor (everolimus) and U0126 (PMID: 21358673). \n",
      "\n",
      "## pathways\n",
      "\n",
      "   * A https://www.ncbi.nlm.nih.gov/pubmed/24202392\n",
      "      * molecularmatch lung adenocarcinoma ['AFATINIB']\n",
      "        KRAS Q61P confers resistance to Afatinib in patients with Neoplasm of lung\n",
      "      * molecularmatch lung adenocarcinoma ['AFATINIB']\n",
      "        KRAS G13D confers resistance to Afatinib in patients with Neoplasm of lung\n",
      "   * B http://www.ncbi.nlm.nih.gov/pubmed/20818844\n",
      "      * civic melanoma ['VEMURAFENIB']\n",
      "        Multicenter, phase 1, dose-escalation trial of PLX4032 (Vemurafenib). Treatment of metastatic melanoma with PLX4032 in patients with tumors that carry the V600E BRAF mutation resulted in complete or partial tumor regression in the majority of patients. Patients without the V600E mutation had evidence of tumor regression.\n",
      "      * oncokb histiocytosis ['VEMURAFENIB']\n",
      "        Standard of care biomarker predictive of response to an FDA-approved drug in this indication\n",
      "   * C http://www.ncbi.nlm.nih.gov/pubmed/19779040\n",
      "      * civic chronic myeloid leukemia ['DASATINIB']\n",
      "        In a retrospective study of 1084 imatinib-resistant or -intolerant, chronic myeloid leukemia (chronic-phase) patients, patients with a mutation in the ABL1 portion of the BCR-ABL gene fusion were associated with a favorable complete hematologic response (CHR), major cytogenetic response (MCyR), complete cytogenetic response (CCyR), and major molecular response (MMR) to dasatinib monotherapy (CHR= 92% (362/402) vs. CHR= 90% (593/641), MCyR= 56% (225/402) vs. MCyR= 65% (414/614), CCyR= 44% (175/402) vs. CCyR= 56% (358/641), MMR= 33% (125/383) vs. MMR= 45% (274/609), comparable to patients without mutation in the ABL1 portion.\n",
      "      * civic chronic myeloid leukemia ['DASATINIB']\n",
      "        In a retrospective study of 1084 imatinib-resistant or -intolerant, chronic myeloid leukemia (chronic-phase) patients, patients with a mutation in the ABL1 portion of the BCR-ABL gene fusion were associated with a favorable complete hematologic response (CHR), major cytogenetic response (MCyR), complete cytogenetic response (CCyR), and major molecular response (MMR) to dasatinib monotherapy (CHR= 92% (362/402) vs. CHR= 90% (593/641), MCyR= 56% (225/402) vs. MCyR= 65% (414/614), CCyR= 44% (175/402) vs. CCyR= 56% (358/641), MMR= 33% (125/383) vs. MMR= 45% (274/609), comparable to patients without mutation in the ABL1 portion.\n",
      "   * D http://www.ncbi.nlm.nih.gov/pubmed/28783719\n"
     ]
    },
    {
     "name": "stdout",
     "output_type": "stream",
     "text": [
      "      * jax melanoma ['TRAMETINIB']\n",
      "        In a preclinical study, Mekinist (trametinib) reduced ERK signaling and inhibited proliferation of a melanoma cell line harboring BRAF D594G in culture (PMID: 28783719).\n",
      "      * jax collecting duct carcinoma ['TRAMETINIB']\n",
      "        In a preclinical study, the combination of Mekinist (trametinib) and Capmatinib (INC280) induced tumor regression in a patient-derived xenograft (PDX) model derived from the ovarian metastasis of a patient with collecting duct carcinoma, which harbored BRAF D594N and BRAF G466A and had high levels of MET and EGFR expression (PMID: 28783719).\n"
     ]
    }
   ],
   "source": [
    "query_names = ['alleles', '~location', '~range', 'protein_effects', 'protein_domain', '~biomarker_type',  'genes' , 'pathways']\n",
    "evidence_levels = ['A', 'B', 'C', 'D']\n",
    "limit = 2\n",
    "print '# {}\\n'.format(dataset_name)\n",
    "for name in query_names:\n",
    "    df = pd.DataFrame()\n",
    "    for allele in data_frames.keys():\n",
    "        if name in data_frames[allele] and len(data_frames[allele][name]):\n",
    "            df = df.append(data_frames[allele][name])\n",
    "    if len(df) == 0:\n",
    "        continue\n",
    "    print '\\n## {}\\n'.format(name)\n",
    "    for evidence_level in evidence_levels:\n",
    "        evidence_level_df = df[df.evidence_label == evidence_level]\n",
    "        if len(evidence_level_df):\n",
    "            publication = top(evidence_level_df, fields=['publications'], size=1)[0]['value']\n",
    "            print '   *',evidence_level, publication\n",
    "            c = 0\n",
    "            for evidence in evidence_level_df.to_records():\n",
    "                if publication in evidence.publications:\n",
    "                    print '      *', evidence.source, evidence.phenotype, evidence.drugs\n",
    "                    print '       ', evidence.description \n",
    "                    c += 1\n",
    "                    if c == limit:\n",
    "                        break\n"
   ]
  },
  {
   "cell_type": "code",
   "execution_count": null,
   "metadata": {},
   "outputs": [],
   "source": []
  }
 ],
 "metadata": {
  "kernelspec": {
   "display_name": "Python 2",
   "language": "python",
   "name": "python2"
  },
  "language_info": {
   "codemirror_mode": {
    "name": "ipython",
    "version": 2
   },
   "file_extension": ".py",
   "mimetype": "text/x-python",
   "name": "python",
   "nbconvert_exporter": "python",
   "pygments_lexer": "ipython2",
   "version": "2.7.13"
  }
 },
 "nbformat": 4,
 "nbformat_minor": 2
}
