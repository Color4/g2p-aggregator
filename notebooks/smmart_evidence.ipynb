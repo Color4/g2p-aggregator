{
 "cells": [
  {
   "cell_type": "code",
   "execution_count": 84,
   "metadata": {},
   "outputs": [],
   "source": [
    "# !jupyter nbextension enable --py --sys-prefix widgetsnbextension\n",
    "# !jupyter nbextension enable --py --sys-prefix qgrid\n",
    "import pandas as pd\n",
    "import numpy as np\n",
    "import matplotlib.pyplot as plt\n",
    "import qgrid\n",
    "import g2p_client\n",
    "from IPython.display import IFrame    \n",
    "import re\n",
    "from IPython.display import Javascript\n",
    "from collections import Counter\n",
    "from IPython.display import display, Markdown  \n",
    "\n",
    "\n",
    "\n",
    " \n"
   ]
  },
  {
   "cell_type": "code",
   "execution_count": 77,
   "metadata": {},
   "outputs": [],
   "source": [
    "\n",
    "%env BIOONTOLOGY_API_KEY=fb76114e-2eff-4a05-9a2e-eba5b9fb6f0e\n",
    "\n",
    "p115 = [{'description': '', 'start': 27100988L, 'biomarker_type': 'substitution', 'referenceName': 'GRCh37', 'geneSymbol': 'ARID1A', 'alt': 'T', 'ref': 'C', 'chromosome': '1', 'name': 'ARID1A '}, {'description': '', 'start': 204494718L, 'biomarker_type': 'substitution', 'referenceName': 'GRCh37', 'geneSymbol': 'MDM4', 'alt': 'G', 'ref': 'C', 'chromosome': '1', 'name': 'MDM4 '}, {'description': '', 'start': 30143341L, 'biomarker_type': 'substitution', 'referenceName': 'GRCh37', 'geneSymbol': 'ALK', 'alt': 'A', 'ref': 'G', 'chromosome': '2', 'name': 'ALK '}, {'description': '', 'start': 48028096L, 'biomarker_type': 'substitution', 'referenceName': 'GRCh37', 'geneSymbol': 'MSH6', 'alt': 'C', 'ref': 'G', 'chromosome': '2', 'name': 'MSH6 '}, {'description': '', 'start': 10084764L, 'biomarker_type': 'substitution', 'referenceName': 'GRCh37', 'geneSymbol': 'FANCD2', 'alt': 'G', 'ref': 'C', 'chromosome': '3', 'name': 'FANCD2 '}, {'description': '', 'start': 142185372L, 'biomarker_type': 'substitution', 'referenceName': 'GRCh37', 'geneSymbol': 'ATR', 'alt': 'G', 'ref': 'C', 'chromosome': '3', 'name': 'ATR '}, {'description': '', 'start': 178916923L, 'biomarker_type': 'indel', 'referenceName': 'GRCh37', 'geneSymbol': 'PIK3CA', 'alt': 'C', 'ref': 'CCAGTAG', 'chromosome': '3', 'name': 'PIK3CA '}, {'description': '', 'start': 117647566L, 'biomarker_type': 'substitution', 'referenceName': 'GRCh37', 'geneSymbol': 'ROS1', 'alt': 'C', 'ref': 'G', 'chromosome': '6', 'name': 'ROS1 '}, {'description': '', 'start': 87285753L, 'biomarker_type': 'substitution', 'referenceName': 'GRCh37', 'geneSymbol': 'NTRK2', 'alt': 'G', 'ref': 'C', 'chromosome': '9', 'name': 'NTRK2 '}, {'description': '', 'start': 108106483L, 'biomarker_type': 'substitution', 'referenceName': 'GRCh37', 'geneSymbol': 'ATM', 'alt': 'C', 'ref': 'G', 'chromosome': '11', 'name': 'ATM '}, {'description': '', 'start': 45618180L, 'biomarker_type': 'substitution', 'referenceName': 'GRCh37', 'geneSymbol': 'FANCM', 'alt': 'G', 'ref': 'C', 'chromosome': '14', 'name': 'FANCM '}, {'description': '', 'start': 45644454L, 'biomarker_type': 'substitution', 'referenceName': 'GRCh37', 'geneSymbol': 'FANCM', 'alt': 'C', 'ref': 'G', 'chromosome': '14', 'name': 'FANCM '}, {'description': '', 'start': 2110733L, 'biomarker_type': 'substitution', 'referenceName': 'GRCh37', 'geneSymbol': 'TSC2', 'alt': 'G', 'ref': 'C', 'chromosome': '16', 'name': 'TSC2 '}, {'description': 'GAIN Copy Number Ratio 3.0528', 'start': 39771328L, 'biomarker_type': 'copy_number_variation', 'referenceName': 'GRCh37', 'geneSymbol': 'IDO1', 'alt': '', 'ref': '', 'chromosome': '8', 'name': 'IDO1 '}, {'description': 'GAIN Copy Number Ratio 5.3306', 'start': 39792474L, 'biomarker_type': 'copy_number_variation', 'referenceName': 'GRCh37', 'geneSymbol': 'IDO2', 'alt': '', 'ref': '', 'chromosome': '8', 'name': 'IDO2 '}, {'description': 'LOSS Copy Number Ratio 0.3497', 'start': 21967751L, 'biomarker_type': 'copy_number_variation', 'referenceName': 'GRCh37', 'geneSymbol': 'CDKN2A', 'alt': '', 'ref': '', 'chromosome': '9', 'name': 'CDKN2A '}, {'description': 'GAIN Copy Number Ratio 7.5539', 'start': 38268656L, 'biomarker_type': 'copy_number_variation', 'referenceName': 'GRCh37', 'geneSymbol': 'FGFR1', 'alt': '', 'ref': '', 'chromosome': '8', 'name': 'FGFR1 '}, {'description': 'LOSS Copy Number Ratio 0.5662', 'start': 89623195L, 'biomarker_type': 'copy_number_variation', 'referenceName': 'GRCh37', 'geneSymbol': 'PTEN', 'alt': '', 'ref': '', 'chromosome': '10', 'name': 'PTEN '}, {'description': 'GAIN Copy Number Ratio 2.883', 'start': 69455873L, 'biomarker_type': 'copy_number_variation', 'referenceName': 'GRCh37', 'geneSymbol': 'CCND1', 'alt': '', 'ref': '', 'chromosome': '11', 'name': 'CCND1 '}, {'description': 'GAIN Copy Number Ratio 2.0415', 'start': 128748315L, 'biomarker_type': 'copy_number_variation', 'referenceName': 'GRCh37', 'geneSymbol': 'MYC', 'alt': '', 'ref': '', 'chromosome': '8', 'name': 'MYC '}]  # NOQA\n",
    "p204 = [{'end': 41266125L, 'name': 'CTNNB1 p.T41I', 'start': 41266125L, 'biomarker_type': 'Missense_Mutation', 'referenceName': 'GRCh37', 'geneSymbol': 'CTNNB1', 'alt': 'T', 'ref': 'C', 'chromosome': '3', 'description': 'catenin (cadherin-associated protein), beta 1, 88kDa'}, {'end': 142188239L, 'name': 'ATR p.I2164M', 'start': 142188239L, 'biomarker_type': 'Missense_Mutation', 'referenceName': 'GRCh37', 'geneSymbol': 'ATR', 'alt': 'C', 'ref': 'T', 'chromosome': '3', 'description': 'ATR serine/threonine kinase'}, {'end': 89685310L, 'name': 'PTEN p.-70fs', 'start': 89685309L, 'biomarker_type': 'Frame_Shift_Ins', 'referenceName': 'GRCh37', 'geneSymbol': 'PTEN', 'alt': 'AATCT', 'ref': '-', 'chromosome': '10', 'description': 'phosphatase and tensin homolog'}, {'end': 41266125L, 'name': 'CTNNB1 p.T41I', 'start': 41266125L, 'biomarker_type': 'Missense_Mutation', 'referenceName': 'GRCh37', 'geneSymbol': 'CTNNB1', 'alt': 'T', 'ref': 'C', 'chromosome': '3', 'description': 'catenin (cadherin-associated protein), beta 1, 88kDa'}, {'end': 1584977L, 'name': 'P2RY8 p.A159T', 'start': 1584977L, 'biomarker_type': 'Missense_Mutation', 'referenceName': 'GRCh37', 'geneSymbol': 'P2RY8', 'alt': 'T', 'ref': 'C', 'chromosome': 'X', 'description': 'purinergic receptor P2Y, G-protein coupled, 8'}, {'end': 170802031L, 'name': 'TNIK p.T1028A', 'start': 170802031L, 'biomarker_type': 'Missense_Mutation', 'referenceName': 'GRCh37', 'geneSymbol': 'TNIK', 'alt': 'C', 'ref': 'T', 'chromosome': '3', 'description': 'TRAF2 and NCK interacting kinase'}, {'end': 118764345L, 'name': 'CXCR5 p.S31F', 'start': 118764345L, 'biomarker_type': 'Missense_Mutation', 'referenceName': 'GRCh37', 'geneSymbol': 'CXCR5', 'alt': 'T', 'ref': 'C', 'chromosome': '11', 'description': 'chemokine (C-X-C motif) receptor 5'}, {'end': 136071095L, 'name': 'ZRANB3 p.L310F', 'start': 136071095L, 'biomarker_type': 'Missense_Mutation', 'referenceName': 'GRCh37', 'geneSymbol': 'ZRANB3', 'alt': 'G', 'ref': 'C', 'chromosome': '2', 'description': 'zinc finger, RAN-binding domain containing 3'}, {'end': 228566043L, 'name': 'OBSCN p.V8839A', 'start': 228566043L, 'biomarker_type': 'Missense_Mutation', 'referenceName': 'GRCh37', 'geneSymbol': 'OBSCN', 'alt': 'C', 'ref': 'T', 'chromosome': '1', 'description': 'obscurin, cytoskeletal calmodulin and titin-interacting RhoGEF'}, {'end': 2097401L, 'name': 'STK35 p.L328V', 'start': 2097401L, 'biomarker_type': 'Missense_Mutation', 'referenceName': 'GRCh37', 'geneSymbol': 'STK35', 'alt': 'G', 'ref': 'C', 'chromosome': '20', 'description': 'serine/threonine kinase 35'}, {'end': 58130871L, 'name': 'AGAP2 p.A387T', 'start': 58130871L, 'biomarker_type': 'Missense_Mutation', 'referenceName': 'GRCh37', 'geneSymbol': 'AGAP2', 'alt': 'T', 'ref': 'C', 'chromosome': '12', 'description': 'ArfGAP with GTPase domain, ankyrin repeat and PH domain 2'}, {'end': 33690771L, 'name': 'IP6K3 p.R320H', 'start': 33690771L, 'biomarker_type': 'Missense_Mutation', 'referenceName': 'GRCh37', 'geneSymbol': 'IP6K3', 'alt': 'T', 'ref': 'C', 'chromosome': '6', 'description': 'inositol hexakisphosphate kinase 3'}, {'end': 101910837L, 'name': 'NALCN p.G408A', 'start': 101910837L, 'biomarker_type': 'Missense_Mutation', 'referenceName': 'GRCh37', 'geneSymbol': 'NALCN', 'alt': 'G', 'ref': 'C', 'chromosome': '13', 'description': 'sodium leak channel, non-selective'}, {'end': 57424051L, 'name': 'MYO1A p.R845K', 'start': 57424051L, 'biomarker_type': 'Missense_Mutation', 'referenceName': 'GRCh37', 'geneSymbol': 'MYO1A', 'alt': 'T', 'ref': 'C', 'chromosome': '12', 'description': 'myosin IA'}, {'end': 38211533L, 'name': 'TRPC4 p.R814K', 'start': 38211533L, 'biomarker_type': 'Missense_Mutation', 'referenceName': 'GRCh37', 'geneSymbol': 'TRPC4', 'alt': 'T', 'ref': 'C', 'chromosome': '13', 'description': 'transient receptor potential cation channel, subfamily C, member 4'}, {'end': 32257834L, 'name': 'SPOCD1 p.R982C', 'start': 32257834L, 'biomarker_type': 'Missense_Mutation', 'referenceName': 'GRCh37', 'geneSymbol': 'SPOCD1', 'alt': 'A', 'ref': 'G', 'chromosome': '1', 'description': 'SPOC domain containing 1'}, {'end': 28097282L, 'name': 'ZSCAN16 p.E201K', 'start': 28097282L, 'biomarker_type': 'Missense_Mutation', 'referenceName': 'GRCh37', 'geneSymbol': 'ZSCAN16', 'alt': 'A', 'ref': 'G', 'chromosome': '6', 'description': 'zinc finger and SCAN domain containing 16'}, {'end': 84628811L, 'name': 'SEMA3D p.R760Q', 'start': 84628811L, 'biomarker_type': 'Missense_Mutation', 'referenceName': 'GRCh37', 'geneSymbol': 'SEMA3D', 'alt': 'T', 'ref': 'C', 'chromosome': '7', 'description': 'sema domain, immunoglobulin domain (Ig), short basic domain, secreted, (semaphorin) 3D'}, {'end': 72400932L, 'name': 'NEGR1 p.A80V', 'start': 72400932L, 'biomarker_type': 'Missense_Mutation', 'referenceName': 'GRCh37', 'geneSymbol': 'NEGR1', 'alt': 'A', 'ref': 'G', 'chromosome': '1', 'description': 'neuronal growth regulator 1'}, {'end': 35778772L, 'name': 'ARPP21 p.P521L', 'start': 35778772L, 'biomarker_type': 'Missense_Mutation', 'referenceName': 'GRCh37', 'geneSymbol': 'ARPP21', 'alt': 'T', 'ref': 'C', 'chromosome': '3', 'description': 'cAMP-regulated phosphoprotein, 21kDa'}, {'end': 21016738L, 'name': 'KIF17 p.R442S', 'start': 21016738L, 'biomarker_type': 'Missense_Mutation', 'referenceName': 'GRCh37', 'geneSymbol': 'KIF17', 'alt': 'T', 'ref': 'G', 'chromosome': '1', 'description': 'kinesin family member 17'}, {'end': 51929267L, 'name': 'IQCF1 p.R86Q', 'start': 51929267L, 'biomarker_type': 'Missense_Mutation', 'referenceName': 'GRCh37', 'geneSymbol': 'IQCF1', 'alt': 'T', 'ref': 'C', 'chromosome': '3', 'description': 'IQ motif containing F1'}, {'end': 95188799L, 'name': 'CDH17 p.E132K', 'start': 95188799L, 'biomarker_type': 'Missense_Mutation', 'referenceName': 'GRCh37', 'geneSymbol': 'CDH17', 'alt': 'T', 'ref': 'C', 'chromosome': '8', 'description': 'cadherin 17, LI cadherin (liver-intestine)'}, {'end': 96117712L, 'name': 'CCDC82 p.L67P', 'start': 96117712L, 'biomarker_type': 'Missense_Mutation', 'referenceName': 'GRCh37', 'geneSymbol': 'CCDC82', 'alt': 'G', 'ref': 'A', 'chromosome': '11', 'description': 'coiled-coil domain containing 82'}, {'end': 105967614L, 'name': 'AASDHPPT p.R304*', 'start': 105967614L, 'biomarker_type': 'Nonsense_Mutation', 'referenceName': 'GRCh37', 'geneSymbol': 'AASDHPPT', 'alt': 'T', 'ref': 'C', 'chromosome': '11', 'description': 'aminoadipate-semialdehyde dehydrogenase-phosphopantetheinyl transferase'}, {'end': 31538698L, 'name': 'CLDN17 p.A80S', 'start': 31538698L, 'biomarker_type': 'Missense_Mutation', 'referenceName': 'GRCh37', 'geneSymbol': 'CLDN17', 'alt': 'A', 'ref': 'C', 'chromosome': '21', 'description': 'claudin 17'}, {'end': 38483424L, 'name': 'UTP11L p.M70I', 'start': 38483424L, 'biomarker_type': 'Missense_Mutation', 'referenceName': 'GRCh37', 'geneSymbol': 'UTP11L', 'alt': 'A', 'ref': 'G', 'chromosome': '1', 'description': 'UTP11-like, U3 small nucleolar ribonucleoprotein (yeast)'}, {'end': 155526050L, 'name': 'FGG p.Q433P', 'start': 155526050L, 'biomarker_type': 'Splice_Site', 'referenceName': 'GRCh37', 'geneSymbol': 'FGG', 'alt': 'G', 'ref': 'T', 'chromosome': '4', 'description': 'fibrinogen gamma chain'}, {'end': 148617051L, 'name': 'ABLIM3 p.A310V', 'start': 148617051L, 'biomarker_type': 'Missense_Mutation', 'referenceName': 'GRCh37', 'geneSymbol': 'ABLIM3', 'alt': 'T', 'ref': 'C', 'chromosome': '5', 'description': 'actin binding LIM protein family, member 3'}, {'end': 31895941L, 'name': 'CFB p.P86S', 'start': 31895941L, 'biomarker_type': 'Splice_Site', 'referenceName': 'GRCh37', 'geneSymbol': 'CFB', 'alt': 'T', 'ref': 'C', 'chromosome': '6', 'description': 'complement factor B'}, {'end': 18051501L, 'name': 'MYO15A p.A2223V', 'start': 18051501L, 'biomarker_type': 'Missense_Mutation', 'referenceName': 'GRCh37', 'geneSymbol': 'MYO15A', 'alt': 'T', 'ref': 'C', 'chromosome': '17', 'description': 'myosin XVA'}, {'end': 60969271L, 'name': 'CABLES2 p.S219C', 'start': 60969271L, 'biomarker_type': 'Missense_Mutation', 'referenceName': 'GRCh37', 'geneSymbol': 'CABLES2', 'alt': 'C', 'ref': 'G', 'chromosome': '20', 'description': 'Cdk5 and Abl enzyme substrate 2'}, {'end': 186096984L, 'name': 'KIAA1430 p.L426F', 'start': 186096984L, 'biomarker_type': 'Missense_Mutation', 'referenceName': 'GRCh37', 'geneSymbol': 'KIAA1430', 'alt': 'A', 'ref': 'G', 'chromosome': '4', 'description': ''}, {'end': 110056501L, 'name': 'FIG4 p.G216R', 'start': 110056501L, 'biomarker_type': 'Splice_Site', 'referenceName': 'GRCh37', 'geneSymbol': 'FIG4', 'alt': 'A', 'ref': 'G', 'chromosome': '6', 'description': 'FIG4 phosphoinositide 5-phosphatase'}, {'end': 67690336L, 'name': 'RLTPR p.C1275Y', 'start': 67690336L, 'biomarker_type': 'Missense_Mutation', 'referenceName': 'GRCh37', 'geneSymbol': 'RLTPR', 'alt': 'A', 'ref': 'G', 'chromosome': '16', 'description': 'RGD motif, leucine rich repeats, tropomodulin domain and proline-rich containing'}, {'end': 67702418L, 'name': 'C16orf86 p.D290G', 'start': 67702418L, 'biomarker_type': 'Missense_Mutation', 'referenceName': 'GRCh37', 'geneSymbol': 'C16orf86', 'alt': 'G', 'ref': 'A', 'chromosome': '16', 'description': 'chromosome 16 open reading frame 86'}]\n",
    "\n",
    "dataset_features = p204\n",
    "\n",
    "dataset_name = 'p204'"
   ]
  },
  {
   "cell_type": "code",
   "execution_count": 78,
   "metadata": {},
   "outputs": [],
   "source": [
    "\n",
    "def allele_identifier(feature):\n",
    "    is_HG37 = re.compile('NC_.*\\.10:g')    \n",
    "    for s in feature.get('synonyms', []):\n",
    "        if is_HG37.match(s):\n",
    "            return '{} {}'.format(feature['geneSymbol'], s)\n",
    "    return '{} {} {}'.format(feature['geneSymbol'], feature['start'], feature['sequence_ontology']['name'])\n",
    "\n",
    "\n",
    "def to_df(generator, features ):\n",
    "    \n",
    "    def to_dict(generator, features):\n",
    "        for hit in generator:\n",
    "            drugs = [ec['term'].encode('utf-8') for ec in hit['association']['environmentalContexts']]\n",
    "            description = hit['association']['description'].encode('utf-8')\n",
    "            source = hit['source'].encode('utf-8')\n",
    "            evidence_label = hit['association']['evidence_label']\n",
    "            id = hit['evidence.id']\n",
    "            phenotype = hit['association']['phenotype']['type']['term'].encode('utf-8')\n",
    "            publications = []\n",
    "            matches = []\n",
    "            \n",
    "            \n",
    "            try:        \n",
    "                for f in features:\n",
    "                    matches.append(allele_identifier(f))\n",
    "                    for f2 in hit['features']:\n",
    "                        for s in f.get('synonyms', []):\n",
    "                            if s in f2.get('synonyms', []):\n",
    "                                matches.append(s)\n",
    "                            for p in f.get('pathways',[]):\n",
    "                                if p in f2.get('pathways',[]):\n",
    "                                    # matches.append(p)\n",
    "                                    matches.append('pathway')\n",
    "                        for sp in f.get('swissprots',[]):\n",
    "                            if sp in f2.get('swissprots',[]):\n",
    "                                matches.append(sp)\n",
    "\n",
    "                        if f.get('sequence_ontology', {'name':'X'}) == f2.get('sequence_ontology', {'name':None}):\n",
    "                            matches.append(f['sequence_ontology']['name'])\n",
    "\n",
    "                        if f['geneSymbol'] == f2.get('geneSymbol', None):\n",
    "                            matches.append(f['geneSymbol'])\n",
    "                            \n",
    "                matches = list(set(matches))\n",
    "                \n",
    "                for e in hit['association']['evidence']:\n",
    "                    for p in e['info']['publications']:\n",
    "                        publications.append(p)\n",
    "\n",
    "\n",
    "                yield {'id':id,\n",
    "                       'source': source,\n",
    "                       'evidence_label': evidence_label,\n",
    "                       'drugs': drugs,\n",
    "                       'description': description,\n",
    "                       'phenotype':phenotype,\n",
    "                       'publications':publications,\n",
    "                       'matches': matches\n",
    "                      }\n",
    "            except Exception as e:\n",
    "                print '!!!',e\n",
    "                \n",
    "    \n",
    "    try:        \n",
    "        return pd.DataFrame.from_records( to_dict(generator, features) , index='id')\n",
    "    except Exception as e:\n",
    "        return pd.DataFrame()\n",
    "    \n",
    "\n",
    "def allele_identifierOLD(feature_associations):\n",
    "    is_HG37 = re.compile('NC_.*\\.10:g')    \n",
    "    for fa in feature_associations:\n",
    "        for f in fa['features']:\n",
    "            for s in f.get('synonyms', []):\n",
    "                if is_HG37.match(s):\n",
    "                    return '{} {}'.format(f['geneSymbol'], s)\n",
    "            return '{} {} {}'.format(f['geneSymbol'], f['start'], f['sequence_ontology']['name'])\n",
    "\n",
    "        \n",
    "def biomarker_type(feature_associations):\n",
    "    for fa in feature_associations:\n",
    "        for f in fa['features']:\n",
    "            return f['biomarker_type']\n",
    "        "
   ]
  },
  {
   "cell_type": "code",
   "execution_count": 79,
   "metadata": {
    "scrolled": true
   },
   "outputs": [
    {
     "name": "stderr",
     "output_type": "stream",
     "text": [
      "WARNING:root:normalize_drugs NODRUGS ad-hoc\n"
     ]
    },
    {
     "name": "stdout",
     "output_type": "stream",
     "text": [
      "http://reg.genome.network/allele?hgvs=NC_000003.11%3Ag.41266125C%3ET\n",
      "https://grch37.rest.ensembl.org/vep/human/hgvs/ENSP00000411226.1:p.Thr34Ile?domains=1&protein=1&uniprot=1\n",
      "https://grch37.rest.ensembl.org/vep/human/hgvs/ENSP00000409302.1:p.Thr41Ile?domains=1&protein=1&uniprot=1\n",
      "https://grch37.rest.ensembl.org/vep/human/hgvs/ENSP00000412219.1:p.Thr41Ile?domains=1&protein=1&uniprot=1\n",
      "https://grch37.rest.ensembl.org/vep/human/hgvs/ENSP00000379486.3:p.Thr41Ile?domains=1&protein=1&uniprot=1\n",
      "https://grch37.rest.ensembl.org/vep/human/hgvs/ENSP00000401599.1:p.Thr41Ile?domains=1&protein=1&uniprot=1\n",
      "https://grch37.rest.ensembl.org/vep/human/hgvs/ENSP00000385604.1:p.Thr41Ile?domains=1&protein=1&uniprot=1\n",
      "https://grch37.rest.ensembl.org/vep/human/hgvs/ENSP00000379488.3:p.Thr41Ile?domains=1&protein=1&uniprot=1\n",
      "https://grch37.rest.ensembl.org/vep/human/hgvs/ENSP00000400508.1:p.Thr34Ile?domains=1&protein=1&uniprot=1\n",
      "https://grch37.rest.ensembl.org/vep/human/hgvs/ENSP00000344456.5:p.Thr41Ile?domains=1&protein=1&uniprot=1\n",
      "http://www.pathwaycommons.org/pc2/search.json?q=P35222&organism=homo%20sapiens\n"
     ]
    },
    {
     "name": "stderr",
     "output_type": "stream",
     "text": [
      "WARNING:root:normalize_drugs NODRUGS ad-hoc\n"
     ]
    },
    {
     "name": "stdout",
     "output_type": "stream",
     "text": [
      "http://reg.genome.network/allele?hgvs=NC_000003.11%3Ag.142188239T%3EC\n",
      "https://grch37.rest.ensembl.org/vep/human/hgvs/ENSP00000343741.4:p.Ile2164Met?domains=1&protein=1&uniprot=1\n",
      "http://www.pathwaycommons.org/pc2/search.json?q=Q13535&organism=homo%20sapiens\n"
     ]
    },
    {
     "name": "stderr",
     "output_type": "stream",
     "text": [
      "WARNING:root:normalize_drugs NODRUGS ad-hoc\n"
     ]
    },
    {
     "name": "stdout",
     "output_type": "stream",
     "text": [
      "http://reg.genome.network/allele?hgvs=NC_000010.10%3Ag.89685309_89685310insAATCT\n"
     ]
    },
    {
     "name": "stderr",
     "output_type": "stream",
     "text": [
      "WARNING:root:normalize_drugs NODRUGS ad-hoc\n"
     ]
    },
    {
     "name": "stdout",
     "output_type": "stream",
     "text": [
      "http://reg.genome.network/allele?hgvs=NC_000003.11%3Ag.41266125C%3ET\n",
      "https://grch37.rest.ensembl.org/vep/human/hgvs/ENSP00000411226.1:p.Thr34Ile?domains=1&protein=1&uniprot=1\n",
      "https://grch37.rest.ensembl.org/vep/human/hgvs/ENSP00000409302.1:p.Thr41Ile?domains=1&protein=1&uniprot=1\n",
      "https://grch37.rest.ensembl.org/vep/human/hgvs/ENSP00000412219.1:p.Thr41Ile?domains=1&protein=1&uniprot=1\n",
      "https://grch37.rest.ensembl.org/vep/human/hgvs/ENSP00000379486.3:p.Thr41Ile?domains=1&protein=1&uniprot=1\n",
      "https://grch37.rest.ensembl.org/vep/human/hgvs/ENSP00000401599.1:p.Thr41Ile?domains=1&protein=1&uniprot=1\n",
      "https://grch37.rest.ensembl.org/vep/human/hgvs/ENSP00000385604.1:p.Thr41Ile?domains=1&protein=1&uniprot=1\n",
      "https://grch37.rest.ensembl.org/vep/human/hgvs/ENSP00000379488.3:p.Thr41Ile?domains=1&protein=1&uniprot=1\n",
      "https://grch37.rest.ensembl.org/vep/human/hgvs/ENSP00000400508.1:p.Thr34Ile?domains=1&protein=1&uniprot=1\n",
      "https://grch37.rest.ensembl.org/vep/human/hgvs/ENSP00000344456.5:p.Thr41Ile?domains=1&protein=1&uniprot=1\n",
      "http://www.pathwaycommons.org/pc2/search.json?q=P35222&organism=homo%20sapiens\n"
     ]
    },
    {
     "name": "stderr",
     "output_type": "stream",
     "text": [
      "WARNING:root:normalize_drugs NODRUGS ad-hoc\n"
     ]
    },
    {
     "name": "stdout",
     "output_type": "stream",
     "text": [
      "http://reg.genome.network/allele?hgvs=NC_000023.10%3Ag.1584977C%3ET\n",
      "https://grch37.rest.ensembl.org/vep/human/hgvs/ENSP00000370697.4:p.Ala159Thr?domains=1&protein=1&uniprot=1\n",
      "http://www.pathwaycommons.org/pc2/search.json?q=Q86VZ1&organism=homo%20sapiens\n"
     ]
    },
    {
     "name": "stderr",
     "output_type": "stream",
     "text": [
      "WARNING:root:normalize_drugs NODRUGS ad-hoc\n"
     ]
    },
    {
     "name": "stdout",
     "output_type": "stream",
     "text": [
      "http://reg.genome.network/allele?hgvs=NC_000003.11%3Ag.170802031T%3EC\n",
      "https://grch37.rest.ensembl.org/vep/human/hgvs/ENSP00000284483.8:p.Thr1020Ala?domains=1&protein=1&uniprot=1\n",
      "https://grch37.rest.ensembl.org/vep/human/hgvs/ENSP00000349880.5:p.Thr999Ala?domains=1&protein=1&uniprot=1\n",
      "https://grch37.rest.ensembl.org/vep/human/hgvs/ENSP00000345352.6:p.Thr944Ala?domains=1&protein=1&uniprot=1\n",
      "https://grch37.rest.ensembl.org/vep/human/hgvs/ENSP00000419990.1:p.Thr991Ala?domains=1&protein=1&uniprot=1\n",
      "https://grch37.rest.ensembl.org/vep/human/hgvs/ENSP00000418378.1:p.Thr973Ala?domains=1&protein=1&uniprot=1\n",
      "https://grch37.rest.ensembl.org/vep/human/hgvs/ENSP00000418916.1:p.Thr965Ala?domains=1&protein=1&uniprot=1\n",
      "https://grch37.rest.ensembl.org/vep/human/hgvs/ENSP00000418156.1:p.Thr936Ala?domains=1&protein=1&uniprot=1\n",
      "https://grch37.rest.ensembl.org/vep/human/hgvs/ENSP00000399511.2:p.Thr1028Ala?domains=1&protein=1&uniprot=1\n",
      "http://www.pathwaycommons.org/pc2/search.json?q=Q9UKE5&organism=homo%20sapiens\n"
     ]
    },
    {
     "name": "stderr",
     "output_type": "stream",
     "text": [
      "WARNING:root:normalize_drugs NODRUGS ad-hoc\n"
     ]
    },
    {
     "name": "stdout",
     "output_type": "stream",
     "text": [
      "http://reg.genome.network/allele?hgvs=NC_000011.9%3Ag.118764345C%3ET\n",
      "https://grch37.rest.ensembl.org/vep/human/hgvs/ENSP00000292174.4:p.Ser31Phe?domains=1&protein=1&uniprot=1\n",
      "http://www.pathwaycommons.org/pc2/search.json?q=Q86UU0&organism=homo%20sapiens\n",
      "http://www.pathwaycommons.org/pc2/search.json?q=P32302&organism=homo%20sapiens\n"
     ]
    },
    {
     "name": "stderr",
     "output_type": "stream",
     "text": [
      "WARNING:root:normalize_drugs NODRUGS ad-hoc\n",
      "WARNING:root:normalize_drugs NODRUGS ad-hoc\n"
     ]
    },
    {
     "name": "stdout",
     "output_type": "stream",
     "text": [
      "http://reg.genome.network/allele?hgvs=NC_000002.11%3Ag.136071095C%3EG\n",
      "https://grch37.rest.ensembl.org/vep/human/hgvs/ENSP00000264159.6:p.Leu310Phe?domains=1&protein=1&uniprot=1\n",
      "{u'error': u\"Unable to parse HGVS notation 'ENSP00000264159.6:p.Leu310Phe':  : Could not uniquely determine nucleotide change from ENSP00000264159.6:p.Leu310Phe: Could not get a Transcript object for 'ENSP00000264159'\"} https://grch37.rest.ensembl.org/vep/human/hgvs/ENSP00000264159.6:p.Leu310Phe?domains=1&protein=1&uniprot=1\n",
      "https://grch37.rest.ensembl.org/vep/human/hgvs/ENSP00000384245.2:p.Leu310Phe?domains=1&protein=1&uniprot=1\n",
      "{u'error': u\"Unable to parse HGVS notation 'ENSP00000384245.2:p.Leu310Phe':  : Could not uniquely determine nucleotide change from ENSP00000384245.2:p.Leu310Phe: Could not get a Transcript object for 'ENSP00000384245'\"} https://grch37.rest.ensembl.org/vep/human/hgvs/ENSP00000384245.2:p.Leu310Phe?domains=1&protein=1&uniprot=1\n",
      "https://grch37.rest.ensembl.org/vep/human/hgvs/ENSP00000383979.1:p.Leu310Phe?domains=1&protein=1&uniprot=1\n",
      "{u'error': u\"Unable to parse HGVS notation 'ENSP00000383979.1:p.Leu310Phe':  : Could not uniquely determine nucleotide change from ENSP00000383979.1:p.Leu310Phe: Could not get a Transcript object for 'ENSP00000383979'\"} https://grch37.rest.ensembl.org/vep/human/hgvs/ENSP00000383979.1:p.Leu310Phe?domains=1&protein=1&uniprot=1\n",
      "http://reg.genome.network/allele?hgvs=NC_000001.10%3Ag.228566043T%3EC\n",
      "https://grch37.rest.ensembl.org/vep/human/hgvs/ENSP00000409493.1:p.Val7884Ala?domains=1&protein=1&uniprot=1\n",
      "https://grch37.rest.ensembl.org/vep/human/hgvs/ENSP00000455507.2:p.Val8839Ala?domains=1&protein=1&uniprot=1\n",
      "https://grch37.rest.ensembl.org/vep/human/hgvs/ENSP00000355668.5:p.Val8841Ala?domains=1&protein=1&uniprot=1\n",
      "{u'error': u\"Unable to parse HGVS notation 'ENSP00000355668.5:p.Val8841Ala':  : Unable to map the peptide coordinate 8841 to genomic coordinates for protein ENSP00000355668: Could not get a Transcript object for 'ENSP00000355668'\"} https://grch37.rest.ensembl.org/vep/human/hgvs/ENSP00000355668.5:p.Val8841Ala?domains=1&protein=1&uniprot=1\n",
      "http://www.pathwaycommons.org/pc2/search.json?q=Q5VST9&organism=homo%20sapiens\n"
     ]
    },
    {
     "name": "stderr",
     "output_type": "stream",
     "text": [
      "WARNING:root:normalize_drugs NODRUGS ad-hoc\n"
     ]
    },
    {
     "name": "stdout",
     "output_type": "stream",
     "text": [
      "http://reg.genome.network/allele?hgvs=NC_000020.10%3Ag.2097401C%3EG\n",
      "https://grch37.rest.ensembl.org/vep/human/hgvs/ENSP00000370891.3:p.Leu328Val?domains=1&protein=1&uniprot=1\n",
      "https://grch37.rest.ensembl.org/vep/human/hgvs/ENSP00000426612.1:p.Leu189Val?domains=1&protein=1&uniprot=1\n",
      "http://www.pathwaycommons.org/pc2/search.json?q=Q8TDR2&organism=homo%20sapiens\n"
     ]
    },
    {
     "name": "stderr",
     "output_type": "stream",
     "text": [
      "WARNING:root:normalize_drugs NODRUGS ad-hoc\n"
     ]
    },
    {
     "name": "stdout",
     "output_type": "stream",
     "text": [
      "http://reg.genome.network/allele?hgvs=NC_000012.11%3Ag.58130871C%3ET\n",
      "https://grch37.rest.ensembl.org/vep/human/hgvs/ENSP00000449241.1:p.Ala387Thr?domains=1&protein=1&uniprot=1\n",
      "http://www.pathwaycommons.org/pc2/search.json?q=Q99490&organism=homo%20sapiens\n"
     ]
    },
    {
     "name": "stderr",
     "output_type": "stream",
     "text": [
      "WARNING:root:normalize_drugs NODRUGS ad-hoc\n"
     ]
    },
    {
     "name": "stdout",
     "output_type": "stream",
     "text": [
      "http://reg.genome.network/allele?hgvs=NC_000006.11%3Ag.33690771C%3ET\n",
      "https://grch37.rest.ensembl.org/vep/human/hgvs/ENSP00000398861.1:p.Arg320His?domains=1&protein=1&uniprot=1\n",
      "https://grch37.rest.ensembl.org/vep/human/hgvs/ENSP00000293756.4:p.Arg320His?domains=1&protein=1&uniprot=1\n",
      "http://www.pathwaycommons.org/pc2/search.json?q=Q96PC2&organism=homo%20sapiens\n"
     ]
    },
    {
     "name": "stderr",
     "output_type": "stream",
     "text": [
      "WARNING:root:normalize_drugs NODRUGS ad-hoc\n",
      "WARNING:root:normalize_drugs NODRUGS ad-hoc\n"
     ]
    },
    {
     "name": "stdout",
     "output_type": "stream",
     "text": [
      "http://reg.genome.network/allele?hgvs=NC_000013.10%3Ag.101910837C%3EG\n",
      "https://grch37.rest.ensembl.org/vep/human/hgvs/ENSP00000251127.6:p.Gly408Ala?domains=1&protein=1&uniprot=1\n",
      "http://www.pathwaycommons.org/pc2/search.json?q=Q8IZF0&organism=homo%20sapiens\n",
      "http://reg.genome.network/allele?hgvs=NC_000012.11%3Ag.57424051C%3ET\n",
      "https://grch37.rest.ensembl.org/vep/human/hgvs/ENSP00000300119.3:p.Arg845Lys?domains=1&protein=1&uniprot=1\n",
      "https://grch37.rest.ensembl.org/vep/human/hgvs/ENSP00000393392.2:p.Arg845Lys?domains=1&protein=1&uniprot=1\n",
      "http://www.pathwaycommons.org/pc2/search.json?q=Q9UHF0&organism=homo%20sapiens\n",
      "http://www.pathwaycommons.org/pc2/search.json?q=Q9UBC5&organism=homo%20sapiens\n"
     ]
    },
    {
     "name": "stderr",
     "output_type": "stream",
     "text": [
      "WARNING:root:normalize_drugs NODRUGS ad-hoc\n"
     ]
    },
    {
     "name": "stdout",
     "output_type": "stream",
     "text": [
      "http://reg.genome.network/allele?hgvs=NC_000013.10%3Ag.38211533C%3ET\n",
      "https://grch37.rest.ensembl.org/vep/human/hgvs/ENSP00000369027.3:p.Arg814Lys?domains=1&protein=1&uniprot=1\n",
      "https://grch37.rest.ensembl.org/vep/human/hgvs/ENSP00000369001.1:p.Arg641Lys?domains=1&protein=1&uniprot=1\n",
      "https://grch37.rest.ensembl.org/vep/human/hgvs/ENSP00000342580.5:p.Arg641Lys?domains=1&protein=1&uniprot=1\n",
      "https://grch37.rest.ensembl.org/vep/human/hgvs/ENSP00000486109.1:p.Arg819Lys?domains=1&protein=1&uniprot=1\n",
      "{u'error': u\"Unable to parse HGVS notation 'ENSP00000486109.1:p.Arg819Lys': Could not get a Transcript object for 'ENSP00000486109'\"} https://grch37.rest.ensembl.org/vep/human/hgvs/ENSP00000486109.1:p.Arg819Lys?domains=1&protein=1&uniprot=1\n",
      "http://www.pathwaycommons.org/pc2/search.json?q=Q9UBN4&organism=homo%20sapiens\n"
     ]
    },
    {
     "name": "stderr",
     "output_type": "stream",
     "text": [
      "WARNING:root:normalize_drugs NODRUGS ad-hoc\n"
     ]
    },
    {
     "name": "stdout",
     "output_type": "stream",
     "text": [
      "http://reg.genome.network/allele?hgvs=NC_000001.10%3Ag.32257834G%3EA\n",
      "https://grch37.rest.ensembl.org/vep/human/hgvs/ENSP00000399778.2:p.Arg418Cys?domains=1&protein=1&uniprot=1\n",
      "https://grch37.rest.ensembl.org/vep/human/hgvs/ENSP00000353670.2:p.Arg982Cys?domains=1&protein=1&uniprot=1\n",
      "https://grch37.rest.ensembl.org/vep/human/hgvs/ENSP00000257100.3:p.Arg475Cys?domains=1&protein=1&uniprot=1\n",
      "https://grch37.rest.ensembl.org/vep/human/hgvs/ENSP00000435851.1:p.Arg982Cys?domains=1&protein=1&uniprot=1\n",
      "http://www.pathwaycommons.org/pc2/search.json?q=Q6ZMY3&organism=homo%20sapiens\n"
     ]
    },
    {
     "name": "stderr",
     "output_type": "stream",
     "text": [
      "WARNING:root:normalize_drugs NODRUGS ad-hoc\n",
      "WARNING:root:normalize_drugs NODRUGS ad-hoc\n"
     ]
    },
    {
     "name": "stdout",
     "output_type": "stream",
     "text": [
      "http://reg.genome.network/allele?hgvs=NC_000006.11%3Ag.28097282G%3EA\n",
      "https://grch37.rest.ensembl.org/vep/human/hgvs/ENSP00000366527.3:p.Glu201Lys?domains=1&protein=1&uniprot=1\n",
      "http://www.pathwaycommons.org/pc2/search.json?q=Q9H4T2&organism=homo%20sapiens\n",
      "http://reg.genome.network/allele?hgvs=NC_000007.13%3Ag.84628811C%3ET\n",
      "https://grch37.rest.ensembl.org/vep/human/hgvs/ENSP00000284136.6:p.Arg760Gln?domains=1&protein=1&uniprot=1\n",
      "http://www.pathwaycommons.org/pc2/search.json?q=O95025&organism=homo%20sapiens\n"
     ]
    },
    {
     "name": "stderr",
     "output_type": "stream",
     "text": [
      "WARNING:root:normalize_drugs NODRUGS ad-hoc\n"
     ]
    },
    {
     "name": "stdout",
     "output_type": "stream",
     "text": [
      "http://reg.genome.network/allele?hgvs=NC_000001.10%3Ag.72400932G%3EA\n",
      "https://grch37.rest.ensembl.org/vep/human/hgvs/ENSP00000350364.4:p.Ala80Val?domains=1&protein=1&uniprot=1\n",
      "https://grch37.rest.ensembl.org/vep/human/hgvs/ENSP00000413294.2:p.Ala25Val?domains=1&protein=1&uniprot=1\n",
      "{u'error': u\"Unable to parse HGVS notation 'ENSP00000413294.2:p.Ala25Val':  : Reference allele extracted from ENSP00000413294:72748098-72748098 (T) does not match reference allele given by HGVS notation ENSP00000413294.2:p.Ala25Val (C): Could not get a Transcript object for 'ENSP00000413294'\"} https://grch37.rest.ensembl.org/vep/human/hgvs/ENSP00000413294.2:p.Ala25Val?domains=1&protein=1&uniprot=1\n",
      "http://www.pathwaycommons.org/pc2/search.json?q=Q7Z3B1&organism=homo%20sapiens\n"
     ]
    },
    {
     "name": "stderr",
     "output_type": "stream",
     "text": [
      "WARNING:root:normalize_drugs NODRUGS ad-hoc\n",
      "WARNING:root:normalize_drugs NODRUGS ad-hoc\n"
     ]
    },
    {
     "name": "stdout",
     "output_type": "stream",
     "text": [
      "http://reg.genome.network/allele?hgvs=NC_000003.11%3Ag.35778772C%3ET\n",
      "https://grch37.rest.ensembl.org/vep/human/hgvs/ENSP00000412326.1:p.Pro487Leu?domains=1&protein=1&uniprot=1\n",
      "https://grch37.rest.ensembl.org/vep/human/hgvs/ENSP00000405276.1:p.Pro467Leu?domains=1&protein=1&uniprot=1\n",
      "https://grch37.rest.ensembl.org/vep/human/hgvs/ENSP00000187397.4:p.Pro521Leu?domains=1&protein=1&uniprot=1\n",
      "http://www.pathwaycommons.org/pc2/search.json?q=Q9UBL0&organism=homo%20sapiens\n",
      "http://reg.genome.network/allele?hgvs=NC_000001.10%3Ag.21016738G%3ET\n",
      "https://grch37.rest.ensembl.org/vep/human/hgvs/ENSP00000247986.2:p.Arg442Ser?domains=1&protein=1&uniprot=1\n",
      "https://grch37.rest.ensembl.org/vep/human/hgvs/ENSP00000364184.1:p.Arg342Ser?domains=1&protein=1&uniprot=1\n",
      "https://grch37.rest.ensembl.org/vep/human/hgvs/ENSP00000383311.3:p.Arg442Ser?domains=1&protein=1&uniprot=1\n",
      "http://www.pathwaycommons.org/pc2/search.json?q=Q9P2E2&organism=homo%20sapiens\n"
     ]
    },
    {
     "name": "stderr",
     "output_type": "stream",
     "text": [
      "WARNING:root:normalize_drugs NODRUGS ad-hoc\n",
      "WARNING:root:normalize_drugs NODRUGS ad-hoc\n"
     ]
    },
    {
     "name": "stdout",
     "output_type": "stream",
     "text": [
      "http://reg.genome.network/allele?hgvs=NC_000003.11%3Ag.51929267C%3ET\n",
      "https://grch37.rest.ensembl.org/vep/human/hgvs/ENSP00000307958.5:p.Arg86Gln?domains=1&protein=1&uniprot=1\n",
      "http://www.pathwaycommons.org/pc2/search.json?q=Q8N6M8&organism=homo%20sapiens\n",
      "http://reg.genome.network/allele?hgvs=NC_000008.10%3Ag.95188799C%3ET\n",
      "https://grch37.rest.ensembl.org/vep/human/hgvs/ENSP00000401468.2:p.Glu132Lys?domains=1&protein=1&uniprot=1\n",
      "https://grch37.rest.ensembl.org/vep/human/hgvs/ENSP00000428189.1:p.Glu132Lys?domains=1&protein=1&uniprot=1\n",
      "https://grch37.rest.ensembl.org/vep/human/hgvs/ENSP00000392811.2:p.Glu132Lys?domains=1&protein=1&uniprot=1\n",
      "https://grch37.rest.ensembl.org/vep/human/hgvs/ENSP00000027335.3:p.Glu132Lys?domains=1&protein=1&uniprot=1\n",
      "http://www.pathwaycommons.org/pc2/search.json?q=Q12864&organism=homo%20sapiens\n"
     ]
    },
    {
     "name": "stderr",
     "output_type": "stream",
     "text": [
      "WARNING:root:normalize_drugs NODRUGS ad-hoc\n",
      "WARNING:root:normalize_drugs NODRUGS ad-hoc\n"
     ]
    },
    {
     "name": "stdout",
     "output_type": "stream",
     "text": [
      "http://reg.genome.network/allele?hgvs=NC_000011.9%3Ag.96117712A%3EG\n",
      "https://grch37.rest.ensembl.org/vep/human/hgvs/ENSP00000278520.5:p.Leu67Pro?domains=1&protein=1&uniprot=1\n",
      "https://grch37.rest.ensembl.org/vep/human/hgvs/ENSP00000442723.1:p.Leu67Pro?domains=1&protein=1&uniprot=1\n",
      "https://grch37.rest.ensembl.org/vep/human/hgvs/ENSP00000397156.2:p.Leu67Pro?domains=1&protein=1&uniprot=1\n",
      "http://www.pathwaycommons.org/pc2/search.json?q=Q8N4S0&organism=homo%20sapiens\n",
      "http://reg.genome.network/allele?hgvs=NC_000011.9%3Ag.105967614C%3ET\n",
      "https://grch37.rest.ensembl.org/vep/human/hgvs/ENSP00000278618.4:p.Arg304Ter?domains=1&protein=1&uniprot=1\n",
      "http://www.pathwaycommons.org/pc2/search.json?q=Q9NRN7&organism=homo%20sapiens\n"
     ]
    },
    {
     "name": "stderr",
     "output_type": "stream",
     "text": [
      "WARNING:root:normalize_drugs NODRUGS ad-hoc\n"
     ]
    },
    {
     "name": "stdout",
     "output_type": "stream",
     "text": [
      "http://reg.genome.network/allele?hgvs=NC_000021.8%3Ag.31538698C%3EA\n",
      "https://grch37.rest.ensembl.org/vep/human/hgvs/ENSP00000286808.3:p.Ala80Ser?domains=1&protein=1&uniprot=1\n",
      "http://www.pathwaycommons.org/pc2/search.json?q=P56750&organism=homo%20sapiens\n"
     ]
    },
    {
     "name": "stderr",
     "output_type": "stream",
     "text": [
      "WARNING:root:normalize_drugs NODRUGS ad-hoc\n",
      "WARNING:root:normalize_drugs NODRUGS ad-hoc\n"
     ]
    },
    {
     "name": "stdout",
     "output_type": "stream",
     "text": [
      "http://reg.genome.network/allele?hgvs=NC_000001.10%3Ag.38483424G%3EA\n",
      "https://grch37.rest.ensembl.org/vep/human/hgvs/ENSP00000362105.4:p.Met70Ile?domains=1&protein=1&uniprot=1\n",
      "{u'error': u\"Unable to parse HGVS notation 'ENSP00000362105.4:p.Met70Ile':  : Could not uniquely determine nucleotide change from ENSP00000362105.4:p.Met70Ile: Could not get a Transcript object for 'ENSP00000362105'\"} https://grch37.rest.ensembl.org/vep/human/hgvs/ENSP00000362105.4:p.Met70Ile?domains=1&protein=1&uniprot=1\n",
      "http://reg.genome.network/allele?hgvs=NC_000004.11%3Ag.155526050T%3EG\n",
      "https://grch37.rest.ensembl.org/vep/human/hgvs/ENSP00000384552.1:p.Gln441Pro?domains=1&protein=1&uniprot=1\n",
      "https://grch37.rest.ensembl.org/vep/human/hgvs/ENSP00000384101.1:p.Gln441Pro?domains=1&protein=1&uniprot=1\n",
      "https://grch37.rest.ensembl.org/vep/human/hgvs/ENSP00000384860.3:p.Gln433Pro?domains=1&protein=1&uniprot=1\n",
      "https://grch37.rest.ensembl.org/vep/human/hgvs/ENSP00000336829.3:p.Gln433Pro?domains=1&protein=1&uniprot=1\n",
      "http://www.pathwaycommons.org/pc2/search.json?q=P02679&organism=homo%20sapiens\n"
     ]
    },
    {
     "name": "stderr",
     "output_type": "stream",
     "text": [
      "WARNING:root:normalize_drugs NODRUGS ad-hoc\n"
     ]
    },
    {
     "name": "stdout",
     "output_type": "stream",
     "text": [
      "http://reg.genome.network/allele?hgvs=NC_000005.9%3Ag.148617051C%3ET\n",
      "https://grch37.rest.ensembl.org/vep/human/hgvs/ENSP00000420855.1:p.Ala310Val?domains=1&protein=1&uniprot=1\n",
      "https://grch37.rest.ensembl.org/vep/human/hgvs/ENSP00000310309.7:p.Ala310Val?domains=1&protein=1&uniprot=1\n",
      "https://grch37.rest.ensembl.org/vep/human/hgvs/ENSP00000425394.1:p.Ala310Val?domains=1&protein=1&uniprot=1\n",
      "http://www.pathwaycommons.org/pc2/search.json?q=O94929&organism=homo%20sapiens\n"
     ]
    },
    {
     "name": "stderr",
     "output_type": "stream",
     "text": [
      "WARNING:root:normalize_drugs NODRUGS ad-hoc\n"
     ]
    },
    {
     "name": "stdout",
     "output_type": "stream",
     "text": [
      "http://reg.genome.network/allele?hgvs=NC_000006.11%3Ag.31895941C%3ET\n",
      "https://grch37.rest.ensembl.org/vep/human/hgvs/ENSP00000410815.1:p.Pro86Ser?domains=1&protein=1&uniprot=1\n",
      "{u'error': u\"Unable to parse HGVS notation 'ENSP00000410815.1:p.Pro86Ser':  : Unable to map the peptide coordinate 86 to genomic coordinates for protein ENSP00000410815: Could not get a Transcript object for 'ENSP00000410815'\"} https://grch37.rest.ensembl.org/vep/human/hgvs/ENSP00000410815.1:p.Pro86Ser?domains=1&protein=1&uniprot=1\n",
      "https://grch37.rest.ensembl.org/vep/human/hgvs/ENSP00000403325.1:p.Pro86Ser?domains=1&protein=1&uniprot=1\n",
      "{u'error': u\"Unable to parse HGVS notation 'ENSP00000403325.1:p.Pro86Ser':  : Unable to map the peptide coordinate 86 to genomic coordinates for protein ENSP00000403325: Could not get a Transcript object for 'ENSP00000403325'\"} https://grch37.rest.ensembl.org/vep/human/hgvs/ENSP00000403325.1:p.Pro86Ser?domains=1&protein=1&uniprot=1\n",
      "https://grch37.rest.ensembl.org/vep/human/hgvs/ENSP00000391354.2:p.Pro86Ser?domains=1&protein=1&uniprot=1\n",
      "{u'error': u\"Unable to parse HGVS notation 'ENSP00000391354.2:p.Pro86Ser':  : Unable to map the peptide coordinate 86 to genomic coordinates for protein ENSP00000391354: Could not get a Transcript object for 'ENSP00000391354'\"} https://grch37.rest.ensembl.org/vep/human/hgvs/ENSP00000391354.2:p.Pro86Ser?domains=1&protein=1&uniprot=1\n",
      "https://grch37.rest.ensembl.org/vep/human/hgvs/ENSP00000418332.1:p.Arg86Cys?domains=1&protein=1&uniprot=1\n",
      "https://grch37.rest.ensembl.org/vep/human/hgvs/ENSP00000299367.5:p.Pro86Ser?domains=1&protein=1&uniprot=1\n",
      "{u'error': u\"Unable to parse HGVS notation 'ENSP00000299367.5:p.Pro86Ser':  : Unable to map the peptide coordinate 86 to genomic coordinates for protein ENSP00000299367: Could not get a Transcript object for 'ENSP00000299367'\"} https://grch37.rest.ensembl.org/vep/human/hgvs/ENSP00000299367.5:p.Pro86Ser?domains=1&protein=1&uniprot=1\n",
      "https://grch37.rest.ensembl.org/vep/human/hgvs/ENSP00000418996.1:p.Pro86Ser?domains=1&protein=1&uniprot=1\n",
      "{u'error': u\"Unable to parse HGVS notation 'ENSP00000418996.1:p.Pro86Ser':  : Unable to map the peptide coordinate 86 to genomic coordinates for protein ENSP00000418996: Could not get a Transcript object for 'ENSP00000418996'\"} https://grch37.rest.ensembl.org/vep/human/hgvs/ENSP00000418996.1:p.Pro86Ser?domains=1&protein=1&uniprot=1\n",
      "https://grch37.rest.ensembl.org/vep/human/hgvs/ENSP00000406190.2:p.Pro86Ser?domains=1&protein=1&uniprot=1\n",
      "{u'error': u\"Unable to parse HGVS notation 'ENSP00000406190.2:p.Pro86Ser':  : Unable to map the peptide coordinate 86 to genomic coordinates for protein ENSP00000406190: Could not get a Transcript object for 'ENSP00000406190'\"} https://grch37.rest.ensembl.org/vep/human/hgvs/ENSP00000406190.2:p.Pro86Ser?domains=1&protein=1&uniprot=1\n",
      "http://www.pathwaycommons.org/pc2/search.json?q=P06681&organism=homo%20sapiens\n"
     ]
    },
    {
     "name": "stderr",
     "output_type": "stream",
     "text": [
      "WARNING:root:normalize_drugs NODRUGS ad-hoc\n",
      "WARNING:root:normalize_drugs NODRUGS ad-hoc\n"
     ]
    },
    {
     "name": "stdout",
     "output_type": "stream",
     "text": [
      "http://reg.genome.network/allele?hgvs=NC_000017.10%3Ag.18051501C%3ET\n",
      "https://grch37.rest.ensembl.org/vep/human/hgvs/ENSP00000481642.1:p.Ala2223Val?domains=1&protein=1&uniprot=1\n",
      "{u'error': u\"Unable to parse HGVS notation 'ENSP00000481642.1:p.Ala2223Val': Could not get a Transcript object for 'ENSP00000481642'\"} https://grch37.rest.ensembl.org/vep/human/hgvs/ENSP00000481642.1:p.Ala2223Val?domains=1&protein=1&uniprot=1\n",
      "https://grch37.rest.ensembl.org/vep/human/hgvs/ENSP00000205890.5:p.Ala2223Val?domains=1&protein=1&uniprot=1\n",
      "http://www.pathwaycommons.org/pc2/search.json?q=Q9UKN7&organism=homo%20sapiens\n",
      "http://reg.genome.network/allele?hgvs=NC_000020.10%3Ag.60969271G%3EC\n",
      "https://grch37.rest.ensembl.org/vep/human/hgvs/ENSP00000279101.5:p.Ser219Cys?domains=1&protein=1&uniprot=1\n",
      "http://www.pathwaycommons.org/pc2/search.json?q=Q9BTV7&organism=homo%20sapiens\n"
     ]
    },
    {
     "name": "stderr",
     "output_type": "stream",
     "text": [
      "WARNING:root:normalize_drugs NODRUGS ad-hoc\n",
      "WARNING:root:normalize_drugs NODRUGS ad-hoc\n"
     ]
    },
    {
     "name": "stdout",
     "output_type": "stream",
     "text": [
      "http://reg.genome.network/allele?hgvs=NC_000004.11%3Ag.186096984G%3EA\n",
      "https://grch37.rest.ensembl.org/vep/human/hgvs/ENSP00000423312.1:p.Leu426Phe?domains=1&protein=1&uniprot=1\n",
      "https://grch37.rest.ensembl.org/vep/human/hgvs/ENSP00000409964.2:p.Leu426Phe?domains=1&protein=1&uniprot=1\n",
      "http://www.pathwaycommons.org/pc2/search.json?q=Q9P2B7&organism=homo%20sapiens\n",
      "http://reg.genome.network/allele?hgvs=NC_000006.11%3Ag.110056501G%3EA\n",
      "https://grch37.rest.ensembl.org/vep/human/hgvs/ENSP00000230124.3:p.Gly216Arg?domains=1&protein=1&uniprot=1\n"
     ]
    },
    {
     "name": "stderr",
     "output_type": "stream",
     "text": [
      "WARNING:root:normalize_drugs NODRUGS ad-hoc\n"
     ]
    },
    {
     "name": "stdout",
     "output_type": "stream",
     "text": [
      "{u'error': u\"Unable to parse HGVS notation 'ENSP00000230124.3:p.Gly216Arg':  : Unable to map the peptide coordinate 216 to genomic coordinates for protein ENSP00000230124: Could not get a Transcript object for 'ENSP00000230124'\"} https://grch37.rest.ensembl.org/vep/human/hgvs/ENSP00000230124.3:p.Gly216Arg?domains=1&protein=1&uniprot=1\n",
      "https://grch37.rest.ensembl.org/vep/human/hgvs/ENSP00000412156.1:p.Gly195Arg?domains=1&protein=1&uniprot=1\n",
      "{u'error': u\"Unable to parse HGVS notation 'ENSP00000412156.1:p.Gly195Arg':  : Unable to map the peptide coordinate 195 to genomic coordinates for protein ENSP00000412156: Could not get a Transcript object for 'ENSP00000412156'\"} https://grch37.rest.ensembl.org/vep/human/hgvs/ENSP00000412156.1:p.Gly195Arg?domains=1&protein=1&uniprot=1\n",
      "https://grch37.rest.ensembl.org/vep/human/hgvs/ENSP00000357937.1:p.Gly139Arg?domains=1&protein=1&uniprot=1\n",
      "{u'error': u\"Unable to parse HGVS notation 'ENSP00000357937.1:p.Gly139Arg':  : Unable to map the peptide coordinate 139 to genomic coordinates for protein ENSP00000357937: Could not get a Transcript object for 'ENSP00000357937'\"} https://grch37.rest.ensembl.org/vep/human/hgvs/ENSP00000357937.1:p.Gly139Arg?domains=1&protein=1&uniprot=1\n",
      "http://reg.genome.network/allele?hgvs=NC_000016.9%3Ag.67690336G%3EA\n",
      "https://grch37.rest.ensembl.org/vep/human/hgvs/ENSP00000441481.1:p.Cys1239Tyr?domains=1&protein=1&uniprot=1\n",
      "https://grch37.rest.ensembl.org/vep/human/hgvs/ENSP00000334958.5:p.Cys1275Tyr?domains=1&protein=1&uniprot=1\n",
      "http://www.pathwaycommons.org/pc2/search.json?q=Q6F5E8&organism=homo%20sapiens\n",
      "http://www.pathwaycommons.org/pc2/search.json?q=Q9NPB6&organism=homo%20sapiens\n",
      "http://www.pathwaycommons.org/pc2/search.json?q=Q96AP0&organism=homo%20sapiens\n"
     ]
    },
    {
     "name": "stderr",
     "output_type": "stream",
     "text": [
      "WARNING:root:normalize_drugs NODRUGS ad-hoc\n"
     ]
    },
    {
     "name": "stdout",
     "output_type": "stream",
     "text": [
      "http://reg.genome.network/allele?hgvs=NC_000016.9%3Ag.67702418A%3EG\n",
      "https://grch37.rest.ensembl.org/vep/human/hgvs/ENSP00000384117.3:p.Asp290Gly?domains=1&protein=1&uniprot=1\n",
      "http://www.pathwaycommons.org/pc2/search.json?q=Q9H0I2&organism=homo%20sapiens\n",
      "http://www.pathwaycommons.org/pc2/search.json?q=Q6ZW13&organism=homo%20sapiens\n"
     ]
    }
   ],
   "source": [
    "\n",
    "g2p = g2p_client.G2PDatabase('elastic')\n",
    "\n",
    "queries = []\n",
    "data_frames = {}\n",
    "\n",
    "for patient_feature in dataset_features:\n",
    "    location_query = g2p_client.location_query([patient_feature])\n",
    "    identifier = allele_identifier(location_query['feature_associations'][0]['features'][0])\n",
    "    b_type = biomarker_type(location_query['feature_associations'])\n",
    "    for name in location_query['queries'].keys():\n",
    "        qs = location_query['queries'][name]['query']['query_string']['query']\n",
    "        if identifier not in data_frames:\n",
    "            data_frames[identifier] = {}\n",
    "        data_frames[identifier][name] = to_df(g2p.raw_dataframe(query_string=qs, verbose=False),\n",
    "                                              location_query['feature_associations'][0]['features'])\n",
    "        queries.append({'biomarker_type': b_type,\n",
    "                        'allele': identifier,\n",
    "                        'name': name,\n",
    "                        'hits': len(data_frames[identifier][name]),\n",
    "                        'query_string': qs\n",
    "                       })\n",
    "\n"
   ]
  },
  {
   "cell_type": "code",
   "execution_count": 80,
   "metadata": {
    "scrolled": false
   },
   "outputs": [
    {
     "data": {
      "application/vnd.jupyter.widget-view+json": {
       "model_id": "6bc37e7ea42b41a68487be3adb32b8ad",
       "version_major": 2,
       "version_minor": 0
      },
      "text/html": [
       "<p>Failed to display Jupyter Widget of type <code>QgridWidget</code>.</p>\n",
       "<p>\n",
       "  If you're reading this message in the Jupyter Notebook or JupyterLab Notebook, it may mean\n",
       "  that the widgets JavaScript is still loading. If this message persists, it\n",
       "  likely means that the widgets JavaScript library is either not installed or\n",
       "  not enabled. See the <a href=\"https://ipywidgets.readthedocs.io/en/stable/user_install.html\">Jupyter\n",
       "  Widgets Documentation</a> for setup instructions.\n",
       "</p>\n",
       "<p>\n",
       "  If you're reading this message in another frontend (for example, a static\n",
       "  rendering on GitHub or <a href=\"https://nbviewer.jupyter.org/\">NBViewer</a>),\n",
       "  it may mean that your frontend doesn't currently support widgets.\n",
       "</p>\n"
      ],
      "text/plain": [
       "QgridWidget(grid_options={'defaultColumnWidth': 150, 'highlightSelectedRow': True, 'enableTextSelectionOnCells': True, 'editable': False, 'explicitInitialization': True, 'minVisibleRows': 8, 'enableColumnReorder': False, 'maxVisibleRows': 15, 'sortable': True, 'fullWidthRows': True, 'rowHeight': 28, 'filterable': True, 'autoEdit': False, 'syncColumnCellResize': True, 'forceFitColumns': True, 'highlightSelectedCell': False}, precision=5)"
      ]
     },
     "metadata": {},
     "output_type": "display_data"
    }
   ],
   "source": [
    "from IPython.display import clear_output\n",
    "from IPython.display import IFrame  \n",
    "from IPython.core.display import HTML\n",
    "\n",
    "queries_df = pd.DataFrame.from_records(queries)\n",
    "queries_df_widget = qgrid.show_grid(queries_df, grid_options={'editable':False})\n",
    "qgrid_widget = None\n",
    "top3_widget = None\n",
    "allele = None \n",
    "name = None\n",
    "\n",
    "def top(df, fields = ['publications', 'evidence_label', 'phenotype', 'drugs' ], size=3):\n",
    "    counters = []\n",
    "    for f in fields:\n",
    "        counter = Counter()\n",
    "        for value in df[f]:\n",
    "            if isinstance(value, (list,tuple,)):\n",
    "                for v in value:\n",
    "                    counter[v] += 1\n",
    "            else:\n",
    "                counter[value] += 1\n",
    "        for c in counter.most_common(size):\n",
    "            counters.append({'field': f, 'value': c[0], 'count': c[1]})\n",
    "    return counters    \n",
    "    \n",
    "\n",
    "def on_queries_df_row_selected(change):\n",
    "    global allele\n",
    "    global name\n",
    "    global qgrid_widget\n",
    "    global top3_widget    \n",
    "    selected_row = queries_df_widget.get_selected_df().to_dict('records')\n",
    "    allele = selected_row[0]['allele']\n",
    "    name = selected_row[0]['name']\n",
    "    query_string = selected_row[0]['query_string']\n",
    "    top3_widget = None\n",
    "    \n",
    "    try:    \n",
    "        df = data_frames[allele][name]\n",
    "        qgrid_widget = qgrid.show_grid(df)\n",
    "        top3_widget = qgrid.show_grid(pd.DataFrame(top(df)))\n",
    "        \n",
    "    except Exception as e:\n",
    "        # df could be empty\n",
    "        pass  \n",
    "    \n",
    "    # show publication\n",
    "    def on_row_selected(change):\n",
    "        global qgrid_widget\n",
    "        try:\n",
    "            selected_row = qgrid_widget.get_selected_df().to_dict('records')\n",
    "            publications = selected_row[0]['publications']\n",
    "            matches = selected_row[0]['matches']            \n",
    "            clear_output(wait=True)\n",
    "            display(queries_df_widget,\n",
    "                    HTML('<p>{} {}</p><p>{}</p>'.format(allele, name, query_string)),\n",
    "                    qgrid_widget,\n",
    "                    HTML('<p>matches:{}</p><p>{}</p>'.format(matches, publications)),\n",
    "                    IFrame(publications[0], width=900, height=900))    \n",
    "        except Exception as e:          \n",
    "            print e\n",
    "\n",
    "    qgrid_widget.observe(on_row_selected, names=['_selected_rows'])        \n",
    "    clear_output(wait=True)\n",
    "    try:\n",
    "        if top3_widget:\n",
    "            display(queries_df_widget,\n",
    "                    HTML('<p>top3:</p>'),\n",
    "                    top3_widget,\n",
    "                    HTML('<p>{} {}</p><p>{}</p>'.format(allele, name, query_string)),\n",
    "                    qgrid_widget)    \n",
    "        else:\n",
    "            display(queries_df_widget, HTML('<p>No results</p>'))\n",
    "    except Exception as e:          \n",
    "        print e        \n",
    "    \n",
    "queries_df_widget.observe(on_queries_df_row_selected, names=['_selected_rows'])   # ,  \n",
    "\n",
    "display(queries_df_widget)"
   ]
  },
  {
   "cell_type": "code",
   "execution_count": 81,
   "metadata": {},
   "outputs": [],
   "source": [
    "\n",
    "def collect_md(s, md=None):\n",
    "    s = s.decode('UTF-8', 'ignore')\n",
    "    if md:\n",
    "        md = u'{}\\n{}'.format(md, s)\n",
    "    else:\n",
    "        md = u'{}'.format(s)\n",
    "    return md\n",
    "\n",
    "# report parameters\n",
    "query_names = ['alleles', '~location', '~range', 'protein_effects', 'protein_domain', '~biomarker_type',  'genes' , 'pathways']\n",
    "evidence_levels = ['A', 'B', 'C', 'D']\n",
    "# maximum number of matching evidence items\n",
    "limit = 2"
   ]
  },
  {
   "cell_type": "code",
   "execution_count": 83,
   "metadata": {
    "scrolled": false
   },
   "outputs": [],
   "source": [
    "\n",
    " \n",
    "md = collect_md('# {}'.format(dataset_name))\n",
    "\n",
    "md = collect_md('\\n## Drug Centric\\n_____', md)\n",
    "\n",
    "for name in query_names:\n",
    "    df = pd.DataFrame()\n",
    "    for allele in data_frames.keys():\n",
    "        if name in data_frames[allele] and len(data_frames[allele][name]):\n",
    "            df = df.append(data_frames[allele][name])\n",
    "    if len(df) == 0:\n",
    "        continue\n",
    "    md = collect_md('\\n### {}\\n'.format(name), md)\n",
    "    for evidence_level in evidence_levels:\n",
    "        evidence_level_df = df[df.evidence_label == evidence_level]\n",
    "        if len(evidence_level_df):\n",
    "            drug = top(evidence_level_df, fields=['drugs'], size=1)[0]['value']\n",
    "            md = collect_md('  * {} {}'.format(evidence_level, drug), md)\n",
    "            c = 0\n",
    "            for evidence in evidence_level_df.to_records():\n",
    "                if drug in evidence.drugs:\n",
    "                    md = collect_md('    * {} {} {}'.format(evidence.source, evidence.phenotype, evidence.drugs), md)\n",
    "                    md = collect_md('      * {}'.format(evidence.description), md)\n",
    "                    md = collect_md('      * {}'.format(evidence.matches), md)                    \n",
    "                    md = collect_md('      * {}'.format(evidence.publications), md)                                        \n",
    "                    c += 1\n",
    "                    if c == limit:\n",
    "                        break\n",
    "                        \n",
    "md = collect_md('\\n## Phenotype Centric\\n_____', md)\n",
    "\n",
    "for name in query_names:\n",
    "    df = pd.DataFrame()\n",
    "    for allele in data_frames.keys():\n",
    "        if name in data_frames[allele] and len(data_frames[allele][name]):\n",
    "            df = df.append(data_frames[allele][name])\n",
    "    if len(df) == 0:\n",
    "        continue\n",
    "    md = collect_md('\\n### {}\\n'.format(name), md)\n",
    "    for evidence_level in evidence_levels:\n",
    "        evidence_level_df = df[df.evidence_label == evidence_level]\n",
    "        if len(evidence_level_df):\n",
    "            phenotype = top(evidence_level_df, fields=['phenotype'], size=1)[0]['value']\n",
    "            md = collect_md('  * {} {}'.format(evidence_level, phenotype), md)\n",
    "            c = 0\n",
    "            for evidence in evidence_level_df.to_records():\n",
    "                if phenotype in evidence.phenotype:\n",
    "                    md = collect_md('    * {} {} {}'.format(evidence.source, evidence.phenotype, evidence.drugs), md)\n",
    "                    md = collect_md('      * {}'.format(evidence.description), md)\n",
    "                    md = collect_md('      * {}'.format(evidence.matches), md)                    \n",
    "                    md = collect_md('      * {}'.format(evidence.publications), md)                                        \n",
    "                    c += 1\n",
    "                    if c == limit:\n",
    "                        break\n",
    "\n",
    "                        \n",
    "                        \n",
    "md = collect_md('\\n## Publication Centric\\n_____', md)\n",
    "\n",
    "for name in query_names:\n",
    "    df = pd.DataFrame()\n",
    "    for allele in data_frames.keys():\n",
    "        if name in data_frames[allele] and len(data_frames[allele][name]):\n",
    "            df = df.append(data_frames[allele][name])\n",
    "    if len(df) == 0:\n",
    "        continue\n",
    "    md = collect_md('\\n### {}\\n'.format(name), md)\n",
    "    for evidence_level in evidence_levels:\n",
    "        evidence_level_df = df[df.evidence_label == evidence_level]\n",
    "        if len(evidence_level_df):\n",
    "            publication = top(evidence_level_df, fields=['publications'], size=1)[0]['value']\n",
    "            md = collect_md('  * {} {}'.format(evidence_level, publication), md)\n",
    "            c = 0\n",
    "            for evidence in evidence_level_df.to_records():\n",
    "                if publication in evidence.publications:\n",
    "                    md = collect_md('    * {} {} {}'.format(evidence.source, evidence.phenotype, evidence.drugs), md)\n",
    "                    md = collect_md('      * {}'.format(evidence.description), md)\n",
    "                    md = collect_md('      * {}'.format(evidence.matches), md)                   \n",
    "                    md = collect_md('      * {}'.format(evidence.publications), md)                    \n",
    "                    c += 1\n",
    "                    if c == limit:\n",
    "                        break\n",
    "\n",
    "                        \n",
    "                        \n",
    "# print md    \n",
    "Markdown(md)\n",
    "\n"
   ]
  },
  {
   "cell_type": "code",
   "execution_count": null,
   "metadata": {},
   "outputs": [],
   "source": []
  }
 ],
 "metadata": {
  "kernelspec": {
   "display_name": "Python 2",
   "language": "python",
   "name": "python2"
  },
  "language_info": {
   "codemirror_mode": {
    "name": "ipython",
    "version": 2
   },
   "file_extension": ".py",
   "mimetype": "text/x-python",
   "name": "python",
   "nbconvert_exporter": "python",
   "pygments_lexer": "ipython2",
   "version": "2.7.13"
  }
 },
 "nbformat": 4,
 "nbformat_minor": 2
}
