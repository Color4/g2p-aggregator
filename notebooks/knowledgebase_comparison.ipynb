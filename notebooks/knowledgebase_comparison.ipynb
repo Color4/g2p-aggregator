{
 "cells": [
  {
   "cell_type": "markdown",
   "metadata": {},
   "source": [
    "# Data Structuring and Pruning"
   ]
  },
  {
   "cell_type": "code",
   "execution_count": 118,
   "metadata": {},
   "outputs": [],
   "source": [
    "# !pip install pathlib\n",
    "from __future__ import division"
   ]
  },
  {
   "cell_type": "code",
   "execution_count": 195,
   "metadata": {},
   "outputs": [
    {
     "name": "stdout",
     "output_type": "stream",
     "text": [
      "env: DATAPATH=/util/elastic/\n"
     ]
    }
   ],
   "source": [
    "%env DATAPATH=/util/elastic/\n",
    "PAPER_SOURCES=['brca.json','cgi.json', 'civic.json', 'jax.json', 'molecularmatch.json', 'oncokb.json', 'pmkb.json']"
   ]
  },
  {
   "cell_type": "code",
   "execution_count": 199,
   "metadata": {},
   "outputs": [],
   "source": [
    "# Load datasets\n",
    "\n",
    "import json\n",
    "import pathlib\n",
    "import os\n",
    "\n",
    "data_path = pathlib.Path(os.getenv('DATAPATH','/Users/awagner/Workspace/git/g2p-aggregator/data/local/0.8'))\n",
    "harvested_sources = dict()\n",
    "for path in [list(data_path.glob(file))[0] for file in PAPER_SOURCES]:\n",
    "    source = path.parts[-1].split('.')[0]\n",
    "    with path.open() as json_data:\n",
    "        # harvested_sources[source] = json.load(json_data) <- this should work, but doesn't due to malformed json\n",
    "        # what follows is a hack to reassemble into proper JSON object\n",
    "        associations = list()\n",
    "        for line in json_data:\n",
    "            associations.append(json.loads(line))\n",
    "        \n",
    "        # resume intended function\n",
    "        harvested_sources[source] = associations"
   ]
  },
  {
   "cell_type": "code",
   "execution_count": 200,
   "metadata": {},
   "outputs": [
    {
     "data": {
      "text/plain": [
       "22151"
      ]
     },
     "execution_count": 200,
     "metadata": {},
     "output_type": "execute_result"
    }
   ],
   "source": [
    "# Standardize structure and merge files\n",
    "\n",
    "all_associations = list()\n",
    "for source in harvested_sources:\n",
    "    for entry in harvested_sources[source]:\n",
    "        entry['raw'] = entry.pop(source)\n",
    "        all_associations.append(entry)\n",
    "        \n",
    "len(all_associations)"
   ]
  },
  {
   "cell_type": "code",
   "execution_count": 201,
   "metadata": {
    "collapsed": true
   },
   "outputs": [],
   "source": [
    "from collections import Counter\n",
    "\n",
    "def report_groups(associations):\n",
    "    groups = Counter()\n",
    "    for association in associations:\n",
    "        groups[association['source']] += 1\n",
    "    total = sum(groups.values())\n",
    "    for group in sorted(groups):\n",
    "        print(\"{}: {} ({:.1f}%)\".format(group, groups[group], groups[group] / len(harvested_sources[group]) * 100))\n",
    "    print(\"Total: {} ({:.1f}%)\".format(total, total / len(all_associations) * 100))"
   ]
  },
  {
   "cell_type": "code",
   "execution_count": 202,
   "metadata": {},
   "outputs": [
    {
     "name": "stdout",
     "output_type": "stream",
     "text": [
      "brca: 5717 (100.0%)\n",
      "cgi: 1431 (100.0%)\n",
      "civic: 3497 (100.0%)\n",
      "jax: 5754 (100.0%)\n",
      "molecularmatch: 1104 (100.0%)\n",
      "oncokb: 4048 (100.0%)\n",
      "pmkb: 600 (100.0%)\n",
      "Total: 22151 (100.0%)\n"
     ]
    }
   ],
   "source": [
    "report_groups(all_associations)"
   ]
  },
  {
   "cell_type": "code",
   "execution_count": 203,
   "metadata": {},
   "outputs": [
    {
     "name": "stdout",
     "output_type": "stream",
     "text": [
      "1991 22151\n"
     ]
    },
    {
     "data": {
      "text/plain": [
       "0.08988307525619611"
      ]
     },
     "execution_count": 203,
     "metadata": {},
     "output_type": "execute_result"
    }
   ],
   "source": [
    "# Associations with more than 1 feature\n",
    "multi_featured = [x for x in all_associations if len(x['features']) > 1]\n",
    "print len(multi_featured), len(all_associations)\n",
    "len(multi_featured) / len(all_associations)"
   ]
  },
  {
   "cell_type": "code",
   "execution_count": 204,
   "metadata": {},
   "outputs": [
    {
     "name": "stdout",
     "output_type": "stream",
     "text": [
      "cgi: 140 (9.8%)\n",
      "jax: 1797 (31.2%)\n",
      "molecularmatch: 19 (1.7%)\n",
      "oncokb: 35 (0.9%)\n",
      "Total: 1991 (9.0%)\n"
     ]
    }
   ],
   "source": [
    "report_groups(multi_featured)"
   ]
  },
  {
   "cell_type": "code",
   "execution_count": 205,
   "metadata": {},
   "outputs": [
    {
     "name": "stdout",
     "output_type": "stream",
     "text": [
      "0 22151\n"
     ]
    },
    {
     "data": {
      "text/plain": [
       "0.0"
      ]
     },
     "execution_count": 205,
     "metadata": {},
     "output_type": "execute_result"
    }
   ],
   "source": [
    "# Associations with feature name lists\n",
    "listed_feature_names = [x for x in all_associations if isinstance(x['feature_names'], list)]\n",
    "print len(listed_feature_names), len(all_associations)\n",
    "len(listed_feature_names) / len(all_associations)"
   ]
  },
  {
   "cell_type": "code",
   "execution_count": 206,
   "metadata": {},
   "outputs": [
    {
     "name": "stdout",
     "output_type": "stream",
     "text": [
      "Total: 0 (0.0%)\n"
     ]
    }
   ],
   "source": [
    "report_groups(listed_feature_names)"
   ]
  },
  {
   "cell_type": "code",
   "execution_count": 207,
   "metadata": {},
   "outputs": [
    {
     "data": {
      "text/plain": [
       "0"
      ]
     },
     "execution_count": 207,
     "metadata": {},
     "output_type": "execute_result"
    }
   ],
   "source": [
    "len([x for x in listed_feature_names if len(x['feature_names']) >1 ])"
   ]
  },
  {
   "cell_type": "markdown",
   "metadata": {},
   "source": [
    "## Feature coordinate filtering\n",
    "\n",
    "What follows is a detailed look at associations without start and end coordinates after normalization, and a set of regular expression filters to separate out these associations into chunks that can be annotated with gene- or exon-level coordinates, as appropriate."
   ]
  },
  {
   "cell_type": "code",
   "execution_count": 208,
   "metadata": {
    "collapsed": true
   },
   "outputs": [],
   "source": [
    "# Associations with coordinate features\n",
    "coord_featured = list()\n",
    "no_coord_featured = list()\n",
    "for association in all_associations:\n",
    "    c = 0\n",
    "    for feature in association['features']:\n",
    "        if ('start' in feature) and ('end') in feature:\n",
    "            coord_featured.append(association)\n",
    "            break\n",
    "        else:\n",
    "            c+=1\n",
    "    if c == len(association['features']):\n",
    "        no_coord_featured.append(association)"
   ]
  },
  {
   "cell_type": "code",
   "execution_count": 209,
   "metadata": {},
   "outputs": [
    {
     "name": "stdout",
     "output_type": "stream",
     "text": [
      "brca: 5717 (100.0%)\n",
      "civic: 3497 (100.0%)\n",
      "jax: 5612 (97.5%)\n",
      "molecularmatch: 901 (81.6%)\n",
      "oncokb: 4025 (99.4%)\n",
      "pmkb: 600 (100.0%)\n",
      "Total: 20352 (91.9%)\n"
     ]
    }
   ],
   "source": [
    "report_groups(coord_featured)"
   ]
  },
  {
   "cell_type": "code",
   "execution_count": 210,
   "metadata": {},
   "outputs": [
    {
     "name": "stdout",
     "output_type": "stream",
     "text": [
      "cgi: 1431 (100.0%)\n",
      "jax: 142 (2.5%)\n",
      "molecularmatch: 203 (18.4%)\n",
      "oncokb: 23 (0.6%)\n",
      "Total: 1799 (8.1%)\n"
     ]
    }
   ],
   "source": [
    "report_groups(no_coord_featured)"
   ]
  },
  {
   "cell_type": "code",
   "execution_count": 211,
   "metadata": {},
   "outputs": [
    {
     "data": {
      "text/plain": [
       "[{u'alt': u'T',\n",
       "  u'biomarker_type': u'mutant',\n",
       "  u'chromosome': u'9',\n",
       "  u'description': u'ABL1:T315I',\n",
       "  u'geneSymbol': u'ABL1',\n",
       "  u'links': [u'http://myvariant.info/v1/variant/chr9:g.133748283C>T?assembly=hg19',\n",
       "   u'http://reg.genome.network/refseq/RS000057',\n",
       "   u'http://reg.genome.network/refseq/RS000033',\n",
       "   u'http://reg.genome.network/refseq/RS000009',\n",
       "   u'http://reg.genome.network/refseq/RS002120',\n",
       "   u'http://reg.genome.network/allele/CA122575',\n",
       "   u'http://www.ncbi.nlm.nih.gov/snp/121913459',\n",
       "   u'http://myvariant.info/v1/variant/chr9:g.130872896C>T?assembly=hg38',\n",
       "   u'http://www.ncbi.nlm.nih.gov/clinvar/?term=27663[alleleid]',\n",
       "   u'http://cancer.sanger.ac.uk/cosmic/mutation/overview?id=12560',\n",
       "   u'http://www.ncbi.nlm.nih.gov/clinvar/variation/12624'],\n",
       "  u'name': u'ABL1:T315I',\n",
       "  u'ref': u'C',\n",
       "  u'referenceName': u'GRCh37',\n",
       "  u'start': 133748283,\n",
       "  u'synonyms': [u'NC_000009.12:g.130872896C>T',\n",
       "   u'NG_012034.1:g.164016C>T',\n",
       "   u'NC_000009.11:g.133748283C>T',\n",
       "   u'chr9:g.133748283C>T',\n",
       "   u'CM000671.1:g.133748283C>T',\n",
       "   u'chr9:g.130872896C>T',\n",
       "   u'NC_000009.10:g.132738104C>T',\n",
       "   u'COSM12560',\n",
       "   u'CM000671.2:g.130872896C>T']}]"
      ]
     },
     "execution_count": 211,
     "metadata": {},
     "output_type": "execute_result"
    }
   ],
   "source": [
    "# First association has feature, but no end coord\n",
    "\n",
    "harvested_sources['cgi'][0]['features']"
   ]
  },
  {
   "cell_type": "code",
   "execution_count": 212,
   "metadata": {
    "collapsed": true
   },
   "outputs": [],
   "source": [
    "# Associations with partial coordinate features\n",
    "partial_coord_featured = list()\n",
    "no_partial_coord_featured = list()\n",
    "for association in all_associations:\n",
    "    c = 0\n",
    "    for feature in association['features']:\n",
    "        if ('start' in feature):\n",
    "            partial_coord_featured.append(association)\n",
    "            break\n",
    "        else:\n",
    "            c+=1\n",
    "    if c == len(association['features']):\n",
    "        no_partial_coord_featured.append(association)"
   ]
  },
  {
   "cell_type": "code",
   "execution_count": 213,
   "metadata": {},
   "outputs": [
    {
     "name": "stdout",
     "output_type": "stream",
     "text": [
      "cgi: 725 (50.7%)\n",
      "jax: 142 (2.5%)\n",
      "molecularmatch: 203 (18.4%)\n",
      "oncokb: 23 (0.6%)\n",
      "Total: 1093 (4.9%)\n"
     ]
    }
   ],
   "source": [
    "report_groups(no_partial_coord_featured)"
   ]
  },
  {
   "cell_type": "code",
   "execution_count": 214,
   "metadata": {
    "collapsed": true
   },
   "outputs": [],
   "source": [
    "def get_feature_names(associations):\n",
    "    return (list(map(lambda x: x['feature_names'], associations)))\n",
    "feature_names = get_feature_names(no_partial_coord_featured)"
   ]
  },
  {
   "cell_type": "code",
   "execution_count": 215,
   "metadata": {
    "collapsed": true
   },
   "outputs": [],
   "source": [
    "no_partial_coord_featured_no_feature_names = [x for x in no_partial_coord_featured if x['feature_names'] is None]\n",
    "no_partial_coord_featured_with_feature_names = [x for x in no_partial_coord_featured if x['feature_names'] is not None]"
   ]
  },
  {
   "cell_type": "code",
   "execution_count": 216,
   "metadata": {},
   "outputs": [
    {
     "name": "stdout",
     "output_type": "stream",
     "text": [
      "molecularmatch: 139 (12.6%)\n",
      "Total: 139 (0.6%)\n"
     ]
    }
   ],
   "source": [
    "report_groups(no_partial_coord_featured_no_feature_names)"
   ]
  },
  {
   "cell_type": "code",
   "execution_count": 217,
   "metadata": {},
   "outputs": [
    {
     "data": {
      "text/plain": [
       "139"
      ]
     },
     "execution_count": 217,
     "metadata": {},
     "output_type": "execute_result"
    }
   ],
   "source": [
    "# All of these have exactly 1 gene name\n",
    "\n",
    "len([x['genes'] for x in no_partial_coord_featured_no_feature_names if len(x['genes']) == 1])"
   ]
  },
  {
   "cell_type": "code",
   "execution_count": 218,
   "metadata": {},
   "outputs": [
    {
     "name": "stdout",
     "output_type": "stream",
     "text": [
      "cgi: 725 (50.7%)\n",
      "jax: 142 (2.5%)\n",
      "molecularmatch: 64 (5.8%)\n",
      "oncokb: 23 (0.6%)\n",
      "Total: 954 (4.3%)\n"
     ]
    }
   ],
   "source": [
    "report_groups(no_partial_coord_featured_with_feature_names)"
   ]
  },
  {
   "cell_type": "code",
   "execution_count": 221,
   "metadata": {},
   "outputs": [
    {
     "name": "stdout",
     "output_type": "stream",
     "text": [
      "cgi: 125 (8.7%)\n",
      "molecularmatch: 4 (0.4%)\n",
      "oncokb: 1 (0.0%)\n",
      "Total: 130 (0.6%)\n"
     ]
    }
   ],
   "source": [
    "import re\n",
    "\n",
    "def feature_filter(re_obj, associations):\n",
    "    # report matches and return non-matches\n",
    "    found = list(filter(lambda x: re_obj.search(x['feature_names']) is not None, associations))\n",
    "    not_found = list(filter(lambda x: re_obj.search(x['feature_names']) is None, associations))\n",
    "    report_groups(found)\n",
    "    return(not_found, found)\n",
    "\n",
    "amp_re = re.compile(r'(amplification)|(loss)|(amp)', re.IGNORECASE)\n",
    "(remainder, found)  = feature_filter(amp_re, no_partial_coord_featured_with_feature_names)"
   ]
  },
  {
   "cell_type": "code",
   "execution_count": 223,
   "metadata": {},
   "outputs": [
    {
     "name": "stdout",
     "output_type": "stream",
     "text": [
      "cgi\n",
      "ALK amplification\n",
      "{u'geneSymbol': u'ALK', u'referenceName': u'GRCh37', u'biomarker_type': u'amplification', u'name': u'ALK:amp', u'description': u'ALK:amp'}\n",
      "{u'Targeting': u'', u'Alteration': u'ALK:amp', u'Source': u'PMID:22277784', u'cDNA': u'', u'Primary Tumor type': u'Lung adenocarcinoma', u'individual_mutation': u'', u'Drug full name': u'Crizotinib (ALK inhibitor)', u'Association': u'Resistant', u'Drug family': u'ALK inhibitor', u'Biomarker': u'ALK amplification', u'Drug': u'Crizotinib', u'Curator': u'RDientsmann', u'gDNA': u'', u'Drug status': u'', u'Gene': u'ALK', u'transcript': u'', u'strand': u'', u'info': u'', u'Assay type': u'', u'Alteration type': u'CNA', u'region': u'', u'Evidence level': u'Case report', u'Primary Tumor acronym': u'LUAD', u'Metastatic Tumor Type': u''}\n"
     ]
    }
   ],
   "source": [
    "# print information about items that match RE. ie items that need location coordinates\n",
    "print found[0]['source']\n",
    "print found[0]['feature_names']\n",
    "print found[0]['features'][0]\n",
    "print found[0]['raw']\n"
   ]
  },
  {
   "cell_type": "code",
   "execution_count": 224,
   "metadata": {},
   "outputs": [
    {
     "name": "stdout",
     "output_type": "stream",
     "text": [
      "cgi: 117 (8.2%)\n",
      "jax: 101 (1.8%)\n",
      "molecularmatch: 49 (4.4%)\n",
      "oncokb: 5 (0.1%)\n",
      "Total: 272 (1.2%)\n",
      "cgi\n",
      "ABL1-BCR fusion\n",
      "{u'geneSymbol': u'ABL1', u'referenceName': u'GRCh37', u'biomarker_type': u'splice', u'name': u'ABL1__BCR', u'description': u'ABL1__BCR'}\n",
      "{u'Targeting': u'', u'Alteration': u'ABL1__BCR', u'Source': u'EMA', u'cDNA': u'', u'Primary Tumor type': u'Chronic myeloid leukemia;Acute lymphoblastic leukemia', u'individual_mutation': u'', u'Drug full name': u'Imatinib (BCR-ABL inhibitor 1st gen&KIT inhibitor)', u'Association': u'Responsive', u'Drug family': u'BCR-ABL inhibitor 1st gen&KIT inhibitor', u'Biomarker': u'ABL1-BCR fusion', u'Drug': u'Imatinib', u'Curator': u'CRubio-Perez;DTamborero;RDientsmann', u'gDNA': u'', u'Drug status': u'Approved', u'Gene': u'ABL1', u'transcript': u'', u'strand': u'', u'info': u'', u'Assay type': u'', u'Alteration type': u'FUS', u'region': u'', u'Evidence level': u'FDA guidelines', u'Primary Tumor acronym': u'CML;ALL', u'Metastatic Tumor Type': u''}\n"
     ]
    }
   ],
   "source": [
    "fusion_re = re.compile(r'(\\w{2,}-\\w{2,})|(fusion)', re.IGNORECASE)\n",
    "(r2, found) = feature_filter(fusion_re, remainder)\n",
    "print found[0]['source']\n",
    "print found[0]['feature_names']\n",
    "print found[0]['features'][0]\n",
    "print found[0]['raw']\n"
   ]
  },
  {
   "cell_type": "code",
   "execution_count": 228,
   "metadata": {},
   "outputs": [
    {
     "name": "stdout",
     "output_type": "stream",
     "text": [
      "jax: 5 (0.1%)\n",
      "oncokb: 13 (0.3%)\n",
      "Total: 18 (0.1%)\n"
     ]
    }
   ],
   "source": [
    "ppm_re = re.compile(r'\\w+(:| )[a-z]\\d+[a-z]?(fs\\*?)?$', re.IGNORECASE)\n",
    "(r3, found) = feature_filter(ppm_re, r2)\n"
   ]
  },
  {
   "cell_type": "code",
   "execution_count": 229,
   "metadata": {},
   "outputs": [
    {
     "name": "stdout",
     "output_type": "stream",
     "text": [
      "# curl commands to find feature\n",
      "curl -s 'http://myvariant.info/v1/query?q=SMO%20E518K'  | jq '.hits[0] | {name: \"SMO E518K\", referenceName: \"GRCh37\", chromosome: .chrom, start: .hg19.start, end: .hg19.end, ref: .vcf.ref, alt: .vcf.alt }'\n"
     ]
    }
   ],
   "source": [
    "# utility to generate curl commands\n",
    "\n",
    "def test_curls(associations):\n",
    "    names = []\n",
    "    for a in associations:\n",
    "        for f in a['features']:\n",
    "            names.append(tuple(f['name'].strip().split(' ')))\n",
    "    names = list(set(names))\n",
    "    print '# curl commands to find feature location'\n",
    "    for t in names:\n",
    "        if len(t) > 1:\n",
    "            print \"curl -s 'http://myvariant.info/v1/query?q={}%20{}'  | jq '.hits[0] | {{name: \\\"{} {}\\\", referenceName: \\\"GRCh37\\\", chromosome: .chrom, start: .hg19.start, end: .hg19.end, ref: .vcf.ref, alt: .vcf.alt }}'\".format(t[0],t[1], t[0],t[1])\n",
    "\n",
    "test_curls(found)            "
   ]
  },
  {
   "cell_type": "code",
   "execution_count": 231,
   "metadata": {},
   "outputs": [
    {
     "name": "stdout",
     "output_type": "stream",
     "text": [
      "jax: 27 (0.5%)\n",
      "Total: 27 (0.1%)\n"
     ]
    }
   ],
   "source": [
    "indel_re = re.compile(r'\\w+(:| )\\w+(ins\\w+)|(del($|ins\\w+))|(dup$)')\n",
    "(r4, found) = feature_filter(indel_re, r3)"
   ]
  },
  {
   "cell_type": "code",
   "execution_count": 232,
   "metadata": {},
   "outputs": [
    {
     "name": "stdout",
     "output_type": "stream",
     "text": [
      "cgi: 183 (12.8%)\n",
      "Total: 183 (0.8%)\n"
     ]
    }
   ],
   "source": [
    "bucket_re = re.compile(r'[A-Z0-9]+( (in)?act)?( oncogenic)? mut((ant)|(ation))?$')\n",
    "(r5,found) = feature_filter(bucket_re, r4)"
   ]
  },
  {
   "cell_type": "code",
   "execution_count": 233,
   "metadata": {},
   "outputs": [
    {
     "name": "stdout",
     "output_type": "stream",
     "text": [
      "cgi: 36 (2.5%)\n",
      "oncokb: 4 (0.1%)\n",
      "Total: 40 (0.2%)\n"
     ]
    }
   ],
   "source": [
    "exon_re = re.compile(r'exon', re.IGNORECASE)\n",
    "(r6,found) = feature_filter(exon_re, r5)"
   ]
  },
  {
   "cell_type": "code",
   "execution_count": 234,
   "metadata": {},
   "outputs": [
    {
     "name": "stdout",
     "output_type": "stream",
     "text": [
      "cgi: 172 (12.0%)\n",
      "Total: 172 (0.8%)\n"
     ]
    }
   ],
   "source": [
    "expression_re = re.compile(r'(exp)|(^\\w+ (pos(itive)?)|(neg(ative)?)|(biallelic inactivation)$)|(truncating)|(deletion)', re.IGNORECASE)\n",
    "(r7, found) = feature_filter(expression_re, r6)"
   ]
  },
  {
   "cell_type": "code",
   "execution_count": 235,
   "metadata": {},
   "outputs": [
    {
     "name": "stdout",
     "output_type": "stream",
     "text": [
      "cgi: 92 (6.4%)\n",
      "jax: 9 (0.2%)\n",
      "molecularmatch: 11 (1.0%)\n",
      "Total: 112 (0.5%)\n"
     ]
    }
   ],
   "source": [
    "report_groups(r7)"
   ]
  },
  {
   "cell_type": "code",
   "execution_count": 236,
   "metadata": {},
   "outputs": [
    {
     "data": {
      "text/plain": [
       "[u'ABL1 (I242T,M244V,K247R,L248V,G250E,G250R,Q252R,Q252H,Y253F,Y253H,E255K,E255V,M237V,E258D,W261L,L273M,E275K,E275Q,D276G,T277A,E279K,V280A,V289A,V289I,E292V,E292Q,I293V,L298V,V299L,F311L,F311I,T315I,F317L,F317V,F317I,F317C,Y320C,L324Q,Y342H,M343T,A344V,A350V,M351T,E355D,E355G,E355A,F359V,F359I,F359C,F359L,D363Y,L364I,A365V,A366G,L370P,V371A,E373K,V379I,A380T,F382L,L384M,L387M,L387F,L387V,M388L,Y393C,H396P,H396R,H396A,A397P,S417F,S417Y,I418S,I418V,A433T,S438C,E450K,E450G,E450A,E450V,E453K,E453G,E453A,E453V,E459K,E459G,E459A,E459V,M472I,P480L,F486S,E507G)',\n",
       " u'BRAF (K601R,L597R,V600R)',\n",
       " u'BRAF (V600R)',\n",
       " u'BRAF (V600D,V600K,V600M,V600G,V600R)',\n",
       " u'CSF3R frameshift variant (D771),frameshift variant (S783)',\n",
       " u'DPYD splice donor variant',\n",
       " u'BRAF (V600)',\n",
       " u'BRAF (V600)',\n",
       " u'BRAF (V600E,V600D,V600K,V600M,V600G,V600R)',\n",
       " u'BRAF (V600E,V600D,V600K,V600M,V600G,V600R)',\n",
       " u'BTK (C481)',\n",
       " u'EGFR (S720)',\n",
       " u'EGFR (L718)',\n",
       " u'ERBB4 (H809G)',\n",
       " u'FLT3 (D835)',\n",
       " u'FLT3 (N676)',\n",
       " u'FLT3 (D835,Y842)',\n",
       " u'GNAQ (Q209)',\n",
       " u'GNAS (R201)',\n",
       " u'IDH2 (R140K,R172K)',\n",
       " u'JAK1 (S646F;R683)',\n",
       " u'KIT (D816Y,D816F,D816V)',\n",
       " u'KIT wildtype',\n",
       " u'KIT wildtype',\n",
       " u'KRAS (G12)',\n",
       " u'MAP2K1 (F129L,L215P,I103N,P124)',\n",
       " u'MYD88 (L265P)',\n",
       " u'NRAS (Q61)',\n",
       " u'TERT promoters core',\n",
       " u'EZH2 (Y641,A677)',\n",
       " u'FGFR2 (M536I,M538I,I548V,N550,E566G,L618M,K660E)',\n",
       " u'FLT3 (F691)',\n",
       " u'KIT (D816)',\n",
       " u'KIT (V559I,H697Y,T670,V654A,A829P,D816,N822,Y823D)',\n",
       " u'KRAS (G12)',\n",
       " u'MET kinase domain mutation',\n",
       " u'PDGFRA wildtype',\n",
       " u'PDGFRA wildtype',\n",
       " u'TPMT splice acceptor variant',\n",
       " u'AR (F877L) + AR (T878A)',\n",
       " u'ERBB2 inframe insertion (P780GSP),inframe insertion (781GSP),inframe insertion (A775YVMA),inframe insertion (G776YVMA)',\n",
       " u'ERBB2 (G776L)',\n",
       " u'ESR1 (E380Q,537,538,L536,P535H)',\n",
       " u'FGFR2 (V565I,M536I,M538I,I548V,N550,E566G,L618M,K660E)',\n",
       " u'FGFR4 (N535,V550)',\n",
       " u'IDH1 (R132)',\n",
       " u'IDH2 (R172)',\n",
       " u'KIT wildtype',\n",
       " u'MAP2K1 (P124)',\n",
       " u'MAP2K1 (P124)',\n",
       " u'MAP2K1 (I99T,L115,G128D,F129L,V211D,L215P,I103N,K104N,I111N,H119P,E120D,F133L,P124,D67N)',\n",
       " u'MET (Y1230C;Y1235D)',\n",
       " u'MPL (W515F)',\n",
       " u'NRAS (Q61)',\n",
       " u'PDGFRA wildtype',\n",
       " u'TPMT splice acceptor variant',\n",
       " u'G6PD (V98M) + G6PD (N156D)',\n",
       " u'BRAF (V600)',\n",
       " u'BRAF (V600D,V600K,V600M,V600G,V600R)',\n",
       " u'BRAF (V600D,V600K,V600M,V600G,V600R)',\n",
       " u'ALK inframe insertion (1151T)',\n",
       " u'BRAF (V600)',\n",
       " u'BRAF (V600E,V600K)',\n",
       " u'BRAF (V600E,V600D,V600K,V600M,V600G,V600R)',\n",
       " u'DPYD splice donor variant',\n",
       " u'EGFR (L858R,L861,G719,S768I)',\n",
       " u'ERBB2 inframe insertion (A775YVMA),inframe insertion (G776VC)',\n",
       " u'ERBB2 (S310,L755,V777)',\n",
       " u'GNAQ (Q209)',\n",
       " u'GNAQ (Q209)',\n",
       " u'IDH1 (R132)',\n",
       " u'KIT wildtype',\n",
       " u'MAP2K1 (Q56P,P124S,P124L;C121S)',\n",
       " u'PDGFRA wildtype',\n",
       " u'RET (618,620,634,768,791,891,918,C634W,M918T)',\n",
       " u'ALK inframe insertion (1151T)',\n",
       " u'BRAF (V600E,V600K)',\n",
       " u'BRAF (V600E,V600K)',\n",
       " u'DPYD splice donor variant',\n",
       " u'EGFR (L792)',\n",
       " u'ERBB2 (V659E,S310F)',\n",
       " u'ERBB2 (V659E)',\n",
       " u'ESR1 (E380Q,537,538,L536,P535H)',\n",
       " u'FGFR2 inframe insertion (A266),inframe insertion (S267)',\n",
       " u'FGFR3 (K650,Y373C)',\n",
       " u'FGFR3 (K650)',\n",
       " u'FLT3 (N676)',\n",
       " u'FLT3 (D835)',\n",
       " u'FLT3 (F691,D835,N676,Y842)',\n",
       " u'GNAQ (Q209)',\n",
       " u'TP53 wildtype',\n",
       " u'TPMT splice acceptor variant']"
      ]
     },
     "execution_count": 236,
     "metadata": {},
     "output_type": "execute_result"
    }
   ],
   "source": [
    "get_feature_names([x for x in r7 if x['source'] == 'cgi'])"
   ]
  },
  {
   "cell_type": "markdown",
   "metadata": {},
   "source": [
    "# Knowledgebase Comparison\n",
    "\n",
    "## Genes"
   ]
  },
  {
   "cell_type": "code",
   "execution_count": 237,
   "metadata": {
    "collapsed": true
   },
   "outputs": [],
   "source": [
    "from collections import defaultdict\n",
    "\n",
    "def genes_by_source(associations):\n",
    "    source_genes = defaultdict(set)\n",
    "    for association in associations:\n",
    "        source_genes[association['source']].update(association['genes'])\n",
    "    return source_genes"
   ]
  },
  {
   "cell_type": "code",
   "execution_count": 238,
   "metadata": {
    "collapsed": true
   },
   "outputs": [],
   "source": [
    "s = genes_by_source(all_associations)"
   ]
  },
  {
   "cell_type": "code",
   "execution_count": 239,
   "metadata": {
    "collapsed": true
   },
   "outputs": [],
   "source": [
    "import pyupset as pyu\n",
    "import pandas as pd\n",
    "%matplotlib inline\n",
    "\n",
    "def plot_overlap(set_dict):\n",
    "    d = {g: pd.DataFrame(list(set_dict[g])) for g in set_dict}\n",
    "    pyu.plot(d, inters_size_bounds=(3, 400000))"
   ]
  },
  {
   "cell_type": "code",
   "execution_count": 240,
   "metadata": {},
   "outputs": [
    {
     "data": {
      "image/png": "[encoded data removed]",
      "text/plain": [
       "<matplotlib.figure.Figure at 0x7f62eb027190>"
      ]
     },
     "metadata": {},
     "output_type": "display_data"
    }
   ],
   "source": [
    "# omitting BRCA (only 2 genes)\n",
    "s = {k: v for k, v in s.items() if k != 'brca'}\n",
    "plot_overlap(s)"
   ]
  },
  {
   "cell_type": "code",
   "execution_count": 165,
   "metadata": {
    "collapsed": true
   },
   "outputs": [],
   "source": [
    "# Genes observed in all knowledgebases\n"
   ]
  },
  {
   "cell_type": "code",
   "execution_count": null,
   "metadata": {
    "collapsed": true
   },
   "outputs": [],
   "source": []
  }
 ],
 "metadata": {
  "kernelspec": {
   "display_name": "Python 2",
   "language": "python",
   "name": "python2"
  },
  "language_info": {
   "codemirror_mode": {
    "name": "ipython",
    "version": 2
   },
   "file_extension": ".py",
   "mimetype": "text/x-python",
   "name": "python",
   "nbconvert_exporter": "python",
   "pygments_lexer": "ipython2",
   "version": "2.7.13"
  }
 },
 "nbformat": 4,
 "nbformat_minor": 2
}
