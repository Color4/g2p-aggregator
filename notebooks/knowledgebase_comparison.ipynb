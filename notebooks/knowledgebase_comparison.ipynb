{
 "cells": [
  {
   "cell_type": "markdown",
   "metadata": {},
   "source": [
    "# Data Structuring and Pruning"
   ]
  },
  {
   "cell_type": "code",
   "execution_count": 28,
   "metadata": {},
   "outputs": [],
   "source": [
    "# Load datasets\n",
    "\n",
    "import json\n",
    "import pathlib\n",
    "\n",
    "data_path = pathlib.Path('/Users/awagner/Workspace/git/g2p-aggregator/data/local/0.8')\n",
    "harvested_sources = dict()\n",
    "for path in data_path.glob('*.json'):\n",
    "    source = path.parts[-1].split('.')[0]\n",
    "    with path.open() as json_data:\n",
    "        # harvested_sources[source] = json.load(json_data) <- this should work, but doesn't due to malformed json\n",
    "        # what follows is a hack to reassemble into proper JSON object\n",
    "        associations = list()\n",
    "        for line in json_data:\n",
    "            associations.append(json.loads(line))\n",
    "        \n",
    "        # resume intended function\n",
    "        harvested_sources[source] = associations"
   ]
  },
  {
   "cell_type": "code",
   "execution_count": 32,
   "metadata": {
    "collapsed": true
   },
   "outputs": [],
   "source": [
    "# Standardize structure and merge files\n",
    "\n",
    "all_associations = list()\n",
    "for source in harvested_sources:\n",
    "    for entry in harvested_sources[source]:\n",
    "        entry['raw'] = entry.pop(source)\n",
    "        all_associations.append(entry)\n",
    "        \n",
    "len(all_associations)"
   ]
  },
  {
   "cell_type": "code",
   "execution_count": 228,
   "metadata": {
    "collapsed": true
   },
   "outputs": [],
   "source": [
    "from collections import Counter\n",
    "\n",
    "def report_groups(associations):\n",
    "    groups = Counter()\n",
    "    for association in associations:\n",
    "        groups[association['source']] += 1\n",
    "    total = sum(groups.values())\n",
    "    for group in sorted(groups):\n",
    "        print(\"{}: {} ({:.1f}%)\".format(group, groups[group], groups[group] / len(harvested_sources[group]) * 100))\n",
    "    print(\"Total: {} ({:.1f}%)\".format(total, total / len(all_associations) * 100))"
   ]
  },
  {
   "cell_type": "code",
   "execution_count": 229,
   "metadata": {},
   "outputs": [
    {
     "name": "stdout",
     "output_type": "stream",
     "text": [
      "brca: 5717 (100.0%)\n",
      "cgi: 1431 (100.0%)\n",
      "civic: 3497 (100.0%)\n",
      "jax: 5754 (100.0%)\n",
      "molecularmatch: 2079 (100.0%)\n",
      "oncokb: 4048 (100.0%)\n",
      "pmkb: 600 (100.0%)\n",
      "Total: 23126 (100.0%)\n"
     ]
    }
   ],
   "source": [
    "report_groups(all_associations)"
   ]
  },
  {
   "cell_type": "code",
   "execution_count": 230,
   "metadata": {},
   "outputs": [
    {
     "data": {
      "text/plain": [
       "0.0863962639453429"
      ]
     },
     "execution_count": 230,
     "metadata": {},
     "output_type": "execute_result"
    }
   ],
   "source": [
    "# Associations with more than 1 feature\n",
    "multi_featured = [x for x in all_associations if len(x['features']) > 1]\n",
    "len(multi_featured) / len(all_associations)"
   ]
  },
  {
   "cell_type": "code",
   "execution_count": 231,
   "metadata": {},
   "outputs": [
    {
     "name": "stdout",
     "output_type": "stream",
     "text": [
      "cgi: 140 (9.8%)\n",
      "jax: 1797 (31.2%)\n",
      "molecularmatch: 26 (1.3%)\n",
      "oncokb: 35 (0.9%)\n",
      "Total: 1998 (8.6%)\n"
     ]
    }
   ],
   "source": [
    "report_groups(multi_featured)"
   ]
  },
  {
   "cell_type": "code",
   "execution_count": 232,
   "metadata": {},
   "outputs": [
    {
     "data": {
      "text/plain": [
       "0.24721093141918188"
      ]
     },
     "execution_count": 232,
     "metadata": {},
     "output_type": "execute_result"
    }
   ],
   "source": [
    "# Associations with feature name lists\n",
    "listed_feature_names = [x for x in all_associations if isinstance(x['feature_names'], list)]\n",
    "len(listed_feature_names) / len(all_associations)"
   ]
  },
  {
   "cell_type": "code",
   "execution_count": 233,
   "metadata": {},
   "outputs": [
    {
     "name": "stdout",
     "output_type": "stream",
     "text": [
      "brca: 5717 (100.0%)\n",
      "Total: 5717 (24.7%)\n"
     ]
    }
   ],
   "source": [
    "report_groups(listed_feature_names)"
   ]
  },
  {
   "cell_type": "code",
   "execution_count": 234,
   "metadata": {},
   "outputs": [
    {
     "data": {
      "text/plain": [
       "0"
      ]
     },
     "execution_count": 234,
     "metadata": {},
     "output_type": "execute_result"
    }
   ],
   "source": [
    "len([x for x in listed_feature_names if len(x['feature_names']) >1 ])"
   ]
  },
  {
   "cell_type": "markdown",
   "metadata": {},
   "source": [
    "## Feature coordinate filtering\n",
    "\n",
    "What follows is a detailed look at associations without start and end coordinates after normalization, and a set of regular expression filters to separate out these associations into chunks that can be annotated with gene- or exon-level coordinates, as appropriate."
   ]
  },
  {
   "cell_type": "code",
   "execution_count": 235,
   "metadata": {},
   "outputs": [],
   "source": [
    "# Associations with coordinate features\n",
    "coord_featured = list()\n",
    "no_coord_featured = list()\n",
    "for association in all_associations:\n",
    "    c = 0\n",
    "    for feature in association['features']:\n",
    "        if ('start' in feature) and ('end') in feature:\n",
    "            coord_featured.append(association)\n",
    "            break\n",
    "        else:\n",
    "            c+=1\n",
    "    if c == len(association['features']):\n",
    "        no_coord_featured.append(association)"
   ]
  },
  {
   "cell_type": "code",
   "execution_count": 236,
   "metadata": {},
   "outputs": [
    {
     "name": "stdout",
     "output_type": "stream",
     "text": [
      "brca: 5717 (100.0%)\n",
      "civic: 3497 (100.0%)\n",
      "jax: 2499 (43.4%)\n",
      "molecularmatch: 1664 (80.0%)\n",
      "oncokb: 1830 (45.2%)\n",
      "pmkb: 600 (100.0%)\n",
      "Total: 15807 (68.4%)\n"
     ]
    }
   ],
   "source": [
    "report_groups(coord_featured)"
   ]
  },
  {
   "cell_type": "code",
   "execution_count": 240,
   "metadata": {},
   "outputs": [
    {
     "name": "stdout",
     "output_type": "stream",
     "text": [
      "cgi: 1431 (100.0%)\n",
      "jax: 3255 (56.6%)\n",
      "molecularmatch: 415 (20.0%)\n",
      "oncokb: 2218 (54.8%)\n",
      "Total: 7319 (31.6%)\n"
     ]
    }
   ],
   "source": [
    "report_groups(no_coord_featured)"
   ]
  },
  {
   "cell_type": "code",
   "execution_count": 172,
   "metadata": {},
   "outputs": [
    {
     "data": {
      "text/plain": [
       "[{'alt': 'C',\n",
       "  'biomarker_type': 'mutant',\n",
       "  'chromosome': '9',\n",
       "  'description': 'ABL1:T315A,F317L,F317V,F317I,F317C,F317I,Y253H,E255K,E255V,F359V,F359C,F359I',\n",
       "  'geneSymbol': 'ABL1',\n",
       "  'links': ['http://reg.genome.network/refseq/RS000009',\n",
       "   'http://reg.genome.network/refseq/RS000057',\n",
       "   'http://reg.genome.network/refseq/RS000033',\n",
       "   'http://myvariant.info/v1/variant/chr9:g.133748288T>C?assembly=hg19',\n",
       "   'http://www.ncbi.nlm.nih.gov/clinvar/variation/376352',\n",
       "   'http://reg.genome.network/refseq/RS002120',\n",
       "   'http://reg.genome.network/allele/CA16602794',\n",
       "   'http://cancer.sanger.ac.uk/cosmic/mutation/overview?id=49074',\n",
       "   'http://www.ncbi.nlm.nih.gov/clinvar/?term=363231[alleleid]',\n",
       "   'http://myvariant.info/v1/variant/chr9:g.130872901T>C?assembly=hg38'],\n",
       "  'name': 'ABL1:F317L',\n",
       "  'ref': 'T',\n",
       "  'referenceName': 'GRCh37',\n",
       "  'start': 133748288,\n",
       "  'synonyms': ['CM000671.2:g.130872901T>C',\n",
       "   'NC_000009.10:g.132738109T>C',\n",
       "   'NC_000009.11:g.133748288T>C',\n",
       "   'COSM49074',\n",
       "   'chr9:g.130872901T>C',\n",
       "   'NC_000009.12:g.130872901T>C',\n",
       "   'CM000671.1:g.133748288T>C',\n",
       "   'chr9:g.133748288T>C',\n",
       "   'NG_012034.1:g.164021T>C']}]"
      ]
     },
     "execution_count": 172,
     "metadata": {},
     "output_type": "execute_result"
    }
   ],
   "source": [
    "# First association has feature, but no end coord\n",
    "\n",
    "harvested_sources['cgi'][0]['features']"
   ]
  },
  {
   "cell_type": "code",
   "execution_count": 241,
   "metadata": {
    "collapsed": true
   },
   "outputs": [],
   "source": [
    "# Associations with partial coordinate features\n",
    "partial_coord_featured = list()\n",
    "no_partial_coord_featured = list()\n",
    "for association in all_associations:\n",
    "    c = 0\n",
    "    for feature in association['features']:\n",
    "        if ('start' in feature):\n",
    "            partial_coord_featured.append(association)\n",
    "            break\n",
    "        else:\n",
    "            c+=1\n",
    "    if c == len(association['features']):\n",
    "        no_partial_coord_featured.append(association)"
   ]
  },
  {
   "cell_type": "code",
   "execution_count": 242,
   "metadata": {},
   "outputs": [
    {
     "name": "stdout",
     "output_type": "stream",
     "text": [
      "cgi: 725 (50.7%)\n",
      "jax: 3255 (56.6%)\n",
      "molecularmatch: 415 (20.0%)\n",
      "oncokb: 2218 (54.8%)\n",
      "Total: 6613 (28.6%)\n"
     ]
    }
   ],
   "source": [
    "report_groups(no_partial_coord_featured)"
   ]
  },
  {
   "cell_type": "code",
   "execution_count": 252,
   "metadata": {},
   "outputs": [],
   "source": [
    "def get_feature_names(associations):\n",
    "    return (list(map(lambda x: x['feature_names'], associations)))\n",
    "feature_names = get_feature_names(no_partial_coord_featured)"
   ]
  },
  {
   "cell_type": "code",
   "execution_count": 244,
   "metadata": {},
   "outputs": [],
   "source": [
    "no_partial_coord_featured_no_feature_names = [x for x in no_partial_coord_featured if x['feature_names'] is None]\n",
    "no_partial_coord_featured_with_feature_names = [x for x in no_partial_coord_featured if x['feature_names'] is not None]"
   ]
  },
  {
   "cell_type": "code",
   "execution_count": 245,
   "metadata": {},
   "outputs": [
    {
     "name": "stdout",
     "output_type": "stream",
     "text": [
      "molecularmatch: 150 (7.2%)\n",
      "Total: 150 (0.6%)\n"
     ]
    }
   ],
   "source": [
    "report_groups(no_partial_coord_featured_no_feature_names)"
   ]
  },
  {
   "cell_type": "code",
   "execution_count": 246,
   "metadata": {},
   "outputs": [
    {
     "data": {
      "text/plain": [
       "150"
      ]
     },
     "execution_count": 246,
     "metadata": {},
     "output_type": "execute_result"
    }
   ],
   "source": [
    "# All of these have exactly 1 gene name\n",
    "\n",
    "len([x['genes'] for x in no_partial_coord_featured_no_feature_names if len(x['genes']) == 1])"
   ]
  },
  {
   "cell_type": "code",
   "execution_count": 247,
   "metadata": {},
   "outputs": [
    {
     "name": "stdout",
     "output_type": "stream",
     "text": [
      "cgi: 725 (50.7%)\n",
      "jax: 3255 (56.6%)\n",
      "molecularmatch: 265 (12.7%)\n",
      "oncokb: 2218 (54.8%)\n",
      "Total: 6463 (27.9%)\n"
     ]
    }
   ],
   "source": [
    "report_groups(no_partial_coord_featured_with_feature_names)"
   ]
  },
  {
   "cell_type": "code",
   "execution_count": 286,
   "metadata": {},
   "outputs": [
    {
     "name": "stdout",
     "output_type": "stream",
     "text": [
      "cgi: 125 (8.7%)\n",
      "jax: 533 (9.3%)\n",
      "molecularmatch: 135 (6.5%)\n",
      "oncokb: 92 (2.3%)\n",
      "Total: 885 (3.8%)\n"
     ]
    }
   ],
   "source": [
    "import re\n",
    "\n",
    "def feature_filter(re_obj, associations):\n",
    "    # report matches and return non-matches\n",
    "    found = list(filter(lambda x: re_obj.search(x['feature_names']) is not None, associations))\n",
    "    not_found = list(filter(lambda x: re_obj.search(x['feature_names']) is None, associations))\n",
    "    report_groups(found)\n",
    "    return(not_found)\n",
    "\n",
    "amp_re = re.compile(r'(amplification)|(loss)|(amp)', re.IGNORECASE)\n",
    "remainder = feature_filter(amp_re, no_partial_coord_featured_with_feature_names)"
   ]
  },
  {
   "cell_type": "code",
   "execution_count": 287,
   "metadata": {},
   "outputs": [
    {
     "name": "stdout",
     "output_type": "stream",
     "text": [
      "cgi: 117 (8.2%)\n",
      "jax: 554 (9.6%)\n",
      "molecularmatch: 89 (4.3%)\n",
      "oncokb: 229 (5.7%)\n",
      "Total: 989 (4.3%)\n"
     ]
    }
   ],
   "source": [
    "fusion_re = re.compile(r'(\\w{2,}-\\w{2,})|(fusion)', re.IGNORECASE)\n",
    "r2 = feature_filter(fusion_re, remainder)"
   ]
  },
  {
   "cell_type": "code",
   "execution_count": 351,
   "metadata": {},
   "outputs": [
    {
     "name": "stdout",
     "output_type": "stream",
     "text": [
      "jax: 460 (8.0%)\n",
      "molecularmatch: 8 (0.4%)\n",
      "oncokb: 1350 (33.3%)\n",
      "Total: 1818 (7.9%)\n"
     ]
    }
   ],
   "source": [
    "ppm_re = re.compile(r'\\w+(:| )[a-z]\\d+[a-z]?(fs\\*?)?$', re.IGNORECASE)\n",
    "r3 = feature_filter(ppm_re, r2)"
   ]
  },
  {
   "cell_type": "code",
   "execution_count": 352,
   "metadata": {},
   "outputs": [
    {
     "name": "stdout",
     "output_type": "stream",
     "text": [
      "jax: 208 (3.6%)\n",
      "oncokb: 215 (5.3%)\n",
      "Total: 423 (1.8%)\n"
     ]
    }
   ],
   "source": [
    "indel_re = re.compile(r'\\w+(:| )\\w+(ins\\w+)|(del($|ins\\w+))|(dup$)')\n",
    "r4 = feature_filter(indel_re, r3)"
   ]
  },
  {
   "cell_type": "code",
   "execution_count": 373,
   "metadata": {},
   "outputs": [
    {
     "name": "stdout",
     "output_type": "stream",
     "text": [
      "cgi: 183 (12.8%)\n",
      "jax: 931 (16.2%)\n",
      "molecularmatch: 8 (0.4%)\n",
      "Total: 1122 (4.9%)\n"
     ]
    }
   ],
   "source": [
    "bucket_re = re.compile(r'[A-Z0-9]+( (in)?act)?( oncogenic)? mut((ant)|(ation))?$')\n",
    "r5 = feature_filter(bucket_re, r4)"
   ]
  },
  {
   "cell_type": "code",
   "execution_count": 374,
   "metadata": {},
   "outputs": [
    {
     "name": "stdout",
     "output_type": "stream",
     "text": [
      "cgi: 36 (2.5%)\n",
      "jax: 88 (1.5%)\n",
      "oncokb: 27 (0.7%)\n",
      "Total: 151 (0.7%)\n"
     ]
    }
   ],
   "source": [
    "exon_re = re.compile(r'exon', re.IGNORECASE)\n",
    "r6 = feature_filter(exon_re, r5)"
   ]
  },
  {
   "cell_type": "code",
   "execution_count": 375,
   "metadata": {},
   "outputs": [
    {
     "name": "stdout",
     "output_type": "stream",
     "text": [
      "cgi: 172 (12.0%)\n",
      "jax: 407 (7.1%)\n",
      "molecularmatch: 1 (0.0%)\n",
      "oncokb: 226 (5.6%)\n",
      "Total: 806 (3.5%)\n"
     ]
    }
   ],
   "source": [
    "expression_re = re.compile(r'(exp)|(^\\w+ (pos(itive)?)|(neg(ative)?)|(biallelic inactivation)$)|(truncating)|(deletion)', re.IGNORECASE)\n",
    "r7 = feature_filter(expression_re, r6)"
   ]
  },
  {
   "cell_type": "code",
   "execution_count": 377,
   "metadata": {},
   "outputs": [
    {
     "name": "stdout",
     "output_type": "stream",
     "text": [
      "cgi: 92 (6.4%)\n",
      "jax: 74 (1.3%)\n",
      "molecularmatch: 24 (1.2%)\n",
      "oncokb: 79 (2.0%)\n",
      "Total: 269 (1.2%)\n"
     ]
    }
   ],
   "source": [
    "report_groups(r7)"
   ]
  },
  {
   "cell_type": "code",
   "execution_count": 378,
   "metadata": {},
   "outputs": [
    {
     "data": {
      "text/plain": [
       "['ALK inframe insertion (1151T)',\n",
       " 'BRAF (V600D,V600K,V600M,V600G,V600R)',\n",
       " 'DPYD splice donor variant',\n",
       " 'DPYD splice donor variant',\n",
       " 'EGFR (S720)',\n",
       " 'EGFR (L718)',\n",
       " 'EGFR (L792)',\n",
       " 'BRAF (V600R)',\n",
       " 'BRAF (V600E,V600K)',\n",
       " 'BRAF (V600E,V600D,V600K,V600M,V600G,V600R)',\n",
       " 'BRAF (V600E,V600K)',\n",
       " 'DPYD splice donor variant',\n",
       " 'FGFR2 (V565I,M536I,M538I,I548V,N550,E566G,L618M,K660E)',\n",
       " 'FGFR2 (M536I,M538I,I548V,N550,E566G,L618M,K660E)',\n",
       " 'FLT3 (D835)',\n",
       " 'FLT3 (F691,D835,N676,Y842)',\n",
       " 'GNAQ (Q209)',\n",
       " 'GNAQ (Q209)',\n",
       " 'GNAS (R201)',\n",
       " 'KIT (D816)',\n",
       " 'MAP2K1 (P124)',\n",
       " 'MET kinase domain mutation',\n",
       " 'TERT promoters core',\n",
       " 'ESR1 (E380Q,537,538,L536,P535H)',\n",
       " 'IDH1 (R132)',\n",
       " 'KIT wildtype',\n",
       " 'KRAS (G12)',\n",
       " 'MPL (W515F)',\n",
       " 'TPMT splice acceptor variant',\n",
       " 'BRAF (V600)',\n",
       " 'BRAF (V600E,V600K)',\n",
       " 'BRAF (V600)',\n",
       " 'BRAF (V600)',\n",
       " 'BRAF (V600E,V600D,V600K,V600M,V600G,V600R)',\n",
       " 'BTK (C481)',\n",
       " 'CSF3R frameshift variant (D771),frameshift variant (S783)',\n",
       " 'ERBB2 inframe insertion (A775YVMA),inframe insertion (G776VC)',\n",
       " 'ERBB2 (V659E)',\n",
       " 'ERBB2 (S310,L755,V777)',\n",
       " 'ESR1 (E380Q,537,538,L536,P535H)',\n",
       " 'EZH2 (Y641,A677)',\n",
       " 'FLT3 (D835,Y842)',\n",
       " 'IDH2 (R172)',\n",
       " 'KIT wildtype',\n",
       " 'KRAS (G12)',\n",
       " 'MAP2K1 (Q56P,P124S,P124L;C121S)',\n",
       " 'MAP2K1 (P124)',\n",
       " 'MET (Y1230C;Y1235D)',\n",
       " 'MYD88 (L265P)',\n",
       " 'NRAS (Q61)',\n",
       " 'PDGFRA wildtype',\n",
       " 'TP53 wildtype',\n",
       " 'TPMT splice acceptor variant',\n",
       " 'TPMT splice acceptor variant',\n",
       " 'ABL1 (I242T,M244V,K247R,L248V,G250E,G250R,Q252R,Q252H,Y253F,Y253H,E255K,E255V,M237V,E258D,W261L,L273M,E275K,E275Q,D276G,T277A,E279K,V280A,V289A,V289I,E292V,E292Q,I293V,L298V,V299L,F311L,F311I,T315I,F317L,F317V,F317I,F317C,Y320C,L324Q,Y342H,M343T,A344V,A350V,M351T,E355D,E355G,E355A,F359V,F359I,F359C,F359L,D363Y,L364I,A365V,A366G,L370P,V371A,E373K,V379I,A380T,F382L,L384M,L387M,L387F,L387V,M388L,Y393C,H396P,H396R,H396A,A397P,S417F,S417Y,I418S,I418V,A433T,S438C,E450K,E450G,E450A,E450V,E453K,E453G,E453A,E453V,E459K,E459G,E459A,E459V,M472I,P480L,F486S,E507G)',\n",
       " 'BRAF (K601R,L597R,V600R)',\n",
       " 'BRAF (V600)',\n",
       " 'BRAF (V600D,V600K,V600M,V600G,V600R)',\n",
       " 'EGFR (L858R,L861,G719,S768I)',\n",
       " 'ERBB2 inframe insertion (P780GSP),inframe insertion (781GSP),inframe insertion (A775YVMA),inframe insertion (G776YVMA)',\n",
       " 'ERBB2 (G776L)',\n",
       " 'ERBB4 (H809G)',\n",
       " 'FGFR4 (N535,V550)',\n",
       " 'FLT3 (F691)',\n",
       " 'FLT3 (N676)',\n",
       " 'GNAQ (Q209)',\n",
       " 'GNAQ (Q209)',\n",
       " 'JAK1 (S646F;R683)',\n",
       " 'KIT (D816Y,D816F,D816V)',\n",
       " 'KIT (V559I,H697Y,T670,V654A,A829P,D816,N822,Y823D)',\n",
       " 'KIT wildtype',\n",
       " 'MAP2K1 (I99T,L115,G128D,F129L,V211D,L215P,I103N,K104N,I111N,H119P,E120D,F133L,P124,D67N)',\n",
       " 'PDGFRA wildtype',\n",
       " 'AR (F877L) + AR (T878A)',\n",
       " 'G6PD (V98M) + G6PD (N156D)',\n",
       " 'ALK inframe insertion (1151T)',\n",
       " 'BRAF (V600D,V600K,V600M,V600G,V600R)',\n",
       " 'BRAF (V600E,V600D,V600K,V600M,V600G,V600R)',\n",
       " 'ERBB2 (V659E,S310F)',\n",
       " 'FGFR2 inframe insertion (A266),inframe insertion (S267)',\n",
       " 'FGFR3 (K650,Y373C)',\n",
       " 'FGFR3 (K650)',\n",
       " 'FLT3 (N676)',\n",
       " 'FLT3 (D835)',\n",
       " 'IDH1 (R132)',\n",
       " 'IDH2 (R140K,R172K)',\n",
       " 'KIT wildtype',\n",
       " 'MAP2K1 (F129L,L215P,I103N,P124)',\n",
       " 'NRAS (Q61)',\n",
       " 'PDGFRA wildtype',\n",
       " 'PDGFRA wildtype',\n",
       " 'RET (618,620,634,768,791,891,918,C634W,M918T)']"
      ]
     },
     "execution_count": 378,
     "metadata": {},
     "output_type": "execute_result"
    }
   ],
   "source": [
    "get_feature_names([x for x in r7 if x['source'] == 'cgi'])"
   ]
  },
  {
   "cell_type": "markdown",
   "metadata": {},
   "source": [
    "# Knowledgebase Comparison\n",
    "\n",
    "## Genes"
   ]
  },
  {
   "cell_type": "code",
   "execution_count": 132,
   "metadata": {
    "collapsed": true
   },
   "outputs": [],
   "source": [
    "from collections import defaultdict\n",
    "\n",
    "def genes_by_source(associations):\n",
    "    source_genes = defaultdict(set)\n",
    "    for association in associations:\n",
    "        source_genes[association['source']].update(association['genes'])\n",
    "    return source_genes"
   ]
  },
  {
   "cell_type": "code",
   "execution_count": 133,
   "metadata": {},
   "outputs": [],
   "source": [
    "s = genes_by_source(all_associations)"
   ]
  },
  {
   "cell_type": "code",
   "execution_count": 146,
   "metadata": {},
   "outputs": [],
   "source": [
    "import pyupset as pyu\n",
    "import pandas as pd\n",
    "%matplotlib inline\n",
    "\n",
    "def plot_overlap(set_dict):\n",
    "    d = {g: pd.DataFrame(list(set_dict[g])) for g in set_dict}\n",
    "    pyu.plot(d, inters_size_bounds=(3, 400000))"
   ]
  },
  {
   "cell_type": "code",
   "execution_count": 147,
   "metadata": {},
   "outputs": [
    {
     "data": {
      "image/png": "[encoded data removed]",
      "text/plain": [
       "<matplotlib.figure.Figure at 0x10a82e908>"
      ]
     },
     "metadata": {},
     "output_type": "display_data"
    }
   ],
   "source": [
    "# omitting BRCA (only 2 genes)\n",
    "s = {k: v for k, v in s.items() if k != 'brca'}\n",
    "plot_overlap(s)"
   ]
  },
  {
   "cell_type": "code",
   "execution_count": null,
   "metadata": {
    "collapsed": true
   },
   "outputs": [],
   "source": [
    "# Genes observed in all knowledgebases\n"
   ]
  }
 ],
 "metadata": {
  "kernelspec": {
   "display_name": "Python 3",
   "language": "python",
   "name": "python3"
  },
  "language_info": {
   "codemirror_mode": {
    "name": "ipython",
    "version": 3
   },
   "file_extension": ".py",
   "mimetype": "text/x-python",
   "name": "python",
   "nbconvert_exporter": "python",
   "pygments_lexer": "ipython3",
   "version": "3.6.1"
  }
 },
 "nbformat": 4,
 "nbformat_minor": 2
}
