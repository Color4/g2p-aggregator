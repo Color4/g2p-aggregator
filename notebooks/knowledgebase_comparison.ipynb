{
 "cells": [
  {
   "cell_type": "markdown",
   "metadata": {},
   "source": [
    "# Data Structuring and Pruning"
   ]
  },
  {
   "cell_type": "code",
   "execution_count": 5,
   "metadata": {
    "collapsed": true
   },
   "outputs": [],
   "source": [
    "## python 2.7 setup\n",
    "# !pip install pathlib\n",
    "\n",
    "## we need a python2 version of pyupset\n",
    "# !pip uninstall -y pyupset\n",
    "# !pip install https://github.com/agitter/py-upset/archive/master.zip\n",
    "# !pip install seaborn\n",
    "\n",
    "from __future__ import division"
   ]
  },
  {
   "cell_type": "code",
   "execution_count": 6,
   "metadata": {},
   "outputs": [
    {
     "name": "stdout",
     "output_type": "stream",
     "text": [
      "env: DATAPATH=/util/elastic/\n"
     ]
    }
   ],
   "source": [
    "# where are data files loaded\n",
    "%env DATAPATH=/util/elastic/\n",
    "PAPER_SOURCES=['brca.json','cgi.json', 'civic.json', 'jax.json', 'molecularmatch.json', 'oncokb.json', 'pmkb.json']"
   ]
  },
  {
   "cell_type": "code",
   "execution_count": 7,
   "metadata": {
    "collapsed": true
   },
   "outputs": [],
   "source": [
    "# Load datasets\n",
    "\n",
    "import json\n",
    "import pathlib\n",
    "import os\n",
    "\n",
    "data_path = pathlib.Path(os.getenv('DATAPATH','/Users/awagner/Workspace/git/g2p-aggregator/data/local/0.8'))\n",
    "harvested_sources = dict()\n",
    "for path in [list(data_path.glob(file))[0] for file in PAPER_SOURCES]:\n",
    "    source = path.parts[-1].split('.')[0]\n",
    "    with path.open() as json_data:\n",
    "        # harvested_sources[source] = json.load(json_data) <- this should work, but doesn't due to malformed json\n",
    "        # what follows is a hack to reassemble into proper JSON object\n",
    "        associations = list()\n",
    "        for line in json_data:\n",
    "            associations.append(json.loads(line))\n",
    "        \n",
    "        # resume intended function\n",
    "        harvested_sources[source] = associations"
   ]
  },
  {
   "cell_type": "code",
   "execution_count": 8,
   "metadata": {},
   "outputs": [
    {
     "data": {
      "text/plain": [
       "22617"
      ]
     },
     "execution_count": 8,
     "metadata": {},
     "output_type": "execute_result"
    }
   ],
   "source": [
    "# Standardize structure and merge files\n",
    "\n",
    "all_associations = list()\n",
    "for source in harvested_sources:\n",
    "    for entry in harvested_sources[source]:\n",
    "        entry['raw'] = entry.pop(source)\n",
    "        all_associations.append(entry)\n",
    "        \n",
    "len(all_associations)"
   ]
  },
  {
   "cell_type": "code",
   "execution_count": 9,
   "metadata": {
    "collapsed": true
   },
   "outputs": [],
   "source": [
    "from collections import Counter\n",
    "\n",
    "def report_groups(associations):\n",
    "    groups = Counter()\n",
    "    for association in associations:\n",
    "        groups[association['source']] += 1\n",
    "    total = sum(groups.values())\n",
    "    for group in sorted(groups):\n",
    "        print(\"{}: {} ({:.1f}%)\".format(group, groups[group], groups[group] / len(harvested_sources[group]) * 100))\n",
    "    print(\"Total: {} ({:.1f}%)\".format(total, total / len(all_associations) * 100))"
   ]
  },
  {
   "cell_type": "code",
   "execution_count": 10,
   "metadata": {},
   "outputs": [
    {
     "name": "stdout",
     "output_type": "stream",
     "text": [
      "brca: 5717 (100.0%)\n",
      "cgi: 1073 (100.0%)\n",
      "civic: 3340 (100.0%)\n",
      "jax: 5754 (100.0%)\n",
      "molecularmatch: 2085 (100.0%)\n",
      "oncokb: 4048 (100.0%)\n",
      "pmkb: 600 (100.0%)\n",
      "Total: 22617 (100.0%)\n"
     ]
    }
   ],
   "source": [
    "report_groups(all_associations)"
   ]
  },
  {
   "cell_type": "code",
   "execution_count": 11,
   "metadata": {},
   "outputs": [
    {
     "data": {
      "text/plain": [
       "0.09262943803333776"
      ]
     },
     "execution_count": 11,
     "metadata": {},
     "output_type": "execute_result"
    }
   ],
   "source": [
    "# Associations with more than 1 feature\n",
    "multi_featured = [x for x in all_associations if len(x['features']) > 1]\n",
    "len(multi_featured) / len(all_associations)"
   ]
  },
  {
   "cell_type": "code",
   "execution_count": 12,
   "metadata": {},
   "outputs": [
    {
     "name": "stdout",
     "output_type": "stream",
     "text": [
      "cgi: 231 (21.5%)\n",
      "civic: 1 (0.0%)\n",
      "jax: 1797 (31.2%)\n",
      "molecularmatch: 22 (1.1%)\n",
      "oncokb: 44 (1.1%)\n",
      "Total: 2095 (9.3%)\n"
     ]
    }
   ],
   "source": [
    "report_groups(multi_featured)"
   ]
  },
  {
   "cell_type": "code",
   "execution_count": 13,
   "metadata": {},
   "outputs": [
    {
     "data": {
      "text/plain": [
       "0.0"
      ]
     },
     "execution_count": 13,
     "metadata": {},
     "output_type": "execute_result"
    }
   ],
   "source": [
    "# Associations with feature name lists\n",
    "listed_feature_names = [x for x in all_associations if isinstance(x['feature_names'], list)]\n",
    "len(listed_feature_names) / len(all_associations)"
   ]
  },
  {
   "cell_type": "code",
   "execution_count": 14,
   "metadata": {},
   "outputs": [
    {
     "name": "stdout",
     "output_type": "stream",
     "text": [
      "Total: 0 (0.0%)\n"
     ]
    }
   ],
   "source": [
    "report_groups(listed_feature_names)"
   ]
  },
  {
   "cell_type": "code",
   "execution_count": 15,
   "metadata": {},
   "outputs": [
    {
     "data": {
      "text/plain": [
       "0"
      ]
     },
     "execution_count": 15,
     "metadata": {},
     "output_type": "execute_result"
    }
   ],
   "source": [
    "len([x for x in listed_feature_names if len(x['feature_names']) >1 ])"
   ]
  },
  {
   "cell_type": "markdown",
   "metadata": {},
   "source": [
    "## Feature coordinate filtering\n",
    "\n",
    "What follows is a detailed look at associations without start and end coordinates after normalization, and a set of regular expression filters to separate out these associations into chunks that can be annotated with gene- or exon-level coordinates, as appropriate."
   ]
  },
  {
   "cell_type": "code",
   "execution_count": 16,
   "metadata": {
    "collapsed": true
   },
   "outputs": [],
   "source": [
    "# Associations with coordinate features\n",
    "coord_featured = list()\n",
    "no_coord_featured = list()\n",
    "for association in all_associations:\n",
    "    c = 0\n",
    "    for feature in association['features']:\n",
    "        if ('start' in feature) and ('end') in feature:\n",
    "            coord_featured.append(association)\n",
    "            break\n",
    "        else:\n",
    "            c+=1\n",
    "    if c == len(association['features']):\n",
    "        no_coord_featured.append(association)"
   ]
  },
  {
   "cell_type": "code",
   "execution_count": 17,
   "metadata": {},
   "outputs": [
    {
     "name": "stdout",
     "output_type": "stream",
     "text": [
      "brca: 5717 (100.0%)\n",
      "cgi: 1069 (99.6%)\n",
      "civic: 3340 (100.0%)\n",
      "jax: 5744 (99.8%)\n",
      "molecularmatch: 2068 (99.2%)\n",
      "oncokb: 4043 (99.9%)\n",
      "pmkb: 600 (100.0%)\n",
      "Total: 22581 (99.8%)\n"
     ]
    }
   ],
   "source": [
    "report_groups(coord_featured)"
   ]
  },
  {
   "cell_type": "code",
   "execution_count": 18,
   "metadata": {},
   "outputs": [
    {
     "name": "stdout",
     "output_type": "stream",
     "text": [
      "cgi: 4 (0.4%)\n",
      "jax: 10 (0.2%)\n",
      "molecularmatch: 17 (0.8%)\n",
      "oncokb: 5 (0.1%)\n",
      "Total: 36 (0.2%)\n"
     ]
    }
   ],
   "source": [
    "report_groups(no_coord_featured)"
   ]
  },
  {
   "cell_type": "code",
   "execution_count": 19,
   "metadata": {},
   "outputs": [
    {
     "data": {
      "text/plain": [
       "[{u'alt': u'T',\n",
       "  u'biomarker_type': u'MUT',\n",
       "  u'chromosome': u'9',\n",
       "  u'description': u'ABL1 T315I',\n",
       "  u'end': 133748283,\n",
       "  u'geneSymbol': u'ABL1',\n",
       "  u'links': [u'http://myvariant.info/v1/variant/chr9:g.133748283C>T?assembly=hg19',\n",
       "   u'http://reg.genome.network/refseq/RS000057',\n",
       "   u'http://reg.genome.network/refseq/RS000033',\n",
       "   u'http://reg.genome.network/refseq/RS000009',\n",
       "   u'http://reg.genome.network/refseq/RS002120',\n",
       "   u'http://reg.genome.network/allele/CA122575',\n",
       "   u'http://www.ncbi.nlm.nih.gov/snp/121913459',\n",
       "   u'http://myvariant.info/v1/variant/chr9:g.130872896C>T?assembly=hg38',\n",
       "   u'http://www.ncbi.nlm.nih.gov/clinvar/?term=27663[alleleid]',\n",
       "   u'http://cancer.sanger.ac.uk/cosmic/mutation/overview?id=12560',\n",
       "   u'http://www.ncbi.nlm.nih.gov/clinvar/variation/12624'],\n",
       "  u'name': u'ABL1:T315I',\n",
       "  u'provenance': [u'http://reg.genome.network/allele?hgvs=NC_000009.11%3Ag.133748283C%3ET'],\n",
       "  u'provenance_rule': u'from_source',\n",
       "  u'ref': u'C',\n",
       "  u'referenceName': u'GRCh37',\n",
       "  u'sequence_ontology': {u'hierarchy': [u'SO:0000110',\n",
       "    u'SO:0002072',\n",
       "    u'SO:0001059'],\n",
       "   u'name': u'substitution',\n",
       "   u'parent_name': u'sequence_feature',\n",
       "   u'parent_soid': u'SO:0000110',\n",
       "   u'soid': u'SO:1000002'},\n",
       "  u'start': 133748283,\n",
       "  u'synonyms': [u'NC_000009.12:g.130872896C>T',\n",
       "   u'NG_012034.1:g.164016C>T',\n",
       "   u'NC_000009.11:g.133748283C>T',\n",
       "   u'chr9:g.133748283C>T',\n",
       "   u'CM000671.1:g.133748283C>T',\n",
       "   u'chr9:g.130872896C>T',\n",
       "   u'NC_000009.10:g.132738104C>T',\n",
       "   u'COSM12560',\n",
       "   u'CM000671.2:g.130872896C>T']}]"
      ]
     },
     "execution_count": 19,
     "metadata": {},
     "output_type": "execute_result"
    }
   ],
   "source": [
    "# First association has feature, but no end coord\n",
    "\n",
    "harvested_sources['cgi'][0]['features']"
   ]
  },
  {
   "cell_type": "code",
   "execution_count": 20,
   "metadata": {
    "collapsed": true
   },
   "outputs": [],
   "source": [
    "# Associations with partial coordinate features\n",
    "partial_coord_featured = list()\n",
    "no_partial_coord_featured = list()\n",
    "for association in all_associations:\n",
    "    c = 0\n",
    "    for feature in association['features']:\n",
    "        if ('start' in feature):\n",
    "            partial_coord_featured.append(association)\n",
    "            break\n",
    "        else:\n",
    "            c+=1\n",
    "    if c == len(association['features']):\n",
    "        no_partial_coord_featured.append(association)"
   ]
  },
  {
   "cell_type": "code",
   "execution_count": 21,
   "metadata": {},
   "outputs": [
    {
     "name": "stdout",
     "output_type": "stream",
     "text": [
      "cgi: 4 (0.4%)\n",
      "jax: 10 (0.2%)\n",
      "molecularmatch: 17 (0.8%)\n",
      "oncokb: 5 (0.1%)\n",
      "Total: 36 (0.2%)\n"
     ]
    }
   ],
   "source": [
    "report_groups(no_partial_coord_featured)"
   ]
  },
  {
   "cell_type": "code",
   "execution_count": 22,
   "metadata": {
    "collapsed": true
   },
   "outputs": [],
   "source": [
    "def get_feature_names(associations):\n",
    "    return (list(map(lambda x: x['feature_names'], associations)))\n",
    "feature_names = get_feature_names(no_partial_coord_featured)"
   ]
  },
  {
   "cell_type": "code",
   "execution_count": 23,
   "metadata": {
    "collapsed": true
   },
   "outputs": [],
   "source": [
    "no_partial_coord_featured_no_feature_names = [x for x in no_partial_coord_featured if x['feature_names'] is None]\n",
    "no_partial_coord_featured_with_feature_names = [x for x in no_partial_coord_featured if x['feature_names'] is not None]"
   ]
  },
  {
   "cell_type": "code",
   "execution_count": 24,
   "metadata": {},
   "outputs": [
    {
     "name": "stdout",
     "output_type": "stream",
     "text": [
      "molecularmatch: 11 (0.5%)\n",
      "Total: 11 (0.0%)\n"
     ]
    }
   ],
   "source": [
    "report_groups(no_partial_coord_featured_no_feature_names)"
   ]
  },
  {
   "cell_type": "code",
   "execution_count": 25,
   "metadata": {},
   "outputs": [
    {
     "data": {
      "text/plain": [
       "11"
      ]
     },
     "execution_count": 25,
     "metadata": {},
     "output_type": "execute_result"
    }
   ],
   "source": [
    "# All of these have exactly 1 gene name\n",
    "\n",
    "len([x['genes'] for x in no_partial_coord_featured_no_feature_names if len(x['genes']) == 1])"
   ]
  },
  {
   "cell_type": "code",
   "execution_count": 26,
   "metadata": {},
   "outputs": [
    {
     "name": "stdout",
     "output_type": "stream",
     "text": [
      "cgi: 4 (0.4%)\n",
      "jax: 10 (0.2%)\n",
      "molecularmatch: 6 (0.3%)\n",
      "oncokb: 5 (0.1%)\n",
      "Total: 25 (0.1%)\n"
     ]
    }
   ],
   "source": [
    "report_groups(no_partial_coord_featured_with_feature_names)"
   ]
  },
  {
   "cell_type": "code",
   "execution_count": 27,
   "metadata": {
    "collapsed": true
   },
   "outputs": [],
   "source": [
    "import re\n",
    "\n",
    "def test_curls(associations):\n",
    "    # utility to generate curl commands\n",
    "    names = []\n",
    "    for a in associations:\n",
    "        for f in a['features']:\n",
    "            parts = re.split(' +|:',f['description'].strip())\n",
    "            names.append(tuple(parts))\n",
    "    names = list(set(names))\n",
    "    feature_lookups = [t for t in names if len(t) > 1]\n",
    "    if len(feature_lookups) > 0:\n",
    "        print '# curl commands to find feature location'\n",
    "        for t in feature_lookups:\n",
    "            print \"curl -s 'http://myvariant.info/v1/query?q={}%20{}'  | jq '.hits[0] | {{name: \\\"{} {}\\\", referenceName: \\\"GRCh37\\\", chromosome: .chrom, start: .hg19.start, end: .hg19.end, ref: .vcf.ref, alt: .vcf.alt }}'\".format(t[0],t[1], t[0],t[1])\n",
    "\n",
    "    gene_lookups = [t for t in names if len(t) == 1]\n",
    "    if len(gene_lookups) > 0:\n",
    "        print '# curl commands to find gene location'\n",
    "        for t in gene_lookups:\n",
    "            print \"curl -s 'http://mygene.info/v3/query?q={}&fields=genomic_pos_hg19'  | jq .hits[0].genomic_pos_hg19\".format(t[0])\n",
    "\n",
    "\n",
    "def feature_filter(re_obj, associations):\n",
    "    # report matches and return non-matches\n",
    "    found = list(filter(lambda x: re_obj.search(x['feature_names']) is not None, associations))\n",
    "    not_found = list(filter(lambda x: re_obj.search(x['feature_names']) is None, associations))\n",
    "    report_groups(found)\n",
    "    # comment following line to suppress curl test commands\n",
    "    test_curls(found)\n",
    "    return(not_found, found)\n",
    "\n"
   ]
  },
  {
   "cell_type": "code",
   "execution_count": 28,
   "metadata": {},
   "outputs": [
    {
     "name": "stdout",
     "output_type": "stream",
     "text": [
      "oncokb: 1 (0.0%)\n",
      "Total: 1 (0.0%)\n",
      "# curl commands to find feature location\n",
      "curl -s 'http://myvariant.info/v1/query?q=WHSC1L1%20Amplification'  | jq '.hits[0] | {name: \"WHSC1L1 Amplification\", referenceName: \"GRCh37\", chromosome: .chrom, start: .hg19.start, end: .hg19.end, ref: .vcf.ref, alt: .vcf.alt }'\n"
     ]
    }
   ],
   "source": [
    "amp_re = re.compile(r'(amplification)|(loss)|(amp)', re.IGNORECASE)\n",
    "(remainder, found)  = feature_filter(amp_re, no_partial_coord_featured_with_feature_names)"
   ]
  },
  {
   "cell_type": "code",
   "execution_count": 29,
   "metadata": {},
   "outputs": [
    {
     "name": "stdout",
     "output_type": "stream",
     "text": [
      "oncokb: 3 (0.1%)\n",
      "Total: 3 (0.0%)\n",
      "# curl commands to find feature location\n",
      "curl -s 'http://myvariant.info/v1/query?q=Other%20Biomarkers'  | jq '.hits[0] | {name: \"Other Biomarkers\", referenceName: \"GRCh37\", chromosome: .chrom, start: .hg19.start, end: .hg19.end, ref: .vcf.ref, alt: .vcf.alt }'\n"
     ]
    }
   ],
   "source": [
    "fusion_re = re.compile(r'(\\w{2,}-\\w{2,})|(fusion)', re.IGNORECASE)\n",
    "(r2, found) = feature_filter(fusion_re, remainder)"
   ]
  },
  {
   "cell_type": "code",
   "execution_count": 30,
   "metadata": {},
   "outputs": [
    {
     "name": "stdout",
     "output_type": "stream",
     "text": [
      "Total: 0 (0.0%)\n"
     ]
    }
   ],
   "source": [
    "ppm_re = re.compile(r'\\w+(:| )[a-z]\\d+[a-z]?(fs\\*?)?$', re.IGNORECASE)\n",
    "(r3, found) = feature_filter(ppm_re, r2)"
   ]
  },
  {
   "cell_type": "code",
   "execution_count": 31,
   "metadata": {},
   "outputs": [
    {
     "name": "stdout",
     "output_type": "stream",
     "text": [
      "jax: 4 (0.1%)\n",
      "Total: 4 (0.0%)\n",
      "# curl commands to find feature location\n",
      "curl -s 'http://myvariant.info/v1/query?q=BRCA2%20del'  | jq '.hits[0] | {name: \"BRCA2 del\", referenceName: \"GRCh37\", chromosome: .chrom, start: .hg19.start, end: .hg19.end, ref: .vcf.ref, alt: .vcf.alt }'\n"
     ]
    }
   ],
   "source": [
    "indel_re = re.compile(r'\\w+(:| )\\w+(ins\\w+)|(del($|ins\\w+))|(dup$)')\n",
    "(r4, found) = feature_filter(indel_re, r3)"
   ]
  },
  {
   "cell_type": "code",
   "execution_count": 32,
   "metadata": {},
   "outputs": [
    {
     "name": "stdout",
     "output_type": "stream",
     "text": [
      "cgi: 1 (0.1%)\n",
      "Total: 1 (0.0%)\n",
      "# curl commands to find feature location\n",
      "curl -s 'http://myvariant.info/v1/query?q=MLL2%20oncogenic'  | jq '.hits[0] | {name: \"MLL2 oncogenic\", referenceName: \"GRCh37\", chromosome: .chrom, start: .hg19.start, end: .hg19.end, ref: .vcf.ref, alt: .vcf.alt }'\n"
     ]
    }
   ],
   "source": [
    "bucket_re = re.compile(r'[A-Z0-9]+( (in)?act)?( oncogenic)? mut((ant)|(ation))?$')\n",
    "(r5,found) = feature_filter(bucket_re, r4)"
   ]
  },
  {
   "cell_type": "code",
   "execution_count": 33,
   "metadata": {},
   "outputs": [
    {
     "name": "stdout",
     "output_type": "stream",
     "text": [
      "Total: 0 (0.0%)\n"
     ]
    }
   ],
   "source": [
    "exon_re = re.compile(r'exon', re.IGNORECASE)\n",
    "(r6,found) = feature_filter(exon_re, r5)"
   ]
  },
  {
   "cell_type": "code",
   "execution_count": 34,
   "metadata": {},
   "outputs": [
    {
     "name": "stdout",
     "output_type": "stream",
     "text": [
      "oncokb: 1 (0.0%)\n",
      "Total: 1 (0.0%)\n",
      "# curl commands to find feature location\n",
      "curl -s 'http://myvariant.info/v1/query?q=FAM58A%20Truncating'  | jq '.hits[0] | {name: \"FAM58A Truncating\", referenceName: \"GRCh37\", chromosome: .chrom, start: .hg19.start, end: .hg19.end, ref: .vcf.ref, alt: .vcf.alt }'\n"
     ]
    }
   ],
   "source": [
    "expression_re = re.compile(r'(exp)|(^\\w+ (pos(itive)?)|(neg(ative)?)|(biallelic inactivation)$)|(truncating)|(deletion)', re.IGNORECASE)\n",
    "(r7, found) = feature_filter(expression_re, r6)"
   ]
  },
  {
   "cell_type": "code",
   "execution_count": 35,
   "metadata": {},
   "outputs": [
    {
     "name": "stdout",
     "output_type": "stream",
     "text": [
      "cgi: 3 (0.3%)\n",
      "jax: 6 (0.1%)\n",
      "molecularmatch: 6 (0.3%)\n",
      "Total: 15 (0.1%)\n"
     ]
    }
   ],
   "source": [
    "report_groups(r7)"
   ]
  },
  {
   "cell_type": "code",
   "execution_count": 36,
   "metadata": {},
   "outputs": [
    {
     "data": {
      "text/plain": [
       "[u'MAP2K1 (Q56P,P124S,P124L;C121S)',\n",
       " u'JAK1 (S646F;R683)',\n",
       " u'MET (Y1230C;Y1235D)']"
      ]
     },
     "execution_count": 36,
     "metadata": {},
     "output_type": "execute_result"
    }
   ],
   "source": [
    "get_feature_names([x for x in r7 if x['source'] == 'cgi'])"
   ]
  },
  {
   "cell_type": "markdown",
   "metadata": {},
   "source": [
    "# Knowledgebase Comparison\n",
    "\n",
    "## Genes"
   ]
  },
  {
   "cell_type": "code",
   "execution_count": 37,
   "metadata": {
    "collapsed": true
   },
   "outputs": [],
   "source": [
    "from collections import defaultdict\n",
    "\n",
    "def genes_by_source(associations):\n",
    "    source_genes = defaultdict(set)\n",
    "    for association in associations:\n",
    "        source_genes[association['source']].update(association['genes'])\n",
    "    return source_genes"
   ]
  },
  {
   "cell_type": "code",
   "execution_count": 38,
   "metadata": {
    "collapsed": true
   },
   "outputs": [],
   "source": [
    "s = genes_by_source(all_associations)"
   ]
  },
  {
   "cell_type": "code",
   "execution_count": 39,
   "metadata": {
    "collapsed": true
   },
   "outputs": [],
   "source": [
    "import pyupset as pyu\n",
    "import pandas as pd\n",
    "%matplotlib inline\n",
    "\n",
    "def plot_overlap(set_dict):\n",
    "    d = {g: pd.DataFrame(list(set_dict[g])) for g in set_dict}\n",
    "    pyu.plot(d, inters_size_bounds=(3, 400000))"
   ]
  },
  {
   "cell_type": "code",
   "execution_count": 40,
   "metadata": {},
   "outputs": [
    {
     "data": {
      "image/png": "[encoded data removed]",
      "text/plain": [
       "<matplotlib.figure.Figure at 0x7f697b178650>"
      ]
     },
     "metadata": {},
     "output_type": "display_data"
    }
   ],
   "source": [
    "# omitting BRCA (only 2 genes)\n",
    "s = {k: v for k, v in s.items() if k != 'brca'}\n",
    "plot_overlap(s)"
   ]
  },
  {
   "cell_type": "code",
   "execution_count": 41,
   "metadata": {
    "collapsed": true
   },
   "outputs": [],
   "source": [
    "# Genes observed in all knowledgebases\n"
   ]
  },
  {
   "cell_type": "code",
   "execution_count": 42,
   "metadata": {},
   "outputs": [
    {
     "data": {
      "text/plain": [
       "{u'default_feature': 6926,\n",
       " u'from_source': 18093,\n",
       " u'gene_only': 379,\n",
       " u'is_amplification': 324,\n",
       " u'is_deletion': 429,\n",
       " u'is_fusion_acceptor': 1002,\n",
       " u'is_fusion_donor': 1011,\n",
       " u'is_inact_mut': 156,\n",
       " u'is_loss': 257,\n",
       " u'is_mutation': 517,\n",
       " 'unknown_provenance': 64}"
      ]
     },
     "execution_count": 42,
     "metadata": {},
     "output_type": "execute_result"
    }
   ],
   "source": [
    "# \n",
    "# features provenance\n",
    "provenance = {'unknown_provenance':0}\n",
    "unknown_provenance = []\n",
    "for association in all_associations:\n",
    "    c = 0\n",
    "    for feature in association['features']:\n",
    "        if 'provenance_rule' in feature:\n",
    "            if feature['provenance_rule'] not in provenance:\n",
    "                provenance[feature['provenance_rule']] = 0\n",
    "            provenance[feature['provenance_rule']] += 1\n",
    "        else:\n",
    "            provenance['unknown_provenance'] += 1            \n",
    "            unknown_provenance.append([association['source'], feature])\n",
    "\n",
    "provenance\n"
   ]
  },
  {
   "cell_type": "code",
   "execution_count": 43,
   "metadata": {},
   "outputs": [
    {
     "name": "stdout",
     "output_type": "stream",
     "text": [
      "cgi FLT3-ITD\n",
      "cgi FLT3-ITD\n",
      "cgi FLT3-ITD\n",
      "cgi FLT3-ITD\n",
      "cgi MAP2K1 (Q56P,P124S,P124L;C121S)\n",
      "cgi FLT3-ITD\n",
      "cgi JAK1 (S646F;R683)\n",
      "cgi MLL2 oncogenic mutation\n",
      "cgi MET (Y1230C;Y1235D)\n",
      "jax BRAF V600E/K \n",
      "jax BRAF V600E/K \n",
      "jax BRAF V600E/K \n",
      "jax BRAF V600E/K \n",
      "jax BRAF V600E/K \n",
      "jax BRAF V600E/K \n",
      "jax BRAF V600E/K \n",
      "jax BRAF V600E/K \n",
      "jax BRAF V600E/K \n",
      "jax BRCA2  del\n",
      "jax BRAF V600E/K \n",
      "jax BRAF V600E/K \n",
      "jax BRAF V600E/K \n",
      "jax BRAF V600E/K \n",
      "jax BRAF V600E/K \n",
      "jax BRCA2  del\n",
      "jax BRCA2  del\n",
      "jax BRCA2  del\n",
      "civic HLA-C COPY-NEUTRAL LOSS OF HETEROZYGOSITY\n",
      "molecularmatch MET MET c.2888-52_2927delGGGGCCCATGATAGCCGTCTTTAACAAGCTCTTTCTTTCTCTCTGTTTTAAGATCTGGGCAGTGAATTAGTTCGCTACGATGCAAGAGTACAinsCC\n",
      "molecularmatch PGR ER/PR positive\n",
      "molecularmatch PGR ER/PR positive\n",
      "molecularmatch MET MET c.2888-6_2888-2delTTTAAinsG\n",
      "molecularmatch MET MET c.2888-15_2915delTCTCTCTGTTTTAAGATCTGGGCAGTGAATTAGTTCGCTACGAinsT\n",
      "molecularmatch PGR ER/PR positive\n",
      "molecularmatch PGR ER/PR positive\n",
      "molecularmatch PGR ER/PR positive\n",
      "molecularmatch MET MET c.2888-28_2888-3delCAAGCTCTTTCTTTCTCTCTGTTTTAinsAAAC\n",
      "molecularmatch MET MET c.2888-17_2888-1delTTTCTCTCTGTTTTAAGinsAA\n",
      "molecularmatch MET MET c.3028+2_3028+4delTATinsACC\n",
      "molecularmatch VEGF\n",
      "molecularmatch BRCA\n",
      "molecularmatch VEGFR\n",
      "molecularmatch VEGF\n",
      "molecularmatch VEGFR\n",
      "molecularmatch PGR ER/PR positive\n",
      "molecularmatch PGR ER/PR positive\n",
      "molecularmatch MET MET c.2888-5_2890delTTAAGATCinsATA\n",
      "molecularmatch BRCA1 BRCA1 Q1756fs\n",
      "molecularmatch PDGFR\n",
      "molecularmatch VEGFR\n",
      "molecularmatch PDGFR\n",
      "molecularmatch PGR ER/PR positive\n",
      "molecularmatch VEGF\n",
      "molecularmatch MET MET c.2888-33_2888-7delTTTAACAAGCTCTTTCTTTCTCTCTGTinsTTAAAACTG\n",
      "molecularmatch PDGFR\n",
      "molecularmatch VEGFR\n",
      "oncokb HLA-B Truncating Mutations\n",
      "oncokb HLA-A 596_619splice\n",
      "oncokb Other Biomarkers Microsatellite Instability-High\n",
      "oncokb WHSC1L1 Amplification\n",
      "oncokb Other Biomarkers Microsatellite Instability-High\n",
      "oncokb FAM58A Truncating Mutations\n",
      "oncokb HLA-A Truncating Mutations\n",
      "oncokb Other Biomarkers Microsatellite Instability-High\n"
     ]
    }
   ],
   "source": [
    "for unknown in unknown_provenance:\n",
    "    print unknown[0], unknown[1]['description']"
   ]
  },
  {
   "cell_type": "code",
   "execution_count": null,
   "metadata": {
    "collapsed": true
   },
   "outputs": [],
   "source": []
  }
 ],
 "metadata": {
  "kernelspec": {
   "display_name": "Python 2",
   "language": "python",
   "name": "python2"
  },
  "language_info": {
   "codemirror_mode": {
    "name": "ipython",
    "version": 2
   },
   "file_extension": ".py",
   "mimetype": "text/x-python",
   "name": "python",
   "nbconvert_exporter": "python",
   "pygments_lexer": "ipython2",
   "version": "2.7.13"
  }
 },
 "nbformat": 4,
 "nbformat_minor": 2
}
