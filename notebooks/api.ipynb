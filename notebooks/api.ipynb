{
 "cells": [
  {
   "cell_type": "code",
   "execution_count": 1,
   "metadata": {
    "collapsed": true
   },
   "outputs": [],
   "source": [
    "import requests"
   ]
  },
  {
   "cell_type": "markdown",
   "metadata": {},
   "source": [
    "First, query the beacon API for BRAF V600E"
   ]
  },
  {
   "cell_type": "code",
   "execution_count": 2,
   "metadata": {
    "collapsed": true
   },
   "outputs": [],
   "source": [
    "query = 'https://g2p-test.ddns.net/ga4gh/responses/vicc?chrom=7&pos=140453136&allele=A&ref=GRCh37'"
   ]
  },
  {
   "cell_type": "code",
   "execution_count": 3,
   "metadata": {
    "collapsed": true
   },
   "outputs": [],
   "source": [
    "resp = requests.get(query)"
   ]
  },
  {
   "cell_type": "code",
   "execution_count": 4,
   "metadata": {
    "collapsed": true
   },
   "outputs": [],
   "source": [
    "resp.raise_for_status()"
   ]
  },
  {
   "cell_type": "code",
   "execution_count": 5,
   "metadata": {
    "collapsed": true
   },
   "outputs": [],
   "source": [
    "json = resp.json()"
   ]
  },
  {
   "cell_type": "markdown",
   "metadata": {},
   "source": [
    "Currently, the head-level response is missing an external URL."
   ]
  },
  {
   "cell_type": "code",
   "execution_count": 29,
   "metadata": {},
   "outputs": [
    {
     "data": {
      "text/plain": [
       "'//TODO---'"
      ]
     },
     "execution_count": 29,
     "metadata": {},
     "output_type": "execute_result"
    }
   ],
   "source": [
    "# Incomplete -- consider returning None unless there are plans here\n",
    "json[0]['externalUrl']"
   ]
  },
  {
   "cell_type": "markdown",
   "metadata": {},
   "source": [
    "Result split up by source, turns response object into list. Consider making an array of current 'info' responses within the info field, 1 response per _association_.\n",
    "\n",
    "Source information is available from the 'source' key, consider renaming the field containing the original response (here, `json[1]['info']['molecularmatch_trials']`) to \"raw\" or something like that."
   ]
  },
  {
   "cell_type": "code",
   "execution_count": 44,
   "metadata": {},
   "outputs": [
    {
     "data": {
      "text/plain": [
       "10"
      ]
     },
     "execution_count": 44,
     "metadata": {},
     "output_type": "execute_result"
    }
   ],
   "source": [
    "# Expected one result\n",
    "len(json)"
   ]
  },
  {
   "cell_type": "code",
   "execution_count": 45,
   "metadata": {},
   "outputs": [
    {
     "data": {
      "text/plain": [
       "dict_keys(['beacon', 'externalUrl', 'info', 'query', 'response'])"
      ]
     },
     "execution_count": 45,
     "metadata": {},
     "output_type": "execute_result"
    }
   ],
   "source": [
    "json[0].keys()"
   ]
  },
  {
   "cell_type": "code",
   "execution_count": 32,
   "metadata": {},
   "outputs": [
    {
     "data": {
      "text/plain": [
       "dict_keys(['association', 'dev_tags', 'feature_names', 'features', 'genes', 'oncokb', 'source', 'tags'])"
      ]
     },
     "execution_count": 32,
     "metadata": {},
     "output_type": "execute_result"
    }
   ],
   "source": [
    "json[0]['info'].keys()"
   ]
  },
  {
   "cell_type": "code",
   "execution_count": 33,
   "metadata": {},
   "outputs": [
    {
     "data": {
      "text/plain": [
       "dict_keys(['association', 'dev_tags', 'feature_names', 'features', 'genes', 'molecularmatch_trials', 'source', 'tags'])"
      ]
     },
     "execution_count": 33,
     "metadata": {},
     "output_type": "execute_result"
    }
   ],
   "source": [
    "json[1]['info'].keys()"
   ]
  },
  {
   "cell_type": "markdown",
   "metadata": {},
   "source": [
    "There are way too many features returned in this response! At the very least, this set should be filtered to features that are congruous with the query. In the case of this \"bucket\" association, it is clear why there are so many features, but we should instead endeavor to make the feature congruous with the association--in this case, a set of start/stop coordinates consistent with the gene coding sequence."
   ]
  },
  {
   "cell_type": "code",
   "execution_count": 46,
   "metadata": {},
   "outputs": [
    {
     "data": {
      "text/plain": [
       "101"
      ]
     },
     "execution_count": 46,
     "metadata": {},
     "output_type": "execute_result"
    }
   ],
   "source": [
    "len(json[0]['info']['features'])"
   ]
  },
  {
   "cell_type": "code",
   "execution_count": 48,
   "metadata": {},
   "outputs": [
    {
     "data": {
      "text/plain": [
       "{'alt': 'C',\n",
       " 'biomarker_type': 'mutant',\n",
       " 'chromosome': '7',\n",
       " 'description': 'F468C',\n",
       " 'end': 140481405,\n",
       " 'entrez_id': 673,\n",
       " 'geneSymbol': 'BRAF',\n",
       " 'links': ['http://reg.genome.network/refseq/RS000031',\n",
       "  'http://reg.genome.network/refseq/RS000055',\n",
       "  'http://reg.genome.network/refseq/RS000682',\n",
       "  'http://myvariant.info/v1/variant/chr7:g.140781605A>C?assembly=hg38',\n",
       "  'http://reg.genome.network/refseq/RS000007',\n",
       "  'http://cancer.sanger.ac.uk/cosmic/mutation/overview?id=454',\n",
       "  'http://reg.genome.network/allele/CA369588881',\n",
       "  'http://myvariant.info/v1/variant/chr7:g.140481405A>C?assembly=hg19'],\n",
       " 'name': 'F468C',\n",
       " 'ref': 'A',\n",
       " 'referenceName': 'GRCh37',\n",
       " 'start': 140481405,\n",
       " 'synonyms': ['CM000669.1:g.140481405A>C',\n",
       "  'NG_007873.3:g.148160T>G',\n",
       "  'LRG_299:g.148160T>G',\n",
       "  'chr7:g.140481405A>C',\n",
       "  'NC_000007.13:g.140481405A>C',\n",
       "  'chr7:g.140781605A>C',\n",
       "  'NC_000007.12:g.140127874A>C',\n",
       "  'NC_000007.14:g.140781605A>C',\n",
       "  'CM000669.2:g.140781605A>C',\n",
       "  'COSM454']}"
      ]
     },
     "execution_count": 48,
     "metadata": {},
     "output_type": "execute_result"
    }
   ],
   "source": [
    "# First feature: point mutation at 140481405, same reference as query, different coordinate!\n",
    "json[0]['info']['features'][0]"
   ]
  },
  {
   "cell_type": "code",
   "execution_count": 53,
   "metadata": {},
   "outputs": [
    {
     "data": {
      "text/plain": [
       "'BRAF:F468C, BRAF:D594N, BRAF:T488_P492del, BRAF:Amplification, BRAF:R506_K507insVLR, BRAF:P367R, BRAF:V600G, BRAF:T599I, BRAF:L485F, BRAF:K601N, BRAF:SND1-BRAF, BRAF:S467L, BRAF:N486_P490del, BRAF:KIAA1549-BRAF, BRAF:L597Q, BRAF:G466R, BRAF:G469E, BRAF:G596D, BRAF:G464R, BRAF:MKRN1-BRAF, BRAF:V600R, BRAF:G596R, BRAF:FAM131B-BRAF, BRAF:PAPSS1-BRAF, BRAF:D594H, BRAF:G596C, BRAF:L485_P490del, BRAF:AKAP9-BRAF, BRAF:Fusions, BRAF:G464V, BRAF:AGK-BRAF, BRAF:K601E, BRAF:T599dup, BRAF:L485_P490>Y, BRAF:G469L, BRAF:L597R, BRAF:F595L, BRAF:L597S, BRAF:T599_V600insV, BRAF:K483M, BRAF:Q257R, BRAF:ZKSCAN1-BRAF, BRAF:K499E, BRAF:T599insTT, BRAF:G596V, BRAF:L485_P490delinsF, BRAF:K601Q, BRAF:TRIM24-BRAF, BRAF:V487_P492delinsA, BRAF:P490_Q494del, BRAF:D594V, BRAF:L505H, BRAF:D594G, BRAF:R671Q, BRAF:S151A, BRAF:V600delinsYM, BRAF:L485_Q494del, BRAF:N581I, BRAF:K601T, BRAF:G469R, BRAF:N581D, BRAF:V600M, BRAF:T241P, BRAF:T599R, BRAF:L597V, BRAF:D594A, BRAF:V459L, BRAF:D287H, BRAF:N581Y, BRAF:R462E, BRAF:G469del, BRAF:G469A, BRAF:V471F, BRAF:L485_P490delinsY, BRAF:E586K, BRAF:V600_K601delinsE, BRAF:PPFIBP2-BRAF, BRAF:G466E, BRAF:K483E, BRAF:T599_V600insETT, BRAF:V600D_K601insFGLAT, BRAF:T599_V600insEAT, BRAF:A246P, BRAF:S467A, BRAF:H574Q, BRAF:G466A, BRAF:N581S, BRAF:D594Y, BRAF:A598V, BRAF:V600D, BRAF:G466V, BRAF:Y472C, BRAF:E275K, BRAF:CUL1-BRAF, BRAF:A728V, BRAF:V600K, BRAF:V600E, BRAF:G469V, BRAF:D594E, BRAF:p61BRAF-V600E, BRAF:Oncogenic Mutations'"
      ]
     },
     "execution_count": 53,
     "metadata": {},
     "output_type": "execute_result"
    }
   ],
   "source": [
    "json[0]['info']['feature_names']"
   ]
  },
  {
   "cell_type": "code",
   "execution_count": 54,
   "metadata": {},
   "outputs": [
    {
     "data": {
      "text/plain": [
       "'{\"clinical\": {\"level\": \"4\", \"Isoform\": \"ENST00000288602\", \"variant\": {\"variantResidues\": null, \"proteinStart\": -1, \"name\": \"Oncogenic Mutations\", \"proteinEnd\": 100000, \"refResidues\": null, \"alteration\": \"Oncogenic Mutations\", \"consequence\": {\"term\": \"NA\", \"description\": \"NA\", \"isGenerallyTruncating\": false}, \"gene\": {\"oncogene\": true, \"name\": \"B-Raf proto-oncogene, serine/threonine kinase\", \"hugoSymbol\": \"BRAF\", \"entrezGeneId\": 673, \"tsg\": false, \"geneAliases\": [\"NS7\", \"B-raf\", \"BRAF1\", \"RAFB1\", \"B-RAF1\"], \"curatedRefSeq\": \"NM_004333.4\", \"curatedIsoform\": \"ENST00000288602\"}}, \"Entrez Gene ID\": 673, \"drugAbstracts\": [{\"text\": \"Infante et al. Abstract# 2506, ASCO 2015 http://meetinglibrary.asco.org/content/145666-156\", \"link\": \"http://meetinglibrary.asco.org/content/145666-156\"}], \"cancerType\": \"All Tumors\", \"level_label\": \"Compelling biological evidence supports the biomarker as being predictive of response to a drug but neither biomarker and drug are standard of care\", \"drug\": \"LTT462, BVD-523, KO-947\", \"RefSeq\": \"NM_004333.4\", \"gene\": \"BRAF\", \"drugPmids\": \"\"}}'"
      ]
     },
     "execution_count": 54,
     "metadata": {},
     "output_type": "execute_result"
    }
   ],
   "source": [
    "json[0]['info']['oncokb']"
   ]
  },
  {
   "cell_type": "markdown",
   "metadata": {},
   "source": [
    "Perhaps we should relabel \"environmentalContexts\" to \"drugs\" for our purposes. Or are there non-drug contexts we use?"
   ]
  },
  {
   "cell_type": "code",
   "execution_count": 55,
   "metadata": {},
   "outputs": [
    {
     "data": {
      "text/plain": [
       "dict_keys(['description', 'drug_labels', 'environmentalContexts', 'evidence', 'evidence_label', 'evidence_level', 'phenotype', 'publication_url', 'response_type', 'source_link', 'variant_name'])"
      ]
     },
     "execution_count": 55,
     "metadata": {},
     "output_type": "execute_result"
    }
   ],
   "source": [
    "json[0]['info']['association'].keys()"
   ]
  },
  {
   "cell_type": "code",
   "execution_count": 56,
   "metadata": {},
   "outputs": [
    {
     "data": {
      "text/plain": [
       "{'description': 'Compelling biological evidence supports the biomarker as being predictive of response to a drug but neither biomarker and drug are standard of care',\n",
       " 'drug_labels': '523,947',\n",
       " 'environmentalContexts': [{'description': '523',\n",
       "   'id': 'compound:CID24779724',\n",
       "   'taxonomy': {'class': 'Organosulfur compounds',\n",
       "    'direct-parent': 'Diarylthioethers',\n",
       "    'kingdom': 'Chemical entities',\n",
       "    'subclass': 'Thioethers',\n",
       "    'superclass': 'Organic compounds'},\n",
       "   'term': '523'},\n",
       "  {'description': '947', 'id': 'compound:CID11998969', 'term': '947'}],\n",
       " 'evidence': [{'description': '4',\n",
       "   'evidenceType': {'id': 'BRAF-All Tumors', 'sourceName': 'oncokb'},\n",
       "   'info': {'publications': ['http://meetinglibrary.asco.org/content/145666-156']}}],\n",
       " 'evidence_label': 'D',\n",
       " 'evidence_level': 4,\n",
       " 'phenotype': {'description': 'cancer',\n",
       "  'family': 'cancer',\n",
       "  'type': {'id': 'DOID:162', 'term': 'cancer'}},\n",
       " 'publication_url': 'http://meetinglibrary.asco.org/content/145666-156',\n",
       " 'response_type': 'sensitive',\n",
       " 'source_link': 'http://oncokb.org/#/gene/BRAF/variant/Oncogenic+Mutations',\n",
       " 'variant_name': 'Oncogenic Mutations'}"
      ]
     },
     "execution_count": 56,
     "metadata": {},
     "output_type": "execute_result"
    }
   ],
   "source": [
    "json[0]['info']['association']"
   ]
  },
  {
   "cell_type": "code",
   "execution_count": null,
   "metadata": {
    "collapsed": true
   },
   "outputs": [],
   "source": []
  }
 ],
 "metadata": {
  "kernelspec": {
   "display_name": "Python 3",
   "language": "python",
   "name": "python3"
  },
  "language_info": {
   "codemirror_mode": {
    "name": "ipython",
    "version": 3
   },
   "file_extension": ".py",
   "mimetype": "text/x-python",
   "name": "python",
   "nbconvert_exporter": "python",
   "pygments_lexer": "ipython3",
   "version": "3.6.1"
  }
 },
 "nbformat": 4,
 "nbformat_minor": 2
}
