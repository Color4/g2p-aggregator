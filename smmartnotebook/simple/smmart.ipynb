{
 "cells": [
  {
   "cell_type": "code",
   "execution_count": null,
   "metadata": {},
   "outputs": [],
   "source": [
    "# read maf, and return evidence\n",
    "from smmart_client import maf_to_evidence\n",
    "# display interactive grids\n",
    "from smmart_grid import Explorer\n",
    "# query G2P\n",
    "(queries, datasets, summary) = maf_to_evidence('p204.tsv')\n",
    "# show grids\n",
    "explorer = Explorer(queries, datasets, summary)\n",
    "explorer.explore()"
   ]
  },
  {
   "cell_type": "code",
   "execution_count": null,
   "metadata": {},
   "outputs": [],
   "source": []
  }
 ],
 "metadata": {
  "kernelspec": {
   "display_name": "Python 3",
   "language": "python",
   "name": "python3"
  },
  "language_info": {
   "codemirror_mode": {
    "name": "ipython",
    "version": 3
   },
   "file_extension": ".py",
   "mimetype": "text/x-python",
   "name": "python",
   "nbconvert_exporter": "python",
   "pygments_lexer": "ipython3",
   "version": "3.5.2"
  }
 },
 "nbformat": 4,
 "nbformat_minor": 2
}
