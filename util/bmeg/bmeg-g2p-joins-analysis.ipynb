{
 "cells": [
  {
   "cell_type": "code",
   "execution_count": 85,
   "metadata": {
    "collapsed": true
   },
   "outputs": [],
   "source": [
    "import json\n",
    "from pprint import pprint\n",
    "\n",
    "# load bmeg output\n",
    "individual_treatments = json.load(open('/util/bmeg/biostream/biostream/g2p/individual-treatments.json'))"
   ]
  },
  {
   "cell_type": "code",
   "execution_count": 86,
   "metadata": {},
   "outputs": [],
   "source": [
    "# load associations index by gene and compound\n",
    "gene_associations = {}\n",
    "compound_associations = {}\n",
    "with open('/util/bmeg/biostream/biostream/g2p/G2PAssociation.json') as f:\n",
    "    for line in f:\n",
    "        association = json.loads(line)\n",
    "        # create a lightweight association\n",
    "        _association = {'id': association['id'],\n",
    "                        'description': association.get('description', None),\n",
    "                        'genes': association.get('genes', []),\n",
    "                        'environments': ['compound:{}'.format(compound) for compound in association.get('environments', [])]  }\n",
    "        for gene in association.get('genes', []):\n",
    "          if gene not in gene_associations:\n",
    "            gene_associations[gene] = []\n",
    "          gene_associations[gene].append(_association)\n",
    "        for compound in association.get('environments', []):\n",
    "          k = 'compound:{}'.format(compound)\n",
    "          if k not in compound_associations:\n",
    "            compound_associations[k] = []\n",
    "          compound_associations[k].append(_association)"
   ]
  },
  {
   "cell_type": "code",
   "execution_count": 87,
   "metadata": {},
   "outputs": [
    {
     "data": {
      "text/plain": [
       "{u'compound:CID38904',\n",
       " u'compound:CID5353562',\n",
       " u'compound:UNKNOWN:ciclosporin',\n",
       " u'compound:UNKNOWN:oxaliplatin',\n",
       " u'compound:UNKNOWN:temsirolimus'}"
      ]
     },
     "execution_count": 87,
     "metadata": {},
     "output_type": "execute_result"
    }
   ],
   "source": [
    "# for unsupported compounds, ensure all gene associations do not have compound\n",
    "unknown_individual_compounds = set([])\n",
    "for c,individual_treatment in enumerate(individual_treatments):\n",
    "    unsupporteds = individual_treatment.get('unsupported',None) or []\n",
    "    for unsupported in unsupporteds:\n",
    "        if unsupported not in compound_associations:\n",
    "            individual_treatment_variants = set(individual_treatment.get('variants',None) or [])\n",
    "            _compounds = []\n",
    "            for individual_treatment_variant in individual_treatment_variants:\n",
    "                if individual_treatment_variant in gene_associations:\n",
    "                    _compounds.extend(gene_associations[individual_treatment_variant]['environments'])\n",
    "            if unsupported not in _compounds:        \n",
    "                unknown_individual_compounds.add(unsupported)\n",
    "unknown_individual_compounds"
   ]
  },
  {
   "cell_type": "code",
   "execution_count": 88,
   "metadata": {},
   "outputs": [],
   "source": [
    "# for unsupported compounds, run it again to see if others\n",
    "for c,individual_treatment in enumerate(individual_treatments):\n",
    "    unsupporteds = individual_treatment.get('unsupported',None) or []\n",
    "    for unsupported in unsupporteds:\n",
    "        if unsupported in unknown_individual_compounds:\n",
    "            continue\n",
    "        if unsupported not in compound_associations:\n",
    "            print '?', unsupported\n"
   ]
  },
  {
   "cell_type": "code",
   "execution_count": null,
   "metadata": {
    "collapsed": true
   },
   "outputs": [],
   "source": []
  }
 ],
 "metadata": {
  "kernelspec": {
   "display_name": "Python 2",
   "language": "python",
   "name": "python2"
  },
  "language_info": {
   "codemirror_mode": {
    "name": "ipython",
    "version": 2
   },
   "file_extension": ".py",
   "mimetype": "text/x-python",
   "name": "python",
   "nbconvert_exporter": "python",
   "pygments_lexer": "ipython2",
   "version": "2.7.13"
  }
 },
 "nbformat": 4,
 "nbformat_minor": 2
}
