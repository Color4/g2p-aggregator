{
 "cells": [
  {
   "cell_type": "code",
   "execution_count": 1,
   "metadata": {
    "collapsed": false
   },
   "outputs": [],
   "source": [
    "from elasticsearch import Elasticsearch\n",
    "from collections import Counter, defaultdict\n",
    "import pandas as pd\n",
    "import pyupset as pyu\n",
    "import re\n",
    "import itertools\n",
    "\n",
    "%matplotlib inline"
   ]
  },
  {
   "cell_type": "code",
   "execution_count": 2,
   "metadata": {
    "collapsed": false
   },
   "outputs": [
    {
     "data": {
      "text/plain": [
       "<Elasticsearch([{}])>"
      ]
     },
     "execution_count": 2,
     "metadata": {},
     "output_type": "execute_result"
    }
   ],
   "source": [
    "es = Elasticsearch()\n",
    "es"
   ]
  },
  {
   "cell_type": "code",
   "execution_count": 3,
   "metadata": {
    "collapsed": false
   },
   "outputs": [],
   "source": [
    "res = es.search(index=\"g2p\", size=10000, body={\"query\": {\"match_all\": {}}})"
   ]
  },
  {
   "cell_type": "code",
   "execution_count": 4,
   "metadata": {
    "collapsed": true
   },
   "outputs": [],
   "source": [
    "def collect_all_results():\n",
    "    res = es.search(index=\"g2p\", size=10000, body={\"query\": {\"match_all\": {}}}, scroll='1m')\n",
    "    scroll_id = res.get('_scroll_id')\n",
    "    i = 1\n",
    "    while scroll_id is not None:\n",
    "        print('Processing scroll {}'.format(i))\n",
    "        r = es.scroll(scroll_id)\n",
    "        scroll_id = r.get('_scroll_id')\n",
    "        res['hits']['hits'] += r['hits']['hits']\n",
    "        i += 1\n",
    "    return res\n",
    "        "
   ]
  },
  {
   "cell_type": "code",
   "execution_count": 5,
   "metadata": {
    "collapsed": false
   },
   "outputs": [
    {
     "name": "stdout",
     "output_type": "stream",
     "text": [
      "Processing scroll 1\n"
     ]
    }
   ],
   "source": [
    "res = collect_all_results()"
   ]
  },
  {
   "cell_type": "markdown",
   "metadata": {},
   "source": [
    "# Total Associations"
   ]
  },
  {
   "cell_type": "code",
   "execution_count": 6,
   "metadata": {
    "collapsed": false
   },
   "outputs": [
    {
     "data": {
      "text/plain": [
       "14750"
      ]
     },
     "execution_count": 6,
     "metadata": {},
     "output_type": "execute_result"
    }
   ],
   "source": [
    "assert len(res['hits']['hits']) == res['hits']['total']\n",
    "len(res['hits']['hits'])"
   ]
  },
  {
   "cell_type": "code",
   "execution_count": 7,
   "metadata": {
    "collapsed": true
   },
   "outputs": [],
   "source": [
    "def count_attribute(result, attribute):\n",
    "    c = Counter([x['_source'][attribute] for x in result['hits']['hits']])\n",
    "    return c\n",
    "\n",
    "def count_attribute_by_group(result, attribute, group):\n",
    "    d = dict()\n",
    "    for g in count_attribute(result, group):\n",
    "        d[g] = Counter([x['_source'][attribute] for x in result['hits']['hits'] if x['_source'][group] == g])\n",
    "    return d\n",
    "\n",
    "def count_list_attribute(result, list_attribute):\n",
    "    c = Counter([attribute for x in result['hits']['hits'] for attribute in x['_source'][list_attribute]])\n",
    "    return c\n",
    "\n",
    "def count_list_attribute_by_group(result, list_attribute, group):\n",
    "    d = dict()\n",
    "    for g in count_attribute(result, group):\n",
    "        d[g] = Counter([attribute for x in result['hits']['hits'] for attribute in x['_source'][list_attribute] if x['_source'][group] == g])\n",
    "    return d"
   ]
  },
  {
   "cell_type": "code",
   "execution_count": 8,
   "metadata": {
    "collapsed": false
   },
   "outputs": [
    {
     "data": {
      "text/plain": [
       "Counter({'cgi': 1429,\n",
       "         'civic': 2713,\n",
       "         'jax': 6513,\n",
       "         'molecularmatch': 3116,\n",
       "         'oncokb': 373,\n",
       "         'pmkb': 606})"
      ]
     },
     "execution_count": 8,
     "metadata": {},
     "output_type": "execute_result"
    }
   ],
   "source": [
    "count_attribute(res, 'source')"
   ]
  },
  {
   "cell_type": "markdown",
   "metadata": {},
   "source": [
    "# Genes"
   ]
  },
  {
   "cell_type": "code",
   "execution_count": 9,
   "metadata": {
    "collapsed": false
   },
   "outputs": [],
   "source": [
    "%%capture\n",
    "count_list_attribute(res, 'genes')"
   ]
  },
  {
   "cell_type": "code",
   "execution_count": 10,
   "metadata": {
    "collapsed": false
   },
   "outputs": [],
   "source": [
    "d = count_list_attribute_by_group(res, 'genes', 'source')"
   ]
  },
  {
   "cell_type": "markdown",
   "metadata": {},
   "source": [
    "CGI has some genotype \"genes\" (e.g. 'ARID1A;ANXA1' from ARID1A amplification + ANXA1 overexpression)\n",
    "\n",
    "CKB have some multi-gene molecular profiles. Example: https://ckb.jax.org/molecularProfile/show/26172"
   ]
  },
  {
   "cell_type": "code",
   "execution_count": 11,
   "metadata": {
    "collapsed": false
   },
   "outputs": [
    {
     "data": {
      "text/plain": [
       "Counter({'cgi': 45, 'jax': 2492, 'molecularmatch': 215})"
      ]
     },
     "execution_count": 11,
     "metadata": {},
     "output_type": "execute_result"
    }
   ],
   "source": [
    "multi_gene_hits = [x for x in res['hits']['hits'] if len(x['_source']['genes']) >= 2]\n",
    "s = Counter([x['_source']['source'] for x in multi_gene_hits])\n",
    "s"
   ]
  },
  {
   "cell_type": "code",
   "execution_count": 12,
   "metadata": {
    "collapsed": false
   },
   "outputs": [],
   "source": [
    "mp_d = dict()\n",
    "for source in s:\n",
    "    mp_d[source] = set([tuple(sorted(x['_source']['genes'])) for x in res['hits']['hits'] if (len(x['_source']['genes']) >= 2) and (x['_source']['source'] == source)])"
   ]
  },
  {
   "cell_type": "code",
   "execution_count": 13,
   "metadata": {
    "collapsed": false
   },
   "outputs": [],
   "source": [
    "%%capture\n",
    "mp_d"
   ]
  },
  {
   "cell_type": "code",
   "execution_count": 14,
   "metadata": {
    "collapsed": true
   },
   "outputs": [],
   "source": [
    "def overlap(group_counts):\n",
    "    columns = sorted(group_counts) + ['Total']\n",
    "    sets = {g: set(group_counts[g]) for g in group_counts}\n",
    "    for g in sets:\n",
    "        total = set()\n",
    "        for s in sets:\n",
    "            l = len(sets[g])\n",
    "            if s != g:\n",
    "                o = (sets[g] & sets[s])\n",
    "                total |= sets[s]\n",
    "            else:\n",
    "                continue\n",
    "            print('{} has {}/{} ({:.2f}%) overlap with {}'.format(g, len(o), l, len(o) / l * 100, s))\n",
    "        o = (sets[g] & total)\n",
    "        print('{} has {}/{} ({:.2f}%) overlap overall'.format(g, len(o), l, len(o) / l * 100, s))"
   ]
  },
  {
   "cell_type": "code",
   "execution_count": 15,
   "metadata": {
    "collapsed": false
   },
   "outputs": [
    {
     "name": "stdout",
     "output_type": "stream",
     "text": [
      "cgi has 59/181 (32.60%) overlap with jax\n",
      "cgi has 121/181 (66.85%) overlap with civic\n",
      "cgi has 42/181 (23.20%) overlap with oncokb\n",
      "cgi has 37/181 (20.44%) overlap with pmkb\n",
      "cgi has 96/181 (53.04%) overlap with molecularmatch\n",
      "cgi has 128/181 (70.72%) overlap overall\n",
      "jax has 59/106 (55.66%) overlap with cgi\n",
      "jax has 73/106 (68.87%) overlap with civic\n",
      "jax has 30/106 (28.30%) overlap with oncokb\n",
      "jax has 37/106 (34.91%) overlap with pmkb\n",
      "jax has 64/106 (60.38%) overlap with molecularmatch\n",
      "jax has 83/106 (78.30%) overlap overall\n",
      "civic has 121/290 (41.72%) overlap with cgi\n",
      "civic has 73/290 (25.17%) overlap with jax\n",
      "civic has 42/290 (14.48%) overlap with oncokb\n",
      "civic has 38/290 (13.10%) overlap with pmkb\n",
      "civic has 140/290 (48.28%) overlap with molecularmatch\n",
      "civic has 177/290 (61.03%) overlap overall\n",
      "oncokb has 42/43 (97.67%) overlap with cgi\n",
      "oncokb has 30/43 (69.77%) overlap with jax\n",
      "oncokb has 42/43 (97.67%) overlap with civic\n",
      "oncokb has 20/43 (46.51%) overlap with pmkb\n",
      "oncokb has 41/43 (95.35%) overlap with molecularmatch\n",
      "oncokb has 43/43 (100.00%) overlap overall\n",
      "pmkb has 37/42 (88.10%) overlap with cgi\n",
      "pmkb has 37/42 (88.10%) overlap with jax\n",
      "pmkb has 38/42 (90.48%) overlap with civic\n",
      "pmkb has 20/42 (47.62%) overlap with oncokb\n",
      "pmkb has 31/42 (73.81%) overlap with molecularmatch\n",
      "pmkb has 41/42 (97.62%) overlap overall\n",
      "molecularmatch has 96/231 (41.56%) overlap with cgi\n",
      "molecularmatch has 64/231 (27.71%) overlap with jax\n",
      "molecularmatch has 140/231 (60.61%) overlap with civic\n",
      "molecularmatch has 41/231 (17.75%) overlap with oncokb\n",
      "molecularmatch has 31/231 (13.42%) overlap with pmkb\n",
      "molecularmatch has 149/231 (64.50%) overlap overall\n"
     ]
    }
   ],
   "source": [
    "overlap(d)"
   ]
  },
  {
   "cell_type": "code",
   "execution_count": 16,
   "metadata": {
    "collapsed": false
   },
   "outputs": [],
   "source": [
    "def plot_overlap(d, column_names=['attribute']):\n",
    "    d2 = {g: pd.DataFrame(list(d[g].keys()), columns=column_names) for g in d}\n",
    "    pyu.plot(d2, unique_keys = ['attribute'])"
   ]
  },
  {
   "cell_type": "code",
   "execution_count": 17,
   "metadata": {
    "collapsed": false
   },
   "outputs": [
    {
     "data": {
      "image/png": "[encoded data removed]",
      "text/plain": [
       "<matplotlib.figure.Figure at 0x12751fe48>"
      ]
     },
     "metadata": {},
     "output_type": "display_data"
    }
   ],
   "source": [
    "plot_overlap(d)"
   ]
  },
  {
   "cell_type": "markdown",
   "metadata": {},
   "source": [
    "# Overlap of associations (drug + gene + phenotype)"
   ]
  },
  {
   "cell_type": "markdown",
   "metadata": {},
   "source": [
    "Some hits (example here is from CGI) have strange behavior on drug normalization:"
   ]
  },
  {
   "cell_type": "code",
   "execution_count": 18,
   "metadata": {
    "collapsed": false
   },
   "outputs": [
    {
     "data": {
      "text/plain": [
       "[{'description': 'Imatinib',\n",
       "  'id': 'compound:CID5291',\n",
       "  'term': 'Imatinib',\n",
       "  'toxicity': 'The most frequently reported adverse reactions (>30%) were edema, nausea,\\r\\nvomiting, muscle cramps, musculoskeletal pain, diarrhea, rash, fatigue and\\r\\nabdominal pain.'},\n",
       " {'description': 'inhibitor',\n",
       "  'id': 'compound:CID657356',\n",
       "  'term': 'inhibitor',\n",
       "  'toxicity': 'unknown'},\n",
       " {'description': 'Clorazepate Dipotassium',\n",
       "  'id': 'compound:CID23706210',\n",
       "  'term': 'Clorazepate Dipotassium',\n",
       "  'toxicity': 'unknown'}]"
      ]
     },
     "execution_count": 18,
     "metadata": {},
     "output_type": "execute_result"
    }
   ],
   "source": [
    "res['hits']['hits'][0]['_source']['association']['environmentalContexts']"
   ]
  },
  {
   "cell_type": "markdown",
   "metadata": {},
   "source": [
    "\"Inhibitor\" drug: https://pubchem.ncbi.nlm.nih.gov/compound/diacylglycerol_kinase_inhibitor_ii#section=Top"
   ]
  },
  {
   "cell_type": "code",
   "execution_count": 19,
   "metadata": {
    "collapsed": false
   },
   "outputs": [
    {
     "data": {
      "text/plain": [
       "{'Alteration': 'ABL1:I242T,M244V,K247R,L248V,G250E,G250R,Q252R,Q252H,Y253F,Y253H,E255K,E255V,M237V,E258D,W261L,L273M,E275K,E275Q,D276G,T277A,E279K,V280A,V289A,V289I,E292V,E292Q,I293V,L298V,V299L,F311L,F311I,T315I,F317L,F317V,F317I,F317C,Y320C,L324Q,Y342H,M343T,A344V,A350V,M351T,E355D,E355G,E355A,F359V,F359I,F359C,F359L,D363Y,L364I,A365V,A366G,L370P,V371A,E373K,V379I,A380T,F382L,L384M,L387M,L387F,L387V,M388L,Y393C,H396P,H396R,H396A,A397P,S417F,S417Y,I418S,I418V,A433T,S438C,E450K,E450G,E450A,E450V,E453K,E453G,E453A,E453V,E459K,E459G,E459A,E459V,M472I,P480L,F486S,E507G',\n",
       " 'Alteration type': 'MUT',\n",
       " 'Assay type': '',\n",
       " 'Association': 'Resistant',\n",
       " 'Biomarker': 'ABL1 (I242T,M244V,K247R,L248V,G250E,G250R,Q252R,Q252H,Y253F,Y253H,E255K,E255V,M237V,E258D,W261L,L273M,E275K,E275Q,D276G,T277A,E279K,V280A,V289A,V289I,E292V,E292Q,I293V,L298V,V299L,F311L,F311I,T315I,F317L,F317V,F317I,F317C,Y320C,L324Q,Y342H,M343T,A344V,A350V,M351T,E355D,E355G,E355A,F359V,F359I,F359C,F359L,D363Y,L364I,A365V,A366G,L370P,V371A,E373K,V379I,A380T,F382L,L384M,L387M,L387F,L387V,M388L,Y393C,H396P,H396R,H396A,A397P,S417F,S417Y,I418S,I418V,A433T,S438C,E450K,E450G,E450A,E450V,E453K,E453G,E453A,E453V,E459K,E459G,E459A,E459V,M472I,P480L,F486S,E507G)',\n",
       " 'Curator': 'CRubio-Perez',\n",
       " 'Drug': 'Imatinib',\n",
       " 'Drug family': 'BCR-ABL inhibitor 1st gen&KIT inhibitor',\n",
       " 'Drug full name': 'Imatinib (BCR-ABL inhibitor 1st gen&KIT inhibitor)',\n",
       " 'Drug status': 'Approved',\n",
       " 'Evidence level': 'European LeukemiaNet guidelines',\n",
       " 'Gene': 'ABL1',\n",
       " 'Metastatic Tumor Type': '',\n",
       " 'Primary Tumor type': 'CML',\n",
       " 'Source': 'PMID:21562040',\n",
       " 'Targeting': '',\n",
       " 'cDNA': 'c.1349A>T',\n",
       " 'gDNA': 'chr9:g.133753880A>T',\n",
       " 'gene': 'ABL1',\n",
       " 'individual_mutation': 'ABL1:p.E450V',\n",
       " 'info': 'CSQN=Missense;reference_codon=GAG;candidate_codons=GTA,GTC,GTG,GTT;candidate_mnv_variants=chr9:g.133753880_133753881delAGinsTA,chr9:g.133753880_133753881delAGinsTC,chr9:g.133753880_133753881delAGinsTT;aliases=ENSP00000323315;source=Ensembl',\n",
       " 'region': 'inside_[cds_in_exon_8]',\n",
       " 'strand': '+',\n",
       " 'transcript': 'ENST00000318560'}"
      ]
     },
     "execution_count": 19,
     "metadata": {},
     "output_type": "execute_result"
    }
   ],
   "source": [
    "res['hits']['hits'][0]['_source']['cgi']"
   ]
  },
  {
   "cell_type": "code",
   "execution_count": 20,
   "metadata": {
    "collapsed": true
   },
   "outputs": [],
   "source": [
    "def select_failures(hits):\n",
    "    pheno_failed = 0\n",
    "    drug_failed = 0\n",
    "    for hit in hits:\n",
    "        gene = '|'.join(sorted(hit['_source']['genes']))\n",
    "        try:\n",
    "            drug = '|'.join(sorted([x['id'] for x in hit['_source']['association']['environmentalContexts']]))\n",
    "        except:\n",
    "            print( \"Drug failure on ID {}\".format( hit['_id'] ))\n",
    "            drug_failed += 1\n",
    "            drug = None\n",
    "        try:\n",
    "            phenotype = hit['_source']['association']['phenotype']['type']['id']\n",
    "        except:\n",
    "            print( \"Phenotype failure on ID {}\".format( hit['_id'] ))\n",
    "            pheno_failed += 1\n",
    "            phenotype = None\n",
    "        if drug is None or phenotype is None:\n",
    "            yield(hit)\n",
    "        # yield (gene,drug,phenotype)\n",
    "    print('{} hits with failed phenotype'.format(pheno_failed))\n",
    "    print('{} hits with failed drug'.format(drug_failed))\n",
    "    print('{} total hits'.format(len(hits)))"
   ]
  },
  {
   "cell_type": "code",
   "execution_count": 21,
   "metadata": {
    "collapsed": false
   },
   "outputs": [
    {
     "ename": "TypeError",
     "evalue": "sequence item 0: expected str instance, NoneType found",
     "output_type": "error",
     "traceback": [
      "\u001b[0;31m---------------------------------------------------------------------------\u001b[0m",
      "\u001b[0;31mTypeError\u001b[0m                                 Traceback (most recent call last)",
      "\u001b[0;32m<ipython-input-21-0f03cac31ef5>\u001b[0m in \u001b[0;36m<module>\u001b[0;34m()\u001b[0m\n\u001b[0;32m----> 1\u001b[0;31m \u001b[0mfailed\u001b[0m \u001b[0;34m=\u001b[0m \u001b[0mlist\u001b[0m\u001b[0;34m(\u001b[0m\u001b[0mselect_failures\u001b[0m\u001b[0;34m(\u001b[0m\u001b[0mres\u001b[0m\u001b[0;34m[\u001b[0m\u001b[0;34m'hits'\u001b[0m\u001b[0;34m]\u001b[0m\u001b[0;34m[\u001b[0m\u001b[0;34m'hits'\u001b[0m\u001b[0;34m]\u001b[0m\u001b[0;34m)\u001b[0m\u001b[0;34m)\u001b[0m\u001b[0;34m\u001b[0m\u001b[0m\n\u001b[0m",
      "\u001b[0;32m<ipython-input-20-3383393ed479>\u001b[0m in \u001b[0;36mselect_failures\u001b[0;34m(hits)\u001b[0m\n\u001b[1;32m      3\u001b[0m     \u001b[0mdrug_failed\u001b[0m \u001b[0;34m=\u001b[0m \u001b[0;36m0\u001b[0m\u001b[0;34m\u001b[0m\u001b[0m\n\u001b[1;32m      4\u001b[0m     \u001b[0;32mfor\u001b[0m \u001b[0mhit\u001b[0m \u001b[0;32min\u001b[0m \u001b[0mhits\u001b[0m\u001b[0;34m:\u001b[0m\u001b[0;34m\u001b[0m\u001b[0m\n\u001b[0;32m----> 5\u001b[0;31m         \u001b[0mgene\u001b[0m \u001b[0;34m=\u001b[0m \u001b[0;34m'|'\u001b[0m\u001b[0;34m.\u001b[0m\u001b[0mjoin\u001b[0m\u001b[0;34m(\u001b[0m\u001b[0msorted\u001b[0m\u001b[0;34m(\u001b[0m\u001b[0mhit\u001b[0m\u001b[0;34m[\u001b[0m\u001b[0;34m'_source'\u001b[0m\u001b[0;34m]\u001b[0m\u001b[0;34m[\u001b[0m\u001b[0;34m'genes'\u001b[0m\u001b[0;34m]\u001b[0m\u001b[0;34m)\u001b[0m\u001b[0;34m)\u001b[0m\u001b[0;34m\u001b[0m\u001b[0m\n\u001b[0m\u001b[1;32m      6\u001b[0m         \u001b[0;32mtry\u001b[0m\u001b[0;34m:\u001b[0m\u001b[0;34m\u001b[0m\u001b[0m\n\u001b[1;32m      7\u001b[0m             \u001b[0mdrug\u001b[0m \u001b[0;34m=\u001b[0m \u001b[0;34m'|'\u001b[0m\u001b[0;34m.\u001b[0m\u001b[0mjoin\u001b[0m\u001b[0;34m(\u001b[0m\u001b[0msorted\u001b[0m\u001b[0;34m(\u001b[0m\u001b[0;34m[\u001b[0m\u001b[0mx\u001b[0m\u001b[0;34m[\u001b[0m\u001b[0;34m'id'\u001b[0m\u001b[0;34m]\u001b[0m \u001b[0;32mfor\u001b[0m \u001b[0mx\u001b[0m \u001b[0;32min\u001b[0m \u001b[0mhit\u001b[0m\u001b[0;34m[\u001b[0m\u001b[0;34m'_source'\u001b[0m\u001b[0;34m]\u001b[0m\u001b[0;34m[\u001b[0m\u001b[0;34m'association'\u001b[0m\u001b[0;34m]\u001b[0m\u001b[0;34m[\u001b[0m\u001b[0;34m'environmentalContexts'\u001b[0m\u001b[0;34m]\u001b[0m\u001b[0;34m]\u001b[0m\u001b[0;34m)\u001b[0m\u001b[0;34m)\u001b[0m\u001b[0;34m\u001b[0m\u001b[0m\n",
      "\u001b[0;31mTypeError\u001b[0m: sequence item 0: expected str instance, NoneType found"
     ]
    }
   ],
   "source": [
    "%%capture\n",
    "failed = list(select_failures(res['hits']['hits']))"
   ]
  },
  {
   "cell_type": "code",
   "execution_count": 22,
   "metadata": {
    "collapsed": false
   },
   "outputs": [
    {
     "ename": "NameError",
     "evalue": "name 'failed' is not defined",
     "output_type": "error",
     "traceback": [
      "\u001b[0;31m---------------------------------------------------------------------------\u001b[0m",
      "\u001b[0;31mNameError\u001b[0m                                 Traceback (most recent call last)",
      "\u001b[0;32m<ipython-input-22-53480ff81521>\u001b[0m in \u001b[0;36m<module>\u001b[0;34m()\u001b[0m\n\u001b[0;32m----> 1\u001b[0;31m \u001b[0mprint\u001b[0m\u001b[0;34m(\u001b[0m\u001b[0;34m\"{:.2f}% of associations not fully normalized across gene, drug, phenotype\"\u001b[0m\u001b[0;34m.\u001b[0m\u001b[0mformat\u001b[0m\u001b[0;34m(\u001b[0m\u001b[0mlen\u001b[0m\u001b[0;34m(\u001b[0m\u001b[0mfailed\u001b[0m\u001b[0;34m)\u001b[0m \u001b[0;34m/\u001b[0m \u001b[0mlen\u001b[0m\u001b[0;34m(\u001b[0m\u001b[0mres\u001b[0m\u001b[0;34m[\u001b[0m\u001b[0;34m'hits'\u001b[0m\u001b[0;34m]\u001b[0m\u001b[0;34m[\u001b[0m\u001b[0;34m'hits'\u001b[0m\u001b[0;34m]\u001b[0m\u001b[0;34m)\u001b[0m \u001b[0;34m*\u001b[0m \u001b[0;36m100\u001b[0m\u001b[0;34m)\u001b[0m\u001b[0;34m)\u001b[0m\u001b[0;34m\u001b[0m\u001b[0m\n\u001b[0m",
      "\u001b[0;31mNameError\u001b[0m: name 'failed' is not defined"
     ]
    }
   ],
   "source": [
    "print(\"{:.2f}% of associations not fully normalized across gene, drug, phenotype\".format(len(failed) / len(res['hits']['hits']) * 100))"
   ]
  },
  {
   "cell_type": "code",
   "execution_count": null,
   "metadata": {
    "collapsed": false
   },
   "outputs": [],
   "source": [
    "c = Counter([x['_source']['source'] for x in failed])\n",
    "c"
   ]
  },
  {
   "cell_type": "code",
   "execution_count": null,
   "metadata": {
    "collapsed": false
   },
   "outputs": [],
   "source": [
    "def percent(num, den):\n",
    "    return \"{:.2f}%\".format(num / den * 100)\n",
    "\n",
    "d = count_attribute(res, 'source')\n",
    "{source: percent(c[source], d[source]) for source in c}"
   ]
  },
  {
   "cell_type": "markdown",
   "metadata": {},
   "source": [
    "PMKB interpretations (https://pmkb.weill.cornell.edu/therapies) do not list drugs."
   ]
  },
  {
   "cell_type": "code",
   "execution_count": null,
   "metadata": {
    "collapsed": false
   },
   "outputs": [],
   "source": [
    "pmkb = [x for x in failed if x['_source']['source'] == 'pmkb']\n",
    "pmkb[0]['_source']['association']"
   ]
  },
  {
   "cell_type": "code",
   "execution_count": null,
   "metadata": {
    "collapsed": false
   },
   "outputs": [],
   "source": [
    "any(['environmentalContexts' in x['_source']['association'] for x in pmkb])"
   ]
  },
  {
   "cell_type": "markdown",
   "metadata": {},
   "source": [
    "# Overlap of associations (gene + phenotype)"
   ]
  },
  {
   "cell_type": "code",
   "execution_count": null,
   "metadata": {
    "collapsed": true
   },
   "outputs": [],
   "source": [
    "def select_failures(hits):\n",
    "    pheno_failed = 0\n",
    "    for hit in hits:\n",
    "        gene = '|'.join(sorted(hit['_source']['genes']))\n",
    "        try:\n",
    "            phenotype = hit['_source']['association']['phenotype']['type']['id']\n",
    "        except:\n",
    "            print( \"Phenotype failure on ID {}\".format( hit['_id'] ))\n",
    "            pheno_failed += 1\n",
    "            phenotype = None\n",
    "        if phenotype is None:\n",
    "            yield(hit)\n",
    "    print('{} hits with failed phenotype'.format(pheno_failed))\n",
    "    print('{} total hits'.format(len(hits)))"
   ]
  },
  {
   "cell_type": "code",
   "execution_count": null,
   "metadata": {
    "collapsed": false
   },
   "outputs": [],
   "source": [
    "%%capture\n",
    "failed = list(select_failures(res['hits']['hits']))"
   ]
  },
  {
   "cell_type": "code",
   "execution_count": null,
   "metadata": {
    "collapsed": false
   },
   "outputs": [],
   "source": [
    "print(\"{:.2f}% of associations not fully normalized across gene, phenotype\".format(len(failed) / len(res['hits']['hits']) * 100))"
   ]
  },
  {
   "cell_type": "code",
   "execution_count": null,
   "metadata": {
    "collapsed": false
   },
   "outputs": [],
   "source": [
    "c = Counter([x['_source']['source'] for x in failed])\n",
    "c"
   ]
  },
  {
   "cell_type": "code",
   "execution_count": null,
   "metadata": {
    "collapsed": false
   },
   "outputs": [],
   "source": [
    "d = count_attribute(res, 'source')\n",
    "{source: percent(c[source], d[source]) for source in c}"
   ]
  },
  {
   "cell_type": "markdown",
   "metadata": {},
   "source": [
    "Prostate Adenocarcinoma?"
   ]
  },
  {
   "cell_type": "code",
   "execution_count": null,
   "metadata": {
    "collapsed": false
   },
   "outputs": [],
   "source": [
    "cgi = [x for x in failed if x['_source']['source'] == 'cgi']\n",
    "cgi[0]['_source']['association']"
   ]
  },
  {
   "cell_type": "code",
   "execution_count": null,
   "metadata": {
    "collapsed": false
   },
   "outputs": [],
   "source": [
    "cgi[0]['_source']['cgi']"
   ]
  },
  {
   "cell_type": "code",
   "execution_count": null,
   "metadata": {
    "collapsed": false
   },
   "outputs": [],
   "source": [
    "%%capture\n",
    "set([x['_source']['association']['phenotype']['description'] for x in cgi])"
   ]
  },
  {
   "cell_type": "code",
   "execution_count": null,
   "metadata": {
    "collapsed": true
   },
   "outputs": [],
   "source": [
    "def select_successes(hits):\n",
    "    pheno_failed = 0\n",
    "    for hit in hits:\n",
    "        gene = '|'.join(sorted(hit['_source']['genes']))\n",
    "        hit['merged'] = {'gene': gene}\n",
    "        try:\n",
    "            phenotype = hit['_source']['association']['phenotype']['type']['id']\n",
    "        except:\n",
    "            print( \"Phenotype failure on ID {}\".format( hit['_id'] ))\n",
    "            pheno_failed += 1\n",
    "            phenotype = None\n",
    "        if phenotype is None:\n",
    "            continue\n",
    "        hit['merged']['phenotype'] = phenotype\n",
    "        yield hit\n",
    "        \n",
    "    print('{} hits with failed phenotype'.format(pheno_failed))\n",
    "    print('{} total hits'.format(len(hits)))"
   ]
  },
  {
   "cell_type": "code",
   "execution_count": null,
   "metadata": {
    "collapsed": false
   },
   "outputs": [],
   "source": [
    "%%capture\n",
    "successes = list(select_successes(res['hits']['hits']))"
   ]
  },
  {
   "cell_type": "code",
   "execution_count": null,
   "metadata": {
    "collapsed": false
   },
   "outputs": [],
   "source": [
    "s = Counter([x['_source']['source'] for x in successes])\n",
    "s"
   ]
  },
  {
   "cell_type": "code",
   "execution_count": null,
   "metadata": {
    "collapsed": true
   },
   "outputs": [],
   "source": [
    "success_by_source = dict()\n",
    "for source in s:\n",
    "    success_by_source[source] = set([(x['merged']['gene'], x['merged']['phenotype']) for x in successes if x['_source']['source'] == source])"
   ]
  },
  {
   "cell_type": "code",
   "execution_count": null,
   "metadata": {
    "collapsed": false
   },
   "outputs": [],
   "source": [
    "%%capture\n",
    "success_by_source"
   ]
  },
  {
   "cell_type": "code",
   "execution_count": null,
   "metadata": {
    "collapsed": false
   },
   "outputs": [],
   "source": [
    "overlap(success_by_source)"
   ]
  },
  {
   "cell_type": "code",
   "execution_count": null,
   "metadata": {
    "collapsed": false
   },
   "outputs": [],
   "source": [
    "def plot_overlap(d, column_names=['attribute']):\n",
    "    d2 = {g: pd.DataFrame(list(d[g]), columns=column_names) for g in d}\n",
    "    pyu.plot(d2, unique_keys = column_names)\n",
    "    \n",
    "plot_overlap(success_by_source, column_names=['gene', 'phenotype'])"
   ]
  },
  {
   "cell_type": "markdown",
   "metadata": {},
   "source": [
    "\n",
    "## Finding gene-PMID associations and comparing to gene-phenotype"
   ]
  },
  {
   "cell_type": "markdown",
   "metadata": {},
   "source": [
    "This is some debugging code for issue 41: https://github.com/ohsu-comp-bio/g2p-aggregator/issues/41"
   ]
  },
  {
   "cell_type": "code",
   "execution_count": null,
   "metadata": {
    "collapsed": true
   },
   "outputs": [],
   "source": [
    "double_listed_refs = Counter()\n",
    "single_listed_refs = Counter()\n",
    "\n",
    "listed_evidence = Counter()\n",
    "single_evidence = Counter()\n",
    "for hit in res['hits']['hits']:\n",
    "    if isinstance(hit['_source']['association']['evidence'], list):\n",
    "        listed_evidence[hit['_source']['source']] += 1\n",
    "        for evidence in hit['_source']['association']['evidence']:\n",
    "            for pmid_url in evidence['info']['publications']:\n",
    "                if isinstance(pmid_url, list):\n",
    "                    double_listed_refs[hit['_source']['source']] += 1\n",
    "                else:\n",
    "                    single_listed_refs[hit['_source']['source']] += 1\n",
    "    else:\n",
    "        single_evidence[hit['_source']['source']] += 1\n",
    "        evidence = hit['_source']['association']['evidence']\n",
    "        for pmid_url in evidence['info']['publications']:\n",
    "            if isinstance(pmid_url, list):\n",
    "                double_listed_refs[hit['_source']['source']] += 1\n",
    "            else:\n",
    "                single_listed_refs[hit['_source']['source']] += 1"
   ]
  },
  {
   "cell_type": "code",
   "execution_count": null,
   "metadata": {
    "collapsed": false
   },
   "outputs": [],
   "source": [
    "print(double_listed_refs)\n",
    "print(single_listed_refs)\n",
    "print(listed_evidence)\n",
    "print(single_evidence)"
   ]
  },
  {
   "cell_type": "markdown",
   "metadata": {},
   "source": [
    "First, we'll look at just PMID overlap"
   ]
  },
  {
   "cell_type": "code",
   "execution_count": null,
   "metadata": {
    "collapsed": false
   },
   "outputs": [],
   "source": [
    "pmid_re = re.compile(r'https?://www.ncbi.nlm.nih.gov/pubmed/(\\d+)')\n",
    "source_pmids = defaultdict(set)\n",
    "single_url = Counter()\n",
    "listed_url = Counter()\n",
    "for hit in res['hits']['hits']:\n",
    "    pmids = set()\n",
    "    # next two lines fix double_listing, see https://github.com/ohsu-comp-bio/g2p-aggregator/issues/41\n",
    "    if not isinstance(hit['_source']['association']['evidence'], list):\n",
    "        hit['_source']['association']['evidence'] = [hit['_source']['association']['evidence']]\n",
    "    for evidence in hit['_source']['association']['evidence']:\n",
    "        urls = evidence['info']['publications']\n",
    "    # next two lines fix single_evidence, see https://github.com/ohsu-comp-bio/g2p-aggregator/issues/41\n",
    "        if isinstance(urls[0], list):\n",
    "            urls = itertools.chain.from_iterable(urls)\n",
    "        for pmid_url in urls:\n",
    "            match = pmid_re.match(pmid_url)\n",
    "            if match:\n",
    "                pmids.add(match.groups()[0])\n",
    "    urls = hit['_source']['association'].get('publication_url')\n",
    "    # the following lines document differences in the structure of the publication_url field\n",
    "    if not isinstance(urls, list):\n",
    "        single_url[hit['_source']['source']] += 1\n",
    "        urls = [urls]\n",
    "    else:\n",
    "        listed_url[hit['_source']['source']] += 1\n",
    "    for url in urls:\n",
    "        if url is None:\n",
    "            continue\n",
    "        match = pmid_re.match(url)\n",
    "        if match:\n",
    "            pmids.add(match.groups()[0])\n",
    "    source_pmids[hit['_source']['source']] |= pmids\n",
    "    pmids = list(pmids)\n",
    "    if 'merged' in hit:\n",
    "        hit['merged']['pmids'] = pmids\n",
    "    else:\n",
    "        hit['merged'] = {'pmids': pmids}\n",
    "    "
   ]
  },
  {
   "cell_type": "code",
   "execution_count": null,
   "metadata": {
    "collapsed": false
   },
   "outputs": [],
   "source": [
    "{k: len(v) for k, v in source_pmids.items()}"
   ]
  },
  {
   "cell_type": "code",
   "execution_count": null,
   "metadata": {
    "collapsed": false
   },
   "outputs": [],
   "source": [
    "overlap(source_pmids)"
   ]
  },
  {
   "cell_type": "code",
   "execution_count": null,
   "metadata": {
    "collapsed": false
   },
   "outputs": [],
   "source": [
    "def plot_overlap(d, column_names=['attribute']):\n",
    "    d2 = {g: pd.DataFrame(list(d[g]), columns=column_names) for g in d}\n",
    "    pyu.plot(d2, unique_keys = column_names)\n",
    "    \n",
    "plot_overlap(source_pmids)"
   ]
  }
 ],
 "metadata": {
  "anaconda-cloud": {},
  "kernelspec": {
   "display_name": "Python [g2p-analysis]",
   "language": "python",
   "name": "Python [g2p-analysis]"
  },
  "language_info": {
   "codemirror_mode": {
    "name": "ipython",
    "version": 3
   },
   "file_extension": ".py",
   "mimetype": "text/x-python",
   "name": "python",
   "nbconvert_exporter": "python",
   "pygments_lexer": "ipython3",
   "version": "3.6.1"
  }
 },
 "nbformat": 4,
 "nbformat_minor": 2
}
