{
 "cells": [
  {
   "cell_type": "code",
   "execution_count": 79,
   "metadata": {
    "collapsed": false
   },
   "outputs": [],
   "source": [
    "from elasticsearch import Elasticsearch\n",
    "from collections import Counter\n",
    "import pandas as pd\n",
    "import pyupset as pyu\n",
    "\n",
    "%matplotlib inline"
   ]
  },
  {
   "cell_type": "code",
   "execution_count": 2,
   "metadata": {
    "collapsed": false
   },
   "outputs": [
    {
     "data": {
      "text/plain": [
       "<Elasticsearch([{}])>"
      ]
     },
     "execution_count": 2,
     "metadata": {},
     "output_type": "execute_result"
    }
   ],
   "source": [
    "es = Elasticsearch()\n",
    "es"
   ]
  },
  {
   "cell_type": "code",
   "execution_count": 4,
   "metadata": {
    "collapsed": false
   },
   "outputs": [],
   "source": [
    "res = es.search(index=\"g2p\", size=10000, body={\"query\": {\"match_all\": {}}})"
   ]
  },
  {
   "cell_type": "code",
   "execution_count": 5,
   "metadata": {
    "collapsed": true
   },
   "outputs": [],
   "source": [
    "def collect_all_results():\n",
    "    res = es.search(index=\"g2p\", size=10000, body={\"query\": {\"match_all\": {}}}, scroll='1m')\n",
    "    scroll_id = res.get('_scroll_id')\n",
    "    i = 1\n",
    "    while scroll_id is not None:\n",
    "        print('Processing scroll {}'.format(i))\n",
    "        r = es.scroll(scroll_id)\n",
    "        scroll_id = r.get('_scroll_id')\n",
    "        res['hits']['hits'] += r['hits']['hits']\n",
    "        i += 1\n",
    "    return res\n",
    "        "
   ]
  },
  {
   "cell_type": "code",
   "execution_count": 6,
   "metadata": {
    "collapsed": false
   },
   "outputs": [
    {
     "name": "stdout",
     "output_type": "stream",
     "text": [
      "Processing scroll 1\n"
     ]
    }
   ],
   "source": [
    "res = collect_all_results()"
   ]
  },
  {
   "cell_type": "markdown",
   "metadata": {},
   "source": [
    "# Total Associations"
   ]
  },
  {
   "cell_type": "code",
   "execution_count": 7,
   "metadata": {
    "collapsed": false
   },
   "outputs": [
    {
     "data": {
      "text/plain": [
       "11634"
      ]
     },
     "execution_count": 7,
     "metadata": {},
     "output_type": "execute_result"
    }
   ],
   "source": [
    "assert len(res['hits']['hits']) == res['hits']['total']\n",
    "len(res['hits']['hits'])"
   ]
  },
  {
   "cell_type": "code",
   "execution_count": 18,
   "metadata": {
    "collapsed": true
   },
   "outputs": [],
   "source": [
    "def count_attribute(result, attribute):\n",
    "    c = Counter([x['_source'][attribute] for x in result['hits']['hits']])\n",
    "    return c\n",
    "\n",
    "def count_attribute_by_group(result, attribute, group):\n",
    "    d = dict()\n",
    "    for g in count_attribute(result, group):\n",
    "        d[g] = Counter([x['_source'][attribute] for x in result['hits']['hits'] if x['_source'][group] == g])\n",
    "    return d\n",
    "\n",
    "def count_list_attribute(result, list_attribute):\n",
    "    c = Counter([attribute for x in result['hits']['hits'] for attribute in x['_source'][list_attribute]])\n",
    "    return c\n",
    "\n",
    "def count_list_attribute_by_group(result, list_attribute, group):\n",
    "    d = dict()\n",
    "    for g in count_attribute(result, group):\n",
    "        d[g] = Counter([attribute for x in result['hits']['hits'] for attribute in x['_source'][list_attribute] if x['_source'][group] == g])\n",
    "    return d"
   ]
  },
  {
   "cell_type": "code",
   "execution_count": 9,
   "metadata": {
    "collapsed": false
   },
   "outputs": [
    {
     "data": {
      "text/plain": [
       "Counter({'cgi': 1429, 'civic': 2713, 'jax': 6513, 'oncokb': 373, 'pmkb': 606})"
      ]
     },
     "execution_count": 9,
     "metadata": {},
     "output_type": "execute_result"
    }
   ],
   "source": [
    "count_attribute(res, 'source')"
   ]
  },
  {
   "cell_type": "markdown",
   "metadata": {},
   "source": [
    "# Genes"
   ]
  },
  {
   "cell_type": "code",
   "execution_count": 17,
   "metadata": {
    "collapsed": false
   },
   "outputs": [
    {
     "data": {
      "text/plain": [
       "Counter({'ABCB1': 5,\n",
       "         'ABCC10': 1,\n",
       "         'ABCC3': 1,\n",
       "         'ABCG2': 1,\n",
       "         'ABL1': 385,\n",
       "         'ACTA1': 1,\n",
       "         'AFF1': 4,\n",
       "         'AGR2': 1,\n",
       "         'AHCYL1': 2,\n",
       "         'AKT1': 66,\n",
       "         'AKT2': 3,\n",
       "         'AKT3': 4,\n",
       "         'ALCAM': 1,\n",
       "         'ALDH1A2': 3,\n",
       "         'ALK': 1020,\n",
       "         'ANXA1': 2,\n",
       "         'APC': 99,\n",
       "         'AR': 22,\n",
       "         'ARAF': 8,\n",
       "         'AREG': 7,\n",
       "         'ARID1A': 4,\n",
       "         'ASNS': 1,\n",
       "         'ASXL1': 13,\n",
       "         'ATM': 52,\n",
       "         'ATR': 4,\n",
       "         'ATRX': 8,\n",
       "         'AURKA': 8,\n",
       "         'AXL': 1,\n",
       "         'B2M': 2,\n",
       "         'B4GALT1': 1,\n",
       "         'BAIAP2L1': 8,\n",
       "         'BAP1': 12,\n",
       "         'BCL': 1,\n",
       "         'BCL2': 4,\n",
       "         'BCL2L11': 2,\n",
       "         'BCL6': 1,\n",
       "         'BCOR': 4,\n",
       "         'BCORL1': 1,\n",
       "         'BICC1': 3,\n",
       "         'BIRC3': 1,\n",
       "         'BIRC5': 2,\n",
       "         'BIRC7': 1,\n",
       "         'BRAF': 1340,\n",
       "         'BRCA1': 88,\n",
       "         'BRCA2': 77,\n",
       "         'BRD4': 1,\n",
       "         'BTK': 4,\n",
       "         'C15orf55': 1,\n",
       "         'CA9': 1,\n",
       "         'CALR': 10,\n",
       "         'CASP8': 2,\n",
       "         'CBFB': 2,\n",
       "         'CBL': 9,\n",
       "         'CBLB': 4,\n",
       "         'CBLC': 4,\n",
       "         'CCDC6': 1,\n",
       "         'CCND1': 18,\n",
       "         'CCND2': 7,\n",
       "         'CCND3': 2,\n",
       "         'CCNE1': 8,\n",
       "         'CD274': 20,\n",
       "         'CD44': 1,\n",
       "         'CD69': 1,\n",
       "         'CDH1': 8,\n",
       "         'CDK12': 3,\n",
       "         'CDK4': 10,\n",
       "         'CDK6': 5,\n",
       "         'CDKN1A': 3,\n",
       "         'CDKN1B': 4,\n",
       "         'CDKN2A': 69,\n",
       "         'CDKN2B': 5,\n",
       "         'CDKN2C': 2,\n",
       "         'CDX2': 2,\n",
       "         'CEBPA': 11,\n",
       "         'CFLAR': 1,\n",
       "         'CHEK2': 5,\n",
       "         'CRBN': 8,\n",
       "         'CRLF2': 2,\n",
       "         'CSF1R': 8,\n",
       "         'CSF3R': 10,\n",
       "         'CTLA4': 1,\n",
       "         'CTNNB1': 80,\n",
       "         'CXCR4': 2,\n",
       "         'CYP17A1': 2,\n",
       "         'CYP2D6': 1,\n",
       "         'DDIT3': 2,\n",
       "         'DDR2': 15,\n",
       "         'DDX41': 1,\n",
       "         'DDX43': 1,\n",
       "         'DEFA1': 1,\n",
       "         'DKK1': 1,\n",
       "         'DNMT1': 2,\n",
       "         'DNMT3A': 42,\n",
       "         'DPYD': 12,\n",
       "         'DUSP6': 1,\n",
       "         'DUX4': 2,\n",
       "         'ECSCR': 1,\n",
       "         'EGF': 1,\n",
       "         'EGFR': 1125,\n",
       "         'EIF1AX': 1,\n",
       "         'EIF4EBP1': 2,\n",
       "         'EML4': 384,\n",
       "         'EPAS1': 2,\n",
       "         'EPCAM': 1,\n",
       "         'EPHA2': 6,\n",
       "         'EPHA3': 2,\n",
       "         'EPHB4': 1,\n",
       "         'ERBB2': 705,\n",
       "         'ERBB3': 31,\n",
       "         'ERBB4': 20,\n",
       "         'ERCC1': 7,\n",
       "         'ERCC2': 4,\n",
       "         'ERCC4': 1,\n",
       "         'ERCC5': 1,\n",
       "         'ERCC6': 1,\n",
       "         'EREG': 4,\n",
       "         'ERG': 2,\n",
       "         'ERRFI1': 1,\n",
       "         'ESR1': 40,\n",
       "         'ETS2': 1,\n",
       "         'ETV4': 1,\n",
       "         'ETV6': 43,\n",
       "         'EWSR1': 3,\n",
       "         'EZH2': 90,\n",
       "         'FAM76A': 1,\n",
       "         'FANCA': 2,\n",
       "         'FANCC': 3,\n",
       "         'FAT1': 1,\n",
       "         'FBXW7': 26,\n",
       "         'FCGR2A': 2,\n",
       "         'FCGR2B': 1,\n",
       "         'FCGR3A': 2,\n",
       "         'FGF13': 1,\n",
       "         'FGF2': 1,\n",
       "         'FGF3': 4,\n",
       "         'FGF4': 2,\n",
       "         'FGFR1': 141,\n",
       "         'FGFR2': 243,\n",
       "         'FGFR3': 213,\n",
       "         'FGFR4': 3,\n",
       "         'FGR2': 1,\n",
       "         'FLCN': 2,\n",
       "         'FLI1': 2,\n",
       "         'FLT1': 2,\n",
       "         'FLT3': 251,\n",
       "         'FNTB': 1,\n",
       "         'FOS': 1,\n",
       "         'FOXA1': 1,\n",
       "         'FOXL2': 3,\n",
       "         'FOXP1': 1,\n",
       "         'FOXP3': 1,\n",
       "         'FRS2': 1,\n",
       "         'G6PD': 4,\n",
       "         'GADD45A': 1,\n",
       "         'GAS6': 2,\n",
       "         'GAS7': 1,\n",
       "         'GATA1': 3,\n",
       "         'GATA2': 6,\n",
       "         'GATA3': 1,\n",
       "         'GLI1': 1,\n",
       "         'GLI2': 1,\n",
       "         'GNA11': 17,\n",
       "         'GNAQ': 30,\n",
       "         'GNAS': 21,\n",
       "         'GNB1': 2,\n",
       "         'GSTP1': 2,\n",
       "         'HAVCR2': 2,\n",
       "         'HDAC2': 1,\n",
       "         'HGF': 3,\n",
       "         'HIF1A': 5,\n",
       "         'HLA-C': 1,\n",
       "         'HLA-DRA': 1,\n",
       "         'HMOX1': 1,\n",
       "         'HNF1A': 1,\n",
       "         'HOXB13': 2,\n",
       "         'HRAS': 101,\n",
       "         'HSPA5': 1,\n",
       "         'HSPB1': 1,\n",
       "         'HSPH1': 3,\n",
       "         'IDH1': 120,\n",
       "         'IDH2': 77,\n",
       "         'IGF1R': 3,\n",
       "         'IGF2': 3,\n",
       "         'IKZF1': 7,\n",
       "         'IL7R': 4,\n",
       "         'INPP4B': 2,\n",
       "         'JAK1': 5,\n",
       "         'JAK2': 111,\n",
       "         'JAK3': 21,\n",
       "         'JUN': 1,\n",
       "         'KCNJ5': 2,\n",
       "         'KDM6A': 1,\n",
       "         'KDR': 28,\n",
       "         'KIAA1524': 2,\n",
       "         'KIF23': 1,\n",
       "         'KIT': 439,\n",
       "         'KLLN': 2,\n",
       "         'KMT2A': 20,\n",
       "         'KMT2C': 1,\n",
       "         'KMT2D': 2,\n",
       "         'KRAS': 1308,\n",
       "         'KRT18': 1,\n",
       "         'LEPR': 1,\n",
       "         'LRP1B': 4,\n",
       "         'MAGEH1': 1,\n",
       "         'MAP2K1': 267,\n",
       "         'MAP2K2': 10,\n",
       "         'MAP2K7': 1,\n",
       "         'MAPK1': 3,\n",
       "         'MCL1': 1,\n",
       "         'MDM2': 8,\n",
       "         'MDM4': 1,\n",
       "         'MEN1': 1,\n",
       "         'MERTK': 1,\n",
       "         'MET': 313,\n",
       "         'MGMT': 12,\n",
       "         'MIR218-1': 2,\n",
       "         'MITF': 2,\n",
       "         'MKI67': 3,\n",
       "         'MLH1': 28,\n",
       "         'MLL': 4,\n",
       "         'MLLT1': 2,\n",
       "         'MLLT10': 1,\n",
       "         'MLLT3': 2,\n",
       "         'MMP2': 2,\n",
       "         'MMP9': 1,\n",
       "         'MPL': 29,\n",
       "         'MRE11': 3,\n",
       "         'MSH2': 6,\n",
       "         'MSH3': 1,\n",
       "         'MSH6': 10,\n",
       "         'MTAP': 1,\n",
       "         'MTHFR': 3,\n",
       "         'MTOR': 34,\n",
       "         'MYC': 5,\n",
       "         'MYCL': 1,\n",
       "         'MYCN': 3,\n",
       "         'MYD88': 12,\n",
       "         'NAPRT': 1,\n",
       "         'NCOA3': 2,\n",
       "         'NEDD9': 1,\n",
       "         'NF1': 83,\n",
       "         'NF2': 38,\n",
       "         'NOTCH1': 98,\n",
       "         'NOTCH2': 7,\n",
       "         'NPM1': 357,\n",
       "         'NQO1': 2,\n",
       "         'NRAS': 422,\n",
       "         'NRG1': 9,\n",
       "         'NT5C2': 7,\n",
       "         'NT5E': 1,\n",
       "         'NTRK1': 18,\n",
       "         'NTRK2': 2,\n",
       "         'NTRK3': 20,\n",
       "         'OPTN': 1,\n",
       "         'PAK1': 1,\n",
       "         'PALB2': 11,\n",
       "         'PAX8': 2,\n",
       "         'PBK': 2,\n",
       "         'PBRM1': 5,\n",
       "         'PDCD4': 1,\n",
       "         'PDGFRA': 159,\n",
       "         'PDGFRB': 8,\n",
       "         'PDPK1': 1,\n",
       "         'PGR': 4,\n",
       "         'PIK3CA': 918,\n",
       "         'PIK3CB': 6,\n",
       "         'PIK3R1': 3,\n",
       "         'PIK3R2': 2,\n",
       "         'PIM1': 1,\n",
       "         'PLCG2': 2,\n",
       "         'PML': 10,\n",
       "         'PMS2': 1,\n",
       "         'POLE': 2,\n",
       "         'POT1': 1,\n",
       "         'POU5F1': 1,\n",
       "         'PPP1R15A': 1,\n",
       "         'PRDM1': 2,\n",
       "         'PRKAA2': 1,\n",
       "         'PRKACA': 4,\n",
       "         'PRKCH': 1,\n",
       "         'PROM1': 1,\n",
       "         'PSMB8': 1,\n",
       "         'PTCH1': 8,\n",
       "         'PTEN': 499,\n",
       "         'PTGS2': 1,\n",
       "         'PTP4A3': 1,\n",
       "         'PTPN11': 9,\n",
       "         'PTPRB': 1,\n",
       "         'PTPRD': 3,\n",
       "         'PTPRT': 1,\n",
       "         'PTTG1': 1,\n",
       "         'PURB': 1,\n",
       "         'RAC1': 3,\n",
       "         'RAD21': 1,\n",
       "         'RAD23B': 1,\n",
       "         'RAD50': 1,\n",
       "         'RAD51': 4,\n",
       "         'RAD51C': 2,\n",
       "         'RAD51D': 1,\n",
       "         'RAF1': 7,\n",
       "         'RARA': 1,\n",
       "         'RB1': 114,\n",
       "         'REL': 1,\n",
       "         'RET': 141,\n",
       "         'RHOA': 1,\n",
       "         'RICTOR': 4,\n",
       "         'RIT1': 2,\n",
       "         'RNF43': 1,\n",
       "         'ROBO4': 1,\n",
       "         'ROS1': 49,\n",
       "         'RPS6': 1,\n",
       "         'RRM1': 2,\n",
       "         'RRM2': 1,\n",
       "         'RSF1': 1,\n",
       "         'RUNX1': 21,\n",
       "         'RUNX1T1': 8,\n",
       "         'SEPT14': 2,\n",
       "         'SERPINB3': 1,\n",
       "         'SETBP1': 3,\n",
       "         'SETD2': 2,\n",
       "         'SF3B1': 85,\n",
       "         'SGK1': 3,\n",
       "         'SH2B3': 7,\n",
       "         'SIRT1': 2,\n",
       "         'SLC29A1': 1,\n",
       "         'SLC44A4': 1,\n",
       "         'SLCO1B1': 2,\n",
       "         'SLFN11': 1,\n",
       "         'SMAD4': 30,\n",
       "         'SMARCA1': 1,\n",
       "         'SMARCA4': 6,\n",
       "         'SMARCB1': 19,\n",
       "         'SMO': 97,\n",
       "         'SOX10': 1,\n",
       "         'SPHK1': 1,\n",
       "         'SRC': 46,\n",
       "         'SRSF2': 7,\n",
       "         'SSX1': 7,\n",
       "         'SSX2': 4,\n",
       "         'SSX4': 1,\n",
       "         'STAG2': 22,\n",
       "         'STAG3': 1,\n",
       "         'STAT3': 1,\n",
       "         'STK11': 56,\n",
       "         'STMN1': 1,\n",
       "         'SUZ12': 2,\n",
       "         'SYK': 3,\n",
       "         'TACC1': 3,\n",
       "         'TACC3': 34,\n",
       "         'TBK1': 1,\n",
       "         'TERT': 9,\n",
       "         'TET2': 13,\n",
       "         'TFF3': 1,\n",
       "         'TGFA': 1,\n",
       "         'THBS2': 1,\n",
       "         'TIMP1': 2,\n",
       "         'TMPRSS2': 2,\n",
       "         'TOP1': 3,\n",
       "         'TOP2A': 2,\n",
       "         'TP53': 476,\n",
       "         'TPMT': 15,\n",
       "         'TSC1': 14,\n",
       "         'TSC2': 8,\n",
       "         'TTF1': 1,\n",
       "         'TUBB3': 3,\n",
       "         'TYMS': 8,\n",
       "         'U2AF1': 18,\n",
       "         'UGT1A': 1,\n",
       "         'UGT1A1': 9,\n",
       "         'VEGFA': 2,\n",
       "         'VHL': 51,\n",
       "         'WEE1': 1,\n",
       "         'WT1': 11,\n",
       "         'WWTR1': 1,\n",
       "         'XRCC1': 3,\n",
       "         'ZBTB16': 1,\n",
       "         'ZEB1': 2,\n",
       "         'ZMYM4': 1,\n",
       "         'ZNRF3': 1})"
      ]
     },
     "execution_count": 17,
     "metadata": {},
     "output_type": "execute_result"
    }
   ],
   "source": [
    "count_list_attribute(res, 'genes')"
   ]
  },
  {
   "cell_type": "code",
   "execution_count": 51,
   "metadata": {
    "collapsed": false
   },
   "outputs": [],
   "source": [
    "d = count_list_attribute_by_group(res, 'genes', 'source')"
   ]
  },
  {
   "cell_type": "markdown",
   "metadata": {},
   "source": [
    "CGI has some genotype \"genes\" (e.g. 'ARID1A;ANXA1' from ARID1A amplification + ANXA1 overexpression)\n",
    "\n",
    "CKB have some multi-gene molecular profiles. Example: https://ckb.jax.org/molecularProfile/show/26172"
   ]
  },
  {
   "cell_type": "code",
   "execution_count": 131,
   "metadata": {
    "collapsed": false
   },
   "outputs": [
    {
     "data": {
      "text/plain": [
       "Counter({'cgi': 45, 'jax': 2492})"
      ]
     },
     "execution_count": 131,
     "metadata": {},
     "output_type": "execute_result"
    }
   ],
   "source": [
    "multi_gene_hits = [x for x in res['hits']['hits'] if len(x['_source']['genes']) >= 2]\n",
    "s = Counter([x['_source']['source'] for x in multi_gene_hits])\n",
    "s"
   ]
  },
  {
   "cell_type": "code",
   "execution_count": 132,
   "metadata": {
    "collapsed": false
   },
   "outputs": [],
   "source": [
    "mp_d = dict()\n",
    "for source in s:\n",
    "    mp_d[source] = set([tuple(sorted(x['_source']['genes'])) for x in res['hits']['hits'] if (len(x['_source']['genes']) >= 2) and (x['_source']['source'] == source)])"
   ]
  },
  {
   "cell_type": "code",
   "execution_count": 133,
   "metadata": {
    "collapsed": false
   },
   "outputs": [
    {
     "data": {
      "text/plain": [
       "{'cgi': {('ABL1', 'PRKCH'),\n",
       "  ('ANXA1', 'ARID1A'),\n",
       "  ('AR', 'AR'),\n",
       "  ('ATM', 'RAD50'),\n",
       "  ('BRAF', 'EGFR'),\n",
       "  ('BRAF', 'MAP2K1'),\n",
       "  ('BRAF', 'MET'),\n",
       "  ('BRAF', 'NF1'),\n",
       "  ('BRAF', 'PTEN'),\n",
       "  ('BRAF', 'RAC1'),\n",
       "  ('BRAF', 'RAF1'),\n",
       "  ('CDK4', 'RB1'),\n",
       "  ('EGFR', 'MET'),\n",
       "  ('EGFR', 'NF2'),\n",
       "  ('ERBB2', 'ESR1'),\n",
       "  ('ERBB2', 'HGF'),\n",
       "  ('ERBB2', 'MET'),\n",
       "  ('ERBB2', 'PIK3CA'),\n",
       "  ('ERBB2', 'PTEN'),\n",
       "  ('G6PD', 'G6PD'),\n",
       "  ('IL7R', 'SH2B3'),\n",
       "  ('KRAS', 'STK11')},\n",
       " 'jax': {('AFF1', 'KMT2A'),\n",
       "  ('AHCYL1', 'FGFR2'),\n",
       "  ('AKT1', 'BRAF', 'KRAS'),\n",
       "  ('AKT1', 'BRAF', 'PTEN'),\n",
       "  ('AKT1', 'FGFR3'),\n",
       "  ('AKT1', 'NRAS'),\n",
       "  ('AKT1', 'PIK3CA'),\n",
       "  ('ALK', 'EML4'),\n",
       "  ('ALK', 'EML4', 'SRC'),\n",
       "  ('ALK', 'ETV6'),\n",
       "  ('ALK', 'MAP2K1'),\n",
       "  ('ALK', 'NPM1'),\n",
       "  ('ALK', 'RB1', 'TP53'),\n",
       "  ('ALK', 'ROS1'),\n",
       "  ('ALK', 'SRC'),\n",
       "  ('ALK', 'TP53'),\n",
       "  ('APC', 'BRAF', 'ERBB2'),\n",
       "  ('APC', 'BRAF', 'PIK3CA', 'SMAD4', 'TP53'),\n",
       "  ('APC', 'CTNNB1'),\n",
       "  ('APC', 'KDR', 'KRAS'),\n",
       "  ('APC', 'KRAS'),\n",
       "  ('APC', 'KRAS', 'PTEN'),\n",
       "  ('APC', 'PTEN'),\n",
       "  ('ASXL1', 'TET2'),\n",
       "  ('ATM', 'NRAS'),\n",
       "  ('ATM', 'RET'),\n",
       "  ('ATRX', 'IDH1'),\n",
       "  ('BAIAP2L1', 'FGFR3'),\n",
       "  ('BCOR', 'RARA'),\n",
       "  ('BICC1', 'FGFR2'),\n",
       "  ('BRAF', 'CDKN2A', 'KRAS'),\n",
       "  ('BRAF', 'CSF1R'),\n",
       "  ('BRAF', 'EGFR'),\n",
       "  ('BRAF', 'KIT'),\n",
       "  ('BRAF', 'KRAS'),\n",
       "  ('BRAF', 'KRAS', 'NRAS', 'PIK3CA'),\n",
       "  ('BRAF', 'KRAS', 'PIK3CA'),\n",
       "  ('BRAF', 'MAP2K1'),\n",
       "  ('BRAF', 'MAP2K1', 'NRAS'),\n",
       "  ('BRAF', 'NRAS'),\n",
       "  ('BRAF', 'PIK3CA'),\n",
       "  ('BRAF', 'PIK3CA', 'PTEN'),\n",
       "  ('BRAF', 'PIK3CA', 'TP53'),\n",
       "  ('BRAF', 'PTEN'),\n",
       "  ('BRAF', 'PTEN', 'TP53'),\n",
       "  ('BRAF', 'PTPN11'),\n",
       "  ('BRAF', 'RB1'),\n",
       "  ('BRAF', 'STAG2'),\n",
       "  ('BRAF', 'TP53'),\n",
       "  ('BRCA1', 'BRCA2'),\n",
       "  ('BRCA1', 'MET'),\n",
       "  ('BRCA1', 'TP53'),\n",
       "  ('BRCA2', 'MET'),\n",
       "  ('CBL', 'CBLB'),\n",
       "  ('CCDC6', 'FGFR2'),\n",
       "  ('CDH1', 'ERBB2'),\n",
       "  ('CDKN2A', 'KRAS'),\n",
       "  ('CDKN2A', 'MET', 'PDGFRA', 'SMAD4'),\n",
       "  ('CDKN2A', 'NRAS'),\n",
       "  ('CDKN2A', 'PIK3CA'),\n",
       "  ('CDKN2A', 'RB1'),\n",
       "  ('CDKN2A', 'SMARCB1'),\n",
       "  ('CEBPA', 'GATA2'),\n",
       "  ('CTNNB1', 'NRAS'),\n",
       "  ('DNMT3A', 'FLT3', 'NPM1'),\n",
       "  ('EGFR', 'ERBB2'),\n",
       "  ('EGFR', 'FGFR1'),\n",
       "  ('EGFR', 'FGFR2'),\n",
       "  ('EGFR', 'FGFR2', 'KDR', 'RET'),\n",
       "  ('EGFR', 'KRAS'),\n",
       "  ('EGFR', 'MAP2K1'),\n",
       "  ('EGFR', 'MET'),\n",
       "  ('EGFR', 'NRAS'),\n",
       "  ('EGFR', 'PDGFRA'),\n",
       "  ('EGFR', 'PIK3CA'),\n",
       "  ('EGFR', 'PTEN'),\n",
       "  ('EGFR', 'PURB'),\n",
       "  ('EGFR', 'RAD51'),\n",
       "  ('EGFR', 'SEPT14'),\n",
       "  ('EGFR', 'SMO'),\n",
       "  ('EGFR', 'TP53'),\n",
       "  ('ERBB2', 'FGFR2'),\n",
       "  ('ERBB2', 'KRAS'),\n",
       "  ('ERBB2', 'MET'),\n",
       "  ('ERBB2', 'PIK3CA'),\n",
       "  ('ERBB2', 'PIK3CA', 'SRC'),\n",
       "  ('ERBB2', 'PTEN'),\n",
       "  ('ERBB2', 'STK11'),\n",
       "  ('ERBB2', 'TP53'),\n",
       "  ('ETV6', 'FGFR1'),\n",
       "  ('ETV6', 'FGFR3'),\n",
       "  ('ETV6', 'FGFR4'),\n",
       "  ('ETV6', 'JAK2'),\n",
       "  ('ETV6', 'NTRK2'),\n",
       "  ('ETV6', 'NTRK3'),\n",
       "  ('ETV6', 'PDGFRA'),\n",
       "  ('ETV6', 'ROS1'),\n",
       "  ('ETV6', 'RUNX1'),\n",
       "  ('ETV6', 'SYK'),\n",
       "  ('EZH2', 'KRAS'),\n",
       "  ('EZH2', 'SMARCB1'),\n",
       "  ('FAM76A', 'FGFR2'),\n",
       "  ('FGFR1', 'FGFR2'),\n",
       "  ('FGFR1', 'KRAS'),\n",
       "  ('FGFR1', 'PIK3CA'),\n",
       "  ('FGFR1', 'TACC1'),\n",
       "  ('FGFR2', 'FGFR3'),\n",
       "  ('FGFR2', 'FGFR3', 'TACC3'),\n",
       "  ('FGFR2', 'FGR2', 'OPTN'),\n",
       "  ('FGFR2', 'KRAS'),\n",
       "  ('FGFR2', 'PIK3CA', 'PTEN'),\n",
       "  ('FGFR2', 'TACC3'),\n",
       "  ('FGFR2', 'ZMYM4'),\n",
       "  ('FGFR3', 'HRAS'),\n",
       "  ('FGFR3', 'KRAS'),\n",
       "  ('FGFR3', 'TACC3'),\n",
       "  ('FLT3', 'IDH2'),\n",
       "  ('FLT3', 'NPM1'),\n",
       "  ('GAS7', 'KMT2A'),\n",
       "  ('GATA2', 'KRAS'),\n",
       "  ('GNAQ', 'PTEN'),\n",
       "  ('HRAS', 'KRAS'),\n",
       "  ('HRAS', 'KRAS', 'SRC'),\n",
       "  ('IDH1', 'SRC'),\n",
       "  ('IDH2', 'KRAS'),\n",
       "  ('JAK2', 'MPL'),\n",
       "  ('KDR', 'RET'),\n",
       "  ('KIT', 'MET'),\n",
       "  ('KIT', 'NRAS'),\n",
       "  ('KIT', 'PDGFRA'),\n",
       "  ('KIT', 'RUNX1', 'RUNX1T1'),\n",
       "  ('KMT2A', 'MLLT1', 'NRAS'),\n",
       "  ('KMT2A', 'MLLT10'),\n",
       "  ('KMT2A', 'MLLT3'),\n",
       "  ('KRAS', 'MAP2K1'),\n",
       "  ('KRAS', 'MET'),\n",
       "  ('KRAS', 'PIK3CA'),\n",
       "  ('KRAS', 'PIK3CA', 'PTEN'),\n",
       "  ('KRAS', 'PIK3CA', 'TP53'),\n",
       "  ('KRAS', 'PTEN'),\n",
       "  ('KRAS', 'PTEN', 'TP53'),\n",
       "  ('KRAS', 'STK11'),\n",
       "  ('KRAS', 'TP53'),\n",
       "  ('MET', 'TP53'),\n",
       "  ('NOTCH1', 'RB1'),\n",
       "  ('NRAS', 'PIK3CA'),\n",
       "  ('NRAS', 'STAG2'),\n",
       "  ('PIK3CA', 'PTEN'),\n",
       "  ('PIK3CA', 'TP53'),\n",
       "  ('PTEN', 'RB1'),\n",
       "  ('PTEN', 'RB1', 'SMAD4', 'TP53'),\n",
       "  ('PTEN', 'STK11'),\n",
       "  ('PTEN', 'TP53'),\n",
       "  ('PTEN', 'VHL'),\n",
       "  ('RB1', 'TP53'),\n",
       "  ('RUNX1', 'RUNX1T1'),\n",
       "  ('TP53', 'VHL')}}"
      ]
     },
     "execution_count": 133,
     "metadata": {},
     "output_type": "execute_result"
    }
   ],
   "source": [
    "mp_d"
   ]
  },
  {
   "cell_type": "code",
   "execution_count": 134,
   "metadata": {
    "collapsed": false
   },
   "outputs": [
    {
     "data": {
      "text/plain": [
       "Counter({'cgi': 45, 'jax': 2492})"
      ]
     },
     "execution_count": 134,
     "metadata": {},
     "output_type": "execute_result"
    }
   ],
   "source": [
    "{}"
   ]
  },
  {
   "cell_type": "code",
   "execution_count": 49,
   "metadata": {
    "collapsed": true
   },
   "outputs": [],
   "source": [
    "def overlap(group_counts):\n",
    "    columns = sorted(group_counts) + ['Total']\n",
    "    sets = {g: set(group_counts[g]) for g in group_counts}\n",
    "    for g in sets:\n",
    "        total = set()\n",
    "        for s in sets:\n",
    "            l = len(sets[g])\n",
    "            if s != g:\n",
    "                o = (sets[g] & sets[s])\n",
    "                total |= sets[s]\n",
    "            else:\n",
    "                continue\n",
    "            print('{} has {}/{} ({:.2f}%) overlap with {}'.format(g, len(o), l, len(o) / l * 100, s))\n",
    "        o = (sets[g] & total)\n",
    "        print('{} has {}/{} ({:.2f}%) overlap overall'.format(g, len(o), l, len(o) / l * 100, s))"
   ]
  },
  {
   "cell_type": "code",
   "execution_count": 52,
   "metadata": {
    "collapsed": false
   },
   "outputs": [
    {
     "name": "stdout",
     "output_type": "stream",
     "text": [
      "cgi has 59/181 (32.60%) overlap with jax\n",
      "cgi has 121/181 (66.85%) overlap with civic\n",
      "cgi has 42/181 (23.20%) overlap with oncokb\n",
      "cgi has 37/181 (20.44%) overlap with pmkb\n",
      "cgi has 126/181 (69.61%) overlap overall\n",
      "jax has 59/106 (55.66%) overlap with cgi\n",
      "jax has 73/106 (68.87%) overlap with civic\n",
      "jax has 30/106 (28.30%) overlap with oncokb\n",
      "jax has 37/106 (34.91%) overlap with pmkb\n",
      "jax has 78/106 (73.58%) overlap overall\n",
      "civic has 121/290 (41.72%) overlap with cgi\n",
      "civic has 73/290 (25.17%) overlap with jax\n",
      "civic has 42/290 (14.48%) overlap with oncokb\n",
      "civic has 38/290 (13.10%) overlap with pmkb\n",
      "civic has 139/290 (47.93%) overlap overall\n",
      "oncokb has 42/43 (97.67%) overlap with cgi\n",
      "oncokb has 30/43 (69.77%) overlap with jax\n",
      "oncokb has 42/43 (97.67%) overlap with civic\n",
      "oncokb has 20/43 (46.51%) overlap with pmkb\n",
      "oncokb has 43/43 (100.00%) overlap overall\n",
      "pmkb has 37/42 (88.10%) overlap with cgi\n",
      "pmkb has 37/42 (88.10%) overlap with jax\n",
      "pmkb has 38/42 (90.48%) overlap with civic\n",
      "pmkb has 20/42 (47.62%) overlap with oncokb\n",
      "pmkb has 41/42 (97.62%) overlap overall\n"
     ]
    }
   ],
   "source": [
    "overlap(d)"
   ]
  },
  {
   "cell_type": "code",
   "execution_count": 96,
   "metadata": {
    "collapsed": false
   },
   "outputs": [],
   "source": [
    "def plot_overlap(d):\n",
    "    d2 = {g: pd.DataFrame(list(d[g].keys()), columns=['attribute']) for g in d}\n",
    "    pyu.plot(d2, unique_keys = ['attribute'])"
   ]
  },
  {
   "cell_type": "code",
   "execution_count": 97,
   "metadata": {
    "collapsed": false
   },
   "outputs": [
    {
     "data": {
      "image/png": "[encoded data removed]",
      "text/plain": [
       "<matplotlib.figure.Figure at 0x11c517ac8>"
      ]
     },
     "metadata": {},
     "output_type": "display_data"
    }
   ],
   "source": [
    "plot_overlap(d)"
   ]
  },
  {
   "cell_type": "markdown",
   "metadata": {},
   "source": [
    "# Overlap of evidence associations (drug + gene + phenotype)"
   ]
  },
  {
   "cell_type": "markdown",
   "metadata": {},
   "source": [
    "Some hits (example here is from CGI) have strange behavior on drug normalization:"
   ]
  },
  {
   "cell_type": "code",
   "execution_count": 115,
   "metadata": {
    "collapsed": false
   },
   "outputs": [
    {
     "data": {
      "text/plain": [
       "[{'description': 'Imatinib',\n",
       "  'id': 'compound:CID5291',\n",
       "  'term': 'Imatinib',\n",
       "  'toxicity': 'The most frequently reported adverse reactions (>30%) were edema, nausea,\\r\\nvomiting, muscle cramps, musculoskeletal pain, diarrhea, rash, fatigue and\\r\\nabdominal pain.'},\n",
       " {'description': 'inhibitor',\n",
       "  'id': 'compound:CID657356',\n",
       "  'term': 'inhibitor',\n",
       "  'toxicity': 'unknown'},\n",
       " {'description': 'Clorazepate Dipotassium',\n",
       "  'id': 'compound:CID23706210',\n",
       "  'term': 'Clorazepate Dipotassium',\n",
       "  'toxicity': 'unknown'}]"
      ]
     },
     "execution_count": 115,
     "metadata": {},
     "output_type": "execute_result"
    }
   ],
   "source": [
    "res['hits']['hits'][0]['_source']['association']['environmentalContexts']"
   ]
  },
  {
   "cell_type": "code",
   "execution_count": 116,
   "metadata": {
    "collapsed": false
   },
   "outputs": [
    {
     "data": {
      "text/plain": [
       "{'Alteration': 'ABL1:I242T,M244V,K247R,L248V,G250E,G250R,Q252R,Q252H,Y253F,Y253H,E255K,E255V,M237V,E258D,W261L,L273M,E275K,E275Q,D276G,T277A,E279K,V280A,V289A,V289I,E292V,E292Q,I293V,L298V,V299L,F311L,F311I,T315I,F317L,F317V,F317I,F317C,Y320C,L324Q,Y342H,M343T,A344V,A350V,M351T,E355D,E355G,E355A,F359V,F359I,F359C,F359L,D363Y,L364I,A365V,A366G,L370P,V371A,E373K,V379I,A380T,F382L,L384M,L387M,L387F,L387V,M388L,Y393C,H396P,H396R,H396A,A397P,S417F,S417Y,I418S,I418V,A433T,S438C,E450K,E450G,E450A,E450V,E453K,E453G,E453A,E453V,E459K,E459G,E459A,E459V,M472I,P480L,F486S,E507G',\n",
       " 'Alteration type': 'MUT',\n",
       " 'Assay type': '',\n",
       " 'Association': 'Resistant',\n",
       " 'Biomarker': 'ABL1 (I242T,M244V,K247R,L248V,G250E,G250R,Q252R,Q252H,Y253F,Y253H,E255K,E255V,M237V,E258D,W261L,L273M,E275K,E275Q,D276G,T277A,E279K,V280A,V289A,V289I,E292V,E292Q,I293V,L298V,V299L,F311L,F311I,T315I,F317L,F317V,F317I,F317C,Y320C,L324Q,Y342H,M343T,A344V,A350V,M351T,E355D,E355G,E355A,F359V,F359I,F359C,F359L,D363Y,L364I,A365V,A366G,L370P,V371A,E373K,V379I,A380T,F382L,L384M,L387M,L387F,L387V,M388L,Y393C,H396P,H396R,H396A,A397P,S417F,S417Y,I418S,I418V,A433T,S438C,E450K,E450G,E450A,E450V,E453K,E453G,E453A,E453V,E459K,E459G,E459A,E459V,M472I,P480L,F486S,E507G)',\n",
       " 'Curator': 'CRubio-Perez',\n",
       " 'Drug': 'Imatinib',\n",
       " 'Drug family': 'BCR-ABL inhibitor 1st gen&KIT inhibitor',\n",
       " 'Drug full name': 'Imatinib (BCR-ABL inhibitor 1st gen&KIT inhibitor)',\n",
       " 'Drug status': 'Approved',\n",
       " 'Evidence level': 'European LeukemiaNet guidelines',\n",
       " 'Gene': 'ABL1',\n",
       " 'Metastatic Tumor Type': '',\n",
       " 'Primary Tumor type': 'CML',\n",
       " 'Source': 'PMID:21562040',\n",
       " 'Targeting': '',\n",
       " 'cDNA': 'c.1094C>T',\n",
       " 'gDNA': 'chr9:g.133750263C>T',\n",
       " 'gene': 'ABL1',\n",
       " 'individual_mutation': 'ABL1:p.A365V',\n",
       " 'info': 'CSQN=Missense;reference_codon=GCT;candidate_codons=GTA,GTC,GTG,GTT;candidate_mnv_variants=chr9:g.133750263_133750264delCTinsTA,chr9:g.133750263_133750264delCTinsTC,chr9:g.133750263_133750264delCTinsTG;aliases=ENSP00000323315;source=Ensembl',\n",
       " 'region': 'inside_[cds_in_exon_7]',\n",
       " 'strand': '+',\n",
       " 'transcript': 'ENST00000318560'}"
      ]
     },
     "execution_count": 116,
     "metadata": {},
     "output_type": "execute_result"
    }
   ],
   "source": [
    "res['hits']['hits'][0]['_source']['cgi']"
   ]
  },
  {
   "cell_type": "code",
   "execution_count": null,
   "metadata": {
    "collapsed": true
   },
   "outputs": [],
   "source": [
    "def merge_hits(hits):\n",
    "    merged = []\n",
    "    for hit in hits:\n",
    "        gene = sorted(hit['_source']['genes']).join('|')\n",
    "        drug = sorted([x['id'] for x in hit['_source']['association']['environmentalContexts']]).join('|')\n",
    "        "
   ]
  }
 ],
 "metadata": {
  "kernelspec": {
   "display_name": "Python [g2p-analysis]",
   "language": "python",
   "name": "Python [g2p-analysis]"
  },
  "language_info": {
   "codemirror_mode": {
    "name": "ipython",
    "version": 3
   },
   "file_extension": ".py",
   "mimetype": "text/x-python",
   "name": "python",
   "nbconvert_exporter": "python",
   "pygments_lexer": "ipython3",
   "version": "3.6.1"
  }
 },
 "nbformat": 4,
 "nbformat_minor": 2
}
