{
 "cells": [
  {
   "cell_type": "code",
   "execution_count": 2,
   "metadata": {
    "collapsed": false
   },
   "outputs": [],
   "source": [
    "from elasticsearch import Elasticsearch\n",
    "from collections import Counter\n",
    "import pandas as pd\n",
    "import pyupset as pyu\n",
    "\n",
    "%matplotlib inline"
   ]
  },
  {
   "cell_type": "code",
   "execution_count": 3,
   "metadata": {
    "collapsed": false
   },
   "outputs": [
    {
     "data": {
      "text/plain": [
       "<Elasticsearch([{}])>"
      ]
     },
     "execution_count": 3,
     "metadata": {},
     "output_type": "execute_result"
    }
   ],
   "source": [
    "es = Elasticsearch()\n",
    "es"
   ]
  },
  {
   "cell_type": "code",
   "execution_count": 5,
   "metadata": {
    "collapsed": false
   },
   "outputs": [],
   "source": [
    "res = es.search(index=\"g2p\", size=10000, body={\"query\": {\"match_all\": {}}})"
   ]
  },
  {
   "cell_type": "code",
   "execution_count": 6,
   "metadata": {
    "collapsed": true
   },
   "outputs": [],
   "source": [
    "def collect_all_results():\n",
    "    res = es.search(index=\"g2p\", size=10000, body={\"query\": {\"match_all\": {}}}, scroll='1m')\n",
    "    scroll_id = res.get('_scroll_id')\n",
    "    i = 1\n",
    "    while scroll_id is not None:\n",
    "        print('Processing scroll {}'.format(i))\n",
    "        r = es.scroll(scroll_id)\n",
    "        scroll_id = r.get('_scroll_id')\n",
    "        res['hits']['hits'] += r['hits']['hits']\n",
    "        i += 1\n",
    "    return res\n",
    "        "
   ]
  },
  {
   "cell_type": "code",
   "execution_count": 7,
   "metadata": {
    "collapsed": false
   },
   "outputs": [
    {
     "name": "stdout",
     "output_type": "stream",
     "text": [
      "Processing scroll 1\n"
     ]
    }
   ],
   "source": [
    "res = collect_all_results()"
   ]
  },
  {
   "cell_type": "markdown",
   "metadata": {},
   "source": [
    "# Total Associations"
   ]
  },
  {
   "cell_type": "code",
   "execution_count": 8,
   "metadata": {
    "collapsed": false
   },
   "outputs": [
    {
     "data": {
      "text/plain": [
       "11634"
      ]
     },
     "execution_count": 8,
     "metadata": {},
     "output_type": "execute_result"
    }
   ],
   "source": [
    "assert len(res['hits']['hits']) == res['hits']['total']\n",
    "len(res['hits']['hits'])"
   ]
  },
  {
   "cell_type": "code",
   "execution_count": 9,
   "metadata": {
    "collapsed": true
   },
   "outputs": [],
   "source": [
    "def count_attribute(result, attribute):\n",
    "    c = Counter([x['_source'][attribute] for x in result['hits']['hits']])\n",
    "    return c\n",
    "\n",
    "def count_attribute_by_group(result, attribute, group):\n",
    "    d = dict()\n",
    "    for g in count_attribute(result, group):\n",
    "        d[g] = Counter([x['_source'][attribute] for x in result['hits']['hits'] if x['_source'][group] == g])\n",
    "    return d\n",
    "\n",
    "def count_list_attribute(result, list_attribute):\n",
    "    c = Counter([attribute for x in result['hits']['hits'] for attribute in x['_source'][list_attribute]])\n",
    "    return c\n",
    "\n",
    "def count_list_attribute_by_group(result, list_attribute, group):\n",
    "    d = dict()\n",
    "    for g in count_attribute(result, group):\n",
    "        d[g] = Counter([attribute for x in result['hits']['hits'] for attribute in x['_source'][list_attribute] if x['_source'][group] == g])\n",
    "    return d"
   ]
  },
  {
   "cell_type": "code",
   "execution_count": 10,
   "metadata": {
    "collapsed": false
   },
   "outputs": [
    {
     "data": {
      "text/plain": [
       "Counter({'cgi': 1429, 'civic': 2713, 'jax': 6513, 'oncokb': 373, 'pmkb': 606})"
      ]
     },
     "execution_count": 10,
     "metadata": {},
     "output_type": "execute_result"
    }
   ],
   "source": [
    "count_attribute(res, 'source')"
   ]
  },
  {
   "cell_type": "markdown",
   "metadata": {},
   "source": [
    "# Genes"
   ]
  },
  {
   "cell_type": "code",
   "execution_count": 11,
   "metadata": {
    "collapsed": false
   },
   "outputs": [],
   "source": [
    "%%capture\n",
    "count_list_attribute(res, 'genes')"
   ]
  },
  {
   "cell_type": "code",
   "execution_count": 12,
   "metadata": {
    "collapsed": false
   },
   "outputs": [],
   "source": [
    "d = count_list_attribute_by_group(res, 'genes', 'source')"
   ]
  },
  {
   "cell_type": "markdown",
   "metadata": {},
   "source": [
    "CGI has some genotype \"genes\" (e.g. 'ARID1A;ANXA1' from ARID1A amplification + ANXA1 overexpression)\n",
    "\n",
    "CKB have some multi-gene molecular profiles. Example: https://ckb.jax.org/molecularProfile/show/26172"
   ]
  },
  {
   "cell_type": "code",
   "execution_count": 13,
   "metadata": {
    "collapsed": false
   },
   "outputs": [
    {
     "data": {
      "text/plain": [
       "Counter({'cgi': 45, 'jax': 2492})"
      ]
     },
     "execution_count": 13,
     "metadata": {},
     "output_type": "execute_result"
    }
   ],
   "source": [
    "multi_gene_hits = [x for x in res['hits']['hits'] if len(x['_source']['genes']) >= 2]\n",
    "s = Counter([x['_source']['source'] for x in multi_gene_hits])\n",
    "s"
   ]
  },
  {
   "cell_type": "code",
   "execution_count": 14,
   "metadata": {
    "collapsed": false
   },
   "outputs": [],
   "source": [
    "mp_d = dict()\n",
    "for source in s:\n",
    "    mp_d[source] = set([tuple(sorted(x['_source']['genes'])) for x in res['hits']['hits'] if (len(x['_source']['genes']) >= 2) and (x['_source']['source'] == source)])"
   ]
  },
  {
   "cell_type": "code",
   "execution_count": 15,
   "metadata": {
    "collapsed": false
   },
   "outputs": [],
   "source": [
    "%%capture\n",
    "mp_d"
   ]
  },
  {
   "cell_type": "code",
   "execution_count": 16,
   "metadata": {
    "collapsed": true
   },
   "outputs": [],
   "source": [
    "def overlap(group_counts):\n",
    "    columns = sorted(group_counts) + ['Total']\n",
    "    sets = {g: set(group_counts[g]) for g in group_counts}\n",
    "    for g in sets:\n",
    "        total = set()\n",
    "        for s in sets:\n",
    "            l = len(sets[g])\n",
    "            if s != g:\n",
    "                o = (sets[g] & sets[s])\n",
    "                total |= sets[s]\n",
    "            else:\n",
    "                continue\n",
    "            print('{} has {}/{} ({:.2f}%) overlap with {}'.format(g, len(o), l, len(o) / l * 100, s))\n",
    "        o = (sets[g] & total)\n",
    "        print('{} has {}/{} ({:.2f}%) overlap overall'.format(g, len(o), l, len(o) / l * 100, s))"
   ]
  },
  {
   "cell_type": "code",
   "execution_count": 17,
   "metadata": {
    "collapsed": false
   },
   "outputs": [
    {
     "name": "stdout",
     "output_type": "stream",
     "text": [
      "cgi has 59/181 (32.60%) overlap with jax\n",
      "cgi has 121/181 (66.85%) overlap with civic\n",
      "cgi has 42/181 (23.20%) overlap with oncokb\n",
      "cgi has 37/181 (20.44%) overlap with pmkb\n",
      "cgi has 126/181 (69.61%) overlap overall\n",
      "jax has 59/106 (55.66%) overlap with cgi\n",
      "jax has 73/106 (68.87%) overlap with civic\n",
      "jax has 30/106 (28.30%) overlap with oncokb\n",
      "jax has 37/106 (34.91%) overlap with pmkb\n",
      "jax has 78/106 (73.58%) overlap overall\n",
      "civic has 121/290 (41.72%) overlap with cgi\n",
      "civic has 73/290 (25.17%) overlap with jax\n",
      "civic has 42/290 (14.48%) overlap with oncokb\n",
      "civic has 38/290 (13.10%) overlap with pmkb\n",
      "civic has 139/290 (47.93%) overlap overall\n",
      "oncokb has 42/43 (97.67%) overlap with cgi\n",
      "oncokb has 30/43 (69.77%) overlap with jax\n",
      "oncokb has 42/43 (97.67%) overlap with civic\n",
      "oncokb has 20/43 (46.51%) overlap with pmkb\n",
      "oncokb has 43/43 (100.00%) overlap overall\n",
      "pmkb has 37/42 (88.10%) overlap with cgi\n",
      "pmkb has 37/42 (88.10%) overlap with jax\n",
      "pmkb has 38/42 (90.48%) overlap with civic\n",
      "pmkb has 20/42 (47.62%) overlap with oncokb\n",
      "pmkb has 41/42 (97.62%) overlap overall\n"
     ]
    }
   ],
   "source": [
    "overlap(d)"
   ]
  },
  {
   "cell_type": "code",
   "execution_count": 18,
   "metadata": {
    "collapsed": false
   },
   "outputs": [],
   "source": [
    "def plot_overlap(d, column_names=['attribute']):\n",
    "    d2 = {g: pd.DataFrame(list(d[g].keys()), columns=column_names) for g in d}\n",
    "    pyu.plot(d2, unique_keys = ['attribute'])"
   ]
  },
  {
   "cell_type": "code",
   "execution_count": 19,
   "metadata": {
    "collapsed": false
   },
   "outputs": [
    {
     "data": {
      "image/png": "[encoded data removed]",
      "text/plain": [
       "<matplotlib.figure.Figure at 0x12daae5f8>"
      ]
     },
     "metadata": {},
     "output_type": "display_data"
    }
   ],
   "source": [
    "plot_overlap(d)"
   ]
  },
  {
   "cell_type": "markdown",
   "metadata": {},
   "source": [
    "# Overlap of associations (drug + gene + phenotype)"
   ]
  },
  {
   "cell_type": "markdown",
   "metadata": {},
   "source": [
    "Some hits (example here is from CGI) have strange behavior on drug normalization:"
   ]
  },
  {
   "cell_type": "code",
   "execution_count": 20,
   "metadata": {
    "collapsed": false
   },
   "outputs": [
    {
     "data": {
      "text/plain": [
       "[{'description': 'Imatinib',\n",
       "  'id': 'compound:CID5291',\n",
       "  'term': 'Imatinib',\n",
       "  'toxicity': 'The most frequently reported adverse reactions (>30%) were edema, nausea,\\r\\nvomiting, muscle cramps, musculoskeletal pain, diarrhea, rash, fatigue and\\r\\nabdominal pain.'},\n",
       " {'description': 'inhibitor',\n",
       "  'id': 'compound:CID657356',\n",
       "  'term': 'inhibitor',\n",
       "  'toxicity': 'unknown'},\n",
       " {'description': 'Clorazepate Dipotassium',\n",
       "  'id': 'compound:CID23706210',\n",
       "  'term': 'Clorazepate Dipotassium',\n",
       "  'toxicity': 'unknown'}]"
      ]
     },
     "execution_count": 20,
     "metadata": {},
     "output_type": "execute_result"
    }
   ],
   "source": [
    "res['hits']['hits'][0]['_source']['association']['environmentalContexts']"
   ]
  },
  {
   "cell_type": "markdown",
   "metadata": {},
   "source": [
    "\"Inhibitor\" drug: https://pubchem.ncbi.nlm.nih.gov/compound/diacylglycerol_kinase_inhibitor_ii#section=Top"
   ]
  },
  {
   "cell_type": "code",
   "execution_count": 21,
   "metadata": {
    "collapsed": false
   },
   "outputs": [
    {
     "data": {
      "text/plain": [
       "{'Alteration': 'ABL1:I242T,M244V,K247R,L248V,G250E,G250R,Q252R,Q252H,Y253F,Y253H,E255K,E255V,M237V,E258D,W261L,L273M,E275K,E275Q,D276G,T277A,E279K,V280A,V289A,V289I,E292V,E292Q,I293V,L298V,V299L,F311L,F311I,T315I,F317L,F317V,F317I,F317C,Y320C,L324Q,Y342H,M343T,A344V,A350V,M351T,E355D,E355G,E355A,F359V,F359I,F359C,F359L,D363Y,L364I,A365V,A366G,L370P,V371A,E373K,V379I,A380T,F382L,L384M,L387M,L387F,L387V,M388L,Y393C,H396P,H396R,H396A,A397P,S417F,S417Y,I418S,I418V,A433T,S438C,E450K,E450G,E450A,E450V,E453K,E453G,E453A,E453V,E459K,E459G,E459A,E459V,M472I,P480L,F486S,E507G',\n",
       " 'Alteration type': 'MUT',\n",
       " 'Assay type': '',\n",
       " 'Association': 'Resistant',\n",
       " 'Biomarker': 'ABL1 (I242T,M244V,K247R,L248V,G250E,G250R,Q252R,Q252H,Y253F,Y253H,E255K,E255V,M237V,E258D,W261L,L273M,E275K,E275Q,D276G,T277A,E279K,V280A,V289A,V289I,E292V,E292Q,I293V,L298V,V299L,F311L,F311I,T315I,F317L,F317V,F317I,F317C,Y320C,L324Q,Y342H,M343T,A344V,A350V,M351T,E355D,E355G,E355A,F359V,F359I,F359C,F359L,D363Y,L364I,A365V,A366G,L370P,V371A,E373K,V379I,A380T,F382L,L384M,L387M,L387F,L387V,M388L,Y393C,H396P,H396R,H396A,A397P,S417F,S417Y,I418S,I418V,A433T,S438C,E450K,E450G,E450A,E450V,E453K,E453G,E453A,E453V,E459K,E459G,E459A,E459V,M472I,P480L,F486S,E507G)',\n",
       " 'Curator': 'CRubio-Perez',\n",
       " 'Drug': 'Imatinib',\n",
       " 'Drug family': 'BCR-ABL inhibitor 1st gen&KIT inhibitor',\n",
       " 'Drug full name': 'Imatinib (BCR-ABL inhibitor 1st gen&KIT inhibitor)',\n",
       " 'Drug status': 'Approved',\n",
       " 'Evidence level': 'European LeukemiaNet guidelines',\n",
       " 'Gene': 'ABL1',\n",
       " 'Metastatic Tumor Type': '',\n",
       " 'Primary Tumor type': 'CML',\n",
       " 'Source': 'PMID:21562040',\n",
       " 'Targeting': '',\n",
       " 'cDNA': 'c.1094C>T',\n",
       " 'gDNA': 'chr9:g.133750263C>T',\n",
       " 'gene': 'ABL1',\n",
       " 'individual_mutation': 'ABL1:p.A365V',\n",
       " 'info': 'CSQN=Missense;reference_codon=GCT;candidate_codons=GTA,GTC,GTG,GTT;candidate_mnv_variants=chr9:g.133750263_133750264delCTinsTA,chr9:g.133750263_133750264delCTinsTC,chr9:g.133750263_133750264delCTinsTG;aliases=ENSP00000323315;source=Ensembl',\n",
       " 'region': 'inside_[cds_in_exon_7]',\n",
       " 'strand': '+',\n",
       " 'transcript': 'ENST00000318560'}"
      ]
     },
     "execution_count": 21,
     "metadata": {},
     "output_type": "execute_result"
    }
   ],
   "source": [
    "res['hits']['hits'][0]['_source']['cgi']"
   ]
  },
  {
   "cell_type": "code",
   "execution_count": 22,
   "metadata": {
    "collapsed": true
   },
   "outputs": [],
   "source": [
    "def select_failures(hits):\n",
    "    pheno_failed = 0\n",
    "    drug_failed = 0\n",
    "    for hit in hits:\n",
    "        gene = '|'.join(sorted(hit['_source']['genes']))\n",
    "        try:\n",
    "            drug = '|'.join(sorted([x['id'] for x in hit['_source']['association']['environmentalContexts']]))\n",
    "        except:\n",
    "            print( \"Drug failure on ID {}\".format( hit['_id'] ))\n",
    "            drug_failed += 1\n",
    "            drug = None\n",
    "        try:\n",
    "            phenotype = hit['_source']['association']['phenotype']['type']['id']\n",
    "        except:\n",
    "            print( \"Phenotype failure on ID {}\".format( hit['_id'] ))\n",
    "            pheno_failed += 1\n",
    "            phenotype = None\n",
    "        if drug is None or phenotype is None:\n",
    "            yield(hit)\n",
    "        # yield (gene,drug,phenotype)\n",
    "    print('{} hits with failed phenotype'.format(pheno_failed))\n",
    "    print('{} hits with failed drug'.format(drug_failed))\n",
    "    print('{} total hits'.format(len(hits)))"
   ]
  },
  {
   "cell_type": "code",
   "execution_count": 23,
   "metadata": {
    "collapsed": false
   },
   "outputs": [],
   "source": [
    "%%capture\n",
    "failed = list(select_failures(res['hits']['hits']))"
   ]
  },
  {
   "cell_type": "code",
   "execution_count": 24,
   "metadata": {
    "collapsed": false
   },
   "outputs": [
    {
     "name": "stdout",
     "output_type": "stream",
     "text": [
      "29.67% of associations not fully normalized across gene, drug, phenotype\n"
     ]
    }
   ],
   "source": [
    "print(\"{:.2f}% of associations not fully normalized across gene, drug, phenotype\".format(len(failed) / len(res['hits']['hits']) * 100))"
   ]
  },
  {
   "cell_type": "code",
   "execution_count": 25,
   "metadata": {
    "collapsed": false
   },
   "outputs": [
    {
     "data": {
      "text/plain": [
       "Counter({'cgi': 894, 'civic': 76, 'jax': 1825, 'oncokb': 51, 'pmkb': 606})"
      ]
     },
     "execution_count": 25,
     "metadata": {},
     "output_type": "execute_result"
    }
   ],
   "source": [
    "c = Counter([x['_source']['source'] for x in failed])\n",
    "c"
   ]
  },
  {
   "cell_type": "code",
   "execution_count": 26,
   "metadata": {
    "collapsed": false
   },
   "outputs": [
    {
     "data": {
      "text/plain": [
       "{'cgi': '62.56%',\n",
       " 'civic': '2.80%',\n",
       " 'jax': '28.02%',\n",
       " 'oncokb': '13.67%',\n",
       " 'pmkb': '100.00%'}"
      ]
     },
     "execution_count": 26,
     "metadata": {},
     "output_type": "execute_result"
    }
   ],
   "source": [
    "def percent(num, den):\n",
    "    return \"{:.2f}%\".format(num / den * 100)\n",
    "\n",
    "d = count_attribute(res, 'source')\n",
    "{source: percent(c[source], d[source]) for source in c}"
   ]
  },
  {
   "cell_type": "markdown",
   "metadata": {},
   "source": [
    "PMKB interpretations (https://pmkb.weill.cornell.edu/therapies) do not list drugs."
   ]
  },
  {
   "cell_type": "code",
   "execution_count": 27,
   "metadata": {
    "collapsed": false
   },
   "outputs": [
    {
     "data": {
      "text/plain": [
       "{'description': 'FLT3 is a receptor tyrosine kinase important in hematopoietic cell proliferation and differentiation.  In-frame, FLT3 internal tandem duplications, which show a wide range of number of nucleotides duplicated and/or inserted (eg, 18-204 bp), affect exons 14 and 15 in the FLT3 juxtamembrane/tyrosine kinase domain and have been reported in approximately 20% of patients with acute myeloid leukemia.  FLT3 ITDs usually occur in cases of AML with a normal karyotype and may occur in cases with chromosome abnormalities including t(15;17) or other cytogenetic groups.  Functional studies have shown that FLT3 ITDs are ligand-independent, gain of function mutations.  In addition, activating mutations at codon D835 in exon 20 (A-loop of the tyrosine kinase domain) of FLT3 have been reported in approximately 7% of AML. The FLT3 D835 mutations are also ligand independent, gain of function mutations.  FLT3 ITD and D835 mutations tend to occur in a mutually exclusive manner; however, the FLT3 D835 mutation or other mutations in the A-loop(eg, D839, Y842) may occur as an acquired resistance mutation in the setting of patients with FLT3 ITD mutations being treated with targeted therapy. In addition, variants at codon N676 and in exon 17 F691, G697 have been associated with resistance to FLT3 targeted therapy.   The presence of FLT3 ITD mutation in young patients with AML and normal cytogenetics is thought to be associated with a poor prognosis.  On the other hand, the prognostic signficance of the FLT3 D835 mutations appears less clear. Various compounds for therapeutic targeting of FLT3 are available in certain settings for acute myeloid leukemia.     In T cell acute lymphoblastic leukemia, up to 20% of cases have been reported to show a FLT3 mutation (TKD or ITD) and are often associated with an ETP(early T cell precursor) phenotype.  In addition, FLT3 mutations have also been reported in up to 15% of B-ALL cases where they have been associated with hyperdiploidy and MLL rearrangement. Targetting FLT3 in acute lymphoblastic leukemia therapy may also be possible in some settings. ',\n",
       " 'drug_labels': 'NA',\n",
       " 'evidence': [{'description': 1,\n",
       "   'evidenceType': {'sourceName': 'pmkb'},\n",
       "   'info': {'publications': [['http://www.ncbi.nlm.nih.gov/pubmed/8946930',\n",
       "      'http://www.ncbi.nlm.nih.gov/pubmed/9324277',\n",
       "      'http://www.ncbi.nlm.nih.gov/pubmed/9737679',\n",
       "      'http://www.ncbi.nlm.nih.gov/pubmed/11290608',\n",
       "      'http://www.ncbi.nlm.nih.gov/pubmed/12070009',\n",
       "      'http://www.ncbi.nlm.nih.gov/pubmed/24682858',\n",
       "      'http://www.ncbi.nlm.nih.gov/pubmed/24487413',\n",
       "      'http://www.ncbi.nlm.nih.gov/pubmed/23929217',\n",
       "      'http://www.ncbi.nlm.nih.gov/pubmed/23359050',\n",
       "      'http://www.ncbi.nlm.nih.gov/pubmed/22261446',\n",
       "      'http://www.ncbi.nlm.nih.gov/pubmed/14670924',\n",
       "      'http://www.ncbi.nlm.nih.gov/pubmed/18024407',\n",
       "      'http://www.ncbi.nlm.nih.gov/pubmed/25060518',\n",
       "      'http://www.ncbi.nlm.nih.gov/pubmed/22875611',\n",
       "      'http://www.ncbi.nlm.nih.gov/pubmed/23430109']]}}],\n",
       " 'evidence_label': 'A',\n",
       " 'phenotype': {'description': 'acute myeloid leukemia',\n",
       "  'type': {'id': 'DOID:9119', 'term': 'acute myeloid leukemia'}},\n",
       " 'publication_url': 'http://www.ncbi.nlm.nih.gov/pubmed/8946930',\n",
       " 'response_type': 'NA'}"
      ]
     },
     "execution_count": 27,
     "metadata": {},
     "output_type": "execute_result"
    }
   ],
   "source": [
    "pmkb = [x for x in failed if x['_source']['source'] == 'pmkb']\n",
    "pmkb[0]['_source']['association']"
   ]
  },
  {
   "cell_type": "code",
   "execution_count": 28,
   "metadata": {
    "collapsed": false
   },
   "outputs": [
    {
     "data": {
      "text/plain": [
       "False"
      ]
     },
     "execution_count": 28,
     "metadata": {},
     "output_type": "execute_result"
    }
   ],
   "source": [
    "any(['environmentalContexts' in x['_source']['association'] for x in pmkb])"
   ]
  },
  {
   "cell_type": "markdown",
   "metadata": {},
   "source": [
    "# Overlap of associations (gene + phenotype)"
   ]
  },
  {
   "cell_type": "code",
   "execution_count": 29,
   "metadata": {
    "collapsed": true
   },
   "outputs": [],
   "source": [
    "def select_failures(hits):\n",
    "    pheno_failed = 0\n",
    "    for hit in hits:\n",
    "        gene = '|'.join(sorted(hit['_source']['genes']))\n",
    "        try:\n",
    "            phenotype = hit['_source']['association']['phenotype']['type']['id']\n",
    "        except:\n",
    "            print( \"Phenotype failure on ID {}\".format( hit['_id'] ))\n",
    "            pheno_failed += 1\n",
    "            phenotype = None\n",
    "        if phenotype is None:\n",
    "            yield(hit)\n",
    "    print('{} hits with failed phenotype'.format(pheno_failed))\n",
    "    print('{} total hits'.format(len(hits)))"
   ]
  },
  {
   "cell_type": "code",
   "execution_count": 30,
   "metadata": {
    "collapsed": false
   },
   "outputs": [],
   "source": [
    "%%capture\n",
    "failed = list(select_failures(res['hits']['hits']))"
   ]
  },
  {
   "cell_type": "code",
   "execution_count": 31,
   "metadata": {
    "collapsed": false
   },
   "outputs": [
    {
     "name": "stdout",
     "output_type": "stream",
     "text": [
      "22.85% of associations not fully normalized across gene, phenotype\n"
     ]
    }
   ],
   "source": [
    "print(\"{:.2f}% of associations not fully normalized across gene, phenotype\".format(len(failed) / len(res['hits']['hits']) * 100))"
   ]
  },
  {
   "cell_type": "code",
   "execution_count": 32,
   "metadata": {
    "collapsed": false
   },
   "outputs": [
    {
     "data": {
      "text/plain": [
       "Counter({'cgi': 859, 'civic': 49, 'jax': 1576, 'oncokb': 32, 'pmkb': 142})"
      ]
     },
     "execution_count": 32,
     "metadata": {},
     "output_type": "execute_result"
    }
   ],
   "source": [
    "c = Counter([x['_source']['source'] for x in failed])\n",
    "c"
   ]
  },
  {
   "cell_type": "code",
   "execution_count": 33,
   "metadata": {
    "collapsed": false
   },
   "outputs": [
    {
     "data": {
      "text/plain": [
       "{'cgi': '60.11%',\n",
       " 'civic': '1.81%',\n",
       " 'jax': '24.20%',\n",
       " 'oncokb': '8.58%',\n",
       " 'pmkb': '23.43%'}"
      ]
     },
     "execution_count": 33,
     "metadata": {},
     "output_type": "execute_result"
    }
   ],
   "source": [
    "d = count_attribute(res, 'source')\n",
    "{source: percent(c[source], d[source]) for source in c}"
   ]
  },
  {
   "cell_type": "markdown",
   "metadata": {},
   "source": [
    "Prostate Adenocarcinoma?"
   ]
  },
  {
   "cell_type": "code",
   "execution_count": 34,
   "metadata": {
    "collapsed": false
   },
   "outputs": [
    {
     "data": {
      "text/plain": [
       "{'description': 'AR Arn-509 (AR inhibitor) Responsive',\n",
       " 'drug_labels': 'Arn-509',\n",
       " 'environmentalContexts': [{'description': 'Arn-509',\n",
       "   'id': 'compound:CID24872560',\n",
       "   'term': 'Arn-509',\n",
       "   'toxicity': 'unknown'}],\n",
       " 'evidence': [{'description': 'Responsive',\n",
       "   'evidenceType': {'sourceName': 'cgi'},\n",
       "   'info': {'publications': ['http://www.ncbi.nlm.nih.gov/pubmed/23779130']}}],\n",
       " 'evidence_label': 'D',\n",
       " 'phenotype': {'description': 'PRAD'},\n",
       " 'publication_url': 'http://www.ncbi.nlm.nih.gov/pubmed/23779130',\n",
       " 'response_type': 'Responsive'}"
      ]
     },
     "execution_count": 34,
     "metadata": {},
     "output_type": "execute_result"
    }
   ],
   "source": [
    "cgi = [x for x in failed if x['_source']['source'] == 'cgi']\n",
    "cgi[0]['_source']['association']"
   ]
  },
  {
   "cell_type": "code",
   "execution_count": 35,
   "metadata": {
    "collapsed": false
   },
   "outputs": [
    {
     "data": {
      "text/plain": [
       "{'Alteration': 'AR:W741.,T878A',\n",
       " 'Alteration type': 'MUT',\n",
       " 'Assay type': '',\n",
       " 'Association': 'Responsive',\n",
       " 'Biomarker': 'AR (W741,T878A)',\n",
       " 'Curator': 'RDientsmann',\n",
       " 'Drug': 'Arn-509',\n",
       " 'Drug family': 'AR inhibitor',\n",
       " 'Drug full name': 'Arn-509 (AR inhibitor)',\n",
       " 'Drug status': '',\n",
       " 'Evidence level': 'Pre-clinical',\n",
       " 'Gene': 'AR',\n",
       " 'Metastatic Tumor Type': '',\n",
       " 'Primary Tumor type': 'PRAD',\n",
       " 'Source': 'PMID:23779130',\n",
       " 'Targeting': '',\n",
       " 'cDNA': 'c.2632A>G',\n",
       " 'gDNA': 'chrX:g.66943552A>G',\n",
       " 'gene': 'AR',\n",
       " 'individual_mutation': 'AR:p.T878A',\n",
       " 'info': 'CSQN=Missense;reference_codon=ACT;candidate_codons=GCA,GCC,GCG,GCT;candidate_mnv_variants=chrX:g.66943552_66943554delACTinsGCA,chrX:g.66943552_66943554delACTinsGCC,chrX:g.66943552_66943554delACTinsGCG;aliases=ENSP00000363822;source=Ensembl',\n",
       " 'region': 'inside_[cds_in_exon_8]',\n",
       " 'strand': '+',\n",
       " 'transcript': 'ENST00000374690'}"
      ]
     },
     "execution_count": 35,
     "metadata": {},
     "output_type": "execute_result"
    }
   ],
   "source": [
    "cgi[0]['_source']['cgi']"
   ]
  },
  {
   "cell_type": "code",
   "execution_count": 36,
   "metadata": {
    "collapsed": false
   },
   "outputs": [],
   "source": [
    "%%capture\n",
    "set([x['_source']['association']['phenotype']['description'] for x in cgi])"
   ]
  },
  {
   "cell_type": "code",
   "execution_count": 37,
   "metadata": {
    "collapsed": true
   },
   "outputs": [],
   "source": [
    "def select_successes(hits):\n",
    "    pheno_failed = 0\n",
    "    for hit in hits:\n",
    "        gene = '|'.join(sorted(hit['_source']['genes']))\n",
    "        try:\n",
    "            phenotype = hit['_source']['association']['phenotype']['type']['id']\n",
    "        except:\n",
    "            print( \"Phenotype failure on ID {}\".format( hit['_id'] ))\n",
    "            pheno_failed += 1\n",
    "            phenotype = None\n",
    "        if phenotype is None:\n",
    "            continue\n",
    "        hit['merged'] = {\n",
    "            'gene': gene,\n",
    "            'phenotype': phenotype\n",
    "            }\n",
    "        yield hit\n",
    "        \n",
    "    print('{} hits with failed phenotype'.format(pheno_failed))\n",
    "    print('{} total hits'.format(len(hits)))"
   ]
  },
  {
   "cell_type": "code",
   "execution_count": 38,
   "metadata": {
    "collapsed": false
   },
   "outputs": [],
   "source": [
    "%%capture\n",
    "successes = list(select_successes(res['hits']['hits']))"
   ]
  },
  {
   "cell_type": "code",
   "execution_count": 39,
   "metadata": {
    "collapsed": false
   },
   "outputs": [
    {
     "data": {
      "text/plain": [
       "Counter({'cgi': 570, 'civic': 2664, 'jax': 4937, 'oncokb': 341, 'pmkb': 464})"
      ]
     },
     "execution_count": 39,
     "metadata": {},
     "output_type": "execute_result"
    }
   ],
   "source": [
    "s = Counter([x['_source']['source'] for x in successes])\n",
    "s"
   ]
  },
  {
   "cell_type": "code",
   "execution_count": 40,
   "metadata": {
    "collapsed": true
   },
   "outputs": [],
   "source": [
    "success_by_source = dict()\n",
    "for source in s:\n",
    "    success_by_source[source] = set([(x['merged']['gene'], x['merged']['phenotype']) for x in successes if x['_source']['source'] == source])"
   ]
  },
  {
   "cell_type": "code",
   "execution_count": 41,
   "metadata": {
    "collapsed": false
   },
   "outputs": [],
   "source": [
    "%%capture\n",
    "success_by_source"
   ]
  },
  {
   "cell_type": "code",
   "execution_count": 42,
   "metadata": {
    "collapsed": false
   },
   "outputs": [
    {
     "name": "stdout",
     "output_type": "stream",
     "text": [
      "cgi has 14/105 (13.33%) overlap with jax\n",
      "cgi has 26/105 (24.76%) overlap with civic\n",
      "cgi has 9/105 (8.57%) overlap with oncokb\n",
      "cgi has 6/105 (5.71%) overlap with pmkb\n",
      "cgi has 28/105 (26.67%) overlap overall\n",
      "jax has 14/832 (1.68%) overlap with cgi\n",
      "jax has 175/832 (21.03%) overlap with civic\n",
      "jax has 37/832 (4.45%) overlap with oncokb\n",
      "jax has 34/832 (4.09%) overlap with pmkb\n",
      "jax has 198/832 (23.80%) overlap overall\n",
      "civic has 26/756 (3.44%) overlap with cgi\n",
      "civic has 175/756 (23.15%) overlap with jax\n",
      "civic has 32/756 (4.23%) overlap with oncokb\n",
      "civic has 34/756 (4.50%) overlap with pmkb\n",
      "civic has 204/756 (26.98%) overlap overall\n",
      "oncokb has 9/68 (13.24%) overlap with cgi\n",
      "oncokb has 37/68 (54.41%) overlap with jax\n",
      "oncokb has 32/68 (47.06%) overlap with civic\n",
      "oncokb has 9/68 (13.24%) overlap with pmkb\n",
      "oncokb has 42/68 (61.76%) overlap overall\n",
      "pmkb has 6/127 (4.72%) overlap with cgi\n",
      "pmkb has 34/127 (26.77%) overlap with jax\n",
      "pmkb has 34/127 (26.77%) overlap with civic\n",
      "pmkb has 9/127 (7.09%) overlap with oncokb\n",
      "pmkb has 47/127 (37.01%) overlap overall\n"
     ]
    }
   ],
   "source": [
    "overlap(success_by_source)"
   ]
  },
  {
   "cell_type": "code",
   "execution_count": 43,
   "metadata": {
    "collapsed": false
   },
   "outputs": [
    {
     "data": {
      "image/png": "[encoded data removed]",
      "text/plain": [
       "<matplotlib.figure.Figure at 0x125709c88>"
      ]
     },
     "metadata": {},
     "output_type": "display_data"
    }
   ],
   "source": [
    "def plot_overlap(d, column_names=['attribute']):\n",
    "    d2 = {g: pd.DataFrame(list(d[g]), columns=column_names) for g in d}\n",
    "    pyu.plot(d2, unique_keys = column_names)\n",
    "    \n",
    "plot_overlap(success_by_source, column_names=['gene', 'phenotype'])"
   ]
  }
 ],
 "metadata": {
  "anaconda-cloud": {},
  "kernelspec": {
   "display_name": "Python [g2p-analysis]",
   "language": "python",
   "name": "Python [g2p-analysis]"
  },
  "language_info": {
   "codemirror_mode": {
    "name": "ipython",
    "version": 3
   },
   "file_extension": ".py",
   "mimetype": "text/x-python",
   "name": "python",
   "nbconvert_exporter": "python",
   "pygments_lexer": "ipython3",
   "version": "3.6.1"
  }
 },
 "nbformat": 4,
 "nbformat_minor": 2
}
