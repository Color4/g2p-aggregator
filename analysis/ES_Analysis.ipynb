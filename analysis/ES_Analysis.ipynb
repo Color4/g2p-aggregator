{
 "cells": [
  {
   "cell_type": "code",
   "execution_count": 1,
   "metadata": {
    "collapsed": false
   },
   "outputs": [],
   "source": [
    "from elasticsearch import Elasticsearch\n",
    "from collections import Counter, defaultdict\n",
    "import pandas as pd\n",
    "import pyupset as pyu\n",
    "import re\n",
    "import itertools\n",
    "import json\n",
    "from IPython.display import set_matplotlib_formats\n",
    "\n",
    "%matplotlib inline"
   ]
  },
  {
   "cell_type": "code",
   "execution_count": 2,
   "metadata": {
    "collapsed": false
   },
   "outputs": [
    {
     "data": {
      "text/plain": [
       "<Elasticsearch([{}])>"
      ]
     },
     "execution_count": 2,
     "metadata": {},
     "output_type": "execute_result"
    }
   ],
   "source": [
    "es = Elasticsearch()\n",
    "es"
   ]
  },
  {
   "cell_type": "code",
   "execution_count": 3,
   "metadata": {
    "collapsed": false
   },
   "outputs": [],
   "source": [
    "res = es.search(index=\"g2p\", size=10000, body={\"query\": {\"match_all\": {}}})"
   ]
  },
  {
   "cell_type": "code",
   "execution_count": 4,
   "metadata": {
    "collapsed": true
   },
   "outputs": [],
   "source": [
    "def collect_all_results():\n",
    "    res = es.search(index=\"g2p\", size=10000, body={\"query\": {\"match_all\": {}}}, scroll='1m')\n",
    "    scroll_id = res.get('_scroll_id')\n",
    "    i = 1\n",
    "    while scroll_id is not None:\n",
    "        print('Processing scroll {}'.format(i))\n",
    "        r = es.scroll(scroll_id)\n",
    "        scroll_id = r.get('_scroll_id')\n",
    "        res['hits']['hits'] += r['hits']['hits']\n",
    "        i += 1\n",
    "    return res\n",
    "        "
   ]
  },
  {
   "cell_type": "code",
   "execution_count": 5,
   "metadata": {
    "collapsed": false
   },
   "outputs": [
    {
     "name": "stdout",
     "output_type": "stream",
     "text": [
      "Processing scroll 1\n"
     ]
    }
   ],
   "source": [
    "res = collect_all_results()"
   ]
  },
  {
   "cell_type": "markdown",
   "metadata": {},
   "source": [
    "# Total Associations"
   ]
  },
  {
   "cell_type": "code",
   "execution_count": 6,
   "metadata": {
    "collapsed": false
   },
   "outputs": [
    {
     "data": {
      "text/plain": [
       "14710"
      ]
     },
     "execution_count": 6,
     "metadata": {},
     "output_type": "execute_result"
    }
   ],
   "source": [
    "assert len(res['hits']['hits']) == res['hits']['total']\n",
    "len(res['hits']['hits'])"
   ]
  },
  {
   "cell_type": "code",
   "execution_count": 7,
   "metadata": {
    "collapsed": true
   },
   "outputs": [],
   "source": [
    "def count_attribute(result, attribute):\n",
    "    c = Counter([x['_source'][attribute] for x in result['hits']['hits']])\n",
    "    return c\n",
    "\n",
    "def count_attribute_by_group(result, attribute, group):\n",
    "    d = dict()\n",
    "    for g in count_attribute(result, group):\n",
    "        d[g] = Counter([x['_source'][attribute] for x in result['hits']['hits'] if x['_source'][group] == g])\n",
    "    return d\n",
    "\n",
    "def count_list_attribute(result, list_attribute):\n",
    "    c = Counter([attribute for x in result['hits']['hits'] for attribute in x['_source'][list_attribute]])\n",
    "    return c\n",
    "\n",
    "def count_list_attribute_by_group(result, list_attribute, group):\n",
    "    d = dict()\n",
    "    for g in count_attribute(result, group):\n",
    "        d[g] = Counter([attribute for x in result['hits']['hits'] for attribute in x['_source'][list_attribute] if x['_source'][group] == g])\n",
    "    return d"
   ]
  },
  {
   "cell_type": "code",
   "execution_count": 8,
   "metadata": {
    "collapsed": false
   },
   "outputs": [
    {
     "data": {
      "text/plain": [
       "Counter({'cgi': 1429,\n",
       "         'civic': 2713,\n",
       "         'jax': 6513,\n",
       "         'molecularmatch': 3076,\n",
       "         'oncokb': 373,\n",
       "         'pmkb': 606})"
      ]
     },
     "execution_count": 8,
     "metadata": {},
     "output_type": "execute_result"
    }
   ],
   "source": [
    "count_attribute(res, 'source')"
   ]
  },
  {
   "cell_type": "markdown",
   "metadata": {},
   "source": [
    "# Genes"
   ]
  },
  {
   "cell_type": "code",
   "execution_count": 9,
   "metadata": {
    "collapsed": false
   },
   "outputs": [],
   "source": [
    "%%capture\n",
    "count_list_attribute(res, 'genes')"
   ]
  },
  {
   "cell_type": "code",
   "execution_count": 10,
   "metadata": {
    "collapsed": false
   },
   "outputs": [],
   "source": [
    "d = count_list_attribute_by_group(res, 'genes', 'source')"
   ]
  },
  {
   "cell_type": "markdown",
   "metadata": {},
   "source": [
    "CGI has some genotype \"genes\" (e.g. 'ARID1A;ANXA1' from ARID1A amplification + ANXA1 overexpression)\n",
    "\n",
    "CKB have some multi-gene molecular profiles. Example: https://ckb.jax.org/molecularProfile/show/26172"
   ]
  },
  {
   "cell_type": "code",
   "execution_count": 11,
   "metadata": {
    "collapsed": false
   },
   "outputs": [
    {
     "data": {
      "text/plain": [
       "Counter({'cgi': 45, 'jax': 2492, 'molecularmatch': 5})"
      ]
     },
     "execution_count": 11,
     "metadata": {},
     "output_type": "execute_result"
    }
   ],
   "source": [
    "multi_gene_hits = [x for x in res['hits']['hits'] if len(x['_source']['genes']) >= 2]\n",
    "s = Counter([x['_source']['source'] for x in multi_gene_hits])\n",
    "s"
   ]
  },
  {
   "cell_type": "code",
   "execution_count": 12,
   "metadata": {
    "collapsed": false
   },
   "outputs": [],
   "source": [
    "mp_d = dict()\n",
    "for source in s:\n",
    "    mp_d[source] = set([tuple(sorted(x['_source']['genes'])) for x in res['hits']['hits'] if (len(x['_source']['genes']) >= 2) and (x['_source']['source'] == source)])"
   ]
  },
  {
   "cell_type": "code",
   "execution_count": 137,
   "metadata": {
    "collapsed": false
   },
   "outputs": [],
   "source": [
    "%%capture\n",
    "mp_d"
   ]
  },
  {
   "cell_type": "code",
   "execution_count": 14,
   "metadata": {
    "collapsed": true
   },
   "outputs": [],
   "source": [
    "def overlap(group_counts):\n",
    "    columns = sorted(group_counts) + ['Total']\n",
    "    sets = {g: set(group_counts[g]) for g in group_counts}\n",
    "    for g in sets:\n",
    "        total = set()\n",
    "        for s in sets:\n",
    "            l = len(sets[g])\n",
    "            if s != g:\n",
    "                o = (sets[g] & sets[s])\n",
    "                total |= sets[s]\n",
    "            else:\n",
    "                continue\n",
    "            print('{} has {}/{} ({:.2f}%) overlap with {}'.format(g, len(o), l, len(o) / l * 100, s))\n",
    "        o = (sets[g] & total)\n",
    "        print('{} has {}/{} ({:.2f}%) overlap overall'.format(g, len(o), l, len(o) / l * 100, s))"
   ]
  },
  {
   "cell_type": "code",
   "execution_count": 15,
   "metadata": {
    "collapsed": false
   },
   "outputs": [
    {
     "name": "stdout",
     "output_type": "stream",
     "text": [
      "cgi has 59/181 (32.60%) overlap with jax\n",
      "cgi has 121/181 (66.85%) overlap with civic\n",
      "cgi has 42/181 (23.20%) overlap with oncokb\n",
      "cgi has 37/181 (20.44%) overlap with pmkb\n",
      "cgi has 98/181 (54.14%) overlap with molecularmatch\n",
      "cgi has 128/181 (70.72%) overlap overall\n",
      "jax has 59/106 (55.66%) overlap with cgi\n",
      "jax has 73/106 (68.87%) overlap with civic\n",
      "jax has 30/106 (28.30%) overlap with oncokb\n",
      "jax has 37/106 (34.91%) overlap with pmkb\n",
      "jax has 60/106 (56.60%) overlap with molecularmatch\n",
      "jax has 80/106 (75.47%) overlap overall\n",
      "civic has 121/290 (41.72%) overlap with cgi\n",
      "civic has 73/290 (25.17%) overlap with jax\n",
      "civic has 42/290 (14.48%) overlap with oncokb\n",
      "civic has 38/290 (13.10%) overlap with pmkb\n",
      "civic has 147/290 (50.69%) overlap with molecularmatch\n",
      "civic has 184/290 (63.45%) overlap overall\n",
      "oncokb has 42/43 (97.67%) overlap with cgi\n",
      "oncokb has 30/43 (69.77%) overlap with jax\n",
      "oncokb has 42/43 (97.67%) overlap with civic\n",
      "oncokb has 20/43 (46.51%) overlap with pmkb\n",
      "oncokb has 40/43 (93.02%) overlap with molecularmatch\n",
      "oncokb has 43/43 (100.00%) overlap overall\n",
      "pmkb has 37/42 (88.10%) overlap with cgi\n",
      "pmkb has 37/42 (88.10%) overlap with jax\n",
      "pmkb has 38/42 (90.48%) overlap with civic\n",
      "pmkb has 20/42 (47.62%) overlap with oncokb\n",
      "pmkb has 32/42 (76.19%) overlap with molecularmatch\n",
      "pmkb has 41/42 (97.62%) overlap overall\n",
      "molecularmatch has 98/193 (50.78%) overlap with cgi\n",
      "molecularmatch has 60/193 (31.09%) overlap with jax\n",
      "molecularmatch has 147/193 (76.17%) overlap with civic\n",
      "molecularmatch has 40/193 (20.73%) overlap with oncokb\n",
      "molecularmatch has 32/193 (16.58%) overlap with pmkb\n",
      "molecularmatch has 153/193 (79.27%) overlap overall\n"
     ]
    }
   ],
   "source": [
    "overlap(d)"
   ]
  },
  {
   "cell_type": "code",
   "execution_count": 16,
   "metadata": {
    "collapsed": false
   },
   "outputs": [],
   "source": [
    "def plot_overlap(d, column_names=['attribute']):\n",
    "    d2 = {g: pd.DataFrame(list(d[g].keys()), columns=column_names) for g in d}\n",
    "    pyu.plot(d2, unique_keys = ['attribute'])"
   ]
  },
  {
   "cell_type": "code",
   "execution_count": 17,
   "metadata": {
    "collapsed": false
   },
   "outputs": [
    {
     "data": {
      "image/png": "[encoded data removed]",
      "text/plain": [
       "<matplotlib.figure.Figure at 0x121f2f828>"
      ]
     },
     "metadata": {},
     "output_type": "display_data"
    }
   ],
   "source": [
    "plot_overlap(d)"
   ]
  },
  {
   "cell_type": "markdown",
   "metadata": {},
   "source": [
    "# Overlap of associations (drug + gene + phenotype)"
   ]
  },
  {
   "cell_type": "markdown",
   "metadata": {},
   "source": [
    "Some hits (example here is from CGI) have strange behavior on drug normalization:"
   ]
  },
  {
   "cell_type": "code",
   "execution_count": 18,
   "metadata": {
    "collapsed": false
   },
   "outputs": [
    {
     "data": {
      "text/plain": [
       "[{'description': 'VANDETANIB',\n",
       "  'id': 'compound:CID3081361',\n",
       "  'taxonomy': {'class': 'Organoheterocyclic compounds',\n",
       "   'direct-parent': 'Quinazolinamines',\n",
       "   'kingdom': 'Chemical entities',\n",
       "   'subclass': 'Diazanaphthalenes',\n",
       "   'superclass': 'Organic compounds'},\n",
       "  'term': 'VANDETANIB',\n",
       "  'usan_stem': 'angiogenesis inhibitors'}]"
      ]
     },
     "execution_count": 18,
     "metadata": {},
     "output_type": "execute_result"
    }
   ],
   "source": [
    "res['hits']['hits'][0]['_source']['association']['environmentalContexts']"
   ]
  },
  {
   "cell_type": "markdown",
   "metadata": {},
   "source": [
    "\"Inhibitor\" drug: https://pubchem.ncbi.nlm.nih.gov/compound/diacylglycerol_kinase_inhibitor_ii#section=Top"
   ]
  },
  {
   "cell_type": "code",
   "execution_count": 19,
   "metadata": {
    "collapsed": false
   },
   "outputs": [
    {
     "data": {
      "text/plain": [
       "'{\"Targeting\": \"\", \"Biomarker\": \"ABL1 (V299L)\", \"Source\": \"PMID:26924578\", \"cDNA\": \"c.895G>C\", \"Primary Tumor type\": \"CANCER\", \"individual_mutation\": \"ABL1:p.V299L\", \"Drug full name\": \"Vandetanib (Pan-TK inhibitor)\", \"Association\": \"Responsive\", \"Drug family\": \"Pan-TK inhibitor\", \"Curator\": \"DTamborero\", \"Drug\": \"Vandetanib\", \"Alteration\": \"ABL1:V299L\", \"gDNA\": \"chr9:g.133747588G>C\", \"Drug status\": \"\", \"Gene\": \"ABL1\", \"transcript\": \"ENST00000318560\", \"strand\": \"+\", \"info\": \"CSQN=Missense;reference_codon=GTG;candidate_codons=CTT,CTG,CTA,CTC,TTA,TTG;candidate_snv_variants=chr9:g.133747588G>T;candidate_mnv_variants=chr9:g.133747588_133747590delGTGinsCTT,chr9:g.133747588_133747590delGTGinsCTA,chr9:g.133747588_133747590delGTGinsCTC,chr9:g.133747588_133747590delGTGinsTTA;aliases=ENSP00000323315;source=Ensembl\", \"Assay type\": \"\", \"Alteration type\": \"MUT\", \"region\": \"inside_[cds_in_exon_5]\", \"Evidence level\": \"Pre-clinical\", \"gene\": \"ABL1\", \"Metastatic Tumor Type\": \"\"}'"
      ]
     },
     "execution_count": 19,
     "metadata": {},
     "output_type": "execute_result"
    }
   ],
   "source": [
    "res['hits']['hits'][0]['_source']['cgi']"
   ]
  },
  {
   "cell_type": "code",
   "execution_count": 20,
   "metadata": {
    "collapsed": true
   },
   "outputs": [],
   "source": [
    "def select_failures(hits):\n",
    "    pheno_failed = 0\n",
    "    drug_failed = 0\n",
    "    gene_failed = 0\n",
    "    for hit in hits:\n",
    "        try:\n",
    "            gene = '|'.join(sorted(hit['_source']['genes']))\n",
    "        except:\n",
    "            print( \"Gene failure on ID {}\".format( hit['_id']))\n",
    "            gene = None\n",
    "        try:\n",
    "            drug = '|'.join(sorted([x['id'] for x in hit['_source']['association']['environmentalContexts']]))\n",
    "        except:\n",
    "            print( \"Drug failure on ID {}\".format( hit['_id'] ))\n",
    "            drug_failed += 1\n",
    "            drug = None\n",
    "        try:\n",
    "            phenotype = hit['_source']['association']['phenotype']['type']['id']\n",
    "        except:\n",
    "            print( \"Phenotype failure on ID {}\".format( hit['_id'] ))\n",
    "            pheno_failed += 1\n",
    "            phenotype = None\n",
    "        if gene is None or drug is None or phenotype is None:\n",
    "            yield(hit)\n",
    "        # yield (gene,drug,phenotype)\n",
    "    print('{} hits with failed phenotype'.format(pheno_failed))\n",
    "    print('{} hits with failed drug'.format(drug_failed))\n",
    "    print('{} total hits'.format(len(hits)))"
   ]
  },
  {
   "cell_type": "code",
   "execution_count": 21,
   "metadata": {
    "collapsed": true
   },
   "outputs": [],
   "source": [
    "def failure_types_by_source(hits):\n",
    "    failures = defaultdict(Counter)\n",
    "    totals = Counter()\n",
    "    for hit in hits:\n",
    "        totals[hit['_source']['source']] += 1\n",
    "        try:\n",
    "            gene = '|'.join(sorted(hit['_source']['genes']))\n",
    "        except:\n",
    "            failures[hit['_source']['source']]['gene'] += 1\n",
    "        try:\n",
    "            drug = '|'.join(sorted([x['id'] for x in hit['_source']['association']['environmentalContexts']]))\n",
    "        except:\n",
    "            failures[hit['_source']['source']]['drug'] += 1\n",
    "        try:\n",
    "            phenotype = hit['_source']['association']['phenotype']['type']['id']\n",
    "        except:\n",
    "            failures[hit['_source']['source']]['phenotype'] += 1\n",
    "    return failures, totals"
   ]
  },
  {
   "cell_type": "code",
   "execution_count": 22,
   "metadata": {
    "collapsed": false
   },
   "outputs": [],
   "source": [
    "%%capture\n",
    "failed = list(select_failures(res['hits']['hits']))"
   ]
  },
  {
   "cell_type": "code",
   "execution_count": 23,
   "metadata": {
    "collapsed": false
   },
   "outputs": [
    {
     "name": "stdout",
     "output_type": "stream",
     "text": [
      "42.32% of associations not fully normalized across gene, drug, phenotype\n"
     ]
    }
   ],
   "source": [
    "print(\"{:.2f}% of associations not fully normalized across gene, drug, phenotype\".format(len(failed) / len(res['hits']['hits']) * 100))"
   ]
  },
  {
   "cell_type": "code",
   "execution_count": 24,
   "metadata": {
    "collapsed": false
   },
   "outputs": [
    {
     "data": {
      "text/plain": [
       "Counter({'cgi': 891,\n",
       "         'civic': 70,\n",
       "         'jax': 1838,\n",
       "         'molecularmatch': 2769,\n",
       "         'oncokb': 51,\n",
       "         'pmkb': 606})"
      ]
     },
     "execution_count": 24,
     "metadata": {},
     "output_type": "execute_result"
    }
   ],
   "source": [
    "c = Counter([x['_source']['source'] for x in failed])\n",
    "c"
   ]
  },
  {
   "cell_type": "code",
   "execution_count": 25,
   "metadata": {
    "collapsed": false
   },
   "outputs": [
    {
     "data": {
      "text/plain": [
       "{'cgi': '62.35%',\n",
       " 'civic': '2.58%',\n",
       " 'jax': '28.22%',\n",
       " 'molecularmatch': '90.02%',\n",
       " 'oncokb': '13.67%',\n",
       " 'pmkb': '100.00%'}"
      ]
     },
     "execution_count": 25,
     "metadata": {},
     "output_type": "execute_result"
    }
   ],
   "source": [
    "def percent(num, den):\n",
    "    return \"{:.2f}%\".format(num / den * 100)\n",
    "\n",
    "d = count_attribute(res, 'source')\n",
    "{source: percent(c[source], d[source]) for source in c}"
   ]
  },
  {
   "cell_type": "code",
   "execution_count": 26,
   "metadata": {
    "collapsed": false
   },
   "outputs": [
    {
     "name": "stdout",
     "output_type": "stream",
     "text": [
      "Drug failures:\n"
     ]
    },
    {
     "data": {
      "text/plain": [
       "{'cgi': '9.10%',\n",
       " 'civic': '0.81%',\n",
       " 'jax': '4.96%',\n",
       " 'molecularmatch': '2.41%',\n",
       " 'oncokb': '5.09%',\n",
       " 'pmkb': '100.00%'}"
      ]
     },
     "execution_count": 26,
     "metadata": {},
     "output_type": "execute_result"
    }
   ],
   "source": [
    "failures = failure_types_by_source(res['hits']['hits'])\n",
    "print('Drug failures:')\n",
    "{source: percent(failures[0][source]['drug'], failures[1][source]) for source in failures[0]}"
   ]
  },
  {
   "cell_type": "code",
   "execution_count": 27,
   "metadata": {
    "collapsed": false
   },
   "outputs": [
    {
     "data": {
      "text/plain": [
       "{'cgi': '60.11%',\n",
       " 'civic': '1.81%',\n",
       " 'jax': '24.20%',\n",
       " 'molecularmatch': '89.60%',\n",
       " 'oncokb': '8.58%',\n",
       " 'pmkb': '23.43%'}"
      ]
     },
     "execution_count": 27,
     "metadata": {},
     "output_type": "execute_result"
    }
   ],
   "source": [
    "{source: percent(failures[0][source]['phenotype'], failures[1][source]) for source in failures[0]}"
   ]
  },
  {
   "cell_type": "markdown",
   "metadata": {},
   "source": [
    "PMKB interpretations (https://pmkb.weill.cornell.edu/therapies) do not list drugs."
   ]
  },
  {
   "cell_type": "code",
   "execution_count": 28,
   "metadata": {
    "collapsed": false
   },
   "outputs": [
    {
     "data": {
      "text/plain": [
       "{'description': 'Somatic activating mutation in MPL (W515L, W515K) has been reported in approximately 1%-10% of cases of JAK2 Val617Phe-negative myelofibrosis, essential thrombocythemia, a subset of cases of acute megakaryoblastic leukemia  and has been associated with sensitivity to JAK inhibitors.   The W515 mutations are typically not observed in polycythemia vera or other myeloid disorders (chronic myelomonocytic leukemia, myelodysplastic syndrome).  A Ser505Asn activating mutation has also been described in familial essential thrombocythemia.',\n",
       " 'drug_labels': 'NA',\n",
       " 'evidence': [{'description': '1',\n",
       "   'evidenceType': {'sourceName': 'pmkb'},\n",
       "   'info': {'publications': ['http://www.ncbi.nlm.nih.gov/pubmed/16834459',\n",
       "     'http://www.ncbi.nlm.nih.gov/pubmed/14764528',\n",
       "     'http://www.ncbi.nlm.nih.gov/pubmed/16868251',\n",
       "     'http://www.ncbi.nlm.nih.gov/pubmed/19194467']}}],\n",
       " 'evidence_label': 'A',\n",
       " 'evidence_level': 1,\n",
       " 'phenotype': {'description': 'myelofibrosis',\n",
       "  'family': 'hematologic cancer',\n",
       "  'type': {'id': 'DOID:4971', 'term': 'myelofibrosis'}},\n",
       " 'publication_url': 'http://www.ncbi.nlm.nih.gov/pubmed/16834459',\n",
       " 'response_type': 'NA'}"
      ]
     },
     "execution_count": 28,
     "metadata": {},
     "output_type": "execute_result"
    }
   ],
   "source": [
    "pmkb = [x for x in failed if x['_source']['source'] == 'pmkb']\n",
    "pmkb[0]['_source']['association']"
   ]
  },
  {
   "cell_type": "code",
   "execution_count": 29,
   "metadata": {
    "collapsed": false
   },
   "outputs": [
    {
     "data": {
      "text/plain": [
       "False"
      ]
     },
     "execution_count": 29,
     "metadata": {},
     "output_type": "execute_result"
    }
   ],
   "source": [
    "any(['environmentalContexts' in x['_source']['association'] for x in pmkb])"
   ]
  },
  {
   "cell_type": "markdown",
   "metadata": {},
   "source": [
    "# Overlap of associations (gene + phenotype)"
   ]
  },
  {
   "cell_type": "code",
   "execution_count": 30,
   "metadata": {
    "collapsed": true
   },
   "outputs": [],
   "source": [
    "def select_failures(hits):\n",
    "    pheno_failed = 0\n",
    "    for hit in hits:\n",
    "        try:\n",
    "            gene = '|'.join(sorted(hit['_source']['genes']))\n",
    "        except:\n",
    "            gene = ''\n",
    "        try:\n",
    "            phenotype = hit['_source']['association']['phenotype']['type']['id']\n",
    "        except:\n",
    "            print( \"Phenotype failure on ID {}\".format( hit['_id'] ))\n",
    "            pheno_failed += 1\n",
    "            phenotype = None\n",
    "        if phenotype is None:\n",
    "            yield(hit)\n",
    "    print('{} hits with failed phenotype'.format(pheno_failed))\n",
    "    print('{} total hits'.format(len(hits)))"
   ]
  },
  {
   "cell_type": "code",
   "execution_count": 31,
   "metadata": {
    "collapsed": false
   },
   "outputs": [],
   "source": [
    "%%capture\n",
    "failed = list(select_failures(res['hits']['hits']))"
   ]
  },
  {
   "cell_type": "code",
   "execution_count": 32,
   "metadata": {
    "collapsed": false
   },
   "outputs": [
    {
     "name": "stdout",
     "output_type": "stream",
     "text": [
      "36.80% of associations not fully normalized across gene, phenotype\n"
     ]
    }
   ],
   "source": [
    "print(\"{:.2f}% of associations not fully normalized across gene, phenotype\".format(len(failed) / len(res['hits']['hits']) * 100))"
   ]
  },
  {
   "cell_type": "code",
   "execution_count": 33,
   "metadata": {
    "collapsed": false
   },
   "outputs": [
    {
     "data": {
      "text/plain": [
       "Counter({'cgi': 859,\n",
       "         'civic': 49,\n",
       "         'jax': 1576,\n",
       "         'molecularmatch': 2756,\n",
       "         'oncokb': 32,\n",
       "         'pmkb': 142})"
      ]
     },
     "execution_count": 33,
     "metadata": {},
     "output_type": "execute_result"
    }
   ],
   "source": [
    "c = Counter([x['_source']['source'] for x in failed])\n",
    "c"
   ]
  },
  {
   "cell_type": "code",
   "execution_count": 34,
   "metadata": {
    "collapsed": false
   },
   "outputs": [
    {
     "data": {
      "text/plain": [
       "{'cgi': '60.11%',\n",
       " 'civic': '1.81%',\n",
       " 'jax': '24.20%',\n",
       " 'molecularmatch': '89.60%',\n",
       " 'oncokb': '8.58%',\n",
       " 'pmkb': '23.43%'}"
      ]
     },
     "execution_count": 34,
     "metadata": {},
     "output_type": "execute_result"
    }
   ],
   "source": [
    "d = count_attribute(res, 'source')\n",
    "{source: percent(c[source], d[source]) for source in c}"
   ]
  },
  {
   "cell_type": "markdown",
   "metadata": {},
   "source": [
    "Prostate Adenocarcinoma?"
   ]
  },
  {
   "cell_type": "code",
   "execution_count": 35,
   "metadata": {
    "collapsed": false
   },
   "outputs": [
    {
     "data": {
      "text/plain": [
       "{'description': 'ABL1 Ponatinib (BCR-ABL inhibitor 3rd gen&Pan-TK inhibitor) Responsive',\n",
       " 'drug_labels': 'PONATINIB',\n",
       " 'environmentalContexts': [{'description': 'PONATINIB',\n",
       "   'id': 'compound:CID24826799',\n",
       "   'taxonomy': {'class': 'Benzenoids',\n",
       "    'direct-parent': 'Benzanilides',\n",
       "    'kingdom': 'Chemical entities',\n",
       "    'subclass': 'Benzene and substituted derivatives',\n",
       "    'superclass': 'Organic compounds'},\n",
       "   'term': 'PONATINIB',\n",
       "   'toxicity': 'The most common non-hematologic adverse reactions (≥ 20%) were hypertension, rash, abdominal pain, fatigue, headache, dry skin, constipation, arthralgia, nausea, and pyrexia. Hematologic adverse reactions included thrombocytopenia, anemia, neutropenia, lymphopenia, and leukopenia.',\n",
       "   'usan_stem': 'tyrosine kinase inhibitors'}],\n",
       " 'evidence': [{'description': 'Responsive',\n",
       "   'evidenceType': {'sourceName': 'cgi'},\n",
       "   'info': {'publications': ['https://www.google.com/#q=FDA']}}],\n",
       " 'evidence_label': 'A',\n",
       " 'evidence_level': 1,\n",
       " 'phenotype': {'description': 'CML;ALL'},\n",
       " 'publication_url': 'https://www.google.com/#q=FDA',\n",
       " 'response_type': 'Responsive'}"
      ]
     },
     "execution_count": 35,
     "metadata": {},
     "output_type": "execute_result"
    }
   ],
   "source": [
    "cgi = [x for x in failed if x['_source']['source'] == 'cgi']\n",
    "cgi[0]['_source']['association']"
   ]
  },
  {
   "cell_type": "code",
   "execution_count": 36,
   "metadata": {
    "collapsed": false
   },
   "outputs": [
    {
     "data": {
      "text/plain": [
       "'{\"Targeting\": \"\", \"Biomarker\": \"ABL1 (T315I)\", \"Source\": \"FDA\", \"cDNA\": \"c.944C>T\", \"Primary Tumor type\": \"CML;ALL\", \"individual_mutation\": \"ABL1:p.T315I\", \"Drug full name\": \"Ponatinib (BCR-ABL inhibitor 3rd gen&Pan-TK inhibitor)\", \"Association\": \"Responsive\", \"Drug family\": \"BCR-ABL inhibitor 3rd gen&Pan-TK inhibitor\", \"Curator\": \"CRubio-Perez;DTamborero;RDientsmann\", \"Drug\": \"Ponatinib\", \"Alteration\": \"ABL1:T315I\", \"gDNA\": \"chr9:g.133748283C>T\", \"Drug status\": \"Approved\", \"Gene\": \"ABL1\", \"transcript\": \"ENST00000318560\", \"strand\": \"+\", \"info\": \"CSQN=Missense;reference_codon=ACT;candidate_codons=ATC,ATA,ATT;candidate_mnv_variants=chr9:g.133748283_133748284delCTinsTC,chr9:g.133748283_133748284delCTinsTA;aliases=ENSP00000323315;source=Ensembl\", \"Assay type\": \"\", \"Alteration type\": \"MUT\", \"region\": \"inside_[cds_in_exon_6]\", \"Evidence level\": \"FDA guidelines\", \"gene\": \"ABL1\", \"Metastatic Tumor Type\": \"\"}'"
      ]
     },
     "execution_count": 36,
     "metadata": {},
     "output_type": "execute_result"
    }
   ],
   "source": [
    "cgi[0]['_source']['cgi']"
   ]
  },
  {
   "cell_type": "code",
   "execution_count": 37,
   "metadata": {
    "collapsed": false
   },
   "outputs": [],
   "source": [
    "%%capture\n",
    "set([x['_source']['association']['phenotype']['description'] for x in cgi])"
   ]
  },
  {
   "cell_type": "code",
   "execution_count": 38,
   "metadata": {
    "collapsed": true
   },
   "outputs": [],
   "source": [
    "def select_successes(hits):\n",
    "    pheno_failed = 0\n",
    "    for hit in hits:\n",
    "        try:\n",
    "            gene = '|'.join(sorted(hit['_source']['genes']))\n",
    "            hit['merged'] = {'gene': gene}\n",
    "        except:\n",
    "            hit['merged'] = {'gene': ''}\n",
    "        try:\n",
    "            phenotype = hit['_source']['association']['phenotype']['type']['id']\n",
    "        except:\n",
    "            print( \"Phenotype failure on ID {}\".format( hit['_id'] ))\n",
    "            pheno_failed += 1\n",
    "            phenotype = None\n",
    "        if phenotype is None:\n",
    "            continue\n",
    "        hit['merged']['phenotype'] = phenotype\n",
    "        yield hit\n",
    "        \n",
    "    print('{} hits with failed phenotype'.format(pheno_failed))\n",
    "    print('{} total hits'.format(len(hits)))"
   ]
  },
  {
   "cell_type": "code",
   "execution_count": 39,
   "metadata": {
    "collapsed": false
   },
   "outputs": [],
   "source": [
    "%%capture\n",
    "successes = list(select_successes(res['hits']['hits']))"
   ]
  },
  {
   "cell_type": "code",
   "execution_count": 40,
   "metadata": {
    "collapsed": false
   },
   "outputs": [
    {
     "data": {
      "text/plain": [
       "Counter({'cgi': 570,\n",
       "         'civic': 2664,\n",
       "         'jax': 4937,\n",
       "         'molecularmatch': 320,\n",
       "         'oncokb': 341,\n",
       "         'pmkb': 464})"
      ]
     },
     "execution_count": 40,
     "metadata": {},
     "output_type": "execute_result"
    }
   ],
   "source": [
    "s = Counter([x['_source']['source'] for x in successes])\n",
    "s"
   ]
  },
  {
   "cell_type": "code",
   "execution_count": 41,
   "metadata": {
    "collapsed": true
   },
   "outputs": [],
   "source": [
    "success_by_source = dict()\n",
    "for source in s:\n",
    "    success_by_source[source] = set([(x['merged']['gene'], x['merged']['phenotype']) for x in successes if x['_source']['source'] == source])"
   ]
  },
  {
   "cell_type": "code",
   "execution_count": 42,
   "metadata": {
    "collapsed": false
   },
   "outputs": [],
   "source": [
    "%%capture\n",
    "success_by_source"
   ]
  },
  {
   "cell_type": "code",
   "execution_count": 43,
   "metadata": {
    "collapsed": false
   },
   "outputs": [
    {
     "name": "stdout",
     "output_type": "stream",
     "text": [
      "cgi has 14/105 (13.33%) overlap with jax\n",
      "cgi has 26/105 (24.76%) overlap with civic\n",
      "cgi has 9/105 (8.57%) overlap with oncokb\n",
      "cgi has 6/105 (5.71%) overlap with pmkb\n",
      "cgi has 0/105 (0.00%) overlap with molecularmatch\n",
      "cgi has 28/105 (26.67%) overlap overall\n",
      "jax has 14/832 (1.68%) overlap with cgi\n",
      "jax has 175/832 (21.03%) overlap with civic\n",
      "jax has 37/832 (4.45%) overlap with oncokb\n",
      "jax has 34/832 (4.09%) overlap with pmkb\n",
      "jax has 9/832 (1.08%) overlap with molecularmatch\n",
      "jax has 201/832 (24.16%) overlap overall\n",
      "civic has 26/756 (3.44%) overlap with cgi\n",
      "civic has 175/756 (23.15%) overlap with jax\n",
      "civic has 32/756 (4.23%) overlap with oncokb\n",
      "civic has 34/756 (4.50%) overlap with pmkb\n",
      "civic has 6/756 (0.79%) overlap with molecularmatch\n",
      "civic has 206/756 (27.25%) overlap overall\n",
      "oncokb has 9/68 (13.24%) overlap with cgi\n",
      "oncokb has 37/68 (54.41%) overlap with jax\n",
      "oncokb has 32/68 (47.06%) overlap with civic\n",
      "oncokb has 9/68 (13.24%) overlap with pmkb\n",
      "oncokb has 0/68 (0.00%) overlap with molecularmatch\n",
      "oncokb has 42/68 (61.76%) overlap overall\n",
      "pmkb has 6/127 (4.72%) overlap with cgi\n",
      "pmkb has 34/127 (26.77%) overlap with jax\n",
      "pmkb has 34/127 (26.77%) overlap with civic\n",
      "pmkb has 9/127 (7.09%) overlap with oncokb\n",
      "pmkb has 5/127 (3.94%) overlap with molecularmatch\n",
      "pmkb has 50/127 (39.37%) overlap overall\n",
      "molecularmatch has 0/122 (0.00%) overlap with cgi\n",
      "molecularmatch has 9/122 (7.38%) overlap with jax\n",
      "molecularmatch has 6/122 (4.92%) overlap with civic\n",
      "molecularmatch has 0/122 (0.00%) overlap with oncokb\n",
      "molecularmatch has 5/122 (4.10%) overlap with pmkb\n",
      "molecularmatch has 14/122 (11.48%) overlap overall\n"
     ]
    }
   ],
   "source": [
    "overlap(success_by_source)"
   ]
  },
  {
   "cell_type": "code",
   "execution_count": 44,
   "metadata": {
    "collapsed": false,
    "scrolled": true
   },
   "outputs": [
    {
     "data": {
      "image/png": "[encoded data removed]",
      "text/plain": [
       "<matplotlib.figure.Figure at 0x121a63fd0>"
      ]
     },
     "metadata": {},
     "output_type": "display_data"
    }
   ],
   "source": [
    "def plot_overlap(d, column_names=['attribute']):\n",
    "    d2 = {g: pd.DataFrame(list(d[g]), columns=column_names) for g in d}\n",
    "    pyu.plot(d2, unique_keys = column_names)\n",
    "    \n",
    "plot_overlap(success_by_source, column_names=['gene', 'phenotype'])"
   ]
  },
  {
   "cell_type": "markdown",
   "metadata": {},
   "source": [
    "\n",
    "## Finding gene-PMID associations and comparing to gene-phenotype"
   ]
  },
  {
   "cell_type": "markdown",
   "metadata": {},
   "source": [
    "This is some debugging code for issue 41: https://github.com/ohsu-comp-bio/g2p-aggregator/issues/41"
   ]
  },
  {
   "cell_type": "code",
   "execution_count": 45,
   "metadata": {
    "collapsed": true
   },
   "outputs": [],
   "source": [
    "double_listed_refs = Counter()\n",
    "single_listed_refs = Counter()\n",
    "\n",
    "listed_evidence = Counter()\n",
    "single_evidence = Counter()\n",
    "for hit in res['hits']['hits']:\n",
    "    if isinstance(hit['_source']['association']['evidence'], list):\n",
    "        listed_evidence[hit['_source']['source']] += 1\n",
    "        for evidence in hit['_source']['association']['evidence']:\n",
    "            for pmid_url in evidence['info']['publications']:\n",
    "                if isinstance(pmid_url, list):\n",
    "                    double_listed_refs[hit['_source']['source']] += 1\n",
    "                else:\n",
    "                    single_listed_refs[hit['_source']['source']] += 1\n",
    "    else:\n",
    "        single_evidence[hit['_source']['source']] += 1\n",
    "        evidence = hit['_source']['association']['evidence']\n",
    "        for pmid_url in evidence['info']['publications']:\n",
    "            if isinstance(pmid_url, list):\n",
    "                double_listed_refs[hit['_source']['source']] += 1\n",
    "            else:\n",
    "                single_listed_refs[hit['_source']['source']] += 1"
   ]
  },
  {
   "cell_type": "code",
   "execution_count": 46,
   "metadata": {
    "collapsed": false
   },
   "outputs": [
    {
     "name": "stdout",
     "output_type": "stream",
     "text": [
      "Counter()\n",
      "Counter({'jax': 6338, 'molecularmatch': 4821, 'pmkb': 3679, 'civic': 2713, 'cgi': 1859, 'oncokb': 172})\n",
      "Counter({'jax': 6513, 'molecularmatch': 3076, 'civic': 2713, 'cgi': 1429, 'pmkb': 606, 'oncokb': 373})\n",
      "Counter()\n"
     ]
    }
   ],
   "source": [
    "print(double_listed_refs)\n",
    "print(single_listed_refs)\n",
    "print(listed_evidence)\n",
    "print(single_evidence)"
   ]
  },
  {
   "cell_type": "markdown",
   "metadata": {},
   "source": [
    "First, we'll look at just PMID overlap"
   ]
  },
  {
   "cell_type": "code",
   "execution_count": 47,
   "metadata": {
    "collapsed": false
   },
   "outputs": [],
   "source": [
    "pmid_re = re.compile(r'https?://www.ncbi.nlm.nih.gov/pubmed/(\\d+)')\n",
    "source_pmids = defaultdict(set)\n",
    "single_url = Counter()\n",
    "listed_url = Counter()\n",
    "for hit in res['hits']['hits']:\n",
    "    pmids = set()\n",
    "    # next two lines fix double_listing, see https://github.com/ohsu-comp-bio/g2p-aggregator/issues/41\n",
    "    if not isinstance(hit['_source']['association']['evidence'], list):\n",
    "        hit['_source']['association']['evidence'] = [hit['_source']['association']['evidence']]\n",
    "    for evidence in hit['_source']['association']['evidence']:\n",
    "        urls = evidence['info']['publications']\n",
    "    # next two lines fix single_evidence, see https://github.com/ohsu-comp-bio/g2p-aggregator/issues/41\n",
    "        if urls and isinstance(urls[0], list):\n",
    "            urls = itertools.chain.from_iterable(urls)\n",
    "        for pmid_url in urls:\n",
    "            match = pmid_re.match(pmid_url)\n",
    "            if match:\n",
    "                pmids.add(match.groups()[0])\n",
    "    urls = hit['_source']['association'].get('publication_url')\n",
    "    # the following lines document differences in the structure of the publication_url field\n",
    "    if not isinstance(urls, list):\n",
    "        single_url[hit['_source']['source']] += 1\n",
    "        urls = [urls]\n",
    "    else:\n",
    "        listed_url[hit['_source']['source']] += 1\n",
    "    for url in urls:\n",
    "        if url is None:\n",
    "            continue\n",
    "        match = pmid_re.match(url)\n",
    "        if match:\n",
    "            pmids.add(match.groups()[0])\n",
    "    source_pmids[hit['_source']['source']] |= pmids\n",
    "    pmids = list(pmids)\n",
    "    if 'merged' in hit:\n",
    "        hit['merged']['pmids'] = pmids\n",
    "    else:\n",
    "        hit['merged'] = {'pmids': pmids}\n",
    "    "
   ]
  },
  {
   "cell_type": "code",
   "execution_count": 48,
   "metadata": {
    "collapsed": false
   },
   "outputs": [
    {
     "data": {
      "text/plain": [
       "{'cgi': 566,\n",
       " 'civic': 1431,\n",
       " 'jax': 1334,\n",
       " 'molecularmatch': 945,\n",
       " 'oncokb': 76,\n",
       " 'pmkb': 335}"
      ]
     },
     "execution_count": 48,
     "metadata": {},
     "output_type": "execute_result"
    }
   ],
   "source": [
    "{k: len(v) for k, v in source_pmids.items()}"
   ]
  },
  {
   "cell_type": "code",
   "execution_count": 49,
   "metadata": {
    "collapsed": false
   },
   "outputs": [
    {
     "name": "stdout",
     "output_type": "stream",
     "text": [
      "cgi has 135/566 (23.85%) overlap with jax\n",
      "cgi has 158/566 (27.92%) overlap with civic\n",
      "cgi has 21/566 (3.71%) overlap with oncokb\n",
      "cgi has 15/566 (2.65%) overlap with pmkb\n",
      "cgi has 144/566 (25.44%) overlap with molecularmatch\n",
      "cgi has 261/566 (46.11%) overlap overall\n",
      "jax has 135/1334 (10.12%) overlap with cgi\n",
      "jax has 217/1334 (16.27%) overlap with civic\n",
      "jax has 15/1334 (1.12%) overlap with oncokb\n",
      "jax has 32/1334 (2.40%) overlap with pmkb\n",
      "jax has 205/1334 (15.37%) overlap with molecularmatch\n",
      "jax has 360/1334 (26.99%) overlap overall\n",
      "civic has 158/1431 (11.04%) overlap with cgi\n",
      "civic has 217/1431 (15.16%) overlap with jax\n",
      "civic has 27/1431 (1.89%) overlap with oncokb\n",
      "civic has 36/1431 (2.52%) overlap with pmkb\n",
      "civic has 621/1431 (43.40%) overlap with molecularmatch\n",
      "civic has 730/1431 (51.01%) overlap overall\n",
      "oncokb has 21/76 (27.63%) overlap with cgi\n",
      "oncokb has 15/76 (19.74%) overlap with jax\n",
      "oncokb has 27/76 (35.53%) overlap with civic\n",
      "oncokb has 3/76 (3.95%) overlap with pmkb\n",
      "oncokb has 27/76 (35.53%) overlap with molecularmatch\n",
      "oncokb has 44/76 (57.89%) overlap overall\n",
      "pmkb has 15/335 (4.48%) overlap with cgi\n",
      "pmkb has 32/335 (9.55%) overlap with jax\n",
      "pmkb has 36/335 (10.75%) overlap with civic\n",
      "pmkb has 3/335 (0.90%) overlap with oncokb\n",
      "pmkb has 35/335 (10.45%) overlap with molecularmatch\n",
      "pmkb has 68/335 (20.30%) overlap overall\n",
      "molecularmatch has 144/945 (15.24%) overlap with cgi\n",
      "molecularmatch has 205/945 (21.69%) overlap with jax\n",
      "molecularmatch has 621/945 (65.71%) overlap with civic\n",
      "molecularmatch has 27/945 (2.86%) overlap with oncokb\n",
      "molecularmatch has 35/945 (3.70%) overlap with pmkb\n",
      "molecularmatch has 700/945 (74.07%) overlap overall\n"
     ]
    }
   ],
   "source": [
    "overlap(source_pmids)"
   ]
  },
  {
   "cell_type": "code",
   "execution_count": 50,
   "metadata": {
    "collapsed": false
   },
   "outputs": [
    {
     "data": {
      "image/png": "[encoded data removed]",
      "text/plain": [
       "<matplotlib.figure.Figure at 0x117fef0f0>"
      ]
     },
     "metadata": {},
     "output_type": "display_data"
    }
   ],
   "source": [
    "def plot_overlap(d, column_names=['attribute']):\n",
    "    d2 = {g: pd.DataFrame(list(d[g]), columns=column_names) for g in d}\n",
    "    pyu.plot(d2, unique_keys = column_names)\n",
    "    \n",
    "plot_overlap(source_pmids)"
   ]
  },
  {
   "cell_type": "markdown",
   "metadata": {},
   "source": [
    "Parse PMIDs specifically for each source, see if differences exist.\n",
    "\n",
    "Connect PMIDs to genes, phenotypes, gene + phenotype"
   ]
  },
  {
   "cell_type": "code",
   "execution_count": 62,
   "metadata": {
    "collapsed": false
   },
   "outputs": [],
   "source": [
    "pmid_dict = defaultdict(lambda: defaultdict(list))\n",
    "for hit in res['hits']['hits']:\n",
    "    pmids = hit.get('merged',{}).get('pmids',[])\n",
    "    for pmid in pmids:\n",
    "        pmid_dict[pmid][hit['_source']['source']].append(hit['merged'])"
   ]
  },
  {
   "cell_type": "code",
   "execution_count": 66,
   "metadata": {
    "collapsed": false
   },
   "outputs": [
    {
     "data": {
      "text/plain": [
       "3433"
      ]
     },
     "execution_count": 66,
     "metadata": {},
     "output_type": "execute_result"
    }
   ],
   "source": [
    "len(pmid_dict)"
   ]
  },
  {
   "cell_type": "code",
   "execution_count": 81,
   "metadata": {
    "collapsed": false
   },
   "outputs": [
    {
     "data": {
      "text/plain": [
       "909"
      ]
     },
     "execution_count": 81,
     "metadata": {},
     "output_type": "execute_result"
    }
   ],
   "source": [
    "multi_hit_pmids = {x: v for x, v in pmid_dict.items() if len(v) > 1}\n",
    "len(multi_hit_pmids)"
   ]
  },
  {
   "cell_type": "code",
   "execution_count": 83,
   "metadata": {
    "collapsed": false
   },
   "outputs": [
    {
     "data": {
      "text/plain": [
       "defaultdict(list,\n",
       "            {'cgi': [{'gene': 'ARAF', 'pmids': ['24569458']}],\n",
       "             'civic': [{'gene': 'ARAF',\n",
       "               'phenotype': 'DOID:3908',\n",
       "               'pmids': ['24569458']},\n",
       "              {'gene': 'ARAF',\n",
       "               'phenotype': 'DOID:3908',\n",
       "               'pmids': ['24569458']},\n",
       "              {'gene': 'ARAF',\n",
       "               'phenotype': 'DOID:3908',\n",
       "               'pmids': ['24569458']}],\n",
       "             'molecularmatch': [{'gene': 'ARAF', 'pmids': ['24569458']},\n",
       "              {'gene': 'ARAF', 'pmids': ['24569458']},\n",
       "              {'gene': 'ARAF', 'pmids': ['24569458']}],\n",
       "             'oncokb': [{'gene': 'ARAF',\n",
       "               'phenotype': 'DOID:3908',\n",
       "               'pmids': ['24569458']},\n",
       "              {'gene': 'RAF1',\n",
       "               'phenotype': 'DOID:3908',\n",
       "               'pmids': ['24569458']},\n",
       "              {'gene': 'ARAF',\n",
       "               'phenotype': 'DOID:3405',\n",
       "               'pmids': ['24569458']}]})"
      ]
     },
     "execution_count": 83,
     "metadata": {},
     "output_type": "execute_result"
    }
   ],
   "source": [
    "multi_hit_pmids['24569458']"
   ]
  },
  {
   "cell_type": "code",
   "execution_count": 104,
   "metadata": {
    "collapsed": false
   },
   "outputs": [
    {
     "data": {
      "text/plain": [
       "417"
      ]
     },
     "execution_count": 104,
     "metadata": {},
     "output_type": "execute_result"
    }
   ],
   "source": [
    "multi_hit_normalized = dict()\n",
    "for pmid, source_dict in multi_hit_pmids.items():\n",
    "    new_source_dict = dict()\n",
    "    for source, associations in source_dict.items():\n",
    "        filtered_associations = [x for x in associations if 'phenotype' in x]\n",
    "        if any(filtered_associations):\n",
    "            new_source_dict[source] = filtered_associations\n",
    "    if len(new_source_dict) > 1:\n",
    "        multi_hit_normalized[pmid] = new_source_dict\n",
    "len(multi_hit_normalized)"
   ]
  },
  {
   "cell_type": "code",
   "execution_count": 134,
   "metadata": {
    "collapsed": false
   },
   "outputs": [
    {
     "name": "stdout",
     "output_type": "stream",
     "text": [
      "=====\n",
      "civic: {('ALK', 'DOID:3908')}\n",
      "jax: {('ALK', 'DOID:3910'), ('ALK|EML4', 'DOID:3908')}\n",
      "=====\n",
      "civic: {('ALK', 'DOID:3908')}\n",
      "molecularmatch: {('ALK', 'DOID:3905')}\n",
      "=====\n",
      "jax: {('ALK', 'DOID:3910'), ('ALK|EML4', 'DOID:3908')}\n",
      "molecularmatch: {('ALK', 'DOID:3905')}\n",
      "=====\n",
      "cgi: {('ALK', 'DOID:3908')}\n",
      "jax: {('ALK|EML4', 'DOID:3908')}\n",
      "=====\n",
      "civic: {('EGFR', 'DOID:3908'), ('KRAS', 'DOID:3908'), ('ALK', 'DOID:3908')}\n",
      "jax: {('ALK|EML4', 'DOID:3908')}\n",
      "=====\n",
      "cgi: {('CD274', 'DOID:162')}\n",
      "pmkb: {('SMAD4', 'DOID:305'), ('SMAD4', 'DOID:299')}\n",
      "=====\n",
      "cgi: {('CSF3R', 'DOID:0060597')}\n",
      "jax: {('CSF3R', 'DOID:4960')}\n",
      "=====\n",
      "civic: {('CSF3R', 'DOID:0060597')}\n",
      "jax: {('CSF3R', 'DOID:4960')}\n",
      "=====\n",
      "civic: {('EGFR', 'DOID:3068'), ('PTEN', 'DOID:3068')}\n",
      "molecularmatch: {('EGFR', 'DOID:3070')}\n",
      "=====\n",
      "civic: {('ERBB2', 'DOID:1612')}\n",
      "pmkb: {('ERBB2', 'DOID:3008'), ('ERBB2', 'DOID:299')}\n",
      "=====\n",
      "jax: {('ERBB2', 'DOID:1612')}\n",
      "pmkb: {('ERBB2', 'DOID:3008'), ('ERBB2', 'DOID:299')}\n",
      "=====\n",
      "cgi: {('ERBB4', 'DOID:3663')}\n",
      "civic: {('ERBB4', 'DOID:1909')}\n",
      "=====\n",
      "cgi: {('ERBB4', 'DOID:3663')}\n",
      "jax: {('ERBB4', 'DOID:1909')}\n",
      "=====\n",
      "cgi: {('ERBB4', 'DOID:3663')}\n",
      "molecularmatch: {('ERBB4', 'DOID:0060123')}\n",
      "=====\n",
      "civic: {('ERBB4', 'DOID:1909')}\n",
      "molecularmatch: {('ERBB4', 'DOID:0060123')}\n",
      "=====\n",
      "jax: {('ERBB4', 'DOID:1909')}\n",
      "molecularmatch: {('ERBB4', 'DOID:0060123')}\n",
      "=====\n",
      "jax: {('FGFR2', 'DOID:1380')}\n",
      "pmkb: {('FGFR2', 'DOID:3008')}\n",
      "=====\n",
      "cgi: {('GNAQ', 'DOID:3663'), ('GNA11', 'DOID:3663')}\n",
      "jax: {('GNAQ', 'DOID:6039'), ('GNA11', 'DOID:6039')}\n",
      "=====\n",
      "cgi: {('KIT', 'DOID:3663')}\n",
      "jax: {('KIT', 'DOID:1909'), ('KIT', 'DOID:2093')}\n",
      "=====\n",
      "cgi: {('KIT', 'DOID:3663')}\n",
      "civic: {('KIT', 'DOID:1909')}\n",
      "=====\n",
      "cgi: {('KIT', 'DOID:3663')}\n",
      "molecularmatch: {('KIT', 'DOID:0060123')}\n",
      "=====\n",
      "cgi: {('KIT', 'DOID:3663')}\n",
      "pmkb: {('KIT', 'DOID:1909')}\n",
      "=====\n",
      "civic: {('KIT', 'DOID:1909')}\n",
      "molecularmatch: {('KIT', 'DOID:0060123')}\n",
      "=====\n",
      "molecularmatch: {('KIT', 'DOID:0060123')}\n",
      "pmkb: {('KIT', 'DOID:1909')}\n",
      "=====\n",
      "cgi: {('KIT', 'DOID:3663')}\n",
      "civic: {('KIT', 'DOID:1909')}\n",
      "=====\n",
      "cgi: {('KIT', 'DOID:3663')}\n",
      "civic: {('KIT', 'DOID:14145')}\n",
      "=====\n",
      "cgi: {('KIT', 'DOID:3663')}\n",
      "civic: {('KIT', 'DOID:1909')}\n",
      "=====\n",
      "cgi: {('KIT', 'DOID:9253')}\n",
      "jax: {('KIT', 'DOID:1909')}\n",
      "=====\n",
      "cgi: {('JAK2', 'DOID:3663'), ('B2M', 'DOID:3663'), ('JAK1', 'DOID:3663')}\n",
      "civic: {('JAK2', 'DOID:8923'), ('B2M', 'DOID:8923'), ('JAK1', 'DOID:8923')}\n",
      "=====\n",
      "cgi: {('JAK2', 'DOID:3663'), ('B2M', 'DOID:3663'), ('JAK1', 'DOID:3663')}\n",
      "jax: {('JAK2', 'DOID:1909')}\n",
      "=====\n",
      "cgi: {('JAK2', 'DOID:3663'), ('B2M', 'DOID:3663'), ('JAK1', 'DOID:3663')}\n",
      "molecularmatch: {('JAK2', 'DOID:0060123')}\n",
      "=====\n",
      "civic: {('JAK2', 'DOID:8923'), ('B2M', 'DOID:8923'), ('JAK1', 'DOID:8923')}\n",
      "jax: {('JAK2', 'DOID:1909')}\n",
      "=====\n",
      "civic: {('JAK2', 'DOID:8923'), ('B2M', 'DOID:8923'), ('JAK1', 'DOID:8923')}\n",
      "molecularmatch: {('JAK2', 'DOID:0060123')}\n",
      "=====\n",
      "jax: {('JAK2', 'DOID:1909')}\n",
      "molecularmatch: {('JAK2', 'DOID:0060123')}\n",
      "=====\n",
      "cgi: {('MAP2K1', 'DOID:162'), ('MAP2K1', 'DOID:3663')}\n",
      "civic: {('MAP2K1', 'DOID:1909')}\n",
      "=====\n",
      "cgi: {('MAP2K1', 'DOID:162'), ('MAP2K1', 'DOID:3663')}\n",
      "jax: {('BRAF|MAP2K1', 'DOID:1909'), ('MAP2K1', 'DOID:1909')}\n",
      "=====\n",
      "cgi: {('MAP2K1', 'DOID:162'), ('MAP2K1', 'DOID:3663')}\n",
      "molecularmatch: {('MAP2K1', 'DOID:4159')}\n",
      "=====\n",
      "civic: {('MAP2K1', 'DOID:1909')}\n",
      "molecularmatch: {('MAP2K1', 'DOID:4159')}\n",
      "=====\n",
      "jax: {('BRAF|MAP2K1', 'DOID:1909'), ('MAP2K1', 'DOID:1909')}\n",
      "molecularmatch: {('MAP2K1', 'DOID:4159')}\n",
      "=====\n",
      "civic: {('MET', 'DOID:9256')}\n",
      "molecularmatch: {('MET', 'DOID:4610')}\n",
      "=====\n",
      "cgi: {('MAP2K2', 'DOID:3663')}\n",
      "jax: {('BRAF|MAP2K1', 'DOID:1909')}\n",
      "=====\n",
      "cgi: {('MAP2K1', 'DOID:3663')}\n",
      "civic: {('MAP2K1', 'DOID:1909')}\n",
      "=====\n",
      "cgi: {('MAP2K1', 'DOID:3663')}\n",
      "jax: {('BRAF|MAP2K1', 'DOID:1909')}\n",
      "=====\n",
      "cgi: {('MAP2K1', 'DOID:3663')}\n",
      "molecularmatch: {('MAP2K1', 'DOID:0060123')}\n",
      "=====\n",
      "civic: {('MAP2K1', 'DOID:1909')}\n",
      "jax: {('BRAF|MAP2K1', 'DOID:1909')}\n",
      "=====\n",
      "civic: {('MAP2K1', 'DOID:1909')}\n",
      "molecularmatch: {('MAP2K1', 'DOID:0060123')}\n",
      "=====\n",
      "jax: {('BRAF|MAP2K1', 'DOID:1909')}\n",
      "molecularmatch: {('MAP2K1', 'DOID:0060123')}\n",
      "=====\n",
      "cgi: {('MAP2K2', 'DOID:3663'), ('MITF', 'DOID:3663'), ('NRAS', 'DOID:3663')}\n",
      "jax: {('BRAF|NRAS', 'DOID:1909'), ('MAP2K1', 'DOID:1909'), ('BRAF|PTEN', 'DOID:1909'), ('BRAF|PIK3CA|PTEN', 'DOID:1909'), ('BRAF|MAP2K1|NRAS', 'DOID:1909'), ('BRAF|MAP2K1', 'DOID:1909')}\n",
      "=====\n",
      "cgi: {('MTOR', 'DOID:162')}\n",
      "civic: {('MTOR', 'DOID:3963'), ('TSC2', 'DOID:3963')}\n",
      "=====\n",
      "civic: {('MTOR', 'DOID:4007')}\n",
      "oncokb: {('MTOR', 'DOID:11054')}\n",
      "=====\n",
      "cgi: {('MTOR', 'DOID:162')}\n",
      "civic: {('MTOR', 'DOID:4467'), ('MTOR', 'DOID:2870')}\n",
      "=====\n",
      "cgi: {('NRAS', 'DOID:3663')}\n",
      "civic: {('NRAS', 'DOID:8923')}\n",
      "=====\n",
      "cgi: {('NRAS', 'DOID:3663')}\n",
      "jax: {('NRAS', 'DOID:1909'), ('BRAF', 'DOID:1909')}\n",
      "=====\n",
      "civic: {('NRAS', 'DOID:8923')}\n",
      "jax: {('NRAS', 'DOID:1909'), ('BRAF', 'DOID:1909')}\n",
      "=====\n",
      "civic: {('NRAS', 'DOID:1324'), ('NRAS', 'DOID:3908')}\n",
      "molecularmatch: {('NRAS', 'DOID:3905')}\n",
      "=====\n",
      "cgi: {('PDGFRA', 'DOID:3663')}\n",
      "civic: {('PDGFRA', 'DOID:1909')}\n",
      "=====\n",
      "cgi: {('PDGFRA', 'DOID:3663')}\n",
      "molecularmatch: {('PDGFRA', 'DOID:0060123'), ('PDGFRA', 'DOID:4159')}\n",
      "=====\n",
      "civic: {('PDGFRA', 'DOID:1909')}\n",
      "molecularmatch: {('PDGFRA', 'DOID:0060123'), ('PDGFRA', 'DOID:4159')}\n",
      "=====\n",
      "cgi: {('TP53', 'DOID:162')}\n",
      "jax: {('TP53', 'DOID:2394'), ('TP53', 'DOID:10283'), ('TP53', 'DOID:1612')}\n",
      "=====\n",
      "civic: {('ALK', 'DOID:4556')}\n",
      "jax: {('ALK|NPM1', 'DOID:0050744')}\n",
      "=====\n",
      "civic: {('ALK', 'DOID:162'), ('ALK', 'DOID:3908')}\n",
      "jax: {('ALK|EML4', 'DOID:3908')}\n",
      "=====\n",
      "jax: {('ALK|EML4', 'DOID:3908')}\n",
      "pmkb: {('ALK', 'DOID:299'), ('ALK', 'DOID:3908')}\n",
      "=====\n",
      "civic: {('ALK', 'DOID:3908')}\n",
      "jax: {('ALK|EML4', 'DOID:3908'), ('ALK|EML4', 'DOID:1324')}\n",
      "=====\n",
      "civic: {('ALK', 'DOID:3908')}\n",
      "jax: {('ALK|EML4', 'DOID:3908')}\n",
      "=====\n",
      "civic: {('ALK', 'DOID:3908')}\n",
      "molecularmatch: {('', 'DOID:3905')}\n",
      "=====\n",
      "jax: {('ALK|EML4', 'DOID:3908')}\n",
      "molecularmatch: {('', 'DOID:3905')}\n",
      "=====\n",
      "cgi: {('BRAF|PTEN', 'DOID:3663')}\n",
      "jax: {('NRAS', 'DOID:1909'), ('BRAF', 'DOID:1909'), ('BRAF|PTEN', 'DOID:1909'), ('HRAS', 'DOID:1909'), ('PTEN', 'DOID:1909')}\n",
      "=====\n",
      "cgi: {('PTEN', 'DOID:3663')}\n",
      "jax: {('BRAF|PTEN', 'DOID:1909'), ('PTEN', 'DOID:1909')}\n",
      "=====\n",
      "civic: {('STAG3', 'DOID:1909'), ('STAG2', 'DOID:1909')}\n",
      "jax: {('BRAF|STAG2', 'DOID:1909'), ('NRAS|STAG2', 'DOID:1909')}\n",
      "=====\n",
      "cgi: {('AKT1', 'DOID:3663')}\n",
      "civic: {('AKT1', 'DOID:1909')}\n",
      "=====\n",
      "cgi: {('AKT1', 'DOID:3663')}\n",
      "jax: {('BRAF|PTEN', 'DOID:1909'), ('AKT1|BRAF|PTEN', 'DOID:1909'), ('BRAF', 'DOID:1909')}\n",
      "=====\n",
      "civic: {('AKT1', 'DOID:1909')}\n",
      "jax: {('BRAF|PTEN', 'DOID:1909'), ('AKT1|BRAF|PTEN', 'DOID:1909'), ('BRAF', 'DOID:1909')}\n",
      "=====\n",
      "cgi: {('BRAF', 'DOID:3663')}\n",
      "civic: {('NRAS', 'DOID:1909'), ('GNAQ', 'DOID:6039'), ('GNA11', 'DOID:6039'), ('BRAF', 'DOID:8923')}\n",
      "=====\n",
      "cgi: {('BRAF', 'DOID:3663')}\n",
      "jax: {('NRAS', 'DOID:1909'), ('BRAF', 'DOID:1909')}\n",
      "=====\n",
      "cgi: {('BRAF', 'DOID:3663')}\n",
      "molecularmatch: {('BRAF', 'DOID:0060123')}\n",
      "=====\n",
      "civic: {('NRAS', 'DOID:1909'), ('GNAQ', 'DOID:6039'), ('GNA11', 'DOID:6039'), ('BRAF', 'DOID:8923')}\n",
      "molecularmatch: {('BRAF', 'DOID:0060123')}\n",
      "=====\n",
      "jax: {('NRAS', 'DOID:1909'), ('BRAF', 'DOID:1909')}\n",
      "molecularmatch: {('BRAF', 'DOID:0060123')}\n",
      "=====\n",
      "civic: {('BRAF', 'DOID:1909')}\n",
      "molecularmatch: {('BRAF', 'DOID:4159')}\n",
      "=====\n",
      "jax: {('BRAF', 'DOID:1909')}\n",
      "molecularmatch: {('BRAF', 'DOID:4159')}\n",
      "=====\n",
      "molecularmatch: {('BRAF', 'DOID:4159')}\n",
      "oncokb: {('BRAF', 'DOID:1909')}\n",
      "=====\n",
      "cgi: {('BRAF', 'DOID:3663')}\n",
      "jax: {('BRAF', 'DOID:1909'), ('BRAF|MAP2K1', 'DOID:1909'), ('BRAF|NRAS', 'DOID:1909'), ('BRAF|MAP2K1|NRAS', 'DOID:1909')}\n",
      "=====\n",
      "civic: {('BRAF', 'DOID:9256')}\n",
      "molecularmatch: {('BRAF', 'DOID:4610')}\n",
      "=====\n",
      "jax: {('BRAF', 'DOID:9256')}\n",
      "molecularmatch: {('BRAF', 'DOID:4610')}\n",
      "=====\n",
      "civic: {('BRAF', 'DOID:162')}\n",
      "jax: {('BRAF', 'DOID:2394'), ('BRAF', 'DOID:1793'), ('BRAF', 'DOID:3908')}\n",
      "=====\n",
      "cgi: {('MAP2K1', 'DOID:3663')}\n",
      "jax: {('BRAF', 'DOID:1909'), ('BRAF|MAP2K1', 'DOID:1909')}\n",
      "=====\n",
      "cgi: {('MAP2K1', 'DOID:3663')}\n",
      "jax: {('BRAF|MAP2K1', 'DOID:1909')}\n",
      "=====\n",
      "civic: {('BRAF', 'DOID:8923')}\n",
      "jax: {('BRAF', 'DOID:1909')}\n",
      "=====\n",
      "civic: {('BRAF', 'DOID:8923')}\n",
      "molecularmatch: {('BRAF', 'DOID:4159'), ('BRAF', 'DOID:0060123')}\n",
      "=====\n",
      "civic: {('BRAF', 'DOID:8923')}\n",
      "pmkb: {('BRAF', 'DOID:1909')}\n",
      "=====\n",
      "jax: {('BRAF', 'DOID:1909')}\n",
      "molecularmatch: {('BRAF', 'DOID:4159'), ('BRAF', 'DOID:0060123')}\n",
      "=====\n",
      "molecularmatch: {('BRAF', 'DOID:4159'), ('BRAF', 'DOID:0060123')}\n",
      "pmkb: {('BRAF', 'DOID:1909')}\n",
      "=====\n",
      "jax: {('ASXL1', 'DOID:4972'), ('CBL', 'DOID:4972')}\n",
      "pmkb: {('IDH1', 'DOID:0050908'), ('KRAS', 'DOID:9119'), ('IDH1', 'DOID:9119'), ('IDH1', 'DOID:2226'), ('IDH1', 'DOID:4971'), ('KRAS', 'DOID:0050908')}\n",
      "=====\n",
      "civic: {('MET', 'DOID:3908')}\n",
      "jax: {('EGFR|MET', 'DOID:3908')}\n",
      "=====\n",
      "civic: {('MET', 'DOID:3908')}\n",
      "molecularmatch: {('MET', 'DOID:3905')}\n",
      "=====\n",
      "jax: {('EGFR|MET', 'DOID:3908')}\n",
      "molecularmatch: {('MET', 'DOID:3905')}\n",
      "=====\n",
      "civic: {('MET', 'DOID:3908')}\n",
      "jax: {('EGFR|MET', 'DOID:3910')}\n",
      "=====\n",
      "jax: {('EGFR', 'DOID:3908')}\n",
      "pmkb: {('EGFR', 'DOID:299'), ('EGFR', 'DOID:5662')}\n",
      "=====\n",
      "oncokb: {('EGFR', 'DOID:3908')}\n",
      "pmkb: {('EGFR', 'DOID:299'), ('EGFR', 'DOID:5662')}\n",
      "=====\n",
      "civic: {('EGFR', 'DOID:3910')}\n",
      "jax: {('EGFR', 'DOID:3908')}\n",
      "=====\n",
      "civic: {('EGFR', 'DOID:3910')}\n",
      "molecularmatch: {('EGFR', 'DOID:299')}\n",
      "=====\n",
      "jax: {('EGFR', 'DOID:3908')}\n",
      "molecularmatch: {('EGFR', 'DOID:299')}\n",
      "=====\n",
      "jax: {('EGFR', 'DOID:3910')}\n",
      "pmkb: {('EGFR', 'DOID:3908'), ('EGFR', 'DOID:299')}\n",
      "=====\n",
      "jax: {('EGFR', 'DOID:9256')}\n",
      "molecularmatch: {('EGFR', 'DOID:4610')}\n",
      "=====\n",
      "cgi: {('EGFR', 'DOID:3908')}\n",
      "civic: {('EGFR', 'DOID:3910')}\n",
      "=====\n",
      "cgi: {('EGFR', 'DOID:3908')}\n",
      "jax: {('EGFR|RAD51', 'DOID:3910'), ('EGFR|PURB', 'DOID:3910')}\n",
      "=====\n",
      "civic: {('EGFR', 'DOID:3910')}\n",
      "jax: {('EGFR|RAD51', 'DOID:3910'), ('EGFR|PURB', 'DOID:3910')}\n",
      "=====\n",
      "cgi: {('MAP2K1', 'DOID:162')}\n",
      "jax: {('MAP2K1', 'DOID:9256'), ('MAP2K1', 'DOID:10534'), ('KRAS|MAP2K1', 'DOID:3910'), ('EGFR|MAP2K1', 'DOID:9256'), ('KRAS', 'DOID:1324'), ('MAP2K1', 'DOID:3910')}\n",
      "=====\n",
      "civic: {('EGFR', 'DOID:9256')}\n",
      "molecularmatch: {('EGFR', 'DOID:4610')}\n",
      "=====\n",
      "jax: {('EGFR', 'DOID:9256')}\n",
      "molecularmatch: {('EGFR', 'DOID:4610')}\n",
      "=====\n",
      "civic: {('ERBB2', 'DOID:684'), ('ERBB2', 'DOID:1612'), ('ERBB2', 'DOID:2394'), ('ERBB2', 'DOID:5520'), ('ERBB2', 'DOID:5517')}\n",
      "pmkb: {('ERBB2', 'DOID:3008'), ('ERBB2', 'DOID:299')}\n",
      "=====\n",
      "civic: {('ALK', 'DOID:769'), ('ALK', 'DOID:3908')}\n",
      "jax: {('ALK|EML4', 'DOID:3908')}\n",
      "=====\n",
      "civic: {('PIK3CA', 'DOID:1612')}\n",
      "jax: {('ERBB2|PIK3CA', 'DOID:0060079'), ('ERBB2', 'DOID:0060079')}\n",
      "=====\n",
      "civic: {('CCNE1', 'DOID:0060075'), ('RB1', 'DOID:0060075')}\n",
      "jax: {('ERBB2|PIK3CA', 'DOID:0060079'), ('PTEN|RB1', 'DOID:0060081'), ('ERBB2|PTEN', 'DOID:0060079'), ('PIK3CA', 'DOID:0060081')}\n",
      "=====\n",
      "jax: {('RUNX1', 'DOID:0050908'), ('ASXL1', 'DOID:0050908'), ('ETV6', 'DOID:0050908')}\n",
      "pmkb: {('GNAS', 'DOID:0050908')}\n",
      "=====\n",
      "civic: {('NTRK3', 'DOID:0050904'), ('NTRK3', 'DOID:1612')}\n",
      "jax: {('ETV6|NTRK3', 'DOID:8850')}\n",
      "=====\n",
      "civic: {('FGFR1', 'DOID:1612'), ('FGFR1', 'DOID:3908'), ('FGFR2', 'DOID:4947'), ('FGFR1', 'DOID:4007')}\n",
      "molecularmatch: {('FGFR2', 'DOID:299')}\n",
      "=====\n",
      "jax: {('FGFR2', 'DOID:1612'), ('FGFR1', 'DOID:1612'), ('FGFR3', 'DOID:4006'), ('FGFR1', 'DOID:3907'), ('FGFR2', 'DOID:4947')}\n",
      "molecularmatch: {('FGFR2', 'DOID:299')}\n",
      "=====\n",
      "civic: {('FGFR1', 'DOID:1115')}\n",
      "jax: {('FGFR1', 'DOID:5485'), ('FGFR1', 'DOID:5289'), ('FGFR1', 'DOID:1967')}\n",
      "=====\n",
      "jax: {('BAIAP2L1|FGFR3', 'DOID:11054'), ('FGFR2', 'DOID:1612'), ('FGFR1', 'DOID:3908'), ('FGFR2', 'DOID:1380'), ('FGFR3|TACC3', 'DOID:11054'), ('FGFR2', 'DOID:9256'), ('FGFR2', 'DOID:10534'), ('FGFR3', 'DOID:0070004'), ('FGFR3', 'DOID:11054'), ('FGFR1', 'DOID:5409')}\n",
      "pmkb: {('FGFR3', 'DOID:299')}\n",
      "=====\n",
      "civic: {('FGFR3', 'DOID:4007'), ('FGFR1', 'DOID:4007')}\n",
      "jax: {('FGFR3|TACC3', 'DOID:11054'), ('FGFR3', 'DOID:11054')}\n",
      "=====\n",
      "civic: {('FGFR2', 'DOID:4947')}\n",
      "molecularmatch: {('', 'DOID:299')}\n",
      "=====\n",
      "civic: {('HRAS', 'DOID:162')}\n",
      "jax: {('HRAS', 'DOID:11054'), ('HRAS', 'DOID:3907')}\n",
      "=====\n",
      "cgi: {('GNAQ', 'DOID:3663')}\n",
      "jax: {('GNAQ', 'DOID:6039')}\n",
      "=====\n",
      "civic: {('IDH2', 'DOID:0060108'), ('IDH1', 'DOID:0060108')}\n",
      "jax: {('IDH1', 'DOID:1520'), ('IDH1', 'DOID:3070'), ('IDH1', 'DOID:1115')}\n",
      "=====\n",
      "civic: {('KRAS', 'DOID:162'), ('BRAF', 'DOID:162')}\n",
      "jax: {('KRAS', 'DOID:9256'), ('KRAS', 'DOID:3908'), ('KRAS', 'DOID:1793')}\n",
      "=====\n",
      "jax: {('KRAS', 'DOID:1793'), ('NRAS', 'DOID:3908')}\n",
      "pmkb: {('BRAF', 'DOID:3113'), ('BRAF', 'DOID:299'), ('BRAF', 'DOID:305'), ('BRAF', 'DOID:1909'), ('BRAF', 'DOID:3908')}\n",
      "=====\n",
      "civic: {('KRAS', 'DOID:3908')}\n",
      "jax: {('KRAS', 'DOID:9256')}\n",
      "=====\n",
      "civic: {('KRAS', 'DOID:9256')}\n",
      "molecularmatch: {('KRAS', 'DOID:4610')}\n",
      "=====\n",
      "civic: {('KRAS', 'DOID:9256')}\n",
      "pmkb: {('KRAS', 'DOID:299')}\n",
      "=====\n",
      "jax: {('KRAS', 'DOID:9256')}\n",
      "molecularmatch: {('KRAS', 'DOID:4610')}\n",
      "=====\n",
      "jax: {('KRAS', 'DOID:9256')}\n",
      "pmkb: {('KRAS', 'DOID:299')}\n",
      "=====\n",
      "molecularmatch: {('KRAS', 'DOID:4610')}\n",
      "pmkb: {('KRAS', 'DOID:299')}\n",
      "=====\n",
      "jax: {('KRAS', 'DOID:9256'), ('KRAS|PIK3CA', 'DOID:9256'), ('BRAF|KRAS', 'DOID:9256')}\n",
      "molecularmatch: {('CDK6', 'DOID:4610'), ('CCND1', 'DOID:4610'), ('CCND3', 'DOID:4610')}\n",
      "=====\n",
      "civic: {('KRAS', 'DOID:4074')}\n",
      "jax: {('KRAS', 'DOID:3498')}\n",
      "=====\n",
      "cgi: {('NF1', 'DOID:3663')}\n",
      "jax: {('KRAS', 'DOID:9256'), ('BRAF|KRAS', 'DOID:1909'), ('BRAF|PTPN11', 'DOID:9256'), ('BRAF', 'DOID:9256')}\n",
      "=====\n",
      "civic: {('KRAS', 'DOID:162'), ('MET', 'DOID:162')}\n",
      "jax: {('KRAS|MET', 'DOID:305')}\n",
      "=====\n",
      "civic: {('KRAS', 'DOID:9256')}\n",
      "molecularmatch: {('KRAS', 'DOID:4610')}\n",
      "=====\n",
      "civic: {('KRAS', 'DOID:9256')}\n",
      "pmkb: {('KRAS', 'DOID:299')}\n",
      "=====\n",
      "jax: {('KRAS', 'DOID:9256')}\n",
      "molecularmatch: {('KRAS', 'DOID:4610')}\n",
      "=====\n",
      "jax: {('KRAS', 'DOID:9256')}\n",
      "pmkb: {('KRAS', 'DOID:299')}\n",
      "=====\n",
      "molecularmatch: {('KRAS', 'DOID:4610')}\n",
      "pmkb: {('KRAS', 'DOID:299')}\n",
      "=====\n",
      "civic: {('ERBB2', 'DOID:9256')}\n",
      "jax: {('ERBB2|KRAS', 'DOID:9256')}\n",
      "=====\n",
      "civic: {('BRAF', 'DOID:1909')}\n",
      "jax: {('MAP2K1', 'DOID:1909')}\n",
      "=====\n",
      "civic: {('MET', 'DOID:3908')}\n",
      "jax: {('MET', 'DOID:3907')}\n",
      "=====\n",
      "civic: {('ALK', 'DOID:0050744')}\n",
      "jax: {('ALK|NPM1', 'DOID:0050744')}\n",
      "=====\n",
      "jax: {('PDGFRA', 'DOID:8692'), ('JAK2', 'DOID:8692'), ('PDGFRA', 'DOID:1240')}\n",
      "pmkb: {('PDGFRA', 'DOID:2226')}\n",
      "=====\n",
      "cgi: {('BRAF', 'DOID:3663')}\n",
      "jax: {('BRAF|NRAS', 'DOID:1909')}\n",
      "=====\n",
      "civic: {('DDR2', 'DOID:3908'), ('KRAS', 'DOID:3907')}\n",
      "jax: {('PDGFRA', 'DOID:3907'), ('PDGFRA', 'DOID:5409')}\n",
      "=====\n",
      "civic: {('DDR2', 'DOID:3908'), ('KRAS', 'DOID:3907')}\n",
      "molecularmatch: {('DDR2', 'DOID:3905')}\n",
      "=====\n",
      "jax: {('PDGFRA', 'DOID:3907'), ('PDGFRA', 'DOID:5409')}\n",
      "molecularmatch: {('DDR2', 'DOID:3905')}\n",
      "=====\n",
      "civic: {('PIK3CA', 'DOID:5520'), ('PTEN', 'DOID:5520')}\n",
      "molecularmatch: {('PIK3CA', 'DOID:1749')}\n",
      "=====\n",
      "jax: {('PIK3CA', 'DOID:5520'), ('PTEN', 'DOID:5520')}\n",
      "molecularmatch: {('PIK3CA', 'DOID:1749')}\n",
      "=====\n",
      "civic: {('ALK', 'DOID:162'), ('ALK', 'DOID:3908')}\n",
      "molecularmatch: {('ALK', 'DOID:3905')}\n",
      "=====\n",
      "civic: {('ALK', 'DOID:3908')}\n",
      "jax: {('ALK|EML4', 'DOID:3908')}\n",
      "=====\n",
      "civic: {('AREG', 'DOID:3908'), ('ALK', 'DOID:3908')}\n",
      "jax: {('ALK|EML4', 'DOID:3908')}\n",
      "=====\n",
      "civic: {('ALK', 'DOID:3908')}\n",
      "molecularmatch: {('ALK', 'DOID:3905')}\n",
      "=====\n",
      "civic: {('ALK', 'DOID:3908')}\n",
      "molecularmatch: {('ALK', 'DOID:3905')}\n",
      "=====\n",
      "civic: {('ALK', 'DOID:0050744')}\n",
      "molecularmatch: {('ALK', 'HP:0005523')}\n",
      "=====\n",
      "civic: {('ABL1', 'DOID:9952'), ('ABL1', 'DOID:8552')}\n",
      "molecularmatch: {('ABL1', 'DOID:1036'), ('ABL1', 'DOID:2531'), ('', 'DOID:2531'), ('ABL1', 'DOID:8692'), ('ABL1', 'DOID:4961')}\n",
      "=====\n",
      "cgi: {('ABL1', 'DOID:162')}\n",
      "civic: {('ABL1', 'DOID:8552')}\n",
      "=====\n",
      "civic: {('ABL1', 'DOID:8552')}\n",
      "molecularmatch: {('ABL1', 'DOID:4961'), ('', 'DOID:2531'), ('ABL1', 'DOID:8692'), ('ABL1', 'DOID:1036')}\n",
      "=====\n",
      "civic: {('ABL1', 'DOID:8552')}\n",
      "molecularmatch: {('ABL1', 'DOID:2531'), ('ABL1', 'DOID:8692')}\n",
      "=====\n",
      "civic: {('AKT1', 'DOID:1909'), ('NRAS', 'DOID:1909'), ('PIK3CA', 'DOID:1909'), ('KRAS', 'DOID:1909')}\n",
      "molecularmatch: {('AKT1', 'DOID:4159')}\n",
      "=====\n",
      "civic: {('ABL1', 'DOID:8552')}\n",
      "molecularmatch: {('ABL1', 'DOID:2531')}\n",
      "=====\n",
      "civic: {('BRAF', 'DOID:9256')}\n",
      "molecularmatch: {('BRAF', 'DOID:4610')}\n",
      "=====\n",
      "civic: {('BRAF', 'DOID:9256')}\n",
      "pmkb: {('BRAF', 'DOID:299')}\n",
      "=====\n",
      "molecularmatch: {('BRAF', 'DOID:4610')}\n",
      "pmkb: {('BRAF', 'DOID:299')}\n",
      "=====\n",
      "civic: {('BRAF', 'DOID:1909')}\n",
      "molecularmatch: {('BRAF', 'DOID:4159')}\n",
      "=====\n",
      "civic: {('BRAF', 'DOID:1909')}\n",
      "oncokb: {('BRAF', 'DOID:3405')}\n",
      "=====\n",
      "molecularmatch: {('BRAF', 'DOID:4159')}\n",
      "oncokb: {('BRAF', 'DOID:3405')}\n",
      "=====\n",
      "cgi: {('KIT', 'DOID:3663')}\n",
      "civic: {('KIT', 'DOID:1909'), ('BRAF', 'DOID:1909')}\n",
      "=====\n",
      "cgi: {('KIT', 'DOID:3663')}\n",
      "jax: {('KIT', 'DOID:1909')}\n",
      "=====\n",
      "civic: {('MET', 'DOID:9256'), ('BRAF', 'DOID:9256')}\n",
      "molecularmatch: {('BRAF', 'DOID:4610')}\n",
      "=====\n",
      "civic: {('CDK4', 'DOID:0060075'), ('CDKN2B', 'DOID:4450'), ('CDKN2A', 'DOID:4450'), ('CCND1', 'DOID:4450')}\n",
      "molecularmatch: {('CDKN2B', 'DOID:299')}\n",
      "=====\n",
      "jax: {('CDKN2A', 'DOID:4450')}\n",
      "molecularmatch: {('CDKN2B', 'DOID:299')}\n",
      "=====\n",
      "civic: {('CCND3', 'DOID:715')}\n",
      "molecularmatch: {('CCND3', 'HP:0005523')}\n",
      "=====\n",
      "civic: {('BRAF', 'DOID:8923')}\n",
      "molecularmatch: {('BRAF', 'DOID:4159'), ('BRAF', 'DOID:0060123')}\n",
      "=====\n",
      "civic: {('BRAF', 'DOID:8923')}\n",
      "pmkb: {('BRAF', 'DOID:1909'), ('BRAF', 'DOID:299')}\n",
      "=====\n",
      "molecularmatch: {('BRAF', 'DOID:4159'), ('BRAF', 'DOID:0060123')}\n",
      "pmkb: {('BRAF', 'DOID:1909'), ('BRAF', 'DOID:299')}\n",
      "=====\n",
      "civic: {('BRAF', 'DOID:8923')}\n",
      "molecularmatch: {('BRAF', 'DOID:4159')}\n",
      "=====\n",
      "civic: {('BRAF', 'DOID:1909'), ('BRAF', 'DOID:8923')}\n",
      "molecularmatch: {('BRAF', 'DOID:4159')}\n",
      "=====\n",
      "civic: {('CDKN2A', 'DOID:5520')}\n",
      "molecularmatch: {('', 'DOID:1749')}\n",
      "=====\n",
      "civic: {('BRCA2', 'DOID:162'), ('BRCA1', 'DOID:162')}\n",
      "oncokb: {('BRCA1', 'DOID:2394'), ('BRCA2', 'DOID:2394')}\n",
      "=====\n",
      "civic: {('BRAF', 'DOID:1909')}\n",
      "molecularmatch: {('BRAF', 'DOID:0060123')}\n",
      "=====\n",
      "civic: {('EGFR', 'DOID:3908')}\n",
      "molecularmatch: {('EGFR', 'DOID:3905')}\n",
      "=====\n",
      "civic: {('EGFR', 'DOID:3908')}\n",
      "molecularmatch: {('EGFR', 'DOID:3905')}\n",
      "=====\n",
      "civic: {('EGFR', 'DOID:3151')}\n",
      "molecularmatch: {('EGFR', 'DOID:4159')}\n",
      "=====\n",
      "civic: {('EGFR', 'DOID:3910')}\n",
      "jax: {('EGFR', 'DOID:3908')}\n",
      "=====\n",
      "civic: {('EGFR', 'DOID:3910')}\n",
      "pmkb: {('EGFR', 'DOID:299'), ('EGFR', 'DOID:3908'), ('EGFR', 'DOID:1749')}\n",
      "=====\n",
      "civic: {('EGFR', 'DOID:3908')}\n",
      "molecularmatch: {('EGFR', 'DOID:3905')}\n",
      "=====\n",
      "jax: {('EGFR', 'DOID:3908')}\n",
      "molecularmatch: {('EGFR', 'DOID:3905')}\n",
      "=====\n",
      "cgi: {('ERBB2', 'DOID:3908')}\n",
      "jax: {('ERBB2', 'DOID:3910')}\n",
      "=====\n",
      "civic: {('ERBB2', 'DOID:3910')}\n",
      "molecularmatch: {('ERBB2', 'DOID:3905')}\n",
      "=====\n",
      "jax: {('ERBB2', 'DOID:3910')}\n",
      "molecularmatch: {('ERBB2', 'DOID:3905')}\n",
      "=====\n",
      "civic: {('ERBB2', 'DOID:5520')}\n",
      "molecularmatch: {('ERBB2', 'DOID:1749')}\n",
      "=====\n",
      "civic: {('NPM1', 'DOID:9119'), ('CEBPA', 'DOID:9119'), ('FLT3', 'DOID:9119')}\n",
      "molecularmatch: {('FLT3', 'DOID:4961'), ('CEBPA', 'DOID:4961')}\n",
      "=====\n",
      "civic: {('KRAS', 'DOID:1793')}\n",
      "pmkb: {('APC', 'DOID:299'), ('PIK3CA', 'DOID:299'), ('PIK3CA', 'DOID:684'), ('PIK3CA', 'DOID:4947')}\n",
      "=====\n",
      "civic: {('KRAS', 'DOID:9256')}\n",
      "molecularmatch: {('KRAS', 'DOID:4610')}\n",
      "=====\n",
      "civic: {('KRAS', 'DOID:9256')}\n",
      "molecularmatch: {('KRAS', 'DOID:4610')}\n",
      "=====\n",
      "civic: {('KRAS', 'DOID:9256')}\n",
      "molecularmatch: {('KRAS', 'DOID:4610')}\n",
      "=====\n",
      "civic: {('KRAS', 'DOID:9538')}\n",
      "molecularmatch: {('KRAS', 'DOID:6536')}\n",
      "=====\n",
      "civic: {('KRAS', 'DOID:9538')}\n",
      "molecularmatch: {('KRAS', 'DOID:6536')}\n",
      "=====\n",
      "civic: {('KRAS', 'DOID:9538')}\n",
      "molecularmatch: {('KRAS', 'DOID:6536')}\n",
      "=====\n",
      "civic: {('KRAS', 'DOID:9256')}\n",
      "pmkb: {('KRAS', 'DOID:299')}\n",
      "=====\n",
      "jax: {('KRAS', 'DOID:9256'), ('KRAS|PIK3CA', 'DOID:219')}\n",
      "pmkb: {('KRAS', 'DOID:299')}\n",
      "=====\n",
      "civic: {('MAP2K1', 'DOID:9256'), ('GNAS', 'DOID:9256'), ('BRAF', 'DOID:9256')}\n",
      "molecularmatch: {('BRAF', 'DOID:4610')}\n",
      "=====\n",
      "civic: {('KRAS', 'DOID:9256')}\n",
      "molecularmatch: {('KRAS', 'DOID:4610')}\n",
      "=====\n",
      "civic: {('NPM1', 'DOID:9119')}\n",
      "molecularmatch: {('NPM1', 'DOID:8692')}\n",
      "=====\n",
      "jax: {('NPM1', 'DOID:9119')}\n",
      "molecularmatch: {('NPM1', 'DOID:8692')}\n",
      "=====\n",
      "civic: {('KRAS', 'DOID:9256')}\n",
      "molecularmatch: {('KRAS', 'DOID:4610')}\n",
      "=====\n",
      "civic: {('NRAS', 'DOID:1909')}\n",
      "molecularmatch: {('NRAS', 'DOID:4159')}\n",
      "=====\n",
      "cgi: {('MAP2K1', 'DOID:3663'), ('NRAS', 'DOID:3663')}\n",
      "civic: {('NRAS', 'DOID:1909'), ('BRAF', 'DOID:1909'), ('MAP2K1', 'DOID:1909')}\n",
      "=====\n",
      "cgi: {('MAP2K1', 'DOID:3663'), ('NRAS', 'DOID:3663')}\n",
      "molecularmatch: {('NRAS', 'DOID:0060123')}\n",
      "=====\n",
      "civic: {('NRAS', 'DOID:1909'), ('BRAF', 'DOID:1909'), ('MAP2K1', 'DOID:1909')}\n",
      "molecularmatch: {('NRAS', 'DOID:0060123')}\n",
      "=====\n",
      "civic: {('NRAS', 'DOID:8923')}\n",
      "jax: {('NRAS', 'DOID:1909')}\n",
      "=====\n",
      "civic: {('NRAS', 'DOID:1909'), ('KRAS', 'DOID:3908'), ('KRAS', 'DOID:9256'), ('BRAF', 'DOID:1909')}\n",
      "molecularmatch: {('BRAF', 'DOID:0060123')}\n",
      "=====\n",
      "jax: {('KRAS', 'DOID:9256'), ('KRAS', 'DOID:3908')}\n",
      "molecularmatch: {('BRAF', 'DOID:0060123')}\n",
      "=====\n",
      "civic: {('NRAS', 'DOID:1909'), ('BRAF', 'DOID:1909'), ('NRAS', 'DOID:9256')}\n",
      "jax: {('BRAF|NRAS', 'DOID:1909')}\n",
      "=====\n",
      "civic: {('NPM1', 'DOID:9119')}\n",
      "jax: {('KMT2A', 'DOID:9119')}\n",
      "=====\n",
      "civic: {('NPM1', 'DOID:9119')}\n",
      "molecularmatch: {('NPM1', 'DOID:4961')}\n",
      "=====\n",
      "jax: {('KMT2A', 'DOID:9119')}\n",
      "molecularmatch: {('NPM1', 'DOID:4961')}\n",
      "=====\n",
      "jax: {('KMT2A', 'DOID:9119')}\n",
      "pmkb: {('IDH1', 'HP:0100843'), ('IDH1', 'DOID:3181'), ('NPM1', 'DOID:9119'), ('IDH1', 'HP:0002888')}\n",
      "=====\n",
      "molecularmatch: {('NPM1', 'DOID:4961')}\n",
      "pmkb: {('IDH1', 'HP:0100843'), ('IDH1', 'DOID:3181'), ('NPM1', 'DOID:9119'), ('IDH1', 'HP:0002888')}\n",
      "=====\n",
      "civic: {('RUNX1', 'DOID:9119')}\n",
      "molecularmatch: {('RUNX1', 'DOID:8692')}\n",
      "=====\n",
      "jax: {('RUNX1', 'DOID:9119')}\n",
      "molecularmatch: {('RUNX1', 'DOID:8692')}\n",
      "=====\n",
      "civic: {('PIK3CA', 'DOID:0060079'), ('PTEN', 'DOID:162'), ('PIK3CA', 'DOID:162')}\n",
      "jax: {('PIK3CA', 'DOID:1612'), ('PTEN', 'DOID:4451')}\n",
      "=====\n",
      "civic: {('PTEN', 'DOID:3068')}\n",
      "jax: {('EGFR', 'DOID:3068'), ('EGFR|PTEN', 'DOID:3068')}\n",
      "=====\n",
      "cgi: {('SF3B1', 'DOID:162')}\n",
      "civic: {('SF3B1', 'DOID:1612')}\n",
      "=====\n",
      "cgi: {('SF3B1', 'DOID:162')}\n",
      "jax: {('SF3B1', 'DOID:1380'), ('SF3B1', 'DOID:1793')}\n",
      "=====\n",
      "civic: {('SF3B1', 'DOID:1612')}\n",
      "jax: {('SF3B1', 'DOID:1380'), ('SF3B1', 'DOID:1793')}\n",
      "=====\n",
      "civic: {('TP53', 'DOID:1040')}\n",
      "molecularmatch: {('TP53', 'DOID:4961')}\n",
      "=====\n",
      "civic: {('AKT2', 'DOID:3910'), ('RET', 'DOID:3910')}\n",
      "molecularmatch: {('RET', 'DOID:3905'), ('AKT2', 'DOID:3905')}\n",
      "=====\n",
      "civic: {('CALR', 'DOID:2226')}\n",
      "jax: {('CALR', 'DOID:4960')}\n",
      "=====\n",
      "civic: {('FGFR1', 'DOID:3368')}\n",
      "jax: {('FGFR1', 'DOID:4232')}\n",
      "=====\n",
      "civic: {('MTOR', 'DOID:1909')}\n",
      "molecularmatch: {('MTOR', 'DOID:4159')}\n",
      "=====\n",
      "civic: {('NRG1', 'DOID:9256')}\n",
      "molecularmatch: {('NRG1', 'DOID:4610')}\n",
      "=====\n",
      "civic: {('HRAS', 'DOID:3151'), ('KRAS', 'DOID:3151')}\n",
      "molecularmatch: {('HRAS', 'DOID:0060123')}\n",
      "=====\n",
      "cgi: {('NF1', 'DOID:3663')}\n",
      "civic: {('NF1', 'DOID:1909'), ('NF1', 'DOID:8923')}\n",
      "=====\n",
      "civic: {('NTRK3', 'DOID:162'), ('NTRK1', 'DOID:162'), ('ROS1', 'DOID:162'), ('NTRK1', 'DOID:3908'), ('ALK', 'DOID:162')}\n",
      "jax: {('ROS1', 'DOID:3908'), ('ALK', 'DOID:769')}\n",
      "=====\n",
      "civic: {('ROS1', 'DOID:3908')}\n",
      "jax: {('ROS1', 'DOID:3910')}\n",
      "=====\n",
      "civic: {('ROS1', 'DOID:3908')}\n",
      "jax: {('KRAS|PIK3CA', 'DOID:219')}\n",
      "=====\n",
      "civic: {('ROS1', 'DOID:3908')}\n",
      "molecularmatch: {('ROS1', 'DOID:3905')}\n",
      "=====\n",
      "jax: {('KRAS|PIK3CA', 'DOID:219')}\n",
      "molecularmatch: {('ROS1', 'DOID:3905')}\n",
      "=====\n",
      "civic: {('ROS1', 'DOID:3908')}\n",
      "molecularmatch: {('ROS1', 'DOID:3905')}\n",
      "=====\n",
      "civic: {('SGK1', 'DOID:1612')}\n",
      "jax: {('PIK3CA', 'DOID:1612')}\n",
      "=====\n",
      "civic: {('CBLC', 'DOID:162')}\n",
      "jax: {('CBLC', 'DOID:1612'), ('CBLC', 'DOID:3347')}\n",
      "=====\n",
      "civic: {('NT5C2', 'DOID:9952')}\n",
      "molecularmatch: {('NT5C2', 'DOID:2531')}\n",
      "=====\n",
      "civic: {('TYMS', 'DOID:3908')}\n",
      "molecularmatch: {('TYMS', 'DOID:3905')}\n",
      "=====\n",
      "civic: {('FBXW7', 'DOID:162')}\n",
      "jax: {('FBXW7', 'DOID:1612')}\n",
      "=====\n",
      "cgi: {('KIT', 'DOID:3663')}\n",
      "civic: {('KIT', 'DOID:0050929'), ('KIT', 'DOID:1909')}\n",
      "=====\n",
      "cgi: {('KIT', 'DOID:3663')}\n",
      "molecularmatch: {('KIT', 'DOID:0060123')}\n",
      "=====\n",
      "cgi: {('KIT', 'DOID:3663')}\n",
      "oncokb: {('KIT', 'DOID:1909')}\n",
      "=====\n",
      "civic: {('KIT', 'DOID:0050929'), ('KIT', 'DOID:1909')}\n",
      "molecularmatch: {('KIT', 'DOID:0060123')}\n",
      "=====\n",
      "molecularmatch: {('KIT', 'DOID:0060123')}\n",
      "oncokb: {('KIT', 'DOID:1909')}\n",
      "=====\n",
      "jax: {('KIT', 'DOID:3284')}\n",
      "oncokb: {('KIT', 'DOID:3277')}\n",
      "=====\n",
      "cgi: {('CDK4|RB1', 'UBERON:0001833')}\n",
      "civic: {('CDK4', 'DOID:3382')}\n",
      "=====\n",
      "civic: {('MET', 'DOID:3910')}\n",
      "oncokb: {('MET', 'DOID:3908')}\n",
      "=====\n",
      "jax: {('MET', 'DOID:3910')}\n",
      "oncokb: {('MET', 'DOID:3908')}\n",
      "=====\n",
      "jax: {('NRAS', 'DOID:9119')}\n",
      "pmkb: {('KRAS', 'DOID:0050908'), ('KRAS', 'DOID:9119')}\n",
      "=====\n",
      "jax: {('KMT2A', 'DOID:9119')}\n",
      "pmkb: {('KIT', 'DOID:3664'), ('KIT', 'DOID:9119'), ('NPM1', 'DOID:9119'), ('FLT3', 'DOID:9119')}\n",
      "=====\n",
      "jax: {('KIT', 'DOID:2531')}\n",
      "pmkb: {('KIT', 'DOID:3664'), ('KIT', 'DOID:9119')}\n",
      "=====\n",
      "civic: {('PTEN', 'DOID:162')}\n",
      "pmkb: {('PTEN', 'DOID:305'), ('PTEN', 'DOID:299')}\n",
      "=====\n",
      "civic: {('AURKA', 'DOID:3908')}\n",
      "molecularmatch: {('AURKA', 'DOID:3905')}\n",
      "=====\n",
      "civic: {('APC', 'DOID:9256')}\n",
      "jax: {('APC', 'DOID:219')}\n",
      "=====\n",
      "civic: {('EGFR', 'DOID:3908')}\n",
      "molecularmatch: {('EGFR', 'DOID:3905')}\n",
      "=====\n",
      "civic: {('ALK', 'DOID:8923')}\n",
      "molecularmatch: {('', 'DOID:0060123')}\n",
      "=====\n",
      "civic: {('BRAF', 'DOID:0050933'), ('MAP2K1', 'DOID:0050933')}\n",
      "oncokb: {('BRAF', 'DOID:2394')}\n",
      "=====\n",
      "civic: {('PTEN', 'DOID:8923'), ('GNAQ', 'DOID:8923')}\n",
      "molecularmatch: {('GNAQ', 'DOID:0060123'), ('PTEN', 'DOID:4159')}\n",
      "=====\n",
      "civic: {('KRAS', 'DOID:3908')}\n",
      "jax: {('KRAS', 'DOID:3910')}\n",
      "=====\n",
      "civic: {('KRAS', 'DOID:3908')}\n",
      "pmkb: {('KRAS', 'DOID:299')}\n",
      "=====\n",
      "jax: {('KRAS', 'DOID:3910')}\n",
      "pmkb: {('KRAS', 'DOID:299')}\n",
      "=====\n",
      "civic: {('MET', 'DOID:3910')}\n",
      "jax: {('MET|TP53', 'DOID:5621'), ('MET|TP53', 'DOID:4556'), ('MET', 'DOID:3907')}\n",
      "=====\n",
      "civic: {('TP53', 'DOID:3908'), ('STK11', 'DOID:3908')}\n",
      "molecularmatch: {('TP53', 'DOID:3905')}\n",
      "=====\n",
      "molecularmatch: {('KRAS', 'DOID:4610')}\n",
      "pmkb: {('KRAS', 'DOID:299')}\n",
      "=====\n",
      "civic: {('EGFR', 'DOID:3908')}\n",
      "molecularmatch: {('EGFR', 'DOID:3905')}\n",
      "=====\n",
      "civic: {('ALK', 'DOID:3908')}\n",
      "jax: {('ALK|EML4', 'DOID:3908')}\n",
      "=====\n",
      "civic: {('PIK3CA', 'DOID:9256')}\n",
      "molecularmatch: {('NTRK2', 'DOID:4610'), ('C2orf44–ALK', 'DOID:4610'), ('KIF5B', 'DOID:4610'), ('AXL', 'DOID:4610'), ('KIT', 'DOID:4610'), ('TIE1', 'DOID:4610')}\n",
      "=====\n",
      "civic: {('KRAS', 'DOID:9256')}\n",
      "molecularmatch: {('KRAS', 'DOID:4610')}\n",
      "=====\n",
      "civic: {('KRAS', 'DOID:8923'), ('RAF1', 'DOID:8923'), ('CCND1', 'DOID:8923')}\n",
      "jax: {('KRAS', 'DOID:1909')}\n",
      "=====\n",
      "civic: {('ALK', 'DOID:0050861'), ('ALK', 'DOID:1612')}\n",
      "molecularmatch: {('ALK', 'DOID:4610')}\n",
      "=====\n",
      "civic: {('KRAS', 'DOID:9256'), ('PIK3CA', 'DOID:9256')}\n",
      "molecularmatch: {('PIK3CA', 'DOID:4610'), ('KRAS', 'DOID:4610')}\n",
      "=====\n",
      "civic: {('HAVCR2', 'DOID:3908')}\n",
      "molecularmatch: {('HAVCR2', 'DOID:3905')}\n",
      "=====\n",
      "civic: {('CDKN2A', 'DOID:8923')}\n",
      "jax: {('CDKN2A', 'DOID:1909')}\n",
      "=====\n",
      "civic: {('ABL1', 'DOID:8552')}\n",
      "molecularmatch: {('ABL1', 'DOID:4961'), ('ABL1', 'DOID:8692')}\n",
      "=====\n",
      "jax: {('EGFR', 'DOID:9256')}\n",
      "molecularmatch: {('EGFR', 'DOID:4610')}\n",
      "=====\n",
      "civic: {('AURKA', 'DOID:3702')}\n",
      "molecularmatch: {('AURKA', 'DOID:363')}\n",
      "=====\n",
      "civic: {('NOTCH1', 'DOID:9256')}\n",
      "molecularmatch: {('NOTCH1', 'DOID:4610')}\n",
      "=====\n",
      "civic: {('EGFR', 'DOID:3908')}\n",
      "pmkb: {('ERBB2', 'DOID:1974')}\n",
      "=====\n",
      "civic: {('ABL1', 'DOID:8552')}\n",
      "molecularmatch: {('', 'DOID:8692')}\n",
      "=====\n",
      "civic: {('EGFR', 'DOID:3070')}\n",
      "pmkb: {('EGFR', 'HP:0100843')}\n",
      "=====\n",
      "cgi: {('BRAF', 'DOID:9253')}\n",
      "civic: {('BRAF', 'DOID:1909'), ('BRAF', 'DOID:9256')}\n",
      "=====\n",
      "cgi: {('BRAF', 'DOID:9253')}\n",
      "molecularmatch: {('BRAF', 'DOID:4159')}\n",
      "=====\n",
      "civic: {('BRAF', 'DOID:1909'), ('BRAF', 'DOID:9256')}\n",
      "molecularmatch: {('BRAF', 'DOID:4159')}\n",
      "=====\n",
      "cgi: {('ALK', 'DOID:3908')}\n",
      "molecularmatch: {('ALK', 'DOID:3905')}\n",
      "=====\n",
      "civic: {('ALK', 'DOID:3908')}\n",
      "molecularmatch: {('ALK', 'DOID:3905')}\n",
      "=====\n",
      "jax: {('ALK', 'DOID:3908')}\n",
      "molecularmatch: {('ALK', 'DOID:3905')}\n",
      "=====\n",
      "molecularmatch: {('ALK', 'DOID:3905')}\n",
      "pmkb: {('ALK', 'DOID:3908'), ('ALK', 'DOID:299')}\n",
      "=====\n",
      "civic: {('ABL1', 'DOID:8552')}\n",
      "molecularmatch: {('ABL1', 'DOID:4961')}\n",
      "=====\n",
      "civic: {('GATA2', 'DOID:3909')}\n",
      "jax: {('GATA2|KRAS', 'DOID:3908')}\n",
      "=====\n",
      "civic: {('BRAF', 'DOID:1909')}\n",
      "molecularmatch: {('BRAF', 'DOID:4159')}\n",
      "=====\n",
      "civic: {('EGFR', 'DOID:3908')}\n",
      "molecularmatch: {('EGFR', 'DOID:3905')}\n",
      "=====\n",
      "civic: {('EGFR', 'DOID:3908')}\n",
      "molecularmatch: {('EGFR', 'DOID:3905')}\n",
      "=====\n",
      "civic: {('EGFR', 'DOID:3908')}\n",
      "molecularmatch: {('EGFR', 'DOID:3905')}\n",
      "=====\n",
      "civic: {('CEBPA', 'DOID:9119')}\n",
      "molecularmatch: {('CEBPA', 'DOID:12603')}\n",
      "=====\n",
      "civic: {('ALK', 'DOID:3908')}\n",
      "molecularmatch: {('ALK', 'DOID:3905')}\n",
      "=====\n",
      "civic: {('BRAF', 'DOID:0050626')}\n",
      "jax: {('BRAF', 'DOID:169')}\n",
      "=====\n",
      "cgi: {('BAP1', 'DOID:3663')}\n",
      "civic: {('BAP1', 'DOID:6039')}\n",
      "=====\n",
      "cgi: {('BAP1', 'DOID:3663')}\n",
      "molecularmatch: {('BAP1', 'HP:0012288')}\n",
      "=====\n",
      "civic: {('BAP1', 'DOID:6039')}\n",
      "molecularmatch: {('BAP1', 'HP:0012288')}\n",
      "=====\n",
      "civic: {('ERBB2', 'DOID:1380')}\n",
      "molecularmatch: {('ERBB2', 'DOID:363')}\n",
      "=====\n",
      "cgi: {('KIT', 'DOID:3663')}\n",
      "jax: {('KIT', 'DOID:1909')}\n",
      "=====\n",
      "cgi: {('BRAF|NF1', 'DOID:3663')}\n",
      "civic: {('NF1', 'DOID:8923')}\n",
      "=====\n",
      "civic: {('PTEN', 'DOID:4905'), ('KRAS', 'DOID:4905')}\n",
      "jax: {('KRAS|PTEN', 'DOID:4074')}\n",
      "=====\n",
      "cgi: {('STK11', 'DOID:162')}\n",
      "civic: {('STK11', 'DOID:3852')}\n",
      "=====\n",
      "civic: {('ALK', 'DOID:0050744')}\n",
      "jax: {('ALK|NPM1', 'DOID:0050744')}\n",
      "=====\n",
      "civic: {('KDR', 'DOID:0050861')}\n",
      "jax: {('APC|KDR|KRAS', 'DOID:9256')}\n",
      "=====\n",
      "civic: {('ATM', 'DOID:2531')}\n",
      "jax: {('ATM', 'DOID:0050746'), ('ATM', 'DOID:1037'), ('ATM', 'DOID:1040')}\n",
      "=====\n",
      "jax: {('ATM', 'DOID:0050746'), ('ATM', 'DOID:1037'), ('ATM', 'DOID:1040')}\n",
      "molecularmatch: {('ATM', 'DOID:2531')}\n",
      "=====\n",
      "civic: {('BRAF', 'DOID:3969')}\n",
      "jax: {('BRAF', 'DOID:1781')}\n",
      "=====\n",
      "civic: {('ERBB2', 'DOID:3717')}\n",
      "jax: {('ERBB2', 'DOID:10534')}\n",
      "=====\n",
      "civic: {('PTEN', 'DOID:0060079'), ('PIK3CA', 'DOID:0060079')}\n",
      "jax: {('ERBB2|PIK3CA', 'DOID:0060079'), ('ERBB2|PTEN', 'DOID:0060079')}\n",
      "=====\n",
      "civic: {('NTRK1', 'DOID:1115')}\n",
      "jax: {('ETV6|NTRK3', 'DOID:9119')}\n",
      "=====\n",
      "civic: {('NPM1', 'DOID:9119')}\n",
      "jax: {('FLT3|NPM1', 'DOID:9119')}\n",
      "=====\n",
      "civic: {('KIT', 'DOID:9119')}\n",
      "jax: {('KIT|RUNX1|RUNX1T1', 'DOID:9119')}\n",
      "=====\n",
      "jax: {('ASXL1', 'DOID:0050908'), ('SF3B1', 'DOID:0050908')}\n",
      "pmkb: {('SRSF2', 'DOID:9119'), ('SRSF2', 'DOID:0050908'), ('SRSF2', 'DOID:4971')}\n",
      "=====\n",
      "civic: {('SMAD4', 'DOID:4074')}\n",
      "jax: {('SMAD4', 'DOID:1793')}\n",
      "=====\n",
      "civic: {('ALK', 'DOID:0050745')}\n",
      "molecularmatch: {('ALK', 'HP:0005523')}\n",
      "=====\n",
      "civic: {('ALK', 'DOID:3908')}\n",
      "molecularmatch: {('ALK', 'DOID:3905')}\n",
      "=====\n",
      "civic: {('BRAF', 'DOID:1909')}\n",
      "molecularmatch: {('BRAF', 'DOID:4159')}\n",
      "=====\n",
      "jax: {('BRAF', 'DOID:1909')}\n",
      "molecularmatch: {('BRAF', 'DOID:4159')}\n",
      "=====\n",
      "civic: {('BRAF', 'DOID:1909'), ('BRAF', 'DOID:8923')}\n",
      "molecularmatch: {('BRAF', 'DOID:0060123')}\n",
      "=====\n",
      "civic: {('BRAF', 'DOID:9538')}\n",
      "molecularmatch: {('BRAF', 'HP:0005523')}\n",
      "=====\n",
      "civic: {('BRAF', 'DOID:1909')}\n",
      "jax: {('BRAF', 'DOID:219')}\n",
      "=====\n",
      "civic: {('EGFR', 'DOID:9256')}\n",
      "molecularmatch: {('EGFR', 'DOID:4610')}\n",
      "=====\n",
      "civic: {('EGFR', 'DOID:3910')}\n",
      "molecularmatch: {('EGFR', 'DOID:299')}\n",
      "=====\n",
      "civic: {('EGFR', 'DOID:5520'), ('AREG', 'DOID:5520')}\n",
      "molecularmatch: {('EGFR', 'DOID:1749')}\n",
      "=====\n",
      "civic: {('IDH1', 'DOID:0060108'), ('IDH1', 'DOID:3068')}\n",
      "jax: {('IDH1', 'DOID:3070')}\n",
      "=====\n",
      "civic: {('FGFR3', 'DOID:4007')}\n",
      "jax: {('FGFR3|TACC3', 'DOID:11054')}\n",
      "=====\n",
      "civic: {('FGFR2', 'DOID:4947'), ('ERRFI1', 'DOID:4947')}\n",
      "molecularmatch: {('FGFR2', 'DOID:299')}\n",
      "=====\n",
      "civic: {('KRAS', 'DOID:9538')}\n",
      "molecularmatch: {('KRAS', 'DOID:6536')}\n",
      "=====\n",
      "civic: {('KRAS', 'DOID:3910')}\n",
      "molecularmatch: {('KRAS', 'DOID:3905')}\n",
      "=====\n",
      "civic: {('NPM1', 'DOID:9119')}\n",
      "molecularmatch: {('NPM1', 'DOID:4961'), ('NPM1', 'DOID:12603')}\n",
      "=====\n",
      "civic: {('NPM1', 'DOID:9119')}\n",
      "molecularmatch: {('NPM1', 'DOID:8692')}\n",
      "=====\n",
      "civic: {('RET', 'DOID:3973')}\n",
      "jax: {('KDR|RET', 'DOID:3973')}\n",
      "=====\n",
      "civic: {('AREG', 'DOID:9256'), ('EREG', 'DOID:9256')}\n",
      "molecularmatch: {('AREG', 'DOID:4610')}\n",
      "=====\n",
      "civic: {('EZH2', 'DOID:8923')}\n",
      "jax: {('EZH2', 'DOID:1909')}\n",
      "=====\n",
      "civic: {('GNAQ', 'DOID:6039'), ('BRAF', 'DOID:1909'), ('KRAS', 'DOID:9256')}\n",
      "jax: {('GNAQ|PTEN', 'DOID:1752')}\n",
      "=====\n",
      "civic: {('GNAQ', 'DOID:6039'), ('BRAF', 'DOID:1909'), ('KRAS', 'DOID:9256')}\n",
      "molecularmatch: {('BRAF', 'DOID:4159')}\n",
      "=====\n",
      "jax: {('GNAQ|PTEN', 'DOID:1752')}\n",
      "molecularmatch: {('BRAF', 'DOID:4159')}\n",
      "=====\n",
      "civic: {('CBFB', 'DOID:9119')}\n",
      "jax: {('RUNX1|RUNX1T1', 'DOID:9119')}\n",
      "=====\n",
      "civic: {('NRG1', 'DOID:3908')}\n",
      "molecularmatch: {('NRG1', 'DOID:3905')}\n",
      "=====\n",
      "civic: {('GSTP1', 'DOID:9256')}\n",
      "molecularmatch: {('GSTP1', 'DOID:4610')}\n",
      "=====\n",
      "civic: {('NTRK1', 'DOID:3908')}\n",
      "oncokb: {('NTRK2', 'DOID:8850'), ('NTRK3', 'DOID:8850'), ('NTRK1', 'DOID:8850')}\n",
      "=====\n",
      "civic: {('PTPRT', 'DOID:5520')}\n",
      "molecularmatch: {('PTPRT', 'HP:0012288')}\n",
      "=====\n",
      "civic: {('RICTOR', 'DOID:3910')}\n",
      "molecularmatch: {('RICTOR', 'DOID:3905')}\n",
      "=====\n",
      "civic: {('CDKN2A', 'DOID:0060080')}\n",
      "oncokb: {('CDKN2A', 'DOID:1612')}\n",
      "=====\n",
      "cgi: {('NF1', 'DOID:3663')}\n",
      "civic: {('BRAF', 'DOID:1909')}\n",
      "=====\n",
      "civic: {('NOTCH1', 'DOID:5520')}\n",
      "molecularmatch: {('PORCN', 'DOID:4610')}\n",
      "=====\n",
      "jax: {('NOTCH1', 'DOID:5520')}\n",
      "molecularmatch: {('PORCN', 'DOID:4610')}\n",
      "=====\n",
      "civic: {('ALK', 'DOID:3910'), ('ROS1', 'DOID:3910'), ('MET', 'DOID:3910')}\n",
      "molecularmatch: {('MET', 'DOID:299')}\n",
      "=====\n",
      "civic: {('MET', 'DOID:3910')}\n",
      "molecularmatch: {('MET', 'DOID:299')}\n",
      "=====\n",
      "civic: {('ALK', 'DOID:6482')}\n",
      "molecularmatch: {('ALK', 'DOID:299')}\n",
      "=====\n",
      "civic: {('FLT3', 'DOID:9119')}\n",
      "molecularmatch: {('FLT3', 'DOID:12603')}\n",
      "=====\n",
      "cgi: {('FGFR3', 'DOID:3908')}\n",
      "jax: {('FGFR3|TACC3', 'DOID:3910')}\n",
      "=====\n",
      "civic: {('NPM1', 'DOID:9119')}\n",
      "molecularmatch: {('NPM1', 'DOID:4961')}\n",
      "=====\n",
      "civic: {('BRAF', 'DOID:8923')}\n",
      "jax: {('BRAF', 'DOID:1909')}\n",
      "=====\n",
      "civic: {('BRAF', 'DOID:8923')}\n",
      "molecularmatch: {('BRAF', 'DOID:0060123')}\n",
      "=====\n",
      "jax: {('BRAF', 'DOID:1909')}\n",
      "molecularmatch: {('BRAF', 'DOID:0060123')}\n",
      "=====\n",
      "civic: {('NRAS', 'DOID:1909')}\n",
      "molecularmatch: {('NRAS', 'DOID:0060123')}\n",
      "=====\n",
      "civic: {('ALK', 'DOID:3908')}\n",
      "molecularmatch: {('ALK', 'DOID:3905')}\n",
      "=====\n",
      "civic: {('TYMS', 'DOID:3908')}\n",
      "molecularmatch: {('TYMS', 'DOID:3905')}\n",
      "=====\n",
      "civic: {('KIT', 'DOID:9119'), ('FLT3', 'DOID:9119')}\n",
      "molecularmatch: {('KIT', 'DOID:8692')}\n",
      "=====\n",
      "civic: {('FBXW7', 'DOID:9256'), ('SMAD4', 'DOID:9256')}\n",
      "molecularmatch: {('FBXW7', 'DOID:4610')}\n",
      "=====\n",
      "civic: {('ALK', 'DOID:0050745')}\n",
      "molecularmatch: {('ALK', 'HP:0005523')}\n",
      "=====\n",
      "civic: {('BRAF', 'DOID:1909')}\n",
      "molecularmatch: {('BRAF', 'DOID:4159')}\n",
      "=====\n",
      "civic: {('APC', 'DOID:1520')}\n",
      "jax: {('APC', 'DOID:219')}\n",
      "=====\n",
      "cgi: {('BRAF', 'DOID:3663')}\n",
      "civic: {('BRAF', 'DOID:1909')}\n",
      "=====\n",
      "cgi: {('BRAF', 'DOID:3663')}\n",
      "molecularmatch: {('BRAF', 'DOID:0060123')}\n",
      "=====\n",
      "cgi: {('BRAF', 'DOID:3663')}\n",
      "pmkb: {('BRAF', 'DOID:1909')}\n",
      "=====\n",
      "civic: {('BRAF', 'DOID:1909')}\n",
      "molecularmatch: {('BRAF', 'DOID:0060123')}\n",
      "=====\n",
      "molecularmatch: {('BRAF', 'DOID:0060123')}\n",
      "pmkb: {('BRAF', 'DOID:1909')}\n",
      "=====\n",
      "civic: {('MET', 'DOID:3068')}\n",
      "molecularmatch: {('MET', 'DOID:3070')}\n",
      "=====\n",
      "civic: {('RET', 'DOID:3910')}\n",
      "molecularmatch: {('RET', 'DOID:3905')}\n",
      "=====\n",
      "cgi: {('BRAF|RAC1', 'DOID:3663')}\n",
      "civic: {('RAC1', 'DOID:1909')}\n",
      "=====\n",
      "jax: {('APC|CTNNB1', 'DOID:219')}\n",
      "molecularmatch: {('CTNNB1', 'DOID:4610'), ('RNF43', 'DOID:4610')}\n",
      "=====\n",
      "civic: {('ASXL1', 'DOID:9119')}\n",
      "jax: {('TET2', 'DOID:9119')}\n",
      "=====\n",
      "civic: {('ABL1', 'DOID:9119')}\n",
      "molecularmatch: {('ABL1', 'DOID:12603')}\n",
      "=====\n",
      "civic: {('EGFR', 'DOID:3908')}\n",
      "molecularmatch: {('EGFR', 'DOID:3905')}\n",
      "=====\n",
      "civic: {('FLT3', 'DOID:9119')}\n",
      "oncokb: {('FLT3', 'DOID:1240')}\n",
      "=====\n",
      "civic: {('IDH2', 'DOID:9119')}\n",
      "jax: {('IDH1', 'DOID:9119')}\n",
      "=====\n",
      "civic: {('PDGFRA', 'DOID:0080164')}\n",
      "pmkb: {('PDGFRA', 'DOID:2226')}\n",
      "=====\n",
      "civic: {('PDGFRB', 'DOID:9952')}\n",
      "molecularmatch: {('PDGFRB', 'DOID:4961')}\n",
      "=====\n",
      "cgi: {('JAK2', 'HP:0000001')}\n",
      "oncokb: {('JAK2', 'DOID:1240')}\n",
      "=====\n",
      "civic: {('ALK', 'DOID:3908')}\n",
      "molecularmatch: {('ALK', 'DOID:3905')}\n",
      "=====\n",
      "civic: {('CSF1R', 'DOID:9952')}\n",
      "molecularmatch: {('CSF1R', 'DOID:12603')}\n",
      "=====\n",
      "civic: {('CDKN2A', 'DOID:5520')}\n",
      "molecularmatch: {('', 'HP:0012288')}\n",
      "=====\n",
      "civic: {('ERBB2', 'DOID:1612')}\n",
      "jax: {('ERBB2', 'DOID:0060079')}\n",
      "=====\n",
      "cgi: {('GNAQ', 'DOID:3663')}\n",
      "jax: {('GNAQ', 'DOID:6039')}\n",
      "=====\n",
      "civic: {('FGFR1', 'DOID:3908')}\n",
      "jax: {('FGFR1', 'DOID:3907')}\n",
      "=====\n",
      "civic: {('ALK', 'DOID:3910')}\n",
      "jax: {('ALK', 'DOID:3908')}\n",
      "=====\n",
      "civic: {('BRAF', 'DOID:1909')}\n",
      "molecularmatch: {('BRAF', 'DOID:4159')}\n",
      "=====\n",
      "civic: {('BRAF', 'DOID:8923')}\n",
      "jax: {('BRAF', 'DOID:1909')}\n",
      "=====\n",
      "civic: {('TSC1', 'DOID:3908')}\n",
      "molecularmatch: {('TSC1', 'DOID:3905')}\n",
      "=====\n",
      "civic: {('RIT1', 'DOID:3910')}\n",
      "molecularmatch: {('RIT1', 'DOID:3905')}\n",
      "=====\n",
      "civic: {('BRAF', 'DOID:3910')}\n",
      "jax: {('BRAF', 'DOID:3908')}\n"
     ]
    }
   ],
   "source": [
    "def g_p_associations(associations):\n",
    "    new_assoc = list()\n",
    "    for association in associations:\n",
    "        new_assoc.append((association['gene'], association['phenotype']))\n",
    "    return set(new_assoc)\n",
    "\n",
    "source_pairs = Counter()\n",
    "pair_complete_matches = Counter()\n",
    "pair_partial_matches = Counter()\n",
    "pair_no_matches = Counter()\n",
    "for pmid, source_dict in multi_hit_normalized.items():\n",
    "    sources = sorted(source_dict)\n",
    "    for i, source in enumerate(sources, start=1):\n",
    "        for j in range(i, len(sources)):\n",
    "            source2 = sources[j]\n",
    "            source_pairs[(source, source2)] += 1\n",
    "            source_gp_assoc = g_p_associations(source_dict[source])\n",
    "            source2_gp_assoc = g_p_associations(source_dict[source2])\n",
    "            if source_gp_assoc == source2_gp_assoc:\n",
    "                pair_complete_matches[(source, source2)] += 1\n",
    "            elif any(source_gp_assoc & source2_gp_assoc):\n",
    "                pair_partial_matches[(source, source2)] += 1\n",
    "            else:\n",
    "                pair_no_matches[(source, source2)] += 1\n",
    "                print(\"=====\\n{}: {}\\n{}: {}\".format(source, source_gp_assoc, source2, source2_gp_assoc))"
   ]
  },
  {
   "cell_type": "code",
   "execution_count": 135,
   "metadata": {
    "collapsed": false
   },
   "outputs": [
    {
     "name": "stdout",
     "output_type": "stream",
     "text": [
      "Counter({('civic', 'jax'): 66, ('cgi', 'civic'): 8, ('civic', 'oncokb'): 8, ('jax', 'oncokb'): 7, ('cgi', 'jax'): 6, ('civic', 'pmkb'): 5, ('jax', 'pmkb'): 1, ('civic', 'molecularmatch'): 1})\n",
      "Counter({('civic', 'jax'): 46, ('civic', 'pmkb'): 14, ('jax', 'pmkb'): 8, ('civic', 'oncokb'): 6, ('cgi', 'civic'): 5, ('civic', 'molecularmatch'): 2, ('oncokb', 'pmkb'): 2, ('jax', 'molecularmatch'): 1, ('jax', 'oncokb'): 1, ('cgi', 'pmkb'): 1})\n",
      "Counter({('civic', 'molecularmatch'): 146, ('civic', 'jax'): 87, ('jax', 'molecularmatch'): 36, ('cgi', 'jax'): 31, ('cgi', 'civic'): 29, ('jax', 'pmkb'): 19, ('civic', 'pmkb'): 15, ('cgi', 'molecularmatch'): 13, ('molecularmatch', 'pmkb'): 10, ('civic', 'oncokb'): 8, ('cgi', 'pmkb'): 3, ('molecularmatch', 'oncokb'): 3, ('cgi', 'oncokb'): 2, ('jax', 'oncokb'): 2, ('oncokb', 'pmkb'): 1})\n"
     ]
    }
   ],
   "source": [
    "print(pair_complete_matches)\n",
    "print(pair_partial_matches)\n",
    "print(pair_no_matches)"
   ]
  },
  {
   "cell_type": "code",
   "execution_count": 2,
   "metadata": {
    "collapsed": false
   },
   "outputs": [
    {
     "ename": "NameError",
     "evalue": "name 'pair_no_matches' is not defined",
     "output_type": "error",
     "traceback": [
      "\u001b[0;31m---------------------------------------------------------------------------\u001b[0m",
      "\u001b[0;31mNameError\u001b[0m                                 Traceback (most recent call last)",
      "\u001b[0;32m<ipython-input-2-5deed502a62d>\u001b[0m in \u001b[0;36m<module>\u001b[0;34m()\u001b[0m\n\u001b[0;32m----> 1\u001b[0;31m \u001b[0mpair_no_matches\u001b[0m\u001b[0;34m\u001b[0m\u001b[0m\n\u001b[0m",
      "\u001b[0;31mNameError\u001b[0m: name 'pair_no_matches' is not defined"
     ]
    }
   ],
   "source": [
    "pair_no_matches"
   ]
  },
  {
   "cell_type": "code",
   "execution_count": null,
   "metadata": {
    "collapsed": true
   },
   "outputs": [],
   "source": []
  }
 ],
 "metadata": {
  "anaconda-cloud": {},
  "kernelspec": {
   "display_name": "Python [g2p-analysis]",
   "language": "python",
   "name": "Python [g2p-analysis]"
  },
  "language_info": {
   "codemirror_mode": {
    "name": "ipython",
    "version": 3
   },
   "file_extension": ".py",
   "mimetype": "text/x-python",
   "name": "python",
   "nbconvert_exporter": "python",
   "pygments_lexer": "ipython3",
   "version": "3.6.1"
  }
 },
 "nbformat": 4,
 "nbformat_minor": 2
}
